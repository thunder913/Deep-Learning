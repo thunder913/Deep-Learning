{
  "cells": [
    {
      "cell_type": "markdown",
      "metadata": {
        "id": "view-in-github",
        "colab_type": "text"
      },
      "source": [
        "<a href=\"https://colab.research.google.com/github/thunder913/Deep-Learning/blob/main/stocks_deep_learning.ipynb\" target=\"_parent\"><img src=\"https://colab.research.google.com/assets/colab-badge.svg\" alt=\"Open In Colab\"/></a>"
      ]
    },
    {
      "cell_type": "code",
      "execution_count": 1,
      "metadata": {
        "id": "nRipiC402E58"
      },
      "outputs": [],
      "source": [
        "import kagglehub\n",
        "import numpy as np\n",
        "import os\n",
        "import pandas as pd\n",
        "import kagglehub\n",
        "import matplotlib.pyplot as plt\n",
        "import pickle\n",
        "import pdb\n",
        "import tensorflow as tf\n",
        "import keras\n",
        "\n",
        "from sklearn.preprocessing import MinMaxScaler, LabelEncoder\n",
        "from tensorflow.keras.models import Model, Sequential\n",
        "from tensorflow.keras.layers import Input, Embedding, LSTM, Dropout, Dense, Concatenate, BatchNormalization, AdditiveAttention, Multiply, Flatten\n",
        "from sklearn.model_selection import train_test_split\n",
        "from tensorflow.keras.callbacks import EarlyStopping\n",
        "from tensorflow.keras.callbacks import ModelCheckpoint, EarlyStopping"
      ]
    },
    {
      "cell_type": "code",
      "execution_count": 2,
      "metadata": {
        "colab": {
          "base_uri": "https://localhost:8080/"
        },
        "id": "dZuQT6mT310m",
        "outputId": "eb5acedf-ef03-41a7-d8e8-abc5a0603178"
      },
      "outputs": [
        {
          "output_type": "stream",
          "name": "stdout",
          "text": [
            "Mounted at /content/drive\n"
          ]
        }
      ],
      "source": [
        "from google.colab import drive\n",
        "drive.mount('/content/drive', force_remount=True)"
      ]
    },
    {
      "cell_type": "markdown",
      "metadata": {
        "id": "9mLjSTIX6brT"
      },
      "source": [
        "# Stocks LSTM Prediction"
      ]
    },
    {
      "cell_type": "code",
      "execution_count": 3,
      "metadata": {
        "colab": {
          "base_uri": "https://localhost:8080/"
        },
        "id": "m4LWM0B06TdW",
        "outputId": "ccd74d60-2905-4571-809c-e909eb7b42e2"
      },
      "outputs": [
        {
          "output_type": "stream",
          "name": "stdout",
          "text": [
            "Warning: Looks like you're using an outdated `kagglehub` version (installed: 0.3.6), please consider upgrading to the latest version (0.3.7).\n",
            "Downloading from https://www.kaggle.com/api/v1/datasets/download/tsaustin/us-historical-stock-prices-with-earnings-data?dataset_version_number=7...\n"
          ]
        },
        {
          "output_type": "stream",
          "name": "stderr",
          "text": [
            "100%|██████████| 463M/463M [00:04<00:00, 117MB/s]"
          ]
        },
        {
          "output_type": "stream",
          "name": "stdout",
          "text": [
            "Extracting files...\n"
          ]
        },
        {
          "output_type": "stream",
          "name": "stderr",
          "text": [
            "\n"
          ]
        }
      ],
      "source": [
        "google_drive_path = 'drive/MyDrive/DL_Pickles/'\n",
        "\n",
        "path = kagglehub.dataset_download(\"tsaustin/us-historical-stock-prices-with-earnings-data\")\n",
        "\n",
        "stock_prices_path = f\"{path}/stocks_latest/stock_prices_latest.csv\"\n",
        "\n",
        "stock_data_path = f\"./{google_drive_path}/stock_data_processed.pkl\"\n",
        "scaler_path = f\"./{google_drive_path}/scalers.pkl\"\n",
        "\n",
        "data_path = f\"./{google_drive_path}/scaled_stock_data.pkl\"  # Path to store scaled DataFrame"
      ]
    },
    {
      "cell_type": "code",
      "execution_count": 4,
      "metadata": {
        "id": "tzH_Y404-3Pq"
      },
      "outputs": [],
      "source": [
        "def calculate_rsi(group, period = 14):\n",
        "    delta = group['close_adjusted'].diff()\n",
        "\n",
        "    gain = delta.where(delta > 0, 0)\n",
        "    loss = -delta.where(delta < 0, 0)\n",
        "    avg_gain = gain.rolling(window=period, min_periods=1).mean()\n",
        "    avg_loss = loss.rolling(window=period, min_periods=1).mean()\n",
        "\n",
        "    rs = avg_gain / np.where(avg_loss != 0, avg_loss, 1)\n",
        "\n",
        "    group['RSI'] = 100 - (100 / (1 + rs))\n",
        "\n",
        "    return group\n",
        "\n",
        "def calculate_macd(group, short_window=12, long_window=26, signal_window=9):\n",
        "    # Calculate EMA short and long\n",
        "    ema_short = group['close_adjusted'].ewm(span=short_window, adjust=False).mean()\n",
        "    ema_long = group['close_adjusted'].ewm(span=long_window, adjust=False).mean()\n",
        "\n",
        "    # Calculate MACD and Signal Line\n",
        "    group['MACD'] = ema_short - ema_long\n",
        "    group['Signal_Line'] = group['MACD'].ewm(span=signal_window, adjust=False).mean()\n",
        "\n",
        "    return group"
      ]
    },
    {
      "cell_type": "code",
      "execution_count": 5,
      "metadata": {
        "id": "t05FbYEL2ouo"
      },
      "outputs": [],
      "source": [
        "def get_peak_price_and_days_ago(df):\n",
        "    \"\"\"\n",
        "    Calculate the peak price over a rolling 90-day window and determine the number of days\n",
        "    since the peak price for each row in the DataFrame.\n",
        "    \"\"\"\n",
        "\n",
        "    #df['peak_price'] = df['close'].rolling(window=90, min_periods=1).max()\n",
        "    #peak_day_index = df['close'].rolling(window=90, min_periods=1).apply(lambda x: (len(x) - 1 - x.argmax()), raw=False)\n",
        "    #df['peak_days_ago'] = peak_day_index.fillna(0).astype(int)  # Fill NaN for rows that don't have enough data\n",
        "    return df\n",
        "\n",
        "def process_ticker_data(df):\n",
        "    \"\"\"\n",
        "    Add historical price features for specific days ago for each stock (grouped by ticker).\n",
        "    Also calculate the peak price and days since the peak price for each stock.\n",
        "    \"\"\"\n",
        "\n",
        "    print('Calculated RSI')\n",
        "    # Calculate RSI (14-day by default)\n",
        "    df = df.groupby('ticker', group_keys=False).apply(calculate_rsi)\n",
        "\n",
        "    print('Calculated moving averages')\n",
        "    # Add moving averages\n",
        "    moving_average_windows = [5, 10, 20, 50, 100, 200]  # Specify moving average windows\n",
        "    for window in moving_average_windows:\n",
        "        df[f'{window}_day_MA'] = df.groupby('ticker')['close_adjusted'].rolling(window=window, min_periods=1).mean().reset_index(level=0, drop=True)\n",
        "\n",
        "    print('Calculated MACD')\n",
        "    # Calculate MACD and Signal Line\n",
        "\n",
        "    df = df.groupby('ticker', group_keys=False).apply(calculate_macd)\n",
        "\n",
        "    print('Calculated price days ago')\n",
        "    # Add columns for prices X days ago\n",
        "    #for days in [1,2,3,4,5, 10, 15, 30, 60, 90]:\n",
        "    #    df[f'price_{days}_days_ago'] = df.groupby('ticker')['close_adjusted'].shift(days)\n",
        "\n",
        "    df = df.groupby('ticker', group_keys=False).apply(get_peak_price_and_days_ago)\n",
        "\n",
        "    # Remove the first 200 rows for each ticker\n",
        "    df = df.groupby('ticker').apply(lambda group: group.iloc[200:]).reset_index(drop=True)\n",
        "\n",
        "    return df"
      ]
    },
    {
      "cell_type": "code",
      "execution_count": 6,
      "metadata": {
        "id": "X77BT2ky4Gzs"
      },
      "outputs": [],
      "source": [
        "def scale_stock_data(stock_data_tidy, numerical_columns):\n",
        "    \"\"\"\n",
        "    Scales numerical columns for each stock ticker independently using MinMaxScaler.\n",
        "\n",
        "    - Loads existing scalers and scaled data if available.\n",
        "    - Trains and saves new scalers & scaled data if they don’t exist.\n",
        "    - Returns a new scaled DataFrame without modifying the original.\n",
        "\n",
        "    Args:\n",
        "        stock_data_tidy: The input stock data.\n",
        "        numerical_columns: The numerical column names, that need to be rescaled.\n",
        "\n",
        "    Returns:\n",
        "        pd.DataFrame: The scaled stock data.\n",
        "    \"\"\"\n",
        "\n",
        "    if os.path.exists(scaler_path) and os.path.exists(data_path):\n",
        "        print(\"Loading existing scalers and scaled data...\")\n",
        "\n",
        "        # Load scalers\n",
        "        with open(scaler_path, \"rb\") as f:\n",
        "            scalers = pickle.load(f)\n",
        "\n",
        "        # Load scaled stock data\n",
        "        with open(data_path, \"rb\") as f:\n",
        "            new_data_tidy_rescaled = pickle.load(f)\n",
        "\n",
        "        print(\"Loaded scalers and scaled data from file.\")\n",
        "        return new_data_tidy_rescaled\n",
        "\n",
        "    # If files don't exist, compute scalers and scaled data\n",
        "    print(\"Recalculating scalers and scaled data...\")\n",
        "    scalers = {}  # Create scalers dictionary\n",
        "    new_data_tidy_rescaled = []  # Store transformed data\n",
        "\n",
        "    for ticker in stock_data_tidy['ticker_encoded'].unique():\n",
        "        print(f\"Processing ticker: {ticker}\")\n",
        "\n",
        "        ticker_data = stock_data_tidy[stock_data_tidy['ticker_encoded'] == ticker].copy()\n",
        "\n",
        "        scaler = MinMaxScaler()\n",
        "        scalers[ticker] = scaler.fit(ticker_data[numerical_columns])\n",
        "\n",
        "        ticker_data.loc[:, numerical_columns] = scaler.transform(ticker_data[numerical_columns])\n",
        "\n",
        "        new_data_tidy_rescaled.append(ticker_data)\n",
        "\n",
        "    new_data_tidy_rescaled = pd.concat(new_data_tidy_rescaled, ignore_index=True)\n",
        "\n",
        "    with open(scaler_path, \"wb\") as f:\n",
        "        pickle.dump(scalers, f)\n",
        "\n",
        "    with open(data_path, \"wb\") as f:\n",
        "        pickle.dump(new_data_tidy_rescaled, f)\n",
        "\n",
        "    print(\"Saved scalers and scaled data to file.\")\n",
        "\n",
        "    return new_data_tidy_rescaled"
      ]
    },
    {
      "cell_type": "code",
      "execution_count": 7,
      "metadata": {
        "id": "xJ1b97Qr227G"
      },
      "outputs": [],
      "source": [
        "def getTidiedStockData():\n",
        "    \"\"\"\n",
        "    Read and tidy the stock data dataset. If the processed stock data already exists as a pickle file,\n",
        "    it loads and returns the data. Otherwise, it processes the raw stock data, cleans it, adds features,\n",
        "    and saves the tidy data to a pickle file for future use.\n",
        "    \"\"\"\n",
        "\n",
        "    # Check if the file exists\n",
        "    if os.path.exists(stock_data_path):\n",
        "        print('found pickle')\n",
        "        return pd.read_pickle(stock_data_path)\n",
        "\n",
        "    # Read the basic data and some tidying\n",
        "    stock_data = pd.read_csv(stock_prices_path)\n",
        "    stock_data_tidy = stock_data\n",
        "\n",
        "    stock_data_tidy.date = pd.to_datetime(stock_data_tidy.date)\n",
        "    stock_data_tidy = stock_data_tidy.rename(columns={'symbol': 'ticker'})\n",
        "    stock_data_tidy = stock_data_tidy.drop(columns=['split_coefficient'])\n",
        "\n",
        "    stock_data_tidy = stock_data_tidy.sort_values(by=['ticker', 'date'], ascending=[True, True])\n",
        "\n",
        "    stock_data_tidy = process_ticker_data(stock_data_tidy)\n",
        "    stock_data_tidy = stock_data_tidy.drop(columns=['open', 'high', 'low', 'close', 'volume'])\n",
        "\n",
        "    # Encode labels\n",
        "    le = LabelEncoder()\n",
        "    stock_data_tidy['ticker_encoded'] = le.fit_transform(stock_data_tidy['ticker'])\n",
        "\n",
        "    stock_data_tidy['day_of_week'] = stock_data_tidy['date'].dt.dayofweek\n",
        "\n",
        "    stock_data_tidy = scale_stock_data(stock_data_tidy, numerical_columns)\n",
        "\n",
        "    stock_data_tidy.to_pickle(stock_data_path)\n",
        "\n",
        "    return stock_data_tidy"
      ]
    },
    {
      "cell_type": "code",
      "execution_count": 8,
      "metadata": {
        "colab": {
          "base_uri": "https://localhost:8080/"
        },
        "id": "4cshH8fp26rN",
        "outputId": "106ad731-4991-4639-bf2d-10b3b9b1740f"
      },
      "outputs": [
        {
          "output_type": "stream",
          "name": "stdout",
          "text": [
            "found pickle\n"
          ]
        }
      ],
      "source": [
        "numerical_columns = [\n",
        "    'close_adjusted', 'RSI', '5_day_MA', '10_day_MA',\n",
        "    '20_day_MA', '50_day_MA', '100_day_MA', '200_day_MA',\n",
        "    'MACD', 'Signal_Line'\n",
        "]\n",
        "\n",
        "stock_data_tidy = getTidiedStockData()\n",
        "\n",
        "with open(scaler_path, \"rb\") as f:\n",
        "    scalers = pickle.load(f)"
      ]
    },
    {
      "cell_type": "code",
      "execution_count": 9,
      "metadata": {
        "id": "2TEdcdlMw4W8"
      },
      "outputs": [],
      "source": [
        "def plot_stock_chart(stock_data_tidy, ticker, start_date=None, end_date=None):\n",
        "    \"\"\"\n",
        "    Plot a stock chart for a specific ticker.\n",
        "\n",
        "    Parameters:\n",
        "        stock_data_tidy (DataFrame): The DataFrame containing stock data.\n",
        "        ticker (str): The ticker to plot.\n",
        "        start_date (str): Optional start date (e.g., '2023-01-01').\n",
        "        end_date (str): Optional end date (e.g., '2023-12-31').\n",
        "    \"\"\"\n",
        "    # Filter data for the specific ticker and date range\n",
        "    stock_data_tidy['date'] = pd.to_datetime(stock_data_tidy['date'])\n",
        "    filtered_data = stock_data_tidy[stock_data_tidy['ticker'] == ticker]\n",
        "\n",
        "    if start_date:\n",
        "        filtered_data = filtered_data[filtered_data['date'] >= start_date]\n",
        "    if end_date:\n",
        "        filtered_data = filtered_data[filtered_data['date'] <= end_date]\n",
        "\n",
        "    # Ensure data is sorted by date\n",
        "    filtered_data = filtered_data.sort_values(by='date')\n",
        "\n",
        "    # Plot the stock chart\n",
        "    plt.figure(figsize=(12, 6))\n",
        "    plt.plot(filtered_data['date'], filtered_data['close_adjusted'], label='Close Price', color='blue', linewidth=2)\n",
        "\n",
        "    # Add moving averages if they exist in the DataFrame\n",
        "    for col in ['5_day_MA', '10_day_MA', '50_day_MA']:\n",
        "        if col in filtered_data.columns:\n",
        "            plt.plot(filtered_data['date'], filtered_data[col], label=col, linestyle='--')\n",
        "\n",
        "    # Chart settings\n",
        "    plt.title(f\"Stock Chart for {ticker}\", fontsize=16)\n",
        "    plt.xlabel(\"Date\", fontsize=12)\n",
        "    plt.ylabel(\"Price\", fontsize=12)\n",
        "    plt.legend(loc=\"best\", fontsize=10)\n",
        "    plt.grid(alpha=0.3)\n",
        "    plt.show()"
      ]
    },
    {
      "cell_type": "code",
      "execution_count": null,
      "metadata": {
        "colab": {
          "base_uri": "https://localhost:8080/",
          "height": 570
        },
        "id": "ktc--cX1xKbo",
        "outputId": "e83e6983-a9aa-4dbf-cabc-7164a9a5b832"
      },
      "outputs": [
        {
          "output_type": "display_data",
          "data": {
            "text/plain": [
              "<Figure size 1200x600 with 1 Axes>"
            ],
            "image/png": "[encoded data removed]"
          },
          "metadata": {}
        }
      ],
      "source": [
        "plot_stock_chart(stock_data_tidy, ticker='AAPL', start_date='2021-01-01', end_date='2022-12-31')"
      ]
    },
    {
      "cell_type": "code",
      "execution_count": 10,
      "metadata": {
        "colab": {
          "base_uri": "https://localhost:8080/",
          "height": 617
        },
        "id": "8JO8INAP7aEo",
        "outputId": "aba80c98-477f-4f74-bdfd-eb94204ca7c8"
      },
      "outputs": [
        {
          "output_type": "execute_result",
          "data": {
            "text/plain": [
              "         ticker       date  close_adjusted       RSI  5_day_MA  10_day_MA  \\\n",
              "0             A 2000-09-05        0.264907  0.861415  0.267190   0.263481   \n",
              "1             A 2000-09-06        0.255498  0.802317  0.264028   0.263213   \n",
              "2             A 2000-09-07        0.265271  0.793422  0.264555   0.263952   \n",
              "3             A 2000-09-08        0.251599  0.574629  0.262711   0.263684   \n",
              "4             A 2000-09-11        0.238604  0.393577  0.257305   0.262748   \n",
              "...         ...        ...             ...       ...       ...        ...   \n",
              "22842278   ZYXI 2021-06-07        0.550810  0.732705  0.582282   0.581736   \n",
              "22842279   ZYXI 2021-06-08        0.563063  0.716218  0.585422   0.587154   \n",
              "22842280   ZYXI 2021-06-09        0.562363  0.741475  0.591402   0.594646   \n",
              "22842281   ZYXI 2021-06-10        0.561663  0.700733  0.594542   0.600448   \n",
              "22842282   ZYXI 2021-06-11        0.550109  0.634743  0.594542   0.602638   \n",
              "\n",
              "          20_day_MA  50_day_MA  100_day_MA  200_day_MA  ...  price_3_days_ago  \\\n",
              "0          0.221243   0.243935    0.305796    0.376189  ...           41.7206   \n",
              "1          0.226976   0.242257    0.304060    0.376823  ...           41.4623   \n",
              "2          0.233082   0.240753    0.302856    0.377403  ...           42.0605   \n",
              "3          0.238560   0.238506    0.301684    0.378017  ...           42.0129   \n",
              "4          0.242921   0.236384    0.299933    0.378527  ...           40.7826   \n",
              "...             ...        ...         ...         ...  ...               ...   \n",
              "22842278   0.582730   0.668157    0.818492    0.879116  ...           15.2800   \n",
              "22842279   0.586742   0.669251    0.819131    0.878953  ...           15.6400   \n",
              "22842280   0.590815   0.670381    0.818896    0.878901  ...           15.7300   \n",
              "22842281   0.595007   0.671556    0.818661    0.879093  ...           15.7500   \n",
              "22842282   0.599499   0.671968    0.817475    0.879114  ...           16.1000   \n",
              "\n",
              "          price_4_days_ago  price_5_days_ago  price_10_days_ago  \\\n",
              "0                  42.8218           39.8514            41.1225   \n",
              "1                  41.7206           42.8218            41.1225   \n",
              "2                  41.4623           41.7206            41.1225   \n",
              "3                  42.0605           41.4623            40.6127   \n",
              "4                  42.0129           42.0605            39.7631   \n",
              "...                    ...               ...                ...   \n",
              "22842278           15.6800           15.2200            14.7800   \n",
              "22842279           15.2800           15.6800            14.6900   \n",
              "22842280           15.6400           15.2800            14.1300   \n",
              "22842281           15.7300           15.6400            14.5500   \n",
              "22842282           15.7500           15.7300            15.1600   \n",
              "\n",
              "          price_15_days_ago  price_30_days_ago  price_60_days_ago  \\\n",
              "0                   29.5674            33.6457            48.1779   \n",
              "1                   29.2276            30.4170            44.8609   \n",
              "2                   29.5674            29.2276            46.9408   \n",
              "3                   31.6065            27.6982            46.0504   \n",
              "4                   38.3221            28.0381            44.8201   \n",
              "...                     ...                ...                ...   \n",
              "22842278            13.8700            16.1800            16.9800   \n",
              "22842279            13.8200            16.3600            16.8700   \n",
              "22842280            14.4100            16.2200            16.3300   \n",
              "22842281            14.2500            16.2600            16.0750   \n",
              "22842282            14.7200            16.0300            16.3000   \n",
              "\n",
              "          price_90_days_ago  ticker_encoded  day_of_week  \n",
              "0                   61.6837               0            1  \n",
              "1                   60.2427               0            2  \n",
              "2                   64.8308               0            3  \n",
              "3                   68.5148               0            4  \n",
              "4                   62.1935               0            0  \n",
              "...                     ...             ...          ...  \n",
              "22842278            21.7100            7643            0  \n",
              "22842279            20.2900            7643            1  \n",
              "22842280            18.0700            7643            2  \n",
              "22842281            18.1700            7643            3  \n",
              "22842282            19.5100            7643            4  \n",
              "\n",
              "[22842283 rows x 24 columns]"
            ],
            "text/html": [
              "\n",
              "  <div id=\"df-6617b49b-4379-4212-916a-80254b64cb1c\" class=\"colab-df-container\">\n",
              "    <div>\n",
              "<style scoped>\n",
              "    .dataframe tbody tr th:only-of-type {\n",
              "        vertical-align: middle;\n",
              "    }\n",
              "\n",
              "    .dataframe tbody tr th {\n",
              "        vertical-align: top;\n",
              "    }\n",
              "\n",
              "    .dataframe thead th {\n",
              "        text-align: right;\n",
              "    }\n",
              "</style>\n",
              "<table border=\"1\" class=\"dataframe\">\n",
              "  <thead>\n",
              "    <tr style=\"text-align: right;\">\n",
              "      <th></th>\n",
              "      <th>ticker</th>\n",
              "      <th>date</th>\n",
              "      <th>close_adjusted</th>\n",
              "      <th>RSI</th>\n",
              "      <th>5_day_MA</th>\n",
              "      <th>10_day_MA</th>\n",
              "      <th>20_day_MA</th>\n",
              "      <th>50_day_MA</th>\n",
              "      <th>100_day_MA</th>\n",
              "      <th>200_day_MA</th>\n",
              "      <th>...</th>\n",
              "      <th>price_3_days_ago</th>\n",
              "      <th>price_4_days_ago</th>\n",
              "      <th>price_5_days_ago</th>\n",
              "      <th>price_10_days_ago</th>\n",
              "      <th>price_15_days_ago</th>\n",
              "      <th>price_30_days_ago</th>\n",
              "      <th>price_60_days_ago</th>\n",
              "      <th>price_90_days_ago</th>\n",
              "      <th>ticker_encoded</th>\n",
              "      <th>day_of_week</th>\n",
              "    </tr>\n",
              "  </thead>\n",
              "  <tbody>\n",
              "    <tr>\n",
              "      <th>0</th>\n",
              "      <td>A</td>\n",
              "      <td>2000-09-05</td>\n",
              "      <td>0.264907</td>\n",
              "      <td>0.861415</td>\n",
              "      <td>0.267190</td>\n",
              "      <td>0.263481</td>\n",
              "      <td>0.221243</td>\n",
              "      <td>0.243935</td>\n",
              "      <td>0.305796</td>\n",
              "      <td>0.376189</td>\n",
              "      <td>...</td>\n",
              "      <td>41.7206</td>\n",
              "      <td>42.8218</td>\n",
              "      <td>39.8514</td>\n",
              "      <td>41.1225</td>\n",
              "      <td>29.5674</td>\n",
              "      <td>33.6457</td>\n",
              "      <td>48.1779</td>\n",
              "      <td>61.6837</td>\n",
              "      <td>0</td>\n",
              "      <td>1</td>\n",
              "    </tr>\n",
              "    <tr>\n",
              "      <th>1</th>\n",
              "      <td>A</td>\n",
              "      <td>2000-09-06</td>\n",
              "      <td>0.255498</td>\n",
              "      <td>0.802317</td>\n",
              "      <td>0.264028</td>\n",
              "      <td>0.263213</td>\n",
              "      <td>0.226976</td>\n",
              "      <td>0.242257</td>\n",
              "      <td>0.304060</td>\n",
              "      <td>0.376823</td>\n",
              "      <td>...</td>\n",
              "      <td>41.4623</td>\n",
              "      <td>41.7206</td>\n",
              "      <td>42.8218</td>\n",
              "      <td>41.1225</td>\n",
              "      <td>29.2276</td>\n",
              "      <td>30.4170</td>\n",
              "      <td>44.8609</td>\n",
              "      <td>60.2427</td>\n",
              "      <td>0</td>\n",
              "      <td>2</td>\n",
              "    </tr>\n",
              "    <tr>\n",
              "      <th>2</th>\n",
              "      <td>A</td>\n",
              "      <td>2000-09-07</td>\n",
              "      <td>0.265271</td>\n",
              "      <td>0.793422</td>\n",
              "      <td>0.264555</td>\n",
              "      <td>0.263952</td>\n",
              "      <td>0.233082</td>\n",
              "      <td>0.240753</td>\n",
              "      <td>0.302856</td>\n",
              "      <td>0.377403</td>\n",
              "      <td>...</td>\n",
              "      <td>42.0605</td>\n",
              "      <td>41.4623</td>\n",
              "      <td>41.7206</td>\n",
              "      <td>41.1225</td>\n",
              "      <td>29.5674</td>\n",
              "      <td>29.2276</td>\n",
              "      <td>46.9408</td>\n",
              "      <td>64.8308</td>\n",
              "      <td>0</td>\n",
              "      <td>3</td>\n",
              "    </tr>\n",
              "    <tr>\n",
              "      <th>3</th>\n",
              "      <td>A</td>\n",
              "      <td>2000-09-08</td>\n",
              "      <td>0.251599</td>\n",
              "      <td>0.574629</td>\n",
              "      <td>0.262711</td>\n",
              "      <td>0.263684</td>\n",
              "      <td>0.238560</td>\n",
              "      <td>0.238506</td>\n",
              "      <td>0.301684</td>\n",
              "      <td>0.378017</td>\n",
              "      <td>...</td>\n",
              "      <td>42.0129</td>\n",
              "      <td>42.0605</td>\n",
              "      <td>41.4623</td>\n",
              "      <td>40.6127</td>\n",
              "      <td>31.6065</td>\n",
              "      <td>27.6982</td>\n",
              "      <td>46.0504</td>\n",
              "      <td>68.5148</td>\n",
              "      <td>0</td>\n",
              "      <td>4</td>\n",
              "    </tr>\n",
              "    <tr>\n",
              "      <th>4</th>\n",
              "      <td>A</td>\n",
              "      <td>2000-09-11</td>\n",
              "      <td>0.238604</td>\n",
              "      <td>0.393577</td>\n",
              "      <td>0.257305</td>\n",
              "      <td>0.262748</td>\n",
              "      <td>0.242921</td>\n",
              "      <td>0.236384</td>\n",
              "      <td>0.299933</td>\n",
              "      <td>0.378527</td>\n",
              "      <td>...</td>\n",
              "      <td>40.7826</td>\n",
              "      <td>42.0129</td>\n",
              "      <td>42.0605</td>\n",
              "      <td>39.7631</td>\n",
              "      <td>38.3221</td>\n",
              "      <td>28.0381</td>\n",
              "      <td>44.8201</td>\n",
              "      <td>62.1935</td>\n",
              "      <td>0</td>\n",
              "      <td>0</td>\n",
              "    </tr>\n",
              "    <tr>\n",
              "      <th>...</th>\n",
              "      <td>...</td>\n",
              "      <td>...</td>\n",
              "      <td>...</td>\n",
              "      <td>...</td>\n",
              "      <td>...</td>\n",
              "      <td>...</td>\n",
              "      <td>...</td>\n",
              "      <td>...</td>\n",
              "      <td>...</td>\n",
              "      <td>...</td>\n",
              "      <td>...</td>\n",
              "      <td>...</td>\n",
              "      <td>...</td>\n",
              "      <td>...</td>\n",
              "      <td>...</td>\n",
              "      <td>...</td>\n",
              "      <td>...</td>\n",
              "      <td>...</td>\n",
              "      <td>...</td>\n",
              "      <td>...</td>\n",
              "      <td>...</td>\n",
              "    </tr>\n",
              "    <tr>\n",
              "      <th>22842278</th>\n",
              "      <td>ZYXI</td>\n",
              "      <td>2021-06-07</td>\n",
              "      <td>0.550810</td>\n",
              "      <td>0.732705</td>\n",
              "      <td>0.582282</td>\n",
              "      <td>0.581736</td>\n",
              "      <td>0.582730</td>\n",
              "      <td>0.668157</td>\n",
              "      <td>0.818492</td>\n",
              "      <td>0.879116</td>\n",
              "      <td>...</td>\n",
              "      <td>15.2800</td>\n",
              "      <td>15.6800</td>\n",
              "      <td>15.2200</td>\n",
              "      <td>14.7800</td>\n",
              "      <td>13.8700</td>\n",
              "      <td>16.1800</td>\n",
              "      <td>16.9800</td>\n",
              "      <td>21.7100</td>\n",
              "      <td>7643</td>\n",
              "      <td>0</td>\n",
              "    </tr>\n",
              "    <tr>\n",
              "      <th>22842279</th>\n",
              "      <td>ZYXI</td>\n",
              "      <td>2021-06-08</td>\n",
              "      <td>0.563063</td>\n",
              "      <td>0.716218</td>\n",
              "      <td>0.585422</td>\n",
              "      <td>0.587154</td>\n",
              "      <td>0.586742</td>\n",
              "      <td>0.669251</td>\n",
              "      <td>0.819131</td>\n",
              "      <td>0.878953</td>\n",
              "      <td>...</td>\n",
              "      <td>15.6400</td>\n",
              "      <td>15.2800</td>\n",
              "      <td>15.6800</td>\n",
              "      <td>14.6900</td>\n",
              "      <td>13.8200</td>\n",
              "      <td>16.3600</td>\n",
              "      <td>16.8700</td>\n",
              "      <td>20.2900</td>\n",
              "      <td>7643</td>\n",
              "      <td>1</td>\n",
              "    </tr>\n",
              "    <tr>\n",
              "      <th>22842280</th>\n",
              "      <td>ZYXI</td>\n",
              "      <td>2021-06-09</td>\n",
              "      <td>0.562363</td>\n",
              "      <td>0.741475</td>\n",
              "      <td>0.591402</td>\n",
              "      <td>0.594646</td>\n",
              "      <td>0.590815</td>\n",
              "      <td>0.670381</td>\n",
              "      <td>0.818896</td>\n",
              "      <td>0.878901</td>\n",
              "      <td>...</td>\n",
              "      <td>15.7300</td>\n",
              "      <td>15.6400</td>\n",
              "      <td>15.2800</td>\n",
              "      <td>14.1300</td>\n",
              "      <td>14.4100</td>\n",
              "      <td>16.2200</td>\n",
              "      <td>16.3300</td>\n",
              "      <td>18.0700</td>\n",
              "      <td>7643</td>\n",
              "      <td>2</td>\n",
              "    </tr>\n",
              "    <tr>\n",
              "      <th>22842281</th>\n",
              "      <td>ZYXI</td>\n",
              "      <td>2021-06-10</td>\n",
              "      <td>0.561663</td>\n",
              "      <td>0.700733</td>\n",
              "      <td>0.594542</td>\n",
              "      <td>0.600448</td>\n",
              "      <td>0.595007</td>\n",
              "      <td>0.671556</td>\n",
              "      <td>0.818661</td>\n",
              "      <td>0.879093</td>\n",
              "      <td>...</td>\n",
              "      <td>15.7500</td>\n",
              "      <td>15.7300</td>\n",
              "      <td>15.6400</td>\n",
              "      <td>14.5500</td>\n",
              "      <td>14.2500</td>\n",
              "      <td>16.2600</td>\n",
              "      <td>16.0750</td>\n",
              "      <td>18.1700</td>\n",
              "      <td>7643</td>\n",
              "      <td>3</td>\n",
              "    </tr>\n",
              "    <tr>\n",
              "      <th>22842282</th>\n",
              "      <td>ZYXI</td>\n",
              "      <td>2021-06-11</td>\n",
              "      <td>0.550109</td>\n",
              "      <td>0.634743</td>\n",
              "      <td>0.594542</td>\n",
              "      <td>0.602638</td>\n",
              "      <td>0.599499</td>\n",
              "      <td>0.671968</td>\n",
              "      <td>0.817475</td>\n",
              "      <td>0.879114</td>\n",
              "      <td>...</td>\n",
              "      <td>16.1000</td>\n",
              "      <td>15.7500</td>\n",
              "      <td>15.7300</td>\n",
              "      <td>15.1600</td>\n",
              "      <td>14.7200</td>\n",
              "      <td>16.0300</td>\n",
              "      <td>16.3000</td>\n",
              "      <td>19.5100</td>\n",
              "      <td>7643</td>\n",
              "      <td>4</td>\n",
              "    </tr>\n",
              "  </tbody>\n",
              "</table>\n",
              "<p>22842283 rows × 24 columns</p>\n",
              "</div>\n",
              "    <div class=\"colab-df-buttons\">\n",
              "\n",
              "  <div class=\"colab-df-container\">\n",
              "    <button class=\"colab-df-convert\" onclick=\"convertToInteractive('df-6617b49b-4379-4212-916a-80254b64cb1c')\"\n",
              "            title=\"Convert this dataframe to an interactive table.\"\n",
              "            style=\"display:none;\">\n",
              "\n",
              "  <svg xmlns=\"http://www.w3.org/2000/svg\" height=\"24px\" viewBox=\"0 -960 960 960\">\n",
              "    <path d=\"M120-120v-720h720v720H120Zm60-500h600v-160H180v160Zm220 220h160v-160H400v160Zm0 220h160v-160H400v160ZM180-400h160v-160H180v160Zm440 0h160v-160H620v160ZM180-180h160v-160H180v160Zm440 0h160v-160H620v160Z\"/>\n",
              "  </svg>\n",
              "    </button>\n",
              "\n",
              "  <style>\n",
              "    .colab-df-container {\n",
              "      display:flex;\n",
              "      gap: 12px;\n",
              "    }\n",
              "\n",
              "    .colab-df-convert {\n",
              "      background-color: #E8F0FE;\n",
              "      border: none;\n",
              "      border-radius: 50%;\n",
              "      cursor: pointer;\n",
              "      display: none;\n",
              "      fill: #1967D2;\n",
              "      height: 32px;\n",
              "      padding: 0 0 0 0;\n",
              "      width: 32px;\n",
              "    }\n",
              "\n",
              "    .colab-df-convert:hover {\n",
              "      background-color: #E2EBFA;\n",
              "      box-shadow: 0px 1px 2px rgba(60, 64, 67, 0.3), 0px 1px 3px 1px rgba(60, 64, 67, 0.15);\n",
              "      fill: #174EA6;\n",
              "    }\n",
              "\n",
              "    .colab-df-buttons div {\n",
              "      margin-bottom: 4px;\n",
              "    }\n",
              "\n",
              "    [theme=dark] .colab-df-convert {\n",
              "      background-color: #3B4455;\n",
              "      fill: #D2E3FC;\n",
              "    }\n",
              "\n",
              "    [theme=dark] .colab-df-convert:hover {\n",
              "      background-color: #434B5C;\n",
              "      box-shadow: 0px 1px 3px 1px rgba(0, 0, 0, 0.15);\n",
              "      filter: drop-shadow(0px 1px 2px rgba(0, 0, 0, 0.3));\n",
              "      fill: #FFFFFF;\n",
              "    }\n",
              "  </style>\n",
              "\n",
              "    <script>\n",
              "      const buttonEl =\n",
              "        document.querySelector('#df-6617b49b-4379-4212-916a-80254b64cb1c button.colab-df-convert');\n",
              "      buttonEl.style.display =\n",
              "        google.colab.kernel.accessAllowed ? 'block' : 'none';\n",
              "\n",
              "      async function convertToInteractive(key) {\n",
              "        const element = document.querySelector('#df-6617b49b-4379-4212-916a-80254b64cb1c');\n",
              "        const dataTable =\n",
              "          await google.colab.kernel.invokeFunction('convertToInteractive',\n",
              "                                                    [key], {});\n",
              "        if (!dataTable) return;\n",
              "\n",
              "        const docLinkHtml = 'Like what you see? Visit the ' +\n",
              "          '<a target=\"_blank\" href=https://colab.research.google.com/notebooks/data_table.ipynb>data table notebook</a>'\n",
              "          + ' to learn more about interactive tables.';\n",
              "        element.innerHTML = '';\n",
              "        dataTable['output_type'] = 'display_data';\n",
              "        await google.colab.output.renderOutput(dataTable, element);\n",
              "        const docLink = document.createElement('div');\n",
              "        docLink.innerHTML = docLinkHtml;\n",
              "        element.appendChild(docLink);\n",
              "      }\n",
              "    </script>\n",
              "  </div>\n",
              "\n",
              "\n",
              "<div id=\"df-0ffdebff-ffbc-497c-b768-9eb2234f2585\">\n",
              "  <button class=\"colab-df-quickchart\" onclick=\"quickchart('df-0ffdebff-ffbc-497c-b768-9eb2234f2585')\"\n",
              "            title=\"Suggest charts\"\n",
              "            style=\"display:none;\">\n",
              "\n",
              "<svg xmlns=\"http://www.w3.org/2000/svg\" height=\"24px\"viewBox=\"0 0 24 24\"\n",
              "     width=\"24px\">\n",
              "    <g>\n",
              "        <path d=\"M19 3H5c-1.1 0-2 .9-2 2v14c0 1.1.9 2 2 2h14c1.1 0 2-.9 2-2V5c0-1.1-.9-2-2-2zM9 17H7v-7h2v7zm4 0h-2V7h2v10zm4 0h-2v-4h2v4z\"/>\n",
              "    </g>\n",
              "</svg>\n",
              "  </button>\n",
              "\n",
              "<style>\n",
              "  .colab-df-quickchart {\n",
              "      --bg-color: #E8F0FE;\n",
              "      --fill-color: #1967D2;\n",
              "      --hover-bg-color: #E2EBFA;\n",
              "      --hover-fill-color: #174EA6;\n",
              "      --disabled-fill-color: #AAA;\n",
              "      --disabled-bg-color: #DDD;\n",
              "  }\n",
              "\n",
              "  [theme=dark] .colab-df-quickchart {\n",
              "      --bg-color: #3B4455;\n",
              "      --fill-color: #D2E3FC;\n",
              "      --hover-bg-color: #434B5C;\n",
              "      --hover-fill-color: #FFFFFF;\n",
              "      --disabled-bg-color: #3B4455;\n",
              "      --disabled-fill-color: #666;\n",
              "  }\n",
              "\n",
              "  .colab-df-quickchart {\n",
              "    background-color: var(--bg-color);\n",
              "    border: none;\n",
              "    border-radius: 50%;\n",
              "    cursor: pointer;\n",
              "    display: none;\n",
              "    fill: var(--fill-color);\n",
              "    height: 32px;\n",
              "    padding: 0;\n",
              "    width: 32px;\n",
              "  }\n",
              "\n",
              "  .colab-df-quickchart:hover {\n",
              "    background-color: var(--hover-bg-color);\n",
              "    box-shadow: 0 1px 2px rgba(60, 64, 67, 0.3), 0 1px 3px 1px rgba(60, 64, 67, 0.15);\n",
              "    fill: var(--button-hover-fill-color);\n",
              "  }\n",
              "\n",
              "  .colab-df-quickchart-complete:disabled,\n",
              "  .colab-df-quickchart-complete:disabled:hover {\n",
              "    background-color: var(--disabled-bg-color);\n",
              "    fill: var(--disabled-fill-color);\n",
              "    box-shadow: none;\n",
              "  }\n",
              "\n",
              "  .colab-df-spinner {\n",
              "    border: 2px solid var(--fill-color);\n",
              "    border-color: transparent;\n",
              "    border-bottom-color: var(--fill-color);\n",
              "    animation:\n",
              "      spin 1s steps(1) infinite;\n",
              "  }\n",
              "\n",
              "  @keyframes spin {\n",
              "    0% {\n",
              "      border-color: transparent;\n",
              "      border-bottom-color: var(--fill-color);\n",
              "      border-left-color: var(--fill-color);\n",
              "    }\n",
              "    20% {\n",
              "      border-color: transparent;\n",
              "      border-left-color: var(--fill-color);\n",
              "      border-top-color: var(--fill-color);\n",
              "    }\n",
              "    30% {\n",
              "      border-color: transparent;\n",
              "      border-left-color: var(--fill-color);\n",
              "      border-top-color: var(--fill-color);\n",
              "      border-right-color: var(--fill-color);\n",
              "    }\n",
              "    40% {\n",
              "      border-color: transparent;\n",
              "      border-right-color: var(--fill-color);\n",
              "      border-top-color: var(--fill-color);\n",
              "    }\n",
              "    60% {\n",
              "      border-color: transparent;\n",
              "      border-right-color: var(--fill-color);\n",
              "    }\n",
              "    80% {\n",
              "      border-color: transparent;\n",
              "      border-right-color: var(--fill-color);\n",
              "      border-bottom-color: var(--fill-color);\n",
              "    }\n",
              "    90% {\n",
              "      border-color: transparent;\n",
              "      border-bottom-color: var(--fill-color);\n",
              "    }\n",
              "  }\n",
              "</style>\n",
              "\n",
              "  <script>\n",
              "    async function quickchart(key) {\n",
              "      const quickchartButtonEl =\n",
              "        document.querySelector('#' + key + ' button');\n",
              "      quickchartButtonEl.disabled = true;  // To prevent multiple clicks.\n",
              "      quickchartButtonEl.classList.add('colab-df-spinner');\n",
              "      try {\n",
              "        const charts = await google.colab.kernel.invokeFunction(\n",
              "            'suggestCharts', [key], {});\n",
              "      } catch (error) {\n",
              "        console.error('Error during call to suggestCharts:', error);\n",
              "      }\n",
              "      quickchartButtonEl.classList.remove('colab-df-spinner');\n",
              "      quickchartButtonEl.classList.add('colab-df-quickchart-complete');\n",
              "    }\n",
              "    (() => {\n",
              "      let quickchartButtonEl =\n",
              "        document.querySelector('#df-0ffdebff-ffbc-497c-b768-9eb2234f2585 button');\n",
              "      quickchartButtonEl.style.display =\n",
              "        google.colab.kernel.accessAllowed ? 'block' : 'none';\n",
              "    })();\n",
              "  </script>\n",
              "</div>\n",
              "\n",
              "  <div id=\"id_516d3b4d-e74d-4d61-ace9-49feff81d39d\">\n",
              "    <style>\n",
              "      .colab-df-generate {\n",
              "        background-color: #E8F0FE;\n",
              "        border: none;\n",
              "        border-radius: 50%;\n",
              "        cursor: pointer;\n",
              "        display: none;\n",
              "        fill: #1967D2;\n",
              "        height: 32px;\n",
              "        padding: 0 0 0 0;\n",
              "        width: 32px;\n",
              "      }\n",
              "\n",
              "      .colab-df-generate:hover {\n",
              "        background-color: #E2EBFA;\n",
              "        box-shadow: 0px 1px 2px rgba(60, 64, 67, 0.3), 0px 1px 3px 1px rgba(60, 64, 67, 0.15);\n",
              "        fill: #174EA6;\n",
              "      }\n",
              "\n",
              "      [theme=dark] .colab-df-generate {\n",
              "        background-color: #3B4455;\n",
              "        fill: #D2E3FC;\n",
              "      }\n",
              "\n",
              "      [theme=dark] .colab-df-generate:hover {\n",
              "        background-color: #434B5C;\n",
              "        box-shadow: 0px 1px 3px 1px rgba(0, 0, 0, 0.15);\n",
              "        filter: drop-shadow(0px 1px 2px rgba(0, 0, 0, 0.3));\n",
              "        fill: #FFFFFF;\n",
              "      }\n",
              "    </style>\n",
              "    <button class=\"colab-df-generate\" onclick=\"generateWithVariable('stock_data_tidy')\"\n",
              "            title=\"Generate code using this dataframe.\"\n",
              "            style=\"display:none;\">\n",
              "\n",
              "  <svg xmlns=\"http://www.w3.org/2000/svg\" height=\"24px\"viewBox=\"0 0 24 24\"\n",
              "       width=\"24px\">\n",
              "    <path d=\"M7,19H8.4L18.45,9,17,7.55,7,17.6ZM5,21V16.75L18.45,3.32a2,2,0,0,1,2.83,0l1.4,1.43a1.91,1.91,0,0,1,.58,1.4,1.91,1.91,0,0,1-.58,1.4L9.25,21ZM18.45,9,17,7.55Zm-12,3A5.31,5.31,0,0,0,4.9,8.1,5.31,5.31,0,0,0,1,6.5,5.31,5.31,0,0,0,4.9,4.9,5.31,5.31,0,0,0,6.5,1,5.31,5.31,0,0,0,8.1,4.9,5.31,5.31,0,0,0,12,6.5,5.46,5.46,0,0,0,6.5,12Z\"/>\n",
              "  </svg>\n",
              "    </button>\n",
              "    <script>\n",
              "      (() => {\n",
              "      const buttonEl =\n",
              "        document.querySelector('#id_516d3b4d-e74d-4d61-ace9-49feff81d39d button.colab-df-generate');\n",
              "      buttonEl.style.display =\n",
              "        google.colab.kernel.accessAllowed ? 'block' : 'none';\n",
              "\n",
              "      buttonEl.onclick = () => {\n",
              "        google.colab.notebook.generateWithVariable('stock_data_tidy');\n",
              "      }\n",
              "      })();\n",
              "    </script>\n",
              "  </div>\n",
              "\n",
              "    </div>\n",
              "  </div>\n"
            ],
            "application/vnd.google.colaboratory.intrinsic+json": {
              "type": "dataframe",
              "variable_name": "stock_data_tidy"
            }
          },
          "metadata": {},
          "execution_count": 10
        }
      ],
      "source": [
        "stock_data_tidy"
      ]
    },
    {
      "cell_type": "code",
      "execution_count": null,
      "metadata": {
        "colab": {
          "base_uri": "https://localhost:8080/"
        },
        "id": "aZIT-xxXeDIP",
        "outputId": "00595826-66e7-4e48-bc1f-b163e006c172"
      },
      "outputs": [
        {
          "output_type": "execute_result",
          "data": {
            "text/plain": [
              "Index(['ticker', 'date', 'close_adjusted', 'RSI', '5_day_MA', '10_day_MA',\n",
              "       '20_day_MA', '50_day_MA', '100_day_MA', '200_day_MA', 'MACD',\n",
              "       'Signal_Line', 'price_1_days_ago', 'price_2_days_ago',\n",
              "       'price_3_days_ago', 'price_4_days_ago', 'price_5_days_ago',\n",
              "       'price_10_days_ago', 'price_15_days_ago', 'price_30_days_ago',\n",
              "       'price_60_days_ago', 'price_90_days_ago', 'ticker_encoded',\n",
              "       'day_of_week'],\n",
              "      dtype='object')"
            ]
          },
          "metadata": {},
          "execution_count": 10
        }
      ],
      "source": [
        "stock_data_tidy.columns"
      ]
    },
    {
      "cell_type": "code",
      "execution_count": null,
      "metadata": {
        "id": "vyw-u2gAuR8O"
      },
      "outputs": [],
      "source": [
        "# TODO if needed remove big values, since they are mostly outliers\n",
        "# tickers_to_remove = stock_data_tidy[stock_data_tidy['close_adjusted'] > 10000]['ticker'].unique()\n",
        "\n",
        "# stock_data_tidy = stock_data_tidy[~stock_data_tidy['ticker'].isin(tickers_to_remove)]"
      ]
    },
    {
      "cell_type": "code",
      "execution_count": 11,
      "metadata": {
        "id": "glhc61IUuR8O"
      },
      "outputs": [],
      "source": [
        "stock_data_tidy = stock_data_tidy.drop(columns=['price_1_days_ago', 'price_2_days_ago',\n",
        "    'price_3_days_ago', 'price_4_days_ago', 'price_5_days_ago',\n",
        "    'price_10_days_ago', 'price_15_days_ago', 'price_30_days_ago',\n",
        "    'price_60_days_ago', 'price_90_days_ago'])\n",
        "\n",
        "numerical_columns.extend(['day_of_week', 'ticker_encoded'])"
      ]
    },
    {
      "cell_type": "code",
      "execution_count": null,
      "metadata": {
        "id": "Ggg0mi2bjwmI"
      },
      "outputs": [],
      "source": [
        "# TODO if all works with scalers for every ticker, remove this\n",
        "\n",
        "# numerical_columns = [\n",
        "#     'close_adjusted', 'RSI', '5_day_MA', '10_day_MA',\n",
        "#     '20_day_MA', '50_day_MA', '100_day_MA', '200_day_MA',\n",
        "#     'MACD', 'Signal_Line'\n",
        "# ]\n",
        "\n",
        "\n",
        "# scaler = MinMaxScaler()\n",
        "\n",
        "# stock_data_tidy[numerical_columns] = scaler.fit_transform(stock_data_tidy[numerical_columns])\n",
        "\n",
        "# numerical_columns.extend(['day_of_week', 'ticker_encoded'])"
      ]
    },
    {
      "cell_type": "code",
      "execution_count": 12,
      "metadata": {
        "id": "RC44TX4ymi99"
      },
      "outputs": [],
      "source": [
        "unique_count = stock_data_tidy['ticker'].nunique()"
      ]
    },
    {
      "cell_type": "code",
      "execution_count": 177,
      "metadata": {
        "id": "jurIDTKL7pK-"
      },
      "outputs": [],
      "source": [
        "def inverse_transform_predictions(y_pred, ticker):\n",
        "    # Use the correct scaler for this ticker\n",
        "    scaler = scalers[ticker]\n",
        "\n",
        "    # Inverse transform only the first column (close_adjusted)\n",
        "    y_pred_rescaled = scaler.inverse_transform(\n",
        "        np.concatenate((np.array(y_pred).reshape(-1,1), np.zeros((len(y_pred), len(numerical_columns) - 2))), axis=1)\n",
        "    )[:,0]\n",
        "\n",
        "    return y_pred_rescaled"
      ]
    },
    {
      "cell_type": "code",
      "execution_count": 14,
      "metadata": {
        "id": "T0deNjw3fxBj"
      },
      "outputs": [],
      "source": [
        "def preprocess_data(stock_data_tidy, numerical_columns, sequence_length):\n",
        "    data = stock_data_tidy[numerical_columns].values\n",
        "\n",
        "    # Create sequences\n",
        "    X, y = [], []\n",
        "    for i in range(sequence_length, len(data)):\n",
        "        X.append(data[i - sequence_length:i])\n",
        "        y.append(data[i, 0])\n",
        "\n",
        "    X = np.array(X)\n",
        "    y = np.array(y)\n",
        "\n",
        "    return X, y"
      ]
    },
    {
      "cell_type": "code",
      "execution_count": 100,
      "metadata": {
        "id": "xd0zJxpjjq6N"
      },
      "outputs": [],
      "source": [
        "def create_lstm_model(sequence_length, num_features, lstm_units_1=50, lstm_units_2=50, dropout_rate=0.1):\n",
        "    \"\"\"\n",
        "    Optimized LSTM model for stock price prediction with Additive Attention.\n",
        "    \"\"\"\n",
        "    numerical_input = Input(shape=(sequence_length, num_features), name=\"numerical_input\")\n",
        "\n",
        "    first_lstm_layer = LSTM(lstm_units_1, return_sequences=True, name=\"lstm_layer_1\", dropout=dropout_rate)(numerical_input)\n",
        "    normalized_1 = BatchNormalization()(first_lstm_layer)\n",
        "\n",
        "    second_lstm_layer = LSTM(lstm_units_2, return_sequences=True, name=\"lstm_layer_2\", dropout=dropout_rate)(normalized_1)\n",
        "    normalized_2 = BatchNormalization()(second_lstm_layer)\n",
        "\n",
        "    # Attention mechanism\n",
        "    attention = AdditiveAttention(name=\"attention_layer\")([normalized_2, normalized_2])\n",
        "    attended = Multiply()([second_lstm_layer, attention])\n",
        "\n",
        "    flat = Flatten()(attended)\n",
        "\n",
        "    x = Dense(64, activation='relu', name=\"dense_1\")(flat)\n",
        "\n",
        "    output = Dense(32, activation='relu', name=\"dense_2\")(x)\n",
        "\n",
        "    output = Dense(1, activation='linear', name=\"output\")(output)\n",
        "\n",
        "    model = Model(inputs=numerical_input, outputs=output, name=\"Optimized_LSTM_Model_with_Attention\")\n",
        "    model.compile(optimizer='adam', loss='mse', metrics=['mae'])\n",
        "\n",
        "    return model"
      ]
    },
    {
      "cell_type": "code",
      "execution_count": null,
      "metadata": {
        "id": "xzfcdhUijxtw"
      },
      "outputs": [],
      "source": [
        "lstm_model = create_lstm_model(sequence_length=30, num_features=len(numerical_columns))"
      ]
    },
    {
      "cell_type": "code",
      "execution_count": null,
      "metadata": {
        "colab": {
          "base_uri": "https://localhost:8080/",
          "height": 595
        },
        "id": "ESWEPhJBvP26",
        "outputId": "5ca7dc54-c4f7-4c08-d532-5b5c283ca374"
      },
      "outputs": [
        {
          "data": {
            "text/html": [
              "<pre style=\"white-space:pre;overflow-x:auto;line-height:normal;font-family:Menlo,'DejaVu Sans Mono',consolas,'Courier New',monospace\"><span style=\"font-weight: bold\">Model: \"Optimized_LSTM_Model_with_Attention\"</span>\n",
              "</pre>\n"
            ],
            "text/plain": [
              "\u001b[1mModel: \"Optimized_LSTM_Model_with_Attention\"\u001b[0m\n"
            ]
          },
          "metadata": {},
          "output_type": "display_data"
        },
        {
          "data": {
            "text/html": [
              "<pre style=\"white-space:pre;overflow-x:auto;line-height:normal;font-family:Menlo,'DejaVu Sans Mono',consolas,'Courier New',monospace\">┏━━━━━━━━━━━━━━━━━━━━━━━━━━━┳━━━━━━━━━━━━━━━━━━━━━━━━┳━━━━━━━━━━━━━━━━┳━━━━━━━━━━━━━━━━━━━━━━━━┓\n",
              "┃<span style=\"font-weight: bold\"> Layer (type)              </span>┃<span style=\"font-weight: bold\"> Output Shape           </span>┃<span style=\"font-weight: bold\">        Param # </span>┃<span style=\"font-weight: bold\"> Connected to           </span>┃\n",
              "┡━━━━━━━━━━━━━━━━━━━━━━━━━━━╇━━━━━━━━━━━━━━━━━━━━━━━━╇━━━━━━━━━━━━━━━━╇━━━━━━━━━━━━━━━━━━━━━━━━┩\n",
              "│ numerical_input           │ (<span style=\"color: #00d7ff; text-decoration-color: #00d7ff\">None</span>, <span style=\"color: #00af00; text-decoration-color: #00af00\">30</span>, <span style=\"color: #00af00; text-decoration-color: #00af00\">10</span>)         │              <span style=\"color: #00af00; text-decoration-color: #00af00\">0</span> │ -                      │\n",
              "│ (<span style=\"color: #0087ff; text-decoration-color: #0087ff\">InputLayer</span>)              │                        │                │                        │\n",
              "├───────────────────────────┼────────────────────────┼────────────────┼────────────────────────┤\n",
              "│ lstm_layer_1 (<span style=\"color: #0087ff; text-decoration-color: #0087ff\">LSTM</span>)       │ (<span style=\"color: #00d7ff; text-decoration-color: #00d7ff\">None</span>, <span style=\"color: #00af00; text-decoration-color: #00af00\">30</span>, <span style=\"color: #00af00; text-decoration-color: #00af00\">50</span>)         │         <span style=\"color: #00af00; text-decoration-color: #00af00\">12,200</span> │ numerical_input[<span style=\"color: #00af00; text-decoration-color: #00af00\">0</span>][<span style=\"color: #00af00; text-decoration-color: #00af00\">0</span>]  │\n",
              "├───────────────────────────┼────────────────────────┼────────────────┼────────────────────────┤\n",
              "│ batch_normalization       │ (<span style=\"color: #00d7ff; text-decoration-color: #00d7ff\">None</span>, <span style=\"color: #00af00; text-decoration-color: #00af00\">30</span>, <span style=\"color: #00af00; text-decoration-color: #00af00\">50</span>)         │            <span style=\"color: #00af00; text-decoration-color: #00af00\">200</span> │ lstm_layer_1[<span style=\"color: #00af00; text-decoration-color: #00af00\">0</span>][<span style=\"color: #00af00; text-decoration-color: #00af00\">0</span>]     │\n",
              "│ (<span style=\"color: #0087ff; text-decoration-color: #0087ff\">BatchNormalization</span>)      │                        │                │                        │\n",
              "├───────────────────────────┼────────────────────────┼────────────────┼────────────────────────┤\n",
              "│ lstm_layer_2 (<span style=\"color: #0087ff; text-decoration-color: #0087ff\">LSTM</span>)       │ (<span style=\"color: #00d7ff; text-decoration-color: #00d7ff\">None</span>, <span style=\"color: #00af00; text-decoration-color: #00af00\">30</span>, <span style=\"color: #00af00; text-decoration-color: #00af00\">50</span>)         │         <span style=\"color: #00af00; text-decoration-color: #00af00\">20,200</span> │ batch_normalization[<span style=\"color: #00af00; text-decoration-color: #00af00\">0</span>… │\n",
              "├───────────────────────────┼────────────────────────┼────────────────┼────────────────────────┤\n",
              "│ batch_normalization_1     │ (<span style=\"color: #00d7ff; text-decoration-color: #00d7ff\">None</span>, <span style=\"color: #00af00; text-decoration-color: #00af00\">30</span>, <span style=\"color: #00af00; text-decoration-color: #00af00\">50</span>)         │            <span style=\"color: #00af00; text-decoration-color: #00af00\">200</span> │ lstm_layer_2[<span style=\"color: #00af00; text-decoration-color: #00af00\">0</span>][<span style=\"color: #00af00; text-decoration-color: #00af00\">0</span>]     │\n",
              "│ (<span style=\"color: #0087ff; text-decoration-color: #0087ff\">BatchNormalization</span>)      │                        │                │                        │\n",
              "├───────────────────────────┼────────────────────────┼────────────────┼────────────────────────┤\n",
              "│ attention_layer           │ (<span style=\"color: #00d7ff; text-decoration-color: #00d7ff\">None</span>, <span style=\"color: #00af00; text-decoration-color: #00af00\">30</span>, <span style=\"color: #00af00; text-decoration-color: #00af00\">50</span>)         │             <span style=\"color: #00af00; text-decoration-color: #00af00\">50</span> │ batch_normalization_1… │\n",
              "│ (<span style=\"color: #0087ff; text-decoration-color: #0087ff\">AdditiveAttention</span>)       │                        │                │ batch_normalization_1… │\n",
              "├───────────────────────────┼────────────────────────┼────────────────┼────────────────────────┤\n",
              "│ multiply (<span style=\"color: #0087ff; text-decoration-color: #0087ff\">Multiply</span>)       │ (<span style=\"color: #00d7ff; text-decoration-color: #00d7ff\">None</span>, <span style=\"color: #00af00; text-decoration-color: #00af00\">30</span>, <span style=\"color: #00af00; text-decoration-color: #00af00\">50</span>)         │              <span style=\"color: #00af00; text-decoration-color: #00af00\">0</span> │ lstm_layer_2[<span style=\"color: #00af00; text-decoration-color: #00af00\">0</span>][<span style=\"color: #00af00; text-decoration-color: #00af00\">0</span>],    │\n",
              "│                           │                        │                │ attention_layer[<span style=\"color: #00af00; text-decoration-color: #00af00\">0</span>][<span style=\"color: #00af00; text-decoration-color: #00af00\">0</span>]  │\n",
              "├───────────────────────────┼────────────────────────┼────────────────┼────────────────────────┤\n",
              "│ flatten (<span style=\"color: #0087ff; text-decoration-color: #0087ff\">Flatten</span>)         │ (<span style=\"color: #00d7ff; text-decoration-color: #00d7ff\">None</span>, <span style=\"color: #00af00; text-decoration-color: #00af00\">1500</span>)           │              <span style=\"color: #00af00; text-decoration-color: #00af00\">0</span> │ multiply[<span style=\"color: #00af00; text-decoration-color: #00af00\">0</span>][<span style=\"color: #00af00; text-decoration-color: #00af00\">0</span>]         │\n",
              "├───────────────────────────┼────────────────────────┼────────────────┼────────────────────────┤\n",
              "│ dense_1 (<span style=\"color: #0087ff; text-decoration-color: #0087ff\">Dense</span>)           │ (<span style=\"color: #00d7ff; text-decoration-color: #00d7ff\">None</span>, <span style=\"color: #00af00; text-decoration-color: #00af00\">64</span>)             │         <span style=\"color: #00af00; text-decoration-color: #00af00\">96,064</span> │ flatten[<span style=\"color: #00af00; text-decoration-color: #00af00\">0</span>][<span style=\"color: #00af00; text-decoration-color: #00af00\">0</span>]          │\n",
              "├───────────────────────────┼────────────────────────┼────────────────┼────────────────────────┤\n",
              "│ dense_2 (<span style=\"color: #0087ff; text-decoration-color: #0087ff\">Dense</span>)           │ (<span style=\"color: #00d7ff; text-decoration-color: #00d7ff\">None</span>, <span style=\"color: #00af00; text-decoration-color: #00af00\">32</span>)             │          <span style=\"color: #00af00; text-decoration-color: #00af00\">2,080</span> │ dense_1[<span style=\"color: #00af00; text-decoration-color: #00af00\">0</span>][<span style=\"color: #00af00; text-decoration-color: #00af00\">0</span>]          │\n",
              "├───────────────────────────┼────────────────────────┼────────────────┼────────────────────────┤\n",
              "│ output (<span style=\"color: #0087ff; text-decoration-color: #0087ff\">Dense</span>)            │ (<span style=\"color: #00d7ff; text-decoration-color: #00d7ff\">None</span>, <span style=\"color: #00af00; text-decoration-color: #00af00\">1</span>)              │             <span style=\"color: #00af00; text-decoration-color: #00af00\">33</span> │ dense_2[<span style=\"color: #00af00; text-decoration-color: #00af00\">0</span>][<span style=\"color: #00af00; text-decoration-color: #00af00\">0</span>]          │\n",
              "└───────────────────────────┴────────────────────────┴────────────────┴────────────────────────┘\n",
              "</pre>\n"
            ],
            "text/plain": [
              "┏━━━━━━━━━━━━━━━━━━━━━━━━━━━┳━━━━━━━━━━━━━━━━━━━━━━━━┳━━━━━━━━━━━━━━━━┳━━━━━━━━━━━━━━━━━━━━━━━━┓\n",
              "┃\u001b[1m \u001b[0m\u001b[1mLayer (type)             \u001b[0m\u001b[1m \u001b[0m┃\u001b[1m \u001b[0m\u001b[1mOutput Shape          \u001b[0m\u001b[1m \u001b[0m┃\u001b[1m \u001b[0m\u001b[1m       Param #\u001b[0m\u001b[1m \u001b[0m┃\u001b[1m \u001b[0m\u001b[1mConnected to          \u001b[0m\u001b[1m \u001b[0m┃\n",
              "┡━━━━━━━━━━━━━━━━━━━━━━━━━━━╇━━━━━━━━━━━━━━━━━━━━━━━━╇━━━━━━━━━━━━━━━━╇━━━━━━━━━━━━━━━━━━━━━━━━┩\n",
              "│ numerical_input           │ (\u001b[38;5;45mNone\u001b[0m, \u001b[38;5;34m30\u001b[0m, \u001b[38;5;34m10\u001b[0m)         │              \u001b[38;5;34m0\u001b[0m │ -                      │\n",
              "│ (\u001b[38;5;33mInputLayer\u001b[0m)              │                        │                │                        │\n",
              "├───────────────────────────┼────────────────────────┼────────────────┼────────────────────────┤\n",
              "│ lstm_layer_1 (\u001b[38;5;33mLSTM\u001b[0m)       │ (\u001b[38;5;45mNone\u001b[0m, \u001b[38;5;34m30\u001b[0m, \u001b[38;5;34m50\u001b[0m)         │         \u001b[38;5;34m12,200\u001b[0m │ numerical_input[\u001b[38;5;34m0\u001b[0m][\u001b[38;5;34m0\u001b[0m]  │\n",
              "├───────────────────────────┼────────────────────────┼────────────────┼────────────────────────┤\n",
              "│ batch_normalization       │ (\u001b[38;5;45mNone\u001b[0m, \u001b[38;5;34m30\u001b[0m, \u001b[38;5;34m50\u001b[0m)         │            \u001b[38;5;34m200\u001b[0m │ lstm_layer_1[\u001b[38;5;34m0\u001b[0m][\u001b[38;5;34m0\u001b[0m]     │\n",
              "│ (\u001b[38;5;33mBatchNormalization\u001b[0m)      │                        │                │                        │\n",
              "├───────────────────────────┼────────────────────────┼────────────────┼────────────────────────┤\n",
              "│ lstm_layer_2 (\u001b[38;5;33mLSTM\u001b[0m)       │ (\u001b[38;5;45mNone\u001b[0m, \u001b[38;5;34m30\u001b[0m, \u001b[38;5;34m50\u001b[0m)         │         \u001b[38;5;34m20,200\u001b[0m │ batch_normalization[\u001b[38;5;34m0\u001b[0m… │\n",
              "├───────────────────────────┼────────────────────────┼────────────────┼────────────────────────┤\n",
              "│ batch_normalization_1     │ (\u001b[38;5;45mNone\u001b[0m, \u001b[38;5;34m30\u001b[0m, \u001b[38;5;34m50\u001b[0m)         │            \u001b[38;5;34m200\u001b[0m │ lstm_layer_2[\u001b[38;5;34m0\u001b[0m][\u001b[38;5;34m0\u001b[0m]     │\n",
              "│ (\u001b[38;5;33mBatchNormalization\u001b[0m)      │                        │                │                        │\n",
              "├───────────────────────────┼────────────────────────┼────────────────┼────────────────────────┤\n",
              "│ attention_layer           │ (\u001b[38;5;45mNone\u001b[0m, \u001b[38;5;34m30\u001b[0m, \u001b[38;5;34m50\u001b[0m)         │             \u001b[38;5;34m50\u001b[0m │ batch_normalization_1… │\n",
              "│ (\u001b[38;5;33mAdditiveAttention\u001b[0m)       │                        │                │ batch_normalization_1… │\n",
              "├───────────────────────────┼────────────────────────┼────────────────┼────────────────────────┤\n",
              "│ multiply (\u001b[38;5;33mMultiply\u001b[0m)       │ (\u001b[38;5;45mNone\u001b[0m, \u001b[38;5;34m30\u001b[0m, \u001b[38;5;34m50\u001b[0m)         │              \u001b[38;5;34m0\u001b[0m │ lstm_layer_2[\u001b[38;5;34m0\u001b[0m][\u001b[38;5;34m0\u001b[0m],    │\n",
              "│                           │                        │                │ attention_layer[\u001b[38;5;34m0\u001b[0m][\u001b[38;5;34m0\u001b[0m]  │\n",
              "├───────────────────────────┼────────────────────────┼────────────────┼────────────────────────┤\n",
              "│ flatten (\u001b[38;5;33mFlatten\u001b[0m)         │ (\u001b[38;5;45mNone\u001b[0m, \u001b[38;5;34m1500\u001b[0m)           │              \u001b[38;5;34m0\u001b[0m │ multiply[\u001b[38;5;34m0\u001b[0m][\u001b[38;5;34m0\u001b[0m]         │\n",
              "├───────────────────────────┼────────────────────────┼────────────────┼────────────────────────┤\n",
              "│ dense_1 (\u001b[38;5;33mDense\u001b[0m)           │ (\u001b[38;5;45mNone\u001b[0m, \u001b[38;5;34m64\u001b[0m)             │         \u001b[38;5;34m96,064\u001b[0m │ flatten[\u001b[38;5;34m0\u001b[0m][\u001b[38;5;34m0\u001b[0m]          │\n",
              "├───────────────────────────┼────────────────────────┼────────────────┼────────────────────────┤\n",
              "│ dense_2 (\u001b[38;5;33mDense\u001b[0m)           │ (\u001b[38;5;45mNone\u001b[0m, \u001b[38;5;34m32\u001b[0m)             │          \u001b[38;5;34m2,080\u001b[0m │ dense_1[\u001b[38;5;34m0\u001b[0m][\u001b[38;5;34m0\u001b[0m]          │\n",
              "├───────────────────────────┼────────────────────────┼────────────────┼────────────────────────┤\n",
              "│ output (\u001b[38;5;33mDense\u001b[0m)            │ (\u001b[38;5;45mNone\u001b[0m, \u001b[38;5;34m1\u001b[0m)              │             \u001b[38;5;34m33\u001b[0m │ dense_2[\u001b[38;5;34m0\u001b[0m][\u001b[38;5;34m0\u001b[0m]          │\n",
              "└───────────────────────────┴────────────────────────┴────────────────┴────────────────────────┘\n"
            ]
          },
          "metadata": {},
          "output_type": "display_data"
        },
        {
          "data": {
            "text/html": [
              "<pre style=\"white-space:pre;overflow-x:auto;line-height:normal;font-family:Menlo,'DejaVu Sans Mono',consolas,'Courier New',monospace\"><span style=\"font-weight: bold\"> Total params: </span><span style=\"color: #00af00; text-decoration-color: #00af00\">131,027</span> (511.82 KB)\n",
              "</pre>\n"
            ],
            "text/plain": [
              "\u001b[1m Total params: \u001b[0m\u001b[38;5;34m131,027\u001b[0m (511.82 KB)\n"
            ]
          },
          "metadata": {},
          "output_type": "display_data"
        },
        {
          "data": {
            "text/html": [
              "<pre style=\"white-space:pre;overflow-x:auto;line-height:normal;font-family:Menlo,'DejaVu Sans Mono',consolas,'Courier New',monospace\"><span style=\"font-weight: bold\"> Trainable params: </span><span style=\"color: #00af00; text-decoration-color: #00af00\">130,827</span> (511.04 KB)\n",
              "</pre>\n"
            ],
            "text/plain": [
              "\u001b[1m Trainable params: \u001b[0m\u001b[38;5;34m130,827\u001b[0m (511.04 KB)\n"
            ]
          },
          "metadata": {},
          "output_type": "display_data"
        },
        {
          "data": {
            "text/html": [
              "<pre style=\"white-space:pre;overflow-x:auto;line-height:normal;font-family:Menlo,'DejaVu Sans Mono',consolas,'Courier New',monospace\"><span style=\"font-weight: bold\"> Non-trainable params: </span><span style=\"color: #00af00; text-decoration-color: #00af00\">200</span> (800.00 B)\n",
              "</pre>\n"
            ],
            "text/plain": [
              "\u001b[1m Non-trainable params: \u001b[0m\u001b[38;5;34m200\u001b[0m (800.00 B)\n"
            ]
          },
          "metadata": {},
          "output_type": "display_data"
        }
      ],
      "source": [
        "lstm_model.summary()"
      ]
    },
    {
      "cell_type": "code",
      "execution_count": 16,
      "metadata": {
        "id": "JsmRyz_RuR8P"
      },
      "outputs": [],
      "source": [
        "stock_data_tidy = stock_data_tidy.sort_values(by=['ticker', 'date'])"
      ]
    },
    {
      "cell_type": "code",
      "execution_count": 17,
      "metadata": {
        "id": "gQ1B03g1l817"
      },
      "outputs": [],
      "source": [
        "import numpy as np\n",
        "from numpy.lib.stride_tricks import sliding_window_view\n",
        "\n",
        "processed_data_path = google_drive_path + 'processed_data_full/'\n",
        "\n",
        "def preprocess_grouped_data(stock_data_tidy, numerical_columns, target_column, sequence_length):\n",
        "    tickers = stock_data_tidy[\"ticker_encoded\"].unique()\n",
        "\n",
        "    for ticker in tickers:\n",
        "        ticker_data = stock_data_tidy[stock_data_tidy[\"ticker_encoded\"] == ticker].sort_values(by=\"date\")\n",
        "        numerical_data = ticker_data[numerical_columns].values\n",
        "\n",
        "        if(ticker % 1000 == 0):\n",
        "          print('Processing ', ticker)\n",
        "        if len(ticker_data) > sequence_length:\n",
        "            x_ticker = sliding_window_view(numerical_data, window_shape=(sequence_length, len(numerical_columns)))\n",
        "            x_ticker = x_ticker.reshape(-1, sequence_length, len(numerical_columns))\n",
        "\n",
        "            y_ticker = ticker_data[target_column].values[sequence_length-1:]\n",
        "\n",
        "            np.save(os.path.join(processed_data_path, f\"x_ticker_{ticker}.npy\"), x_ticker)\n",
        "            np.save(os.path.join(processed_data_path, f\"y_ticker_{ticker}.npy\"), y_ticker)"
      ]
    },
    {
      "cell_type": "code",
      "execution_count": 18,
      "metadata": {
        "colab": {
          "base_uri": "https://localhost:8080/"
        },
        "id": "ryuFqg4upoMD",
        "outputId": "953eebed-1093-4350-b599-fbd0e36b70ea"
      },
      "outputs": [
        {
          "output_type": "stream",
          "name": "stdout",
          "text": [
            "There are files in the processed_data_path.\n"
          ]
        }
      ],
      "source": [
        "if os.path.exists(processed_data_path) and os.path.isdir(processed_data_path):\n",
        "    has_file = any(os.path.isfile(os.path.join(processed_data_path, item)) for item in os.listdir(processed_data_path))\n",
        "    if has_file:\n",
        "        print(\"There are files in the processed_data_path.\")\n",
        "    else:\n",
        "      print('Beginning to process the data...\\n')\n",
        "      preprocess_grouped_data(stock_data_tidy, numerical_columns, 'close_adjusted', 30)\n",
        "else:\n",
        "    print(\"The processed_data_path does not exist or is not a directory.\")"
      ]
    },
    {
      "cell_type": "code",
      "execution_count": 19,
      "metadata": {
        "id": "wNKuChVniDcs"
      },
      "outputs": [],
      "source": [
        "def data_generator(tickers, processed_data_path, batch_size=32):\n",
        "    \"\"\"Generates batches dynamically for the given tickers.\"\"\"\n",
        "    while True:\n",
        "        for ticker in tickers:\n",
        "            # Load data for the current ticker\n",
        "            x_path = os.path.join(processed_data_path, f\"x_ticker_{ticker}.npy\")\n",
        "            y_path = os.path.join(processed_data_path, f\"y_ticker_{ticker}.npy\")\n",
        "\n",
        "            # Ensure file exists\n",
        "            if not os.path.exists(x_path) or not os.path.exists(y_path):\n",
        "                print(f\"Skipping {ticker}: Missing files.\")\n",
        "                continue\n",
        "\n",
        "            x_data = np.load(x_path)\n",
        "            y_data = np.load(y_path)\n",
        "\n",
        "            # Ensure data is compatible with the batch size\n",
        "            steps_per_epoch = len(x_data) // batch_size\n",
        "            x_data = x_data[:steps_per_epoch * batch_size]\n",
        "            y_data = y_data[:steps_per_epoch * batch_size]\n",
        "\n",
        "            # Yield batches\n",
        "            for i in range(steps_per_epoch):\n",
        "                x_batch = x_data[i * batch_size: (i + 1) * batch_size]\n",
        "                y_batch = y_data[i * batch_size: (i + 1) * batch_size]\n",
        "                yield x_batch, y_batch\n"
      ]
    },
    {
      "cell_type": "code",
      "source": [
        "tickers = stock_data_tidy[\"ticker_encoded\"].unique()"
      ],
      "metadata": {
        "id": "59HfJTfpMKxc"
      },
      "execution_count": 20,
      "outputs": []
    },
    {
      "cell_type": "code",
      "execution_count": 21,
      "metadata": {
        "id": "92q-77zf-mNR"
      },
      "outputs": [],
      "source": [
        "tickers.sort()"
      ]
    },
    {
      "cell_type": "code",
      "execution_count": 22,
      "metadata": {
        "id": "pLsQftzMiPwn"
      },
      "outputs": [],
      "source": [
        "train_gen = data_generator(tickers, processed_data_path)"
      ]
    },
    {
      "cell_type": "code",
      "execution_count": 23,
      "metadata": {
        "id": "8xBu0mDQiRCl"
      },
      "outputs": [],
      "source": [
        "early_stopping = EarlyStopping(monitor=\"loss\", patience=30, restore_best_weights=True)"
      ]
    },
    {
      "cell_type": "code",
      "execution_count": 72,
      "metadata": {
        "id": "c8URn7rlWKg_"
      },
      "outputs": [],
      "source": [
        "keras.backend.clear_session()"
      ]
    },
    {
      "cell_type": "code",
      "execution_count": null,
      "metadata": {
        "colab": {
          "base_uri": "https://localhost:8080/",
          "height": 1000
        },
        "id": "mfZaC9d0hk5y",
        "outputId": "98f09443-fad1-413e-aea6-582a1d039f67"
      },
      "outputs": [
        {
          "name": "stdout",
          "output_type": "stream",
          "text": [
            "Epoch 1/200\n",
            "\n",
            "Epoch 1: saving model to drive/MyDrive/DL_Pickles/lstm_model_epoch_01.keras\n",
            "40000/40000 - 331s - 8ms/step - loss: 3.4231e-04 - mae: 0.0117\n",
            "Epoch 2/200\n",
            "\n",
            "Epoch 2: saving model to drive/MyDrive/DL_Pickles/lstm_model_epoch_02.keras\n",
            "40000/40000 - 581s - 15ms/step - loss: 2.8549e-04 - mae: 0.0105\n",
            "Epoch 3/200\n",
            "\n",
            "Epoch 3: saving model to drive/MyDrive/DL_Pickles/lstm_model_epoch_03.keras\n",
            "40000/40000 - 836s - 21ms/step - loss: 2.5595e-04 - mae: 0.0099\n",
            "Epoch 4/200\n",
            "\n",
            "Epoch 4: saving model to drive/MyDrive/DL_Pickles/lstm_model_epoch_04.keras\n",
            "40000/40000 - 855s - 21ms/step - loss: 2.1875e-04 - mae: 0.0092\n",
            "Epoch 5/200\n",
            "\n",
            "Epoch 5: saving model to drive/MyDrive/DL_Pickles/lstm_model_epoch_05.keras\n",
            "40000/40000 - 902s - 23ms/step - loss: 2.1300e-04 - mae: 0.0089\n",
            "Epoch 6/200\n",
            "\n",
            "Epoch 6: saving model to drive/MyDrive/DL_Pickles/lstm_model_epoch_06.keras\n",
            "40000/40000 - 811s - 20ms/step - loss: 1.7772e-04 - mae: 0.0079\n",
            "Epoch 7/200\n",
            "\n",
            "Epoch 7: saving model to drive/MyDrive/DL_Pickles/lstm_model_epoch_07.keras\n",
            "40000/40000 - 800s - 20ms/step - loss: 1.7149e-04 - mae: 0.0080\n",
            "Epoch 8/200\n",
            "\n",
            "Epoch 8: saving model to drive/MyDrive/DL_Pickles/lstm_model_epoch_08.keras\n",
            "40000/40000 - 824s - 21ms/step - loss: 1.6019e-04 - mae: 0.0076\n",
            "Epoch 9/200\n",
            "\n",
            "Epoch 9: saving model to drive/MyDrive/DL_Pickles/lstm_model_epoch_09.keras\n",
            "40000/40000 - 771s - 19ms/step - loss: 1.3278e-04 - mae: 0.0071\n",
            "Epoch 10/200\n",
            "\n",
            "Epoch 10: saving model to drive/MyDrive/DL_Pickles/lstm_model_epoch_10.keras\n",
            "40000/40000 - 797s - 20ms/step - loss: 1.2927e-04 - mae: 0.0071\n",
            "Epoch 11/200\n",
            "\n",
            "Epoch 11: saving model to drive/MyDrive/DL_Pickles/lstm_model_epoch_11.keras\n",
            "40000/40000 - 807s - 20ms/step - loss: 1.2958e-04 - mae: 0.0071\n",
            "Epoch 12/200\n",
            "\n",
            "Epoch 12: saving model to drive/MyDrive/DL_Pickles/lstm_model_epoch_12.keras\n",
            "40000/40000 - 809s - 20ms/step - loss: 1.2341e-04 - mae: 0.0066\n",
            "Epoch 13/200\n",
            "\n",
            "Epoch 13: saving model to drive/MyDrive/DL_Pickles/lstm_model_epoch_13.keras\n",
            "40000/40000 - 780s - 19ms/step - loss: 1.4473e-04 - mae: 0.0071\n",
            "Epoch 14/200\n",
            "\n",
            "Epoch 14: saving model to drive/MyDrive/DL_Pickles/lstm_model_epoch_14.keras\n",
            "40000/40000 - 825s - 21ms/step - loss: 1.1173e-04 - mae: 0.0064\n",
            "Epoch 15/200\n",
            "\n",
            "Epoch 15: saving model to drive/MyDrive/DL_Pickles/lstm_model_epoch_15.keras\n",
            "40000/40000 - 749s - 19ms/step - loss: 1.1405e-04 - mae: 0.0064\n",
            "Epoch 16/200\n",
            "\n",
            "Epoch 16: saving model to drive/MyDrive/DL_Pickles/lstm_model_epoch_16.keras\n",
            "40000/40000 - 782s - 20ms/step - loss: 1.1929e-04 - mae: 0.0066\n",
            "Epoch 17/200\n",
            "\n",
            "Epoch 17: saving model to drive/MyDrive/DL_Pickles/lstm_model_epoch_17.keras\n",
            "40000/40000 - 848s - 21ms/step - loss: 1.1785e-04 - mae: 0.0063\n",
            "Epoch 18/200\n",
            "\n",
            "Epoch 18: saving model to drive/MyDrive/DL_Pickles/lstm_model_epoch_18.keras\n",
            "40000/40000 - 855s - 21ms/step - loss: 1.0477e-04 - mae: 0.0062\n",
            "Epoch 19/200\n",
            "\n",
            "Epoch 19: saving model to drive/MyDrive/DL_Pickles/lstm_model_epoch_19.keras\n",
            "40000/40000 - 826s - 21ms/step - loss: 1.0446e-04 - mae: 0.0061\n",
            "Epoch 20/200\n",
            "\n",
            "Epoch 20: saving model to drive/MyDrive/DL_Pickles/lstm_model_epoch_20.keras\n",
            "40000/40000 - 867s - 22ms/step - loss: 1.1584e-04 - mae: 0.0063\n",
            "Epoch 21/200\n",
            "\n",
            "Epoch 21: saving model to drive/MyDrive/DL_Pickles/lstm_model_epoch_21.keras\n",
            "40000/40000 - 841s - 21ms/step - loss: 8.4624e-05 - mae: 0.0056\n",
            "Epoch 22/200\n",
            "\n",
            "Epoch 22: saving model to drive/MyDrive/DL_Pickles/lstm_model_epoch_22.keras\n",
            "40000/40000 - 889s - 22ms/step - loss: 1.0220e-04 - mae: 0.0061\n",
            "Epoch 23/200\n",
            "\n",
            "Epoch 23: saving model to drive/MyDrive/DL_Pickles/lstm_model_epoch_23.keras\n",
            "40000/40000 - 960s - 24ms/step - loss: 1.1621e-04 - mae: 0.0059\n",
            "Epoch 24/200\n",
            "\n",
            "Epoch 24: saving model to drive/MyDrive/DL_Pickles/lstm_model_epoch_24.keras\n",
            "40000/40000 - 854s - 21ms/step - loss: 8.2670e-05 - mae: 0.0054\n",
            "Epoch 25/200\n",
            "\n",
            "Epoch 25: saving model to drive/MyDrive/DL_Pickles/lstm_model_epoch_25.keras\n",
            "40000/40000 - 881s - 22ms/step - loss: 9.7874e-05 - mae: 0.0059\n",
            "Epoch 26/200\n"
          ]
        },
        {
          "ename": "KeyboardInterrupt",
          "evalue": "",
          "output_type": "error",
          "traceback": [
            "\u001b[0;31m---------------------------------------------------------------------------\u001b[0m",
            "\u001b[0;31mKeyboardInterrupt\u001b[0m                         Traceback (most recent call last)",
            "\u001b[0;32m<ipython-input-91-e69e2ccad5dd>\u001b[0m in \u001b[0;36m<cell line: 12>\u001b[0;34m()\u001b[0m\n\u001b[1;32m     10\u001b[0m \u001b[0;34m\u001b[0m\u001b[0m\n\u001b[1;32m     11\u001b[0m \u001b[0;31m# Train the model with checkpoint callback\u001b[0m\u001b[0;34m\u001b[0m\u001b[0;34m\u001b[0m\u001b[0m\n\u001b[0;32m---> 12\u001b[0;31m lstm_model.fit(\n\u001b[0m\u001b[1;32m     13\u001b[0m     \u001b[0mtrain_gen\u001b[0m\u001b[0;34m,\u001b[0m\u001b[0;34m\u001b[0m\u001b[0;34m\u001b[0m\u001b[0m\n\u001b[1;32m     14\u001b[0m     \u001b[0msteps_per_epoch\u001b[0m\u001b[0;34m=\u001b[0m\u001b[0;36m40000\u001b[0m\u001b[0;34m,\u001b[0m\u001b[0;34m\u001b[0m\u001b[0;34m\u001b[0m\u001b[0m\n",
            "\u001b[0;32m/usr/local/lib/python3.10/dist-packages/keras/src/utils/traceback_utils.py\u001b[0m in \u001b[0;36merror_handler\u001b[0;34m(*args, **kwargs)\u001b[0m\n\u001b[1;32m    115\u001b[0m         \u001b[0mfiltered_tb\u001b[0m \u001b[0;34m=\u001b[0m \u001b[0;32mNone\u001b[0m\u001b[0;34m\u001b[0m\u001b[0;34m\u001b[0m\u001b[0m\n\u001b[1;32m    116\u001b[0m         \u001b[0;32mtry\u001b[0m\u001b[0;34m:\u001b[0m\u001b[0;34m\u001b[0m\u001b[0;34m\u001b[0m\u001b[0m\n\u001b[0;32m--> 117\u001b[0;31m             \u001b[0;32mreturn\u001b[0m \u001b[0mfn\u001b[0m\u001b[0;34m(\u001b[0m\u001b[0;34m*\u001b[0m\u001b[0margs\u001b[0m\u001b[0;34m,\u001b[0m \u001b[0;34m**\u001b[0m\u001b[0mkwargs\u001b[0m\u001b[0;34m)\u001b[0m\u001b[0;34m\u001b[0m\u001b[0;34m\u001b[0m\u001b[0m\n\u001b[0m\u001b[1;32m    118\u001b[0m         \u001b[0;32mexcept\u001b[0m \u001b[0mException\u001b[0m \u001b[0;32mas\u001b[0m \u001b[0me\u001b[0m\u001b[0;34m:\u001b[0m\u001b[0;34m\u001b[0m\u001b[0;34m\u001b[0m\u001b[0m\n\u001b[1;32m    119\u001b[0m             \u001b[0mfiltered_tb\u001b[0m \u001b[0;34m=\u001b[0m \u001b[0m_process_traceback_frames\u001b[0m\u001b[0;34m(\u001b[0m\u001b[0me\u001b[0m\u001b[0;34m.\u001b[0m\u001b[0m__traceback__\u001b[0m\u001b[0;34m)\u001b[0m\u001b[0;34m\u001b[0m\u001b[0;34m\u001b[0m\u001b[0m\n",
            "\u001b[0;32m/usr/local/lib/python3.10/dist-packages/keras/src/backend/tensorflow/trainer.py\u001b[0m in \u001b[0;36mfit\u001b[0;34m(self, x, y, batch_size, epochs, verbose, callbacks, validation_split, validation_data, shuffle, class_weight, sample_weight, initial_epoch, steps_per_epoch, validation_steps, validation_batch_size, validation_freq)\u001b[0m\n\u001b[1;32m    318\u001b[0m                 \u001b[0;32mfor\u001b[0m \u001b[0mstep\u001b[0m\u001b[0;34m,\u001b[0m \u001b[0miterator\u001b[0m \u001b[0;32min\u001b[0m \u001b[0mepoch_iterator\u001b[0m\u001b[0;34m.\u001b[0m\u001b[0menumerate_epoch\u001b[0m\u001b[0;34m(\u001b[0m\u001b[0;34m)\u001b[0m\u001b[0;34m:\u001b[0m\u001b[0;34m\u001b[0m\u001b[0;34m\u001b[0m\u001b[0m\n\u001b[1;32m    319\u001b[0m                     \u001b[0mcallbacks\u001b[0m\u001b[0;34m.\u001b[0m\u001b[0mon_train_batch_begin\u001b[0m\u001b[0;34m(\u001b[0m\u001b[0mstep\u001b[0m\u001b[0;34m)\u001b[0m\u001b[0;34m\u001b[0m\u001b[0;34m\u001b[0m\u001b[0m\n\u001b[0;32m--> 320\u001b[0;31m                     \u001b[0mlogs\u001b[0m \u001b[0;34m=\u001b[0m \u001b[0mself\u001b[0m\u001b[0;34m.\u001b[0m\u001b[0mtrain_function\u001b[0m\u001b[0;34m(\u001b[0m\u001b[0miterator\u001b[0m\u001b[0;34m)\u001b[0m\u001b[0;34m\u001b[0m\u001b[0;34m\u001b[0m\u001b[0m\n\u001b[0m\u001b[1;32m    321\u001b[0m                     \u001b[0mlogs\u001b[0m \u001b[0;34m=\u001b[0m \u001b[0mself\u001b[0m\u001b[0;34m.\u001b[0m\u001b[0m_pythonify_logs\u001b[0m\u001b[0;34m(\u001b[0m\u001b[0mlogs\u001b[0m\u001b[0;34m)\u001b[0m\u001b[0;34m\u001b[0m\u001b[0;34m\u001b[0m\u001b[0m\n\u001b[1;32m    322\u001b[0m                     \u001b[0mcallbacks\u001b[0m\u001b[0;34m.\u001b[0m\u001b[0mon_train_batch_end\u001b[0m\u001b[0;34m(\u001b[0m\u001b[0mstep\u001b[0m\u001b[0;34m,\u001b[0m \u001b[0mlogs\u001b[0m\u001b[0;34m)\u001b[0m\u001b[0;34m\u001b[0m\u001b[0;34m\u001b[0m\u001b[0m\n",
            "\u001b[0;32m/usr/local/lib/python3.10/dist-packages/tensorflow/python/util/traceback_utils.py\u001b[0m in \u001b[0;36merror_handler\u001b[0;34m(*args, **kwargs)\u001b[0m\n\u001b[1;32m    148\u001b[0m     \u001b[0mfiltered_tb\u001b[0m \u001b[0;34m=\u001b[0m \u001b[0;32mNone\u001b[0m\u001b[0;34m\u001b[0m\u001b[0;34m\u001b[0m\u001b[0m\n\u001b[1;32m    149\u001b[0m     \u001b[0;32mtry\u001b[0m\u001b[0;34m:\u001b[0m\u001b[0;34m\u001b[0m\u001b[0;34m\u001b[0m\u001b[0m\n\u001b[0;32m--> 150\u001b[0;31m       \u001b[0;32mreturn\u001b[0m \u001b[0mfn\u001b[0m\u001b[0;34m(\u001b[0m\u001b[0;34m*\u001b[0m\u001b[0margs\u001b[0m\u001b[0;34m,\u001b[0m \u001b[0;34m**\u001b[0m\u001b[0mkwargs\u001b[0m\u001b[0;34m)\u001b[0m\u001b[0;34m\u001b[0m\u001b[0;34m\u001b[0m\u001b[0m\n\u001b[0m\u001b[1;32m    151\u001b[0m     \u001b[0;32mexcept\u001b[0m \u001b[0mException\u001b[0m \u001b[0;32mas\u001b[0m \u001b[0me\u001b[0m\u001b[0;34m:\u001b[0m\u001b[0;34m\u001b[0m\u001b[0;34m\u001b[0m\u001b[0m\n\u001b[1;32m    152\u001b[0m       \u001b[0mfiltered_tb\u001b[0m \u001b[0;34m=\u001b[0m \u001b[0m_process_traceback_frames\u001b[0m\u001b[0;34m(\u001b[0m\u001b[0me\u001b[0m\u001b[0;34m.\u001b[0m\u001b[0m__traceback__\u001b[0m\u001b[0;34m)\u001b[0m\u001b[0;34m\u001b[0m\u001b[0;34m\u001b[0m\u001b[0m\n",
            "\u001b[0;32m/usr/local/lib/python3.10/dist-packages/tensorflow/python/eager/polymorphic_function/polymorphic_function.py\u001b[0m in \u001b[0;36m__call__\u001b[0;34m(self, *args, **kwds)\u001b[0m\n\u001b[1;32m    831\u001b[0m \u001b[0;34m\u001b[0m\u001b[0m\n\u001b[1;32m    832\u001b[0m       \u001b[0;32mwith\u001b[0m \u001b[0mOptionalXlaContext\u001b[0m\u001b[0;34m(\u001b[0m\u001b[0mself\u001b[0m\u001b[0;34m.\u001b[0m\u001b[0m_jit_compile\u001b[0m\u001b[0;34m)\u001b[0m\u001b[0;34m:\u001b[0m\u001b[0;34m\u001b[0m\u001b[0;34m\u001b[0m\u001b[0m\n\u001b[0;32m--> 833\u001b[0;31m         \u001b[0mresult\u001b[0m \u001b[0;34m=\u001b[0m \u001b[0mself\u001b[0m\u001b[0;34m.\u001b[0m\u001b[0m_call\u001b[0m\u001b[0;34m(\u001b[0m\u001b[0;34m*\u001b[0m\u001b[0margs\u001b[0m\u001b[0;34m,\u001b[0m \u001b[0;34m**\u001b[0m\u001b[0mkwds\u001b[0m\u001b[0;34m)\u001b[0m\u001b[0;34m\u001b[0m\u001b[0;34m\u001b[0m\u001b[0m\n\u001b[0m\u001b[1;32m    834\u001b[0m \u001b[0;34m\u001b[0m\u001b[0m\n\u001b[1;32m    835\u001b[0m       \u001b[0mnew_tracing_count\u001b[0m \u001b[0;34m=\u001b[0m \u001b[0mself\u001b[0m\u001b[0;34m.\u001b[0m\u001b[0mexperimental_get_tracing_count\u001b[0m\u001b[0;34m(\u001b[0m\u001b[0;34m)\u001b[0m\u001b[0;34m\u001b[0m\u001b[0;34m\u001b[0m\u001b[0m\n",
            "\u001b[0;32m/usr/local/lib/python3.10/dist-packages/tensorflow/python/eager/polymorphic_function/polymorphic_function.py\u001b[0m in \u001b[0;36m_call\u001b[0;34m(self, *args, **kwds)\u001b[0m\n\u001b[1;32m    876\u001b[0m       \u001b[0;31m# In this case we have not created variables on the first call. So we can\u001b[0m\u001b[0;34m\u001b[0m\u001b[0;34m\u001b[0m\u001b[0m\n\u001b[1;32m    877\u001b[0m       \u001b[0;31m# run the first trace but we should fail if variables are created.\u001b[0m\u001b[0;34m\u001b[0m\u001b[0;34m\u001b[0m\u001b[0m\n\u001b[0;32m--> 878\u001b[0;31m       results = tracing_compilation.call_function(\n\u001b[0m\u001b[1;32m    879\u001b[0m           \u001b[0margs\u001b[0m\u001b[0;34m,\u001b[0m \u001b[0mkwds\u001b[0m\u001b[0;34m,\u001b[0m \u001b[0mself\u001b[0m\u001b[0;34m.\u001b[0m\u001b[0m_variable_creation_config\u001b[0m\u001b[0;34m\u001b[0m\u001b[0;34m\u001b[0m\u001b[0m\n\u001b[1;32m    880\u001b[0m       )\n",
            "\u001b[0;32m/usr/local/lib/python3.10/dist-packages/tensorflow/python/eager/polymorphic_function/tracing_compilation.py\u001b[0m in \u001b[0;36mcall_function\u001b[0;34m(args, kwargs, tracing_options)\u001b[0m\n\u001b[1;32m    137\u001b[0m   \u001b[0mbound_args\u001b[0m \u001b[0;34m=\u001b[0m \u001b[0mfunction\u001b[0m\u001b[0;34m.\u001b[0m\u001b[0mfunction_type\u001b[0m\u001b[0;34m.\u001b[0m\u001b[0mbind\u001b[0m\u001b[0;34m(\u001b[0m\u001b[0;34m*\u001b[0m\u001b[0margs\u001b[0m\u001b[0;34m,\u001b[0m \u001b[0;34m**\u001b[0m\u001b[0mkwargs\u001b[0m\u001b[0;34m)\u001b[0m\u001b[0;34m\u001b[0m\u001b[0;34m\u001b[0m\u001b[0m\n\u001b[1;32m    138\u001b[0m   \u001b[0mflat_inputs\u001b[0m \u001b[0;34m=\u001b[0m \u001b[0mfunction\u001b[0m\u001b[0;34m.\u001b[0m\u001b[0mfunction_type\u001b[0m\u001b[0;34m.\u001b[0m\u001b[0munpack_inputs\u001b[0m\u001b[0;34m(\u001b[0m\u001b[0mbound_args\u001b[0m\u001b[0;34m)\u001b[0m\u001b[0;34m\u001b[0m\u001b[0;34m\u001b[0m\u001b[0m\n\u001b[0;32m--> 139\u001b[0;31m   return function._call_flat(  # pylint: disable=protected-access\n\u001b[0m\u001b[1;32m    140\u001b[0m       \u001b[0mflat_inputs\u001b[0m\u001b[0;34m,\u001b[0m \u001b[0mcaptured_inputs\u001b[0m\u001b[0;34m=\u001b[0m\u001b[0mfunction\u001b[0m\u001b[0;34m.\u001b[0m\u001b[0mcaptured_inputs\u001b[0m\u001b[0;34m\u001b[0m\u001b[0;34m\u001b[0m\u001b[0m\n\u001b[1;32m    141\u001b[0m   )\n",
            "\u001b[0;32m/usr/local/lib/python3.10/dist-packages/tensorflow/python/eager/polymorphic_function/concrete_function.py\u001b[0m in \u001b[0;36m_call_flat\u001b[0;34m(self, tensor_inputs, captured_inputs)\u001b[0m\n\u001b[1;32m   1320\u001b[0m         and executing_eagerly):\n\u001b[1;32m   1321\u001b[0m       \u001b[0;31m# No tape is watching; skip to running the function.\u001b[0m\u001b[0;34m\u001b[0m\u001b[0;34m\u001b[0m\u001b[0m\n\u001b[0;32m-> 1322\u001b[0;31m       \u001b[0;32mreturn\u001b[0m \u001b[0mself\u001b[0m\u001b[0;34m.\u001b[0m\u001b[0m_inference_function\u001b[0m\u001b[0;34m.\u001b[0m\u001b[0mcall_preflattened\u001b[0m\u001b[0;34m(\u001b[0m\u001b[0margs\u001b[0m\u001b[0;34m)\u001b[0m\u001b[0;34m\u001b[0m\u001b[0;34m\u001b[0m\u001b[0m\n\u001b[0m\u001b[1;32m   1323\u001b[0m     forward_backward = self._select_forward_and_backward_functions(\n\u001b[1;32m   1324\u001b[0m         \u001b[0margs\u001b[0m\u001b[0;34m,\u001b[0m\u001b[0;34m\u001b[0m\u001b[0;34m\u001b[0m\u001b[0m\n",
            "\u001b[0;32m/usr/local/lib/python3.10/dist-packages/tensorflow/python/eager/polymorphic_function/atomic_function.py\u001b[0m in \u001b[0;36mcall_preflattened\u001b[0;34m(self, args)\u001b[0m\n\u001b[1;32m    214\u001b[0m   \u001b[0;32mdef\u001b[0m \u001b[0mcall_preflattened\u001b[0m\u001b[0;34m(\u001b[0m\u001b[0mself\u001b[0m\u001b[0;34m,\u001b[0m \u001b[0margs\u001b[0m\u001b[0;34m:\u001b[0m \u001b[0mSequence\u001b[0m\u001b[0;34m[\u001b[0m\u001b[0mcore\u001b[0m\u001b[0;34m.\u001b[0m\u001b[0mTensor\u001b[0m\u001b[0;34m]\u001b[0m\u001b[0;34m)\u001b[0m \u001b[0;34m->\u001b[0m \u001b[0mAny\u001b[0m\u001b[0;34m:\u001b[0m\u001b[0;34m\u001b[0m\u001b[0;34m\u001b[0m\u001b[0m\n\u001b[1;32m    215\u001b[0m     \u001b[0;34m\"\"\"Calls with flattened tensor inputs and returns the structured output.\"\"\"\u001b[0m\u001b[0;34m\u001b[0m\u001b[0;34m\u001b[0m\u001b[0m\n\u001b[0;32m--> 216\u001b[0;31m     \u001b[0mflat_outputs\u001b[0m \u001b[0;34m=\u001b[0m \u001b[0mself\u001b[0m\u001b[0;34m.\u001b[0m\u001b[0mcall_flat\u001b[0m\u001b[0;34m(\u001b[0m\u001b[0;34m*\u001b[0m\u001b[0margs\u001b[0m\u001b[0;34m)\u001b[0m\u001b[0;34m\u001b[0m\u001b[0;34m\u001b[0m\u001b[0m\n\u001b[0m\u001b[1;32m    217\u001b[0m     \u001b[0;32mreturn\u001b[0m \u001b[0mself\u001b[0m\u001b[0;34m.\u001b[0m\u001b[0mfunction_type\u001b[0m\u001b[0;34m.\u001b[0m\u001b[0mpack_output\u001b[0m\u001b[0;34m(\u001b[0m\u001b[0mflat_outputs\u001b[0m\u001b[0;34m)\u001b[0m\u001b[0;34m\u001b[0m\u001b[0;34m\u001b[0m\u001b[0m\n\u001b[1;32m    218\u001b[0m \u001b[0;34m\u001b[0m\u001b[0m\n",
            "\u001b[0;32m/usr/local/lib/python3.10/dist-packages/tensorflow/python/eager/polymorphic_function/atomic_function.py\u001b[0m in \u001b[0;36mcall_flat\u001b[0;34m(self, *args)\u001b[0m\n\u001b[1;32m    249\u001b[0m         \u001b[0;32mwith\u001b[0m \u001b[0mrecord\u001b[0m\u001b[0;34m.\u001b[0m\u001b[0mstop_recording\u001b[0m\u001b[0;34m(\u001b[0m\u001b[0;34m)\u001b[0m\u001b[0;34m:\u001b[0m\u001b[0;34m\u001b[0m\u001b[0;34m\u001b[0m\u001b[0m\n\u001b[1;32m    250\u001b[0m           \u001b[0;32mif\u001b[0m \u001b[0mself\u001b[0m\u001b[0;34m.\u001b[0m\u001b[0m_bound_context\u001b[0m\u001b[0;34m.\u001b[0m\u001b[0mexecuting_eagerly\u001b[0m\u001b[0;34m(\u001b[0m\u001b[0;34m)\u001b[0m\u001b[0;34m:\u001b[0m\u001b[0;34m\u001b[0m\u001b[0;34m\u001b[0m\u001b[0m\n\u001b[0;32m--> 251\u001b[0;31m             outputs = self._bound_context.call_function(\n\u001b[0m\u001b[1;32m    252\u001b[0m                 \u001b[0mself\u001b[0m\u001b[0;34m.\u001b[0m\u001b[0mname\u001b[0m\u001b[0;34m,\u001b[0m\u001b[0;34m\u001b[0m\u001b[0;34m\u001b[0m\u001b[0m\n\u001b[1;32m    253\u001b[0m                 \u001b[0mlist\u001b[0m\u001b[0;34m(\u001b[0m\u001b[0margs\u001b[0m\u001b[0;34m)\u001b[0m\u001b[0;34m,\u001b[0m\u001b[0;34m\u001b[0m\u001b[0;34m\u001b[0m\u001b[0m\n",
            "\u001b[0;32m/usr/local/lib/python3.10/dist-packages/tensorflow/python/eager/context.py\u001b[0m in \u001b[0;36mcall_function\u001b[0;34m(self, name, tensor_inputs, num_outputs)\u001b[0m\n\u001b[1;32m   1681\u001b[0m     \u001b[0mcancellation_context\u001b[0m \u001b[0;34m=\u001b[0m \u001b[0mcancellation\u001b[0m\u001b[0;34m.\u001b[0m\u001b[0mcontext\u001b[0m\u001b[0;34m(\u001b[0m\u001b[0;34m)\u001b[0m\u001b[0;34m\u001b[0m\u001b[0;34m\u001b[0m\u001b[0m\n\u001b[1;32m   1682\u001b[0m     \u001b[0;32mif\u001b[0m \u001b[0mcancellation_context\u001b[0m \u001b[0;32mis\u001b[0m \u001b[0;32mNone\u001b[0m\u001b[0;34m:\u001b[0m\u001b[0;34m\u001b[0m\u001b[0;34m\u001b[0m\u001b[0m\n\u001b[0;32m-> 1683\u001b[0;31m       outputs = execute.execute(\n\u001b[0m\u001b[1;32m   1684\u001b[0m           \u001b[0mname\u001b[0m\u001b[0;34m.\u001b[0m\u001b[0mdecode\u001b[0m\u001b[0;34m(\u001b[0m\u001b[0;34m\"utf-8\"\u001b[0m\u001b[0;34m)\u001b[0m\u001b[0;34m,\u001b[0m\u001b[0;34m\u001b[0m\u001b[0;34m\u001b[0m\u001b[0m\n\u001b[1;32m   1685\u001b[0m           \u001b[0mnum_outputs\u001b[0m\u001b[0;34m=\u001b[0m\u001b[0mnum_outputs\u001b[0m\u001b[0;34m,\u001b[0m\u001b[0;34m\u001b[0m\u001b[0;34m\u001b[0m\u001b[0m\n",
            "\u001b[0;32m/usr/local/lib/python3.10/dist-packages/tensorflow/python/eager/execute.py\u001b[0m in \u001b[0;36mquick_execute\u001b[0;34m(op_name, num_outputs, inputs, attrs, ctx, name)\u001b[0m\n\u001b[1;32m     51\u001b[0m   \u001b[0;32mtry\u001b[0m\u001b[0;34m:\u001b[0m\u001b[0;34m\u001b[0m\u001b[0;34m\u001b[0m\u001b[0m\n\u001b[1;32m     52\u001b[0m     \u001b[0mctx\u001b[0m\u001b[0;34m.\u001b[0m\u001b[0mensure_initialized\u001b[0m\u001b[0;34m(\u001b[0m\u001b[0;34m)\u001b[0m\u001b[0;34m\u001b[0m\u001b[0;34m\u001b[0m\u001b[0m\n\u001b[0;32m---> 53\u001b[0;31m     tensors = pywrap_tfe.TFE_Py_Execute(ctx._handle, device_name, op_name,\n\u001b[0m\u001b[1;32m     54\u001b[0m                                         inputs, attrs, num_outputs)\n\u001b[1;32m     55\u001b[0m   \u001b[0;32mexcept\u001b[0m \u001b[0mcore\u001b[0m\u001b[0;34m.\u001b[0m\u001b[0m_NotOkStatusException\u001b[0m \u001b[0;32mas\u001b[0m \u001b[0me\u001b[0m\u001b[0;34m:\u001b[0m\u001b[0;34m\u001b[0m\u001b[0;34m\u001b[0m\u001b[0m\n",
            "\u001b[0;31mKeyboardInterrupt\u001b[0m: "
          ]
        }
      ],
      "source": [
        "# Define the checkpoint callback\n",
        "checkpoint = ModelCheckpoint(\n",
        "    filepath=google_drive_path + 'lstm_model_epoch_{epoch:02d}.keras',  # Saves model for each epoch\n",
        "    save_best_only=False,  # Save model at every epoch\n",
        "    save_weights_only=False,  # Save full model (architecture + weights)\n",
        "    verbose=1\n",
        ")\n",
        "\n",
        "# Train the model with checkpoint callback\n",
        "lstm_model.fit(\n",
        "    train_gen,\n",
        "    steps_per_epoch=40000,\n",
        "    epochs=200,\n",
        "    callbacks=[checkpoint, early_stopping],  # Include checkpoint callback\n",
        "    verbose=2\n",
        ")\n",
        "\n",
        "print(\"Training complete!\")\n"
      ]
    },
    {
      "cell_type": "code",
      "execution_count": null,
      "metadata": {
        "id": "CUJYixrWDFjT"
      },
      "outputs": [],
      "source": [
        "lstm_model.save(google_drive_path + 'lstm_model4_2.keras')"
      ]
    },
    {
      "cell_type": "code",
      "execution_count": 174,
      "metadata": {
        "id": "FRUfLr_XokWF"
      },
      "outputs": [],
      "source": [
        "aapl_data = stock_data_tidy[stock_data_tidy.ticker == \"AAPL\"]\n",
        "\n",
        "X = aapl_data[numerical_columns].values\n",
        "y = aapl_data['close_adjusted'].values\n",
        "\n",
        "sequence_length = 60  # Assume sequence length\n",
        "num_features = X.shape[1]\n",
        "\n",
        "X_sequences = []\n",
        "y_sequences = []\n",
        "\n",
        "for i in range(sequence_length, len(X)):\n",
        "    X_sequences.append(X[i-sequence_length:i])\n",
        "    y_sequences.append(y[i])\n",
        "\n",
        "X_sequences = np.array(X_sequences)\n",
        "y_sequences = np.array(y_sequences)"
      ]
    },
    {
      "cell_type": "code",
      "execution_count": 175,
      "metadata": {
        "colab": {
          "base_uri": "https://localhost:8080/"
        },
        "id": "x18WOS9XTEkU",
        "outputId": "77f6edac-c1ec-4034-ca41-f68f595a0bf3"
      },
      "outputs": [
        {
          "output_type": "stream",
          "name": "stdout",
          "text": [
            "\u001b[1m177/177\u001b[0m \u001b[32m━━━━━━━━━━━━━━━━━━━━\u001b[0m\u001b[37m\u001b[0m \u001b[1m1s\u001b[0m 5ms/step\n"
          ]
        }
      ],
      "source": [
        "y_pred = simple_lstm_model.predict(X_sequences)"
      ]
    },
    {
      "cell_type": "code",
      "execution_count": 98,
      "metadata": {
        "id": "5RqLJHK0EQ6L"
      },
      "outputs": [],
      "source": [
        "y_sequence_rescaled = inverse_transform_predictions(y_sequences, aapl_data.ticker_encoded.unique()[0])\n",
        "y_pred_rescaled = inverse_transform_predictions(y_pred, aapl_data.ticker_encoded.unique()[0])"
      ]
    },
    {
      "cell_type": "code",
      "execution_count": 99,
      "metadata": {
        "colab": {
          "base_uri": "https://localhost:8080/",
          "height": 585
        },
        "id": "i1nMMe1Vo8Ve",
        "outputId": "837bc158-8dbb-40f8-c1da-91dcd9d97669"
      },
      "outputs": [
        {
          "output_type": "display_data",
          "data": {
            "text/plain": [
              "<Figure size 1200x600 with 1 Axes>"
            ],
            "image/png": "[encoded data removed]"
          },
          "metadata": {}
        }
      ],
      "source": [
        "plt.figure(figsize=(12, 6))\n",
        "\n",
        "# Slice the date column to match the predictions\n",
        "dates = aapl_data['date'].iloc[sequence_length:].reset_index(drop=True)\n",
        "\n",
        "#y_pred_smoothed = pd.Series(y_pred_rescaled).rolling(window=10).mean()\n",
        "\n",
        "plt.plot(dates, y_sequence_rescaled, label='Actual Prices', alpha=0.8)\n",
        "plt.plot(dates, y_pred_rescaled, label='Predicted Prices', alpha=0.8)\n",
        "\n",
        "plt.title('Actual vs Predicted Prices for AAPL')\n",
        "plt.xlabel('Date')\n",
        "plt.ylabel('Stock Price')\n",
        "plt.legend()\n",
        "plt.grid()\n",
        "plt.xticks(rotation=45)  # Rotate x-axis labels for better readability\n",
        "plt.show()\n"
      ]
    },
    {
      "cell_type": "markdown",
      "metadata": {
        "id": "lEw1w1D2ojzO"
      },
      "source": [
        "The model seems to be overfitting the data or maybe failing to generalize it properly. Let's try making a simpler model, to see the bevaiour."
      ]
    },
    {
      "cell_type": "markdown",
      "metadata": {
        "id": "myqyK76Aou97"
      },
      "source": [
        "We will decrease the number of LSTM units and increate the dropout"
      ]
    },
    {
      "cell_type": "code",
      "execution_count": 111,
      "metadata": {
        "id": "6NXhsUExpqFJ"
      },
      "outputs": [],
      "source": [
        "from tensorflow.keras.losses import Huber\n",
        "\n",
        "def create_simpler_lstm_model(sequence_length, num_features, lstm_units_1=50, lstm_units_2=25, dropout_rate=0.2):\n",
        "    \"\"\"\n",
        "    Optimized LSTM model for stock price prediction with Additive Attention.\n",
        "    \"\"\"\n",
        "    numerical_input = Input(shape=(sequence_length, num_features), name=\"numerical_input\")\n",
        "\n",
        "    first_lstm_layer = LSTM(lstm_units_1, return_sequences=True, name=\"lstm_layer_1\", dropout=dropout_rate)(numerical_input)\n",
        "    normalized_1 = BatchNormalization()(first_lstm_layer)\n",
        "\n",
        "    second_lstm_layer = LSTM(lstm_units_2, return_sequences=True, name=\"lstm_layer_2\", dropout=dropout_rate)(normalized_1)\n",
        "    normalized_2 = BatchNormalization()(second_lstm_layer)\n",
        "\n",
        "    # Attention mechanism\n",
        "    #attention = AdditiveAttention(name=\"attention_layer\")([normalized_2, normalized_2])\n",
        "    #attended = Multiply()([second_lstm_layer, attention])\n",
        "\n",
        "    flat = Flatten()(normalized_2)\n",
        "\n",
        "    output = Dense(32, activation='relu', name=\"dense_2\")(flat)\n",
        "\n",
        "    output = Dense(1, activation='linear', name=\"output\")(output)\n",
        "\n",
        "    model = Model(inputs=numerical_input, outputs=output, name=\"Optimized_LSTM_Model_with_Attention\")\n",
        "    model.compile(optimizer='adam', loss=Huber(delta=1.0), metrics=['mae'])\n",
        "\n",
        "    return model"
      ]
    },
    {
      "cell_type": "code",
      "execution_count": 112,
      "metadata": {
        "id": "fZop7xzwpAQH"
      },
      "outputs": [],
      "source": [
        "simple_lstm_model = create_simpler_lstm_model(\n",
        "    sequence_length=60,\n",
        "    num_features=len(numerical_columns))"
      ]
    },
    {
      "cell_type": "code",
      "execution_count": 113,
      "metadata": {
        "colab": {
          "base_uri": "https://localhost:8080/",
          "height": 426
        },
        "id": "a_eMtXGaqDA5",
        "outputId": "c704096d-395c-4393-9fe9-894c8e671ea7"
      },
      "outputs": [
        {
          "output_type": "display_data",
          "data": {
            "text/plain": [
              "\u001b[1mModel: \"Optimized_LSTM_Model_with_Attention\"\u001b[0m\n"
            ],
            "text/html": [
              "<pre style=\"white-space:pre;overflow-x:auto;line-height:normal;font-family:Menlo,'DejaVu Sans Mono',consolas,'Courier New',monospace\"><span style=\"font-weight: bold\">Model: \"Optimized_LSTM_Model_with_Attention\"</span>\n",
              "</pre>\n"
            ]
          },
          "metadata": {}
        },
        {
          "output_type": "display_data",
          "data": {
            "text/plain": [
              "┏━━━━━━━━━━━━━━━━━━━━━━━━━━━━━━━━━━━━━━┳━━━━━━━━━━━━━━━━━━━━━━━━━━━━━┳━━━━━━━━━━━━━━━━━┓\n",
              "┃\u001b[1m \u001b[0m\u001b[1mLayer (type)                        \u001b[0m\u001b[1m \u001b[0m┃\u001b[1m \u001b[0m\u001b[1mOutput Shape               \u001b[0m\u001b[1m \u001b[0m┃\u001b[1m \u001b[0m\u001b[1m        Param #\u001b[0m\u001b[1m \u001b[0m┃\n",
              "┡━━━━━━━━━━━━━━━━━━━━━━━━━━━━━━━━━━━━━━╇━━━━━━━━━━━━━━━━━━━━━━━━━━━━━╇━━━━━━━━━━━━━━━━━┩\n",
              "│ numerical_input (\u001b[38;5;33mInputLayer\u001b[0m)         │ (\u001b[38;5;45mNone\u001b[0m, \u001b[38;5;34m60\u001b[0m, \u001b[38;5;34m12\u001b[0m)              │               \u001b[38;5;34m0\u001b[0m │\n",
              "├──────────────────────────────────────┼─────────────────────────────┼─────────────────┤\n",
              "│ lstm_layer_1 (\u001b[38;5;33mLSTM\u001b[0m)                  │ (\u001b[38;5;45mNone\u001b[0m, \u001b[38;5;34m60\u001b[0m, \u001b[38;5;34m50\u001b[0m)              │          \u001b[38;5;34m12,600\u001b[0m │\n",
              "├──────────────────────────────────────┼─────────────────────────────┼─────────────────┤\n",
              "│ batch_normalization_8                │ (\u001b[38;5;45mNone\u001b[0m, \u001b[38;5;34m60\u001b[0m, \u001b[38;5;34m50\u001b[0m)              │             \u001b[38;5;34m200\u001b[0m │\n",
              "│ (\u001b[38;5;33mBatchNormalization\u001b[0m)                 │                             │                 │\n",
              "├──────────────────────────────────────┼─────────────────────────────┼─────────────────┤\n",
              "│ lstm_layer_2 (\u001b[38;5;33mLSTM\u001b[0m)                  │ (\u001b[38;5;45mNone\u001b[0m, \u001b[38;5;34m60\u001b[0m, \u001b[38;5;34m25\u001b[0m)              │           \u001b[38;5;34m7,600\u001b[0m │\n",
              "├──────────────────────────────────────┼─────────────────────────────┼─────────────────┤\n",
              "│ batch_normalization_9                │ (\u001b[38;5;45mNone\u001b[0m, \u001b[38;5;34m60\u001b[0m, \u001b[38;5;34m25\u001b[0m)              │             \u001b[38;5;34m100\u001b[0m │\n",
              "│ (\u001b[38;5;33mBatchNormalization\u001b[0m)                 │                             │                 │\n",
              "├──────────────────────────────────────┼─────────────────────────────┼─────────────────┤\n",
              "│ flatten_2 (\u001b[38;5;33mFlatten\u001b[0m)                  │ (\u001b[38;5;45mNone\u001b[0m, \u001b[38;5;34m1500\u001b[0m)                │               \u001b[38;5;34m0\u001b[0m │\n",
              "├──────────────────────────────────────┼─────────────────────────────┼─────────────────┤\n",
              "│ dense_2 (\u001b[38;5;33mDense\u001b[0m)                      │ (\u001b[38;5;45mNone\u001b[0m, \u001b[38;5;34m32\u001b[0m)                  │          \u001b[38;5;34m48,032\u001b[0m │\n",
              "├──────────────────────────────────────┼─────────────────────────────┼─────────────────┤\n",
              "│ output (\u001b[38;5;33mDense\u001b[0m)                       │ (\u001b[38;5;45mNone\u001b[0m, \u001b[38;5;34m1\u001b[0m)                   │              \u001b[38;5;34m33\u001b[0m │\n",
              "└──────────────────────────────────────┴─────────────────────────────┴─────────────────┘\n"
            ],
            "text/html": [
              "<pre style=\"white-space:pre;overflow-x:auto;line-height:normal;font-family:Menlo,'DejaVu Sans Mono',consolas,'Courier New',monospace\">┏━━━━━━━━━━━━━━━━━━━━━━━━━━━━━━━━━━━━━━┳━━━━━━━━━━━━━━━━━━━━━━━━━━━━━┳━━━━━━━━━━━━━━━━━┓\n",
              "┃<span style=\"font-weight: bold\"> Layer (type)                         </span>┃<span style=\"font-weight: bold\"> Output Shape                </span>┃<span style=\"font-weight: bold\">         Param # </span>┃\n",
              "┡━━━━━━━━━━━━━━━━━━━━━━━━━━━━━━━━━━━━━━╇━━━━━━━━━━━━━━━━━━━━━━━━━━━━━╇━━━━━━━━━━━━━━━━━┩\n",
              "│ numerical_input (<span style=\"color: #0087ff; text-decoration-color: #0087ff\">InputLayer</span>)         │ (<span style=\"color: #00d7ff; text-decoration-color: #00d7ff\">None</span>, <span style=\"color: #00af00; text-decoration-color: #00af00\">60</span>, <span style=\"color: #00af00; text-decoration-color: #00af00\">12</span>)              │               <span style=\"color: #00af00; text-decoration-color: #00af00\">0</span> │\n",
              "├──────────────────────────────────────┼─────────────────────────────┼─────────────────┤\n",
              "│ lstm_layer_1 (<span style=\"color: #0087ff; text-decoration-color: #0087ff\">LSTM</span>)                  │ (<span style=\"color: #00d7ff; text-decoration-color: #00d7ff\">None</span>, <span style=\"color: #00af00; text-decoration-color: #00af00\">60</span>, <span style=\"color: #00af00; text-decoration-color: #00af00\">50</span>)              │          <span style=\"color: #00af00; text-decoration-color: #00af00\">12,600</span> │\n",
              "├──────────────────────────────────────┼─────────────────────────────┼─────────────────┤\n",
              "│ batch_normalization_8                │ (<span style=\"color: #00d7ff; text-decoration-color: #00d7ff\">None</span>, <span style=\"color: #00af00; text-decoration-color: #00af00\">60</span>, <span style=\"color: #00af00; text-decoration-color: #00af00\">50</span>)              │             <span style=\"color: #00af00; text-decoration-color: #00af00\">200</span> │\n",
              "│ (<span style=\"color: #0087ff; text-decoration-color: #0087ff\">BatchNormalization</span>)                 │                             │                 │\n",
              "├──────────────────────────────────────┼─────────────────────────────┼─────────────────┤\n",
              "│ lstm_layer_2 (<span style=\"color: #0087ff; text-decoration-color: #0087ff\">LSTM</span>)                  │ (<span style=\"color: #00d7ff; text-decoration-color: #00d7ff\">None</span>, <span style=\"color: #00af00; text-decoration-color: #00af00\">60</span>, <span style=\"color: #00af00; text-decoration-color: #00af00\">25</span>)              │           <span style=\"color: #00af00; text-decoration-color: #00af00\">7,600</span> │\n",
              "├──────────────────────────────────────┼─────────────────────────────┼─────────────────┤\n",
              "│ batch_normalization_9                │ (<span style=\"color: #00d7ff; text-decoration-color: #00d7ff\">None</span>, <span style=\"color: #00af00; text-decoration-color: #00af00\">60</span>, <span style=\"color: #00af00; text-decoration-color: #00af00\">25</span>)              │             <span style=\"color: #00af00; text-decoration-color: #00af00\">100</span> │\n",
              "│ (<span style=\"color: #0087ff; text-decoration-color: #0087ff\">BatchNormalization</span>)                 │                             │                 │\n",
              "├──────────────────────────────────────┼─────────────────────────────┼─────────────────┤\n",
              "│ flatten_2 (<span style=\"color: #0087ff; text-decoration-color: #0087ff\">Flatten</span>)                  │ (<span style=\"color: #00d7ff; text-decoration-color: #00d7ff\">None</span>, <span style=\"color: #00af00; text-decoration-color: #00af00\">1500</span>)                │               <span style=\"color: #00af00; text-decoration-color: #00af00\">0</span> │\n",
              "├──────────────────────────────────────┼─────────────────────────────┼─────────────────┤\n",
              "│ dense_2 (<span style=\"color: #0087ff; text-decoration-color: #0087ff\">Dense</span>)                      │ (<span style=\"color: #00d7ff; text-decoration-color: #00d7ff\">None</span>, <span style=\"color: #00af00; text-decoration-color: #00af00\">32</span>)                  │          <span style=\"color: #00af00; text-decoration-color: #00af00\">48,032</span> │\n",
              "├──────────────────────────────────────┼─────────────────────────────┼─────────────────┤\n",
              "│ output (<span style=\"color: #0087ff; text-decoration-color: #0087ff\">Dense</span>)                       │ (<span style=\"color: #00d7ff; text-decoration-color: #00d7ff\">None</span>, <span style=\"color: #00af00; text-decoration-color: #00af00\">1</span>)                   │              <span style=\"color: #00af00; text-decoration-color: #00af00\">33</span> │\n",
              "└──────────────────────────────────────┴─────────────────────────────┴─────────────────┘\n",
              "</pre>\n"
            ]
          },
          "metadata": {}
        },
        {
          "output_type": "display_data",
          "data": {
            "text/plain": [
              "\u001b[1m Total params: \u001b[0m\u001b[38;5;34m68,565\u001b[0m (267.83 KB)\n"
            ],
            "text/html": [
              "<pre style=\"white-space:pre;overflow-x:auto;line-height:normal;font-family:Menlo,'DejaVu Sans Mono',consolas,'Courier New',monospace\"><span style=\"font-weight: bold\"> Total params: </span><span style=\"color: #00af00; text-decoration-color: #00af00\">68,565</span> (267.83 KB)\n",
              "</pre>\n"
            ]
          },
          "metadata": {}
        },
        {
          "output_type": "display_data",
          "data": {
            "text/plain": [
              "\u001b[1m Trainable params: \u001b[0m\u001b[38;5;34m68,415\u001b[0m (267.25 KB)\n"
            ],
            "text/html": [
              "<pre style=\"white-space:pre;overflow-x:auto;line-height:normal;font-family:Menlo,'DejaVu Sans Mono',consolas,'Courier New',monospace\"><span style=\"font-weight: bold\"> Trainable params: </span><span style=\"color: #00af00; text-decoration-color: #00af00\">68,415</span> (267.25 KB)\n",
              "</pre>\n"
            ]
          },
          "metadata": {}
        },
        {
          "output_type": "display_data",
          "data": {
            "text/plain": [
              "\u001b[1m Non-trainable params: \u001b[0m\u001b[38;5;34m150\u001b[0m (600.00 B)\n"
            ],
            "text/html": [
              "<pre style=\"white-space:pre;overflow-x:auto;line-height:normal;font-family:Menlo,'DejaVu Sans Mono',consolas,'Courier New',monospace\"><span style=\"font-weight: bold\"> Non-trainable params: </span><span style=\"color: #00af00; text-decoration-color: #00af00\">150</span> (600.00 B)\n",
              "</pre>\n"
            ]
          },
          "metadata": {}
        }
      ],
      "source": [
        "simple_lstm_model.summary()"
      ]
    },
    {
      "cell_type": "code",
      "source": [
        "from sklearn.model_selection import train_test_split\n",
        "\n",
        "# Split tickers into train and test\n",
        "train_tickers, test_tickers = train_test_split(tickers, test_size=0.05, random_state=42)\n",
        "\n",
        "print(f\"Train tickers: {len(train_tickers)}\")\n",
        "print(f\"Test tickers: {len(test_tickers)}\")\n"
      ],
      "metadata": {
        "colab": {
          "base_uri": "https://localhost:8080/"
        },
        "id": "s7O_ASTejQZn",
        "outputId": "43e95ab8-ece5-48eb-a817-83ec72b25c20"
      },
      "execution_count": 46,
      "outputs": [
        {
          "output_type": "stream",
          "name": "stdout",
          "text": [
            "Train tickers: 7261\n",
            "Test tickers: 383\n"
          ]
        }
      ]
    },
    {
      "cell_type": "code",
      "source": [
        "sequence_length = 30  # Must match LSTM model input expectations\n",
        "\n",
        "def data_generator(tickers, processed_data_path, batch_size=32):\n",
        "    \"\"\"Generates batches dynamically from .npy files.\"\"\"\n",
        "    feature_cols = [\n",
        "        'RSI', '5_day_MA', '10_day_MA', '20_day_MA',\n",
        "        '50_day_MA', '100_day_MA', '200_day_MA',\n",
        "        'MACD', 'Signal_Line'\n",
        "    ]\n",
        "\n",
        "    while True:\n",
        "        for ticker in tickers:\n",
        "            # Load data for the ticker\n",
        "            x_path = os.path.join(processed_data_path, f\"x_ticker_{ticker}.npy\")\n",
        "            y_path = os.path.join(processed_data_path, f\"y_ticker_{ticker}.npy\")\n",
        "\n",
        "            if not os.path.exists(x_path) or not os.path.exists(y_path):\n",
        "                print(f\"Skipping {ticker}: Missing files.\\n\")\n",
        "                continue\n",
        "\n",
        "            x_data = np.load(x_path)\n",
        "            y_data = np.load(y_path)\n",
        "\n",
        "            # Ensure we have full batches\n",
        "            steps_per_epoch = len(x_data) // batch_size\n",
        "            x_data = x_data[:steps_per_epoch * batch_size]\n",
        "            y_data = y_data[:steps_per_epoch * batch_size]\n",
        "\n",
        "            # Yield sequences\n",
        "            for i in range(steps_per_epoch):\n",
        "                x_batch = x_data[i * batch_size: (i + 1) * batch_size]\n",
        "                y_batch = y_data[i * batch_size: (i + 1) * batch_size]\n",
        "\n",
        "                yield np.array(x_batch, dtype=np.float32), np.array(y_batch, dtype=np.float32)\n"
      ],
      "metadata": {
        "id": "m3VGlwHRmjT-"
      },
      "execution_count": 47,
      "outputs": []
    },
    {
      "cell_type": "code",
      "source": [
        "tickers = stock_data_tidy['ticker_encoded'].unique()\n",
        "\n",
        "# Split tickers into train and test\n",
        "train_tickers, test_tickers = train_test_split(tickers, test_size=0.2, random_state=42)\n",
        "\n",
        "# Create train and test datasets based on the ticker split\n",
        "train_data = stock_data_tidy[stock_data_tidy['ticker_encoded'].isin(train_tickers)]\n",
        "test_data = stock_data_tidy[stock_data_tidy['ticker_encoded'].isin(test_tickers)]\n",
        "\n",
        "# Define batch size\n",
        "batch_size = 32\n",
        "\n",
        "# Compute steps based on stock_data_tidy (NOT from files)\n",
        "train_steps = len(train_data) // batch_size\n",
        "test_steps = len(test_data) // batch_size\n"
      ],
      "metadata": {
        "id": "bpyzR9humoWg"
      },
      "execution_count": 48,
      "outputs": []
    },
    {
      "cell_type": "code",
      "source": [
        "train_tickers.sort()\n",
        "test_tickers.sort()\n",
        "train_gen = data_generator(train_tickers, processed_data_path, batch_size=batch_size)\n",
        "test_gen = data_generator(test_tickers, processed_data_path, batch_size=batch_size)"
      ],
      "metadata": {
        "id": "Qm2ZgGn8pzvT"
      },
      "execution_count": 49,
      "outputs": []
    },
    {
      "cell_type": "code",
      "execution_count": 50,
      "metadata": {
        "colab": {
          "base_uri": "https://localhost:8080/",
          "height": 1000
        },
        "id": "BrNCFCCpqXHI",
        "outputId": "89869e09-54a9-4133-9dc6-bdfce400b32d"
      },
      "outputs": [
        {
          "output_type": "stream",
          "name": "stdout",
          "text": [
            "Epoch 1/50\n",
            "\u001b[1m   314/191183\u001b[0m \u001b[37m━━━━━━━━━━━━━━━━━━━━\u001b[0m \u001b[1m1:11:12\u001b[0m 22ms/step - loss: 0.0425 - mae: 0.1944Skipping 6: Missing files.\n",
            "\n",
            "\u001b[1m 12293/191183\u001b[0m \u001b[32m━\u001b[0m\u001b[37m━━━━━━━━━━━━━━━━━━━\u001b[0m \u001b[1m37:15\u001b[0m 12ms/step - loss: 0.0133 - mae: 0.1141Skipping 162: Missing files.\n",
            "\n",
            "\u001b[1m 28352/191183\u001b[0m \u001b[32m━━\u001b[0m\u001b[37m━━━━━━━━━━━━━━━━━━\u001b[0m \u001b[1m35:34\u001b[0m 13ms/step - loss: 0.0092 - mae: 0.0919Skipping 409: Missing files.\n",
            "\n",
            "\u001b[1m 43863/191183\u001b[0m \u001b[32m━━━━\u001b[0m\u001b[37m━━━━━━━━━━━━━━━━\u001b[0m \u001b[1m30:53\u001b[0m 13ms/step - loss: 0.0075 - mae: 0.0808Skipping 628: Missing files.\n",
            "\n",
            "\u001b[1m 62364/191183\u001b[0m \u001b[32m━━━━━━\u001b[0m\u001b[37m━━━━━━━━━━━━━━\u001b[0m \u001b[1m26:04\u001b[0m 12ms/step - loss: 0.0062 - mae: 0.0724Skipping 851: Missing files.\n",
            "\n",
            "\u001b[1m 66115/191183\u001b[0m \u001b[32m━━━━━━\u001b[0m\u001b[37m━━━━━━━━━━━━━━\u001b[0m \u001b[1m25:05\u001b[0m 12ms/step - loss: 0.0061 - mae: 0.0710Skipping 896: Missing files.\n",
            "\n",
            "\u001b[1m 66935/191183\u001b[0m \u001b[32m━━━━━━━\u001b[0m\u001b[37m━━━━━━━━━━━━━\u001b[0m \u001b[1m24:50\u001b[0m 12ms/step - loss: 0.0060 - mae: 0.0707Skipping 903: Missing files.\n",
            "\n",
            "\u001b[1m 71854/191183\u001b[0m \u001b[32m━━━━━━━\u001b[0m\u001b[37m━━━━━━━━━━━━━\u001b[0m \u001b[1m23:52\u001b[0m 12ms/step - loss: 0.0058 - mae: 0.0692Skipping 964: Missing files.\n",
            "\n",
            "\u001b[1m 74455/191183\u001b[0m \u001b[32m━━━━━━━\u001b[0m\u001b[37m━━━━━━━━━━━━━\u001b[0m \u001b[1m23:29\u001b[0m 12ms/step - loss: 0.0057 - mae: 0.0684Skipping 1006: Missing files.\n",
            "\n",
            "Skipping 1007: Missing files.\n",
            "\n",
            "\u001b[1m103465/191183\u001b[0m \u001b[32m━━━━━━━━━━\u001b[0m\u001b[37m━━━━━━━━━━\u001b[0m \u001b[1m17:36\u001b[0m 12ms/step - loss: 0.0048 - mae: 0.0614Skipping 1434: Missing files.\n",
            "\n",
            "\u001b[1m110010/191183\u001b[0m \u001b[32m━━━━━━━━━━━\u001b[0m\u001b[37m━━━━━━━━━\u001b[0m \u001b[1m16:17\u001b[0m 12ms/step - loss: 0.0046 - mae: 0.0601Skipping 1522: Missing files.\n",
            "\n",
            "\u001b[1m127693/191183\u001b[0m \u001b[32m━━━━━━━━━━━━━\u001b[0m\u001b[37m━━━━━━━\u001b[0m \u001b[1m12:43\u001b[0m 12ms/step - loss: 0.0043 - mae: 0.0572Skipping 1764: Missing files.\n",
            "\n",
            "\u001b[1m129311/191183\u001b[0m \u001b[32m━━━━━━━━━━━━━\u001b[0m\u001b[37m━━━━━━━\u001b[0m \u001b[1m12:24\u001b[0m 12ms/step - loss: 0.0042 - mae: 0.0570Skipping 1792: Missing files.\n",
            "\n",
            "\u001b[1m139258/191183\u001b[0m \u001b[32m━━━━━━━━━━━━━━\u001b[0m\u001b[37m━━━━━━\u001b[0m \u001b[1m10:20\u001b[0m 12ms/step - loss: 0.0041 - mae: 0.0556Skipping 1911: Missing files.\n",
            "\n",
            "\u001b[1m140520/191183\u001b[0m \u001b[32m━━━━━━━━━━━━━━\u001b[0m\u001b[37m━━━━━━\u001b[0m \u001b[1m10:03\u001b[0m 12ms/step - loss: 0.0041 - mae: 0.0554Skipping 1930: Missing files.\n",
            "\n",
            "\u001b[1m157232/191183\u001b[0m \u001b[32m━━━━━━━━━━━━━━━━\u001b[0m\u001b[37m━━━━\u001b[0m \u001b[1m6:46\u001b[0m 12ms/step - loss: 0.0038 - mae: 0.0534Skipping 2153: Missing files.\n",
            "\n",
            "\u001b[1m158382/191183\u001b[0m \u001b[32m━━━━━━━━━━━━━━━━\u001b[0m\u001b[37m━━━━\u001b[0m \u001b[1m6:33\u001b[0m 12ms/step - loss: 0.0038 - mae: 0.0533Skipping 2170: Missing files.\n",
            "\n",
            "\u001b[1m158971/191183\u001b[0m \u001b[32m━━━━━━━━━━━━━━━━\u001b[0m\u001b[37m━━━━\u001b[0m \u001b[1m6:26\u001b[0m 12ms/step - loss: 0.0038 - mae: 0.0532Skipping 2181: Missing files.\n",
            "\n",
            "\u001b[1m160016/191183\u001b[0m \u001b[32m━━━━━━━━━━━━━━━━\u001b[0m\u001b[37m━━━━\u001b[0m \u001b[1m6:14\u001b[0m 12ms/step - loss: 0.0038 - mae: 0.0531Skipping 2203: Missing files.\n",
            "\n",
            "\u001b[1m160063/191183\u001b[0m \u001b[32m━━━━━━━━━━━━━━━━\u001b[0m\u001b[37m━━━━\u001b[0m \u001b[1m6:14\u001b[0m 12ms/step - loss: 0.0038 - mae: 0.0531Skipping 2209: Missing files.\n",
            "\n",
            "\u001b[1m173949/191183\u001b[0m \u001b[32m━━━━━━━━━━━━━━━━━━\u001b[0m\u001b[37m━━\u001b[0m \u001b[1m3:25\u001b[0m 12ms/step - loss: 0.0036 - mae: 0.0517Skipping 2369: Missing files.\n",
            "\n",
            "\u001b[1m177743/191183\u001b[0m \u001b[32m━━━━━━━━━━━━━━━━━━\u001b[0m\u001b[37m━━\u001b[0m \u001b[1m2:39\u001b[0m 12ms/step - loss: 0.0036 - mae: 0.0513Skipping 2421: Missing files.\n",
            "\n",
            "\u001b[1m186408/191183\u001b[0m \u001b[32m━━━━━━━━━━━━━━━━━━━\u001b[0m\u001b[37m━\u001b[0m \u001b[1m56s\u001b[0m 12ms/step - loss: 0.0035 - mae: 0.0505Skipping 2533: Missing files.\n",
            "\n",
            "\u001b[1m191180/191183\u001b[0m \u001b[32m━━━━━━━━━━━━━━━━━━━\u001b[0m\u001b[37m━\u001b[0m \u001b[1m0s\u001b[0m 12ms/step - loss: 0.0034 - mae: 0.0501Skipping 58: Missing files.\n",
            "\n",
            "Skipping 87: Missing files.\n",
            "\n",
            "Skipping 318: Missing files.\n",
            "\n",
            "Skipping 321: Missing files.\n",
            "\n",
            "Skipping 742: Missing files.\n",
            "\n",
            "Skipping 1009: Missing files.\n",
            "\n",
            "Skipping 1721: Missing files.\n",
            "\n",
            "Skipping 1858: Missing files.\n",
            "\n",
            "Skipping 2199: Missing files.\n",
            "\n",
            "\n",
            "Epoch 1: saving model to drive/MyDrive/DL_Pickles/simple_lstm_model_epoch_4_2_01.keras\n",
            "\u001b[1m191183/191183\u001b[0m \u001b[32m━━━━━━━━━━━━━━━━━━━━\u001b[0m\u001b[37m\u001b[0m \u001b[1m2833s\u001b[0m 15ms/step - loss: 0.0034 - mae: 0.0501 - val_loss: 0.0352 - val_mae: 0.1961\n",
            "Epoch 2/50\n",
            "\u001b[1m  7024/191183\u001b[0m \u001b[37m━━━━━━━━━━━━━━━━━━━━\u001b[0m \u001b[1m30:15\u001b[0m 10ms/step - loss: 7.8798e-04 - mae: 0.0244Skipping 2696: Missing files.\n",
            "\n",
            "\u001b[1m  9373/191183\u001b[0m \u001b[37m━━━━━━━━━━━━━━━━━━━━\u001b[0m \u001b[1m31:09\u001b[0m 10ms/step - loss: 7.6841e-04 - mae: 0.0242Skipping 2723: Missing files.\n",
            "\n",
            "\u001b[1m 13402/191183\u001b[0m \u001b[32m━\u001b[0m\u001b[37m━━━━━━━━━━━━━━━━━━━\u001b[0m \u001b[1m32:28\u001b[0m 11ms/step - loss: 7.6011e-04 - mae: 0.0241Skipping 2774: Missing files.\n",
            "\n",
            "\u001b[1m 14444/191183\u001b[0m \u001b[32m━\u001b[0m\u001b[37m━━━━━━━━━━━━━━━━━━━\u001b[0m \u001b[1m32:56\u001b[0m 11ms/step - loss: 7.5742e-04 - mae: 0.0240Skipping 2789: Missing files.\n",
            "\n",
            "\u001b[1m 32179/191183\u001b[0m \u001b[32m━━━\u001b[0m\u001b[37m━━━━━━━━━━━━━━━━━\u001b[0m \u001b[1m31:03\u001b[0m 12ms/step - loss: 7.5500e-04 - mae: 0.0240Skipping 3065: Missing files.\n",
            "\n",
            "\u001b[1m 35124/191183\u001b[0m \u001b[32m━━━\u001b[0m\u001b[37m━━━━━━━━━━━━━━━━━\u001b[0m \u001b[1m30:46\u001b[0m 12ms/step - loss: 7.5531e-04 - mae: 0.0240Skipping 3115: Missing files.\n",
            "\n",
            "\u001b[1m 36016/191183\u001b[0m \u001b[32m━━━\u001b[0m\u001b[37m━━━━━━━━━━━━━━━━━\u001b[0m \u001b[1m30:43\u001b[0m 12ms/step - loss: 7.5527e-04 - mae: 0.0240Skipping 3133: Missing files.\n",
            "\n",
            "\u001b[1m 42813/191183\u001b[0m \u001b[32m━━━━\u001b[0m\u001b[37m━━━━━━━━━━━━━━━━\u001b[0m \u001b[1m30:11\u001b[0m 12ms/step - loss: 7.5677e-04 - mae: 0.0240Skipping 3249: Missing files.\n",
            "\n",
            "\u001b[1m 44631/191183\u001b[0m \u001b[32m━━━━\u001b[0m\u001b[37m━━━━━━━━━━━━━━━━\u001b[0m \u001b[1m29:51\u001b[0m 12ms/step - loss: 7.5789e-04 - mae: 0.0240Skipping 3276: Missing files.\n",
            "\n",
            "\u001b[1m 51731/191183\u001b[0m \u001b[32m━━━━━\u001b[0m\u001b[37m━━━━━━━━━━━━━━━\u001b[0m \u001b[1m28:11\u001b[0m 12ms/step - loss: 7.6246e-04 - mae: 0.0240Skipping 3365: Missing files.\n",
            "\n",
            "\u001b[1m 55313/191183\u001b[0m \u001b[32m━━━━━\u001b[0m\u001b[37m━━━━━━━━━━━━━━━\u001b[0m \u001b[1m27:03\u001b[0m 12ms/step - loss: 7.6836e-04 - mae: 0.0241Skipping 3403: Missing files.\n",
            "\n",
            "\u001b[1m 61556/191183\u001b[0m \u001b[32m━━━━━━\u001b[0m\u001b[37m━━━━━━━━━━━━━━\u001b[0m \u001b[1m25:59\u001b[0m 12ms/step - loss: 7.7584e-04 - mae: 0.0241Skipping 3490: Missing files.\n",
            "\n",
            "\u001b[1m 61942/191183\u001b[0m \u001b[32m━━━━━━\u001b[0m\u001b[37m━━━━━━━━━━━━━━\u001b[0m \u001b[1m25:52\u001b[0m 12ms/step - loss: 7.7627e-04 - mae: 0.0241Skipping 3494: Missing files.\n",
            "\n",
            "\u001b[1m 63185/191183\u001b[0m \u001b[32m━━━━━━\u001b[0m\u001b[37m━━━━━━━━━━━━━━\u001b[0m \u001b[1m25:43\u001b[0m 12ms/step - loss: 7.7752e-04 - mae: 0.0241Skipping 3516: Missing files.\n",
            "\n",
            "\u001b[1m 76800/191183\u001b[0m \u001b[32m━━━━━━━━\u001b[0m\u001b[37m━━━━━━━━━━━━\u001b[0m \u001b[1m22:39\u001b[0m 12ms/step - loss: 7.8594e-04 - mae: 0.0242Skipping 3687: Missing files.\n",
            "\n",
            "\u001b[1m 83090/191183\u001b[0m \u001b[32m━━━━━━━━\u001b[0m\u001b[37m━━━━━━━━━━━━\u001b[0m \u001b[1m21:07\u001b[0m 12ms/step - loss: 7.8763e-04 - mae: 0.0242Skipping 3761: Missing files.\n",
            "\n",
            "\u001b[1m 84225/191183\u001b[0m \u001b[32m━━━━━━━━\u001b[0m\u001b[37m━━━━━━━━━━━━\u001b[0m \u001b[1m20:50\u001b[0m 12ms/step - loss: 7.8787e-04 - mae: 0.0242Skipping 3775: Missing files.\n",
            "\n",
            "\u001b[1m 95408/191183\u001b[0m \u001b[32m━━━━━━━━━\u001b[0m\u001b[37m━━━━━━━━━━━\u001b[0m \u001b[1m18:33\u001b[0m 12ms/step - loss: 7.8922e-04 - mae: 0.0241Skipping 3921: Missing files.\n",
            "\n",
            "\u001b[1m108625/191183\u001b[0m \u001b[32m━━━━━━━━━━━\u001b[0m\u001b[37m━━━━━━━━━\u001b[0m \u001b[1m15:52\u001b[0m 12ms/step - loss: 7.8895e-04 - mae: 0.0241Skipping 4095: Missing files.\n",
            "\n",
            "\u001b[1m111681/191183\u001b[0m \u001b[32m━━━━━━━━━━━\u001b[0m\u001b[37m━━━━━━━━━\u001b[0m \u001b[1m15:22\u001b[0m 12ms/step - loss: 7.8871e-04 - mae: 0.0241Skipping 4150: Missing files.\n",
            "\n",
            "\u001b[1m137644/191183\u001b[0m \u001b[32m━━━━━━━━━━━━━━\u001b[0m\u001b[37m━━━━━━\u001b[0m \u001b[1m10:24\u001b[0m 12ms/step - loss: 7.8596e-04 - mae: 0.0240Skipping 4512: Missing files.\n",
            "\n",
            "\u001b[1m139138/191183\u001b[0m \u001b[32m━━━━━━━━━━━━━━\u001b[0m\u001b[37m━━━━━━\u001b[0m \u001b[1m10:05\u001b[0m 12ms/step - loss: 7.8568e-04 - mae: 0.0240Skipping 4530: Missing files.\n",
            "\n",
            "\u001b[1m158531/191183\u001b[0m \u001b[32m━━━━━━━━━━━━━━━━\u001b[0m\u001b[37m━━━━\u001b[0m \u001b[1m6:16\u001b[0m 12ms/step - loss: 7.8163e-04 - mae: 0.0239Skipping 4763: Missing files.\n",
            "\n",
            "\u001b[1m165934/191183\u001b[0m \u001b[32m━━━━━━━━━━━━━━━━━\u001b[0m\u001b[37m━━━\u001b[0m \u001b[1m4:51\u001b[0m 12ms/step - loss: 7.7992e-04 - mae: 0.0239Skipping 4869: Missing files.\n",
            "\n",
            "\u001b[1m173404/191183\u001b[0m \u001b[32m━━━━━━━━━━━━━━━━━━\u001b[0m\u001b[37m━━\u001b[0m \u001b[1m3:24\u001b[0m 12ms/step - loss: 7.7831e-04 - mae: 0.0238Skipping 4964: Missing files.\n",
            "\n",
            "\u001b[1m191178/191183\u001b[0m \u001b[32m━━━━━━━━━━━━━━━━━━━\u001b[0m\u001b[37m━\u001b[0m \u001b[1m0s\u001b[0m 11ms/step - loss: 7.7429e-04 - mae: 0.0238Skipping 2534: Missing files.\n",
            "\n",
            "Skipping 2825: Missing files.\n",
            "\n",
            "Skipping 3274: Missing files.\n",
            "\n",
            "Skipping 3671: Missing files.\n",
            "\n",
            "Skipping 3792: Missing files.\n",
            "\n",
            "Skipping 3922: Missing files.\n",
            "\n",
            "Skipping 4025: Missing files.\n",
            "\n",
            "Skipping 4510: Missing files.\n",
            "\n",
            "Skipping 4511: Missing files.\n",
            "\n",
            "Skipping 4764: Missing files.\n",
            "\n",
            "Skipping 4766: Missing files.\n",
            "\n",
            "Skipping 4894: Missing files.\n",
            "\n",
            "\n",
            "Epoch 2: saving model to drive/MyDrive/DL_Pickles/simple_lstm_model_epoch_4_2_02.keras\n",
            "\u001b[1m191183/191183\u001b[0m \u001b[32m━━━━━━━━━━━━━━━━━━━━\u001b[0m\u001b[37m\u001b[0m \u001b[1m2721s\u001b[0m 14ms/step - loss: 7.7429e-04 - mae: 0.0238 - val_loss: 0.0318 - val_mae: 0.1886\n",
            "Epoch 3/50\n",
            "\u001b[1m 16261/191183\u001b[0m \u001b[32m━\u001b[0m\u001b[37m━━━━━━━━━━━━━━━━━━━\u001b[0m \u001b[1m30:09\u001b[0m 10ms/step - loss: 8.7285e-04 - mae: 0.0238"
          ]
        },
        {
          "output_type": "error",
          "ename": "KeyboardInterrupt",
          "evalue": "",
          "traceback": [
            "\u001b[0;31m---------------------------------------------------------------------------\u001b[0m",
            "\u001b[0;31mKeyboardInterrupt\u001b[0m                         Traceback (most recent call last)",
            "\u001b[0;32m<ipython-input-50-735eb09b724a>\u001b[0m in \u001b[0;36m<cell line: 0>\u001b[0;34m()\u001b[0m\n\u001b[1;32m     10\u001b[0m \u001b[0;34m\u001b[0m\u001b[0m\n\u001b[1;32m     11\u001b[0m \u001b[0;31m# Train the model with checkpoint callback\u001b[0m\u001b[0;34m\u001b[0m\u001b[0;34m\u001b[0m\u001b[0m\n\u001b[0;32m---> 12\u001b[0;31m simple_lstm_model.fit(\n\u001b[0m\u001b[1;32m     13\u001b[0m     \u001b[0mtrain_gen\u001b[0m\u001b[0;34m,\u001b[0m\u001b[0;34m\u001b[0m\u001b[0;34m\u001b[0m\u001b[0m\n\u001b[1;32m     14\u001b[0m     \u001b[0msteps_per_epoch\u001b[0m\u001b[0;34m=\u001b[0m\u001b[0mtrain_steps\u001b[0m\u001b[0;34m//\u001b[0m\u001b[0;36m3\u001b[0m\u001b[0;34m,\u001b[0m\u001b[0;34m\u001b[0m\u001b[0;34m\u001b[0m\u001b[0m\n",
            "\u001b[0;32m/usr/local/lib/python3.11/dist-packages/keras/src/utils/traceback_utils.py\u001b[0m in \u001b[0;36merror_handler\u001b[0;34m(*args, **kwargs)\u001b[0m\n\u001b[1;32m    115\u001b[0m         \u001b[0mfiltered_tb\u001b[0m \u001b[0;34m=\u001b[0m \u001b[0;32mNone\u001b[0m\u001b[0;34m\u001b[0m\u001b[0;34m\u001b[0m\u001b[0m\n\u001b[1;32m    116\u001b[0m         \u001b[0;32mtry\u001b[0m\u001b[0;34m:\u001b[0m\u001b[0;34m\u001b[0m\u001b[0;34m\u001b[0m\u001b[0m\n\u001b[0;32m--> 117\u001b[0;31m             \u001b[0;32mreturn\u001b[0m \u001b[0mfn\u001b[0m\u001b[0;34m(\u001b[0m\u001b[0;34m*\u001b[0m\u001b[0margs\u001b[0m\u001b[0;34m,\u001b[0m \u001b[0;34m**\u001b[0m\u001b[0mkwargs\u001b[0m\u001b[0;34m)\u001b[0m\u001b[0;34m\u001b[0m\u001b[0;34m\u001b[0m\u001b[0m\n\u001b[0m\u001b[1;32m    118\u001b[0m         \u001b[0;32mexcept\u001b[0m \u001b[0mException\u001b[0m \u001b[0;32mas\u001b[0m \u001b[0me\u001b[0m\u001b[0;34m:\u001b[0m\u001b[0;34m\u001b[0m\u001b[0;34m\u001b[0m\u001b[0m\n\u001b[1;32m    119\u001b[0m             \u001b[0mfiltered_tb\u001b[0m \u001b[0;34m=\u001b[0m \u001b[0m_process_traceback_frames\u001b[0m\u001b[0;34m(\u001b[0m\u001b[0me\u001b[0m\u001b[0;34m.\u001b[0m\u001b[0m__traceback__\u001b[0m\u001b[0;34m)\u001b[0m\u001b[0;34m\u001b[0m\u001b[0;34m\u001b[0m\u001b[0m\n",
            "\u001b[0;32m/usr/local/lib/python3.11/dist-packages/keras/src/backend/tensorflow/trainer.py\u001b[0m in \u001b[0;36mfit\u001b[0;34m(self, x, y, batch_size, epochs, verbose, callbacks, validation_split, validation_data, shuffle, class_weight, sample_weight, initial_epoch, steps_per_epoch, validation_steps, validation_batch_size, validation_freq)\u001b[0m\n\u001b[1;32m    369\u001b[0m                 \u001b[0;32mfor\u001b[0m \u001b[0mstep\u001b[0m\u001b[0;34m,\u001b[0m \u001b[0miterator\u001b[0m \u001b[0;32min\u001b[0m \u001b[0mepoch_iterator\u001b[0m\u001b[0;34m:\u001b[0m\u001b[0;34m\u001b[0m\u001b[0;34m\u001b[0m\u001b[0m\n\u001b[1;32m    370\u001b[0m                     \u001b[0mcallbacks\u001b[0m\u001b[0;34m.\u001b[0m\u001b[0mon_train_batch_begin\u001b[0m\u001b[0;34m(\u001b[0m\u001b[0mstep\u001b[0m\u001b[0;34m)\u001b[0m\u001b[0;34m\u001b[0m\u001b[0;34m\u001b[0m\u001b[0m\n\u001b[0;32m--> 371\u001b[0;31m                     \u001b[0mlogs\u001b[0m \u001b[0;34m=\u001b[0m \u001b[0mself\u001b[0m\u001b[0;34m.\u001b[0m\u001b[0mtrain_function\u001b[0m\u001b[0;34m(\u001b[0m\u001b[0miterator\u001b[0m\u001b[0;34m)\u001b[0m\u001b[0;34m\u001b[0m\u001b[0;34m\u001b[0m\u001b[0m\n\u001b[0m\u001b[1;32m    372\u001b[0m                     \u001b[0mcallbacks\u001b[0m\u001b[0;34m.\u001b[0m\u001b[0mon_train_batch_end\u001b[0m\u001b[0;34m(\u001b[0m\u001b[0mstep\u001b[0m\u001b[0;34m,\u001b[0m \u001b[0mlogs\u001b[0m\u001b[0;34m)\u001b[0m\u001b[0;34m\u001b[0m\u001b[0;34m\u001b[0m\u001b[0m\n\u001b[1;32m    373\u001b[0m                     \u001b[0;32mif\u001b[0m \u001b[0mself\u001b[0m\u001b[0;34m.\u001b[0m\u001b[0mstop_training\u001b[0m\u001b[0;34m:\u001b[0m\u001b[0;34m\u001b[0m\u001b[0;34m\u001b[0m\u001b[0m\n",
            "\u001b[0;32m/usr/local/lib/python3.11/dist-packages/keras/src/backend/tensorflow/trainer.py\u001b[0m in \u001b[0;36mfunction\u001b[0;34m(iterator)\u001b[0m\n\u001b[1;32m    220\u001b[0m                 \u001b[0;32mif\u001b[0m \u001b[0;32mnot\u001b[0m \u001b[0mopt_outputs\u001b[0m\u001b[0;34m.\u001b[0m\u001b[0mhas_value\u001b[0m\u001b[0;34m(\u001b[0m\u001b[0;34m)\u001b[0m\u001b[0;34m:\u001b[0m\u001b[0;34m\u001b[0m\u001b[0;34m\u001b[0m\u001b[0m\n\u001b[1;32m    221\u001b[0m                     \u001b[0;32mraise\u001b[0m \u001b[0mStopIteration\u001b[0m\u001b[0;34m\u001b[0m\u001b[0;34m\u001b[0m\u001b[0m\n\u001b[0;32m--> 222\u001b[0;31m                 \u001b[0;32mreturn\u001b[0m \u001b[0mopt_outputs\u001b[0m\u001b[0;34m.\u001b[0m\u001b[0mget_value\u001b[0m\u001b[0;34m(\u001b[0m\u001b[0;34m)\u001b[0m\u001b[0;34m\u001b[0m\u001b[0;34m\u001b[0m\u001b[0m\n\u001b[0m\u001b[1;32m    223\u001b[0m             \u001b[0;32melse\u001b[0m\u001b[0;34m:\u001b[0m\u001b[0;34m\u001b[0m\u001b[0;34m\u001b[0m\u001b[0m\n\u001b[1;32m    224\u001b[0m                 for step, data in zip(\n",
            "\u001b[0;32m/usr/local/lib/python3.11/dist-packages/tensorflow/python/data/ops/optional_ops.py\u001b[0m in \u001b[0;36mget_value\u001b[0;34m(self, name)\u001b[0m\n\u001b[1;32m    184\u001b[0m                         [self._variant_tensor]) as scope:\n\u001b[1;32m    185\u001b[0m       \u001b[0;32mwith\u001b[0m \u001b[0mops\u001b[0m\u001b[0;34m.\u001b[0m\u001b[0mcolocate_with\u001b[0m\u001b[0;34m(\u001b[0m\u001b[0mself\u001b[0m\u001b[0;34m.\u001b[0m\u001b[0m_variant_tensor\u001b[0m\u001b[0;34m)\u001b[0m\u001b[0;34m:\u001b[0m\u001b[0;34m\u001b[0m\u001b[0;34m\u001b[0m\u001b[0m\n\u001b[0;32m--> 186\u001b[0;31m         result = gen_optional_ops.optional_get_value(\n\u001b[0m\u001b[1;32m    187\u001b[0m             \u001b[0mself\u001b[0m\u001b[0;34m.\u001b[0m\u001b[0m_variant_tensor\u001b[0m\u001b[0;34m,\u001b[0m\u001b[0;34m\u001b[0m\u001b[0;34m\u001b[0m\u001b[0m\n\u001b[1;32m    188\u001b[0m             \u001b[0mname\u001b[0m\u001b[0;34m=\u001b[0m\u001b[0mscope\u001b[0m\u001b[0;34m,\u001b[0m\u001b[0;34m\u001b[0m\u001b[0;34m\u001b[0m\u001b[0m\n",
            "\u001b[0;32m/usr/local/lib/python3.11/dist-packages/tensorflow/python/ops/gen_optional_ops.py\u001b[0m in \u001b[0;36moptional_get_value\u001b[0;34m(optional, output_types, output_shapes, name)\u001b[0m\n\u001b[1;32m     93\u001b[0m   \u001b[0;32mif\u001b[0m \u001b[0mtld\u001b[0m\u001b[0;34m.\u001b[0m\u001b[0mis_eager\u001b[0m\u001b[0;34m:\u001b[0m\u001b[0;34m\u001b[0m\u001b[0;34m\u001b[0m\u001b[0m\n\u001b[1;32m     94\u001b[0m     \u001b[0;32mtry\u001b[0m\u001b[0;34m:\u001b[0m\u001b[0;34m\u001b[0m\u001b[0;34m\u001b[0m\u001b[0m\n\u001b[0;32m---> 95\u001b[0;31m       _result = pywrap_tfe.TFE_Py_FastPathExecute(\n\u001b[0m\u001b[1;32m     96\u001b[0m         \u001b[0m_ctx\u001b[0m\u001b[0;34m,\u001b[0m \u001b[0;34m\"OptionalGetValue\"\u001b[0m\u001b[0;34m,\u001b[0m \u001b[0mname\u001b[0m\u001b[0;34m,\u001b[0m \u001b[0moptional\u001b[0m\u001b[0;34m,\u001b[0m \u001b[0;34m\"output_types\"\u001b[0m\u001b[0;34m,\u001b[0m\u001b[0;34m\u001b[0m\u001b[0;34m\u001b[0m\u001b[0m\n\u001b[1;32m     97\u001b[0m         output_types, \"output_shapes\", output_shapes)\n",
            "\u001b[0;31mKeyboardInterrupt\u001b[0m: "
          ]
        }
      ],
      "source": [
        "# Define the checkpoint callback\n",
        "checkpoint = ModelCheckpoint(\n",
        "    filepath=google_drive_path + 'simple_lstm_model_epoch_4_2_{epoch:02d}.keras',  # Saves model for each epoch\n",
        "    save_best_only=False,  # Save model at every epoch\n",
        "    save_weights_only=False,  # Save full model (architecture + weights)\n",
        "    verbose=1\n",
        ")\n",
        "\n",
        "early_stopping = EarlyStopping(monitor=\"loss\", patience=30, restore_best_weights=True)\n",
        "\n",
        "# Train the model with checkpoint callback\n",
        "simple_lstm_model.fit(\n",
        "    train_gen,\n",
        "    steps_per_epoch=train_steps//3,\n",
        "    validation_data=test_gen,\n",
        "    validation_steps=test_steps//3,\n",
        "    epochs=50,\n",
        "    callbacks=[checkpoint, early_stopping],  # Include checkpoint callback\n",
        "    verbose=1\n",
        ")\n",
        "\n",
        "print(\"Training complete!\")\n"
      ]
    },
    {
      "cell_type": "code",
      "execution_count": 51,
      "metadata": {
        "id": "efLvb3fDEkm7"
      },
      "outputs": [],
      "source": [
        "simple_lstm_model.save(google_drive_path + 'simple_lstm_model4_2.keras')"
      ]
    },
    {
      "cell_type": "code",
      "source": [
        "import tensorflow as tf\n",
        "\n",
        "# Load the model\n",
        "simple_lstm_model = tf.keras.models.load_model(google_drive_path + 'simple_lstm_model4_2.keras')\n",
        "\n",
        "# Verify the model summary\n",
        "simple_lstm_model.summary()\n"
      ],
      "metadata": {
        "colab": {
          "base_uri": "https://localhost:8080/",
          "height": 557
        },
        "id": "_zSi8FjESr3r",
        "outputId": "296e303d-d020-4249-ec8e-beabbeaffd88"
      },
      "execution_count": 53,
      "outputs": [
        {
          "output_type": "display_data",
          "data": {
            "text/plain": [
              "\u001b[1mModel: \"Optimized_LSTM_Model_with_Attention\"\u001b[0m\n"
            ],
            "text/html": [
              "<pre style=\"white-space:pre;overflow-x:auto;line-height:normal;font-family:Menlo,'DejaVu Sans Mono',consolas,'Courier New',monospace\"><span style=\"font-weight: bold\">Model: \"Optimized_LSTM_Model_with_Attention\"</span>\n",
              "</pre>\n"
            ]
          },
          "metadata": {}
        },
        {
          "output_type": "display_data",
          "data": {
            "text/plain": [
              "┏━━━━━━━━━━━━━━━━━━━━━━━━━━━┳━━━━━━━━━━━━━━━━━━━━━━━━┳━━━━━━━━━━━━━━━━┳━━━━━━━━━━━━━━━━━━━━━━━━┓\n",
              "┃\u001b[1m \u001b[0m\u001b[1mLayer (type)             \u001b[0m\u001b[1m \u001b[0m┃\u001b[1m \u001b[0m\u001b[1mOutput Shape          \u001b[0m\u001b[1m \u001b[0m┃\u001b[1m \u001b[0m\u001b[1m       Param #\u001b[0m\u001b[1m \u001b[0m┃\u001b[1m \u001b[0m\u001b[1mConnected to          \u001b[0m\u001b[1m \u001b[0m┃\n",
              "┡━━━━━━━━━━━━━━━━━━━━━━━━━━━╇━━━━━━━━━━━━━━━━━━━━━━━━╇━━━━━━━━━━━━━━━━╇━━━━━━━━━━━━━━━━━━━━━━━━┩\n",
              "│ numerical_input           │ (\u001b[38;5;45mNone\u001b[0m, \u001b[38;5;34m30\u001b[0m, \u001b[38;5;34m12\u001b[0m)         │              \u001b[38;5;34m0\u001b[0m │ -                      │\n",
              "│ (\u001b[38;5;33mInputLayer\u001b[0m)              │                        │                │                        │\n",
              "├───────────────────────────┼────────────────────────┼────────────────┼────────────────────────┤\n",
              "│ lstm_layer_1 (\u001b[38;5;33mLSTM\u001b[0m)       │ (\u001b[38;5;45mNone\u001b[0m, \u001b[38;5;34m30\u001b[0m, \u001b[38;5;34m50\u001b[0m)         │         \u001b[38;5;34m12,600\u001b[0m │ numerical_input[\u001b[38;5;34m0\u001b[0m][\u001b[38;5;34m0\u001b[0m]  │\n",
              "├───────────────────────────┼────────────────────────┼────────────────┼────────────────────────┤\n",
              "│ batch_normalization_4     │ (\u001b[38;5;45mNone\u001b[0m, \u001b[38;5;34m30\u001b[0m, \u001b[38;5;34m50\u001b[0m)         │            \u001b[38;5;34m200\u001b[0m │ lstm_layer_1[\u001b[38;5;34m0\u001b[0m][\u001b[38;5;34m0\u001b[0m]     │\n",
              "│ (\u001b[38;5;33mBatchNormalization\u001b[0m)      │                        │                │                        │\n",
              "├───────────────────────────┼────────────────────────┼────────────────┼────────────────────────┤\n",
              "│ lstm_layer_2 (\u001b[38;5;33mLSTM\u001b[0m)       │ (\u001b[38;5;45mNone\u001b[0m, \u001b[38;5;34m30\u001b[0m, \u001b[38;5;34m25\u001b[0m)         │          \u001b[38;5;34m7,600\u001b[0m │ batch_normalization_4… │\n",
              "├───────────────────────────┼────────────────────────┼────────────────┼────────────────────────┤\n",
              "│ batch_normalization_5     │ (\u001b[38;5;45mNone\u001b[0m, \u001b[38;5;34m30\u001b[0m, \u001b[38;5;34m25\u001b[0m)         │            \u001b[38;5;34m100\u001b[0m │ lstm_layer_2[\u001b[38;5;34m0\u001b[0m][\u001b[38;5;34m0\u001b[0m]     │\n",
              "│ (\u001b[38;5;33mBatchNormalization\u001b[0m)      │                        │                │                        │\n",
              "├───────────────────────────┼────────────────────────┼────────────────┼────────────────────────┤\n",
              "│ attention_layer           │ (\u001b[38;5;45mNone\u001b[0m, \u001b[38;5;34m30\u001b[0m, \u001b[38;5;34m25\u001b[0m)         │             \u001b[38;5;34m25\u001b[0m │ batch_normalization_5… │\n",
              "│ (\u001b[38;5;33mAdditiveAttention\u001b[0m)       │                        │                │ batch_normalization_5… │\n",
              "├───────────────────────────┼────────────────────────┼────────────────┼────────────────────────┤\n",
              "│ multiply_2 (\u001b[38;5;33mMultiply\u001b[0m)     │ (\u001b[38;5;45mNone\u001b[0m, \u001b[38;5;34m30\u001b[0m, \u001b[38;5;34m25\u001b[0m)         │              \u001b[38;5;34m0\u001b[0m │ lstm_layer_2[\u001b[38;5;34m0\u001b[0m][\u001b[38;5;34m0\u001b[0m],    │\n",
              "│                           │                        │                │ attention_layer[\u001b[38;5;34m0\u001b[0m][\u001b[38;5;34m0\u001b[0m]  │\n",
              "├───────────────────────────┼────────────────────────┼────────────────┼────────────────────────┤\n",
              "│ flatten_2 (\u001b[38;5;33mFlatten\u001b[0m)       │ (\u001b[38;5;45mNone\u001b[0m, \u001b[38;5;34m750\u001b[0m)            │              \u001b[38;5;34m0\u001b[0m │ multiply_2[\u001b[38;5;34m0\u001b[0m][\u001b[38;5;34m0\u001b[0m]       │\n",
              "├───────────────────────────┼────────────────────────┼────────────────┼────────────────────────┤\n",
              "│ dense_2 (\u001b[38;5;33mDense\u001b[0m)           │ (\u001b[38;5;45mNone\u001b[0m, \u001b[38;5;34m32\u001b[0m)             │         \u001b[38;5;34m24,032\u001b[0m │ flatten_2[\u001b[38;5;34m0\u001b[0m][\u001b[38;5;34m0\u001b[0m]        │\n",
              "├───────────────────────────┼────────────────────────┼────────────────┼────────────────────────┤\n",
              "│ output (\u001b[38;5;33mDense\u001b[0m)            │ (\u001b[38;5;45mNone\u001b[0m, \u001b[38;5;34m1\u001b[0m)              │             \u001b[38;5;34m33\u001b[0m │ dense_2[\u001b[38;5;34m0\u001b[0m][\u001b[38;5;34m0\u001b[0m]          │\n",
              "└───────────────────────────┴────────────────────────┴────────────────┴────────────────────────┘\n"
            ],
            "text/html": [
              "<pre style=\"white-space:pre;overflow-x:auto;line-height:normal;font-family:Menlo,'DejaVu Sans Mono',consolas,'Courier New',monospace\">┏━━━━━━━━━━━━━━━━━━━━━━━━━━━┳━━━━━━━━━━━━━━━━━━━━━━━━┳━━━━━━━━━━━━━━━━┳━━━━━━━━━━━━━━━━━━━━━━━━┓\n",
              "┃<span style=\"font-weight: bold\"> Layer (type)              </span>┃<span style=\"font-weight: bold\"> Output Shape           </span>┃<span style=\"font-weight: bold\">        Param # </span>┃<span style=\"font-weight: bold\"> Connected to           </span>┃\n",
              "┡━━━━━━━━━━━━━━━━━━━━━━━━━━━╇━━━━━━━━━━━━━━━━━━━━━━━━╇━━━━━━━━━━━━━━━━╇━━━━━━━━━━━━━━━━━━━━━━━━┩\n",
              "│ numerical_input           │ (<span style=\"color: #00d7ff; text-decoration-color: #00d7ff\">None</span>, <span style=\"color: #00af00; text-decoration-color: #00af00\">30</span>, <span style=\"color: #00af00; text-decoration-color: #00af00\">12</span>)         │              <span style=\"color: #00af00; text-decoration-color: #00af00\">0</span> │ -                      │\n",
              "│ (<span style=\"color: #0087ff; text-decoration-color: #0087ff\">InputLayer</span>)              │                        │                │                        │\n",
              "├───────────────────────────┼────────────────────────┼────────────────┼────────────────────────┤\n",
              "│ lstm_layer_1 (<span style=\"color: #0087ff; text-decoration-color: #0087ff\">LSTM</span>)       │ (<span style=\"color: #00d7ff; text-decoration-color: #00d7ff\">None</span>, <span style=\"color: #00af00; text-decoration-color: #00af00\">30</span>, <span style=\"color: #00af00; text-decoration-color: #00af00\">50</span>)         │         <span style=\"color: #00af00; text-decoration-color: #00af00\">12,600</span> │ numerical_input[<span style=\"color: #00af00; text-decoration-color: #00af00\">0</span>][<span style=\"color: #00af00; text-decoration-color: #00af00\">0</span>]  │\n",
              "├───────────────────────────┼────────────────────────┼────────────────┼────────────────────────┤\n",
              "│ batch_normalization_4     │ (<span style=\"color: #00d7ff; text-decoration-color: #00d7ff\">None</span>, <span style=\"color: #00af00; text-decoration-color: #00af00\">30</span>, <span style=\"color: #00af00; text-decoration-color: #00af00\">50</span>)         │            <span style=\"color: #00af00; text-decoration-color: #00af00\">200</span> │ lstm_layer_1[<span style=\"color: #00af00; text-decoration-color: #00af00\">0</span>][<span style=\"color: #00af00; text-decoration-color: #00af00\">0</span>]     │\n",
              "│ (<span style=\"color: #0087ff; text-decoration-color: #0087ff\">BatchNormalization</span>)      │                        │                │                        │\n",
              "├───────────────────────────┼────────────────────────┼────────────────┼────────────────────────┤\n",
              "│ lstm_layer_2 (<span style=\"color: #0087ff; text-decoration-color: #0087ff\">LSTM</span>)       │ (<span style=\"color: #00d7ff; text-decoration-color: #00d7ff\">None</span>, <span style=\"color: #00af00; text-decoration-color: #00af00\">30</span>, <span style=\"color: #00af00; text-decoration-color: #00af00\">25</span>)         │          <span style=\"color: #00af00; text-decoration-color: #00af00\">7,600</span> │ batch_normalization_4… │\n",
              "├───────────────────────────┼────────────────────────┼────────────────┼────────────────────────┤\n",
              "│ batch_normalization_5     │ (<span style=\"color: #00d7ff; text-decoration-color: #00d7ff\">None</span>, <span style=\"color: #00af00; text-decoration-color: #00af00\">30</span>, <span style=\"color: #00af00; text-decoration-color: #00af00\">25</span>)         │            <span style=\"color: #00af00; text-decoration-color: #00af00\">100</span> │ lstm_layer_2[<span style=\"color: #00af00; text-decoration-color: #00af00\">0</span>][<span style=\"color: #00af00; text-decoration-color: #00af00\">0</span>]     │\n",
              "│ (<span style=\"color: #0087ff; text-decoration-color: #0087ff\">BatchNormalization</span>)      │                        │                │                        │\n",
              "├───────────────────────────┼────────────────────────┼────────────────┼────────────────────────┤\n",
              "│ attention_layer           │ (<span style=\"color: #00d7ff; text-decoration-color: #00d7ff\">None</span>, <span style=\"color: #00af00; text-decoration-color: #00af00\">30</span>, <span style=\"color: #00af00; text-decoration-color: #00af00\">25</span>)         │             <span style=\"color: #00af00; text-decoration-color: #00af00\">25</span> │ batch_normalization_5… │\n",
              "│ (<span style=\"color: #0087ff; text-decoration-color: #0087ff\">AdditiveAttention</span>)       │                        │                │ batch_normalization_5… │\n",
              "├───────────────────────────┼────────────────────────┼────────────────┼────────────────────────┤\n",
              "│ multiply_2 (<span style=\"color: #0087ff; text-decoration-color: #0087ff\">Multiply</span>)     │ (<span style=\"color: #00d7ff; text-decoration-color: #00d7ff\">None</span>, <span style=\"color: #00af00; text-decoration-color: #00af00\">30</span>, <span style=\"color: #00af00; text-decoration-color: #00af00\">25</span>)         │              <span style=\"color: #00af00; text-decoration-color: #00af00\">0</span> │ lstm_layer_2[<span style=\"color: #00af00; text-decoration-color: #00af00\">0</span>][<span style=\"color: #00af00; text-decoration-color: #00af00\">0</span>],    │\n",
              "│                           │                        │                │ attention_layer[<span style=\"color: #00af00; text-decoration-color: #00af00\">0</span>][<span style=\"color: #00af00; text-decoration-color: #00af00\">0</span>]  │\n",
              "├───────────────────────────┼────────────────────────┼────────────────┼────────────────────────┤\n",
              "│ flatten_2 (<span style=\"color: #0087ff; text-decoration-color: #0087ff\">Flatten</span>)       │ (<span style=\"color: #00d7ff; text-decoration-color: #00d7ff\">None</span>, <span style=\"color: #00af00; text-decoration-color: #00af00\">750</span>)            │              <span style=\"color: #00af00; text-decoration-color: #00af00\">0</span> │ multiply_2[<span style=\"color: #00af00; text-decoration-color: #00af00\">0</span>][<span style=\"color: #00af00; text-decoration-color: #00af00\">0</span>]       │\n",
              "├───────────────────────────┼────────────────────────┼────────────────┼────────────────────────┤\n",
              "│ dense_2 (<span style=\"color: #0087ff; text-decoration-color: #0087ff\">Dense</span>)           │ (<span style=\"color: #00d7ff; text-decoration-color: #00d7ff\">None</span>, <span style=\"color: #00af00; text-decoration-color: #00af00\">32</span>)             │         <span style=\"color: #00af00; text-decoration-color: #00af00\">24,032</span> │ flatten_2[<span style=\"color: #00af00; text-decoration-color: #00af00\">0</span>][<span style=\"color: #00af00; text-decoration-color: #00af00\">0</span>]        │\n",
              "├───────────────────────────┼────────────────────────┼────────────────┼────────────────────────┤\n",
              "│ output (<span style=\"color: #0087ff; text-decoration-color: #0087ff\">Dense</span>)            │ (<span style=\"color: #00d7ff; text-decoration-color: #00d7ff\">None</span>, <span style=\"color: #00af00; text-decoration-color: #00af00\">1</span>)              │             <span style=\"color: #00af00; text-decoration-color: #00af00\">33</span> │ dense_2[<span style=\"color: #00af00; text-decoration-color: #00af00\">0</span>][<span style=\"color: #00af00; text-decoration-color: #00af00\">0</span>]          │\n",
              "└───────────────────────────┴────────────────────────┴────────────────┴────────────────────────┘\n",
              "</pre>\n"
            ]
          },
          "metadata": {}
        },
        {
          "output_type": "display_data",
          "data": {
            "text/plain": [
              "\u001b[1m Total params: \u001b[0m\u001b[38;5;34m133,472\u001b[0m (521.38 KB)\n"
            ],
            "text/html": [
              "<pre style=\"white-space:pre;overflow-x:auto;line-height:normal;font-family:Menlo,'DejaVu Sans Mono',consolas,'Courier New',monospace\"><span style=\"font-weight: bold\"> Total params: </span><span style=\"color: #00af00; text-decoration-color: #00af00\">133,472</span> (521.38 KB)\n",
              "</pre>\n"
            ]
          },
          "metadata": {}
        },
        {
          "output_type": "display_data",
          "data": {
            "text/plain": [
              "\u001b[1m Trainable params: \u001b[0m\u001b[38;5;34m44,440\u001b[0m (173.59 KB)\n"
            ],
            "text/html": [
              "<pre style=\"white-space:pre;overflow-x:auto;line-height:normal;font-family:Menlo,'DejaVu Sans Mono',consolas,'Courier New',monospace\"><span style=\"font-weight: bold\"> Trainable params: </span><span style=\"color: #00af00; text-decoration-color: #00af00\">44,440</span> (173.59 KB)\n",
              "</pre>\n"
            ]
          },
          "metadata": {}
        },
        {
          "output_type": "display_data",
          "data": {
            "text/plain": [
              "\u001b[1m Non-trainable params: \u001b[0m\u001b[38;5;34m150\u001b[0m (600.00 B)\n"
            ],
            "text/html": [
              "<pre style=\"white-space:pre;overflow-x:auto;line-height:normal;font-family:Menlo,'DejaVu Sans Mono',consolas,'Courier New',monospace\"><span style=\"font-weight: bold\"> Non-trainable params: </span><span style=\"color: #00af00; text-decoration-color: #00af00\">150</span> (600.00 B)\n",
              "</pre>\n"
            ]
          },
          "metadata": {}
        },
        {
          "output_type": "display_data",
          "data": {
            "text/plain": [
              "\u001b[1m Optimizer params: \u001b[0m\u001b[38;5;34m88,882\u001b[0m (347.20 KB)\n"
            ],
            "text/html": [
              "<pre style=\"white-space:pre;overflow-x:auto;line-height:normal;font-family:Menlo,'DejaVu Sans Mono',consolas,'Courier New',monospace\"><span style=\"font-weight: bold\"> Optimizer params: </span><span style=\"color: #00af00; text-decoration-color: #00af00\">88,882</span> (347.20 KB)\n",
              "</pre>\n"
            ]
          },
          "metadata": {}
        }
      ]
    },
    {
      "cell_type": "code",
      "source": [
        "stock_data = pd.read_csv(stock_prices_path)"
      ],
      "metadata": {
        "id": "hibvPBfXTa2P"
      },
      "execution_count": 64,
      "outputs": []
    },
    {
      "cell_type": "code",
      "source": [
        "# Assuming stock_data['close_adjusted'] is a valid column in a DataFrame\n",
        "# Simulating data if actual data is unavailable\n",
        "\n",
        "import numpy as np\n",
        "\n",
        "# Simulated data (if user doesn't upload real data)\n",
        "# stock_data = pd.DataFrame({'close_adjusted': np.random.lognormal(mean=2, sigma=0.5, size=1000)})\n",
        "\n",
        "# Plotting the histogram with percentages on the Y-axis\n",
        "plt.figure(figsize=(10, 5))\n",
        "n, bins, patches = plt.hist(\n",
        "    stock_data_tidy['close_adjusted'],\n",
        "    bins=50,\n",
        "    weights=np.ones_like(stock_data_tidy['close_adjusted']) / len(stock_data_tidy['close_adjusted']) * 100,\n",
        "    edgecolor='black',\n",
        "    alpha=0.7\n",
        ")\n",
        "plt.xlabel('Adjusted Close Price')\n",
        "plt.ylabel('Percentage (%)')\n",
        "plt.title('Distribution of Adjusted Close Prices (Percentage)')\n",
        "plt.grid(axis='y', linestyle='--', alpha=0.7)\n",
        "plt.show()\n"
      ],
      "metadata": {
        "colab": {
          "base_uri": "https://localhost:8080/",
          "height": 487
        },
        "id": "M5qtFIi7VLtC",
        "outputId": "e8b516ca-a830-43fb-f571-3e9f345c7317"
      },
      "execution_count": 67,
      "outputs": [
        {
          "output_type": "display_data",
          "data": {
            "text/plain": [
              "<Figure size 1000x500 with 1 Axes>"
            ],
            "image/png": "[encoded data removed]"
          },
          "metadata": {}
        }
      ]
    },
    {
      "cell_type": "code",
      "source": [
        "import numpy as np\n",
        "\n",
        "def preprocess_data(stock_data_tidy, numerical_columns, sequence_length):\n",
        "    \"\"\"\n",
        "    Converts stock_data_tidy into sequences for LSTM training.\n",
        "\n",
        "    Args:\n",
        "        stock_data_tidy (pd.DataFrame): The input stock dataset.\n",
        "        numerical_columns (list): The feature columns.\n",
        "        sequence_length (int): The number of time steps per sequence.\n",
        "\n",
        "    Returns:\n",
        "        X (np.array): Shape (samples, sequence_length, num_features)\n",
        "        y (np.array): Shape (samples,)\n",
        "    \"\"\"\n",
        "    data = stock_data_tidy[numerical_columns].values\n",
        "\n",
        "    # Create sequences\n",
        "    X, y = [], []\n",
        "    for i in range(sequence_length, len(data)):\n",
        "        X.append(data[i - sequence_length:i])  # Last `sequence_length` rows\n",
        "        y.append(data[i, 0])  # Target value (Assuming `close_adjusted` is first)\n",
        "\n",
        "    return np.array(X), np.array(y)\n"
      ],
      "metadata": {
        "id": "2PH5Dik5oY_U"
      },
      "execution_count": null,
      "outputs": []
    },
    {
      "cell_type": "code",
      "source": [
        "# Define feature columns\n",
        "numerical_columns = [\n",
        "    'RSI', '5_day_MA', '10_day_MA', '20_day_MA',\n",
        "    '50_day_MA', '100_day_MA', '200_day_MA',\n",
        "    'MACD', 'Signal_Line', 'day_of_week', 'ticker_encoded'\n",
        "]\n",
        "target_column = 'close_adjusted'  # Assuming this is the target\n",
        "\n",
        "# Ensure target column is first in `numerical_columns`\n",
        "if target_column in numerical_columns:\n",
        "    numerical_columns.remove(target_column)\n",
        "numerical_columns.insert(0, target_column)\n",
        "\n",
        "# Sequence length\n",
        "sequence_length = 60  # Must match LSTM input expectations\n",
        "\n",
        "# Convert to sequences\n",
        "X_train, y_train = preprocess_data(train_data, numerical_columns, sequence_length)\n",
        "X_test, y_test = preprocess_data(test_data, numerical_columns, sequence_length)\n",
        "\n",
        "# Print shape to verify correctness\n",
        "print(f\"X_train shape: {X_train.shape}\")  # Should be (samples, 30, num_features)\n",
        "print(f\"y_train shape: {y_train.shape}\")  # Should be (samples,)\n"
      ],
      "metadata": {
        "id": "yMZF-pPYoaXE"
      },
      "execution_count": null,
      "outputs": []
    },
    {
      "cell_type": "code",
      "source": [
        "aapl_data = stock_data_tidy[stock_data_tidy.ticker == \"AAPL\"]\n"
      ],
      "metadata": {
        "id": "L_oJfuFwSsNN"
      },
      "execution_count": 75,
      "outputs": []
    },
    {
      "cell_type": "code",
      "source": [
        "aapl_data"
      ],
      "metadata": {
        "id": "nFiJTPqTS0-o",
        "outputId": "5befed5b-a363-4308-f8a5-f283765518b3",
        "colab": {
          "base_uri": "https://localhost:8080/",
          "height": 423
        }
      },
      "execution_count": 77,
      "outputs": [
        {
          "output_type": "execute_result",
          "data": {
            "text/plain": [
              "      ticker       date  close_adjusted       RSI  5_day_MA  10_day_MA  \\\n",
              "45385   AAPL 1998-10-19        0.000668  0.442809  0.000647   0.000534   \n",
              "45386   AAPL 1998-10-20        0.000579  0.441177  0.000613   0.000557   \n",
              "45387   AAPL 1998-10-21        0.000645  0.534498  0.000610   0.000590   \n",
              "45388   AAPL 1998-10-22        0.000622  0.541992  0.000612   0.000629   \n",
              "45389   AAPL 1998-10-23        0.000544  0.596324  0.000597   0.000631   \n",
              "...      ...        ...             ...       ...       ...        ...   \n",
              "51079   AAPL 2021-06-07        0.247521  0.481820  0.247787   0.256892   \n",
              "51080   AAPL 2021-06-08        0.249184  0.562757  0.248769   0.256818   \n",
              "51081   AAPL 2021-06-09        0.249955  0.581218  0.249596   0.256865   \n",
              "51082   AAPL 2021-06-10        0.247937  0.446941  0.250623   0.256713   \n",
              "51083   AAPL 2021-06-11        0.250391  0.574840  0.251206   0.257139   \n",
              "\n",
              "       20_day_MA  50_day_MA  100_day_MA  200_day_MA      MACD  Signal_Line  \\\n",
              "45385   0.000551   0.000630    0.000426    0.000000  0.758810     0.749197   \n",
              "45386   0.000548   0.000628    0.000434    0.000010  0.758805     0.749214   \n",
              "45387   0.000544   0.000625    0.000444    0.000019  0.758824     0.749232   \n",
              "45388   0.000538   0.000620    0.000452    0.000028  0.758830     0.749248   \n",
              "45389   0.000527   0.000614    0.000460    0.000037  0.758808     0.749256   \n",
              "...          ...        ...         ...         ...       ...          ...   \n",
              "51079   0.267686   0.309375    0.355095    0.424477  0.750573     0.739455   \n",
              "51080   0.267674   0.309644    0.354980    0.419091  0.751972     0.739873   \n",
              "51081   0.267805   0.309923    0.354930    0.413332  0.753414     0.740534   \n",
              "51082   0.268164   0.310225    0.354901    0.407464  0.753907     0.741175   \n",
              "51083   0.268419   0.310477    0.354888    0.401680  0.755198     0.741980   \n",
              "\n",
              "       ticker_encoded  day_of_week  \n",
              "45385              14            0  \n",
              "45386              14            1  \n",
              "45387              14            2  \n",
              "45388              14            3  \n",
              "45389              14            4  \n",
              "...               ...          ...  \n",
              "51079              14            0  \n",
              "51080              14            1  \n",
              "51081              14            2  \n",
              "51082              14            3  \n",
              "51083              14            4  \n",
              "\n",
              "[5699 rows x 14 columns]"
            ],
            "text/html": [
              "\n",
              "  <div id=\"df-e0fa3607-ed05-491e-b6f0-f08784a2fc20\" class=\"colab-df-container\">\n",
              "    <div>\n",
              "<style scoped>\n",
              "    .dataframe tbody tr th:only-of-type {\n",
              "        vertical-align: middle;\n",
              "    }\n",
              "\n",
              "    .dataframe tbody tr th {\n",
              "        vertical-align: top;\n",
              "    }\n",
              "\n",
              "    .dataframe thead th {\n",
              "        text-align: right;\n",
              "    }\n",
              "</style>\n",
              "<table border=\"1\" class=\"dataframe\">\n",
              "  <thead>\n",
              "    <tr style=\"text-align: right;\">\n",
              "      <th></th>\n",
              "      <th>ticker</th>\n",
              "      <th>date</th>\n",
              "      <th>close_adjusted</th>\n",
              "      <th>RSI</th>\n",
              "      <th>5_day_MA</th>\n",
              "      <th>10_day_MA</th>\n",
              "      <th>20_day_MA</th>\n",
              "      <th>50_day_MA</th>\n",
              "      <th>100_day_MA</th>\n",
              "      <th>200_day_MA</th>\n",
              "      <th>MACD</th>\n",
              "      <th>Signal_Line</th>\n",
              "      <th>ticker_encoded</th>\n",
              "      <th>day_of_week</th>\n",
              "    </tr>\n",
              "  </thead>\n",
              "  <tbody>\n",
              "    <tr>\n",
              "      <th>45385</th>\n",
              "      <td>AAPL</td>\n",
              "      <td>1998-10-19</td>\n",
              "      <td>0.000668</td>\n",
              "      <td>0.442809</td>\n",
              "      <td>0.000647</td>\n",
              "      <td>0.000534</td>\n",
              "      <td>0.000551</td>\n",
              "      <td>0.000630</td>\n",
              "      <td>0.000426</td>\n",
              "      <td>0.000000</td>\n",
              "      <td>0.758810</td>\n",
              "      <td>0.749197</td>\n",
              "      <td>14</td>\n",
              "      <td>0</td>\n",
              "    </tr>\n",
              "    <tr>\n",
              "      <th>45386</th>\n",
              "      <td>AAPL</td>\n",
              "      <td>1998-10-20</td>\n",
              "      <td>0.000579</td>\n",
              "      <td>0.441177</td>\n",
              "      <td>0.000613</td>\n",
              "      <td>0.000557</td>\n",
              "      <td>0.000548</td>\n",
              "      <td>0.000628</td>\n",
              "      <td>0.000434</td>\n",
              "      <td>0.000010</td>\n",
              "      <td>0.758805</td>\n",
              "      <td>0.749214</td>\n",
              "      <td>14</td>\n",
              "      <td>1</td>\n",
              "    </tr>\n",
              "    <tr>\n",
              "      <th>45387</th>\n",
              "      <td>AAPL</td>\n",
              "      <td>1998-10-21</td>\n",
              "      <td>0.000645</td>\n",
              "      <td>0.534498</td>\n",
              "      <td>0.000610</td>\n",
              "      <td>0.000590</td>\n",
              "      <td>0.000544</td>\n",
              "      <td>0.000625</td>\n",
              "      <td>0.000444</td>\n",
              "      <td>0.000019</td>\n",
              "      <td>0.758824</td>\n",
              "      <td>0.749232</td>\n",
              "      <td>14</td>\n",
              "      <td>2</td>\n",
              "    </tr>\n",
              "    <tr>\n",
              "      <th>45388</th>\n",
              "      <td>AAPL</td>\n",
              "      <td>1998-10-22</td>\n",
              "      <td>0.000622</td>\n",
              "      <td>0.541992</td>\n",
              "      <td>0.000612</td>\n",
              "      <td>0.000629</td>\n",
              "      <td>0.000538</td>\n",
              "      <td>0.000620</td>\n",
              "      <td>0.000452</td>\n",
              "      <td>0.000028</td>\n",
              "      <td>0.758830</td>\n",
              "      <td>0.749248</td>\n",
              "      <td>14</td>\n",
              "      <td>3</td>\n",
              "    </tr>\n",
              "    <tr>\n",
              "      <th>45389</th>\n",
              "      <td>AAPL</td>\n",
              "      <td>1998-10-23</td>\n",
              "      <td>0.000544</td>\n",
              "      <td>0.596324</td>\n",
              "      <td>0.000597</td>\n",
              "      <td>0.000631</td>\n",
              "      <td>0.000527</td>\n",
              "      <td>0.000614</td>\n",
              "      <td>0.000460</td>\n",
              "      <td>0.000037</td>\n",
              "      <td>0.758808</td>\n",
              "      <td>0.749256</td>\n",
              "      <td>14</td>\n",
              "      <td>4</td>\n",
              "    </tr>\n",
              "    <tr>\n",
              "      <th>...</th>\n",
              "      <td>...</td>\n",
              "      <td>...</td>\n",
              "      <td>...</td>\n",
              "      <td>...</td>\n",
              "      <td>...</td>\n",
              "      <td>...</td>\n",
              "      <td>...</td>\n",
              "      <td>...</td>\n",
              "      <td>...</td>\n",
              "      <td>...</td>\n",
              "      <td>...</td>\n",
              "      <td>...</td>\n",
              "      <td>...</td>\n",
              "      <td>...</td>\n",
              "    </tr>\n",
              "    <tr>\n",
              "      <th>51079</th>\n",
              "      <td>AAPL</td>\n",
              "      <td>2021-06-07</td>\n",
              "      <td>0.247521</td>\n",
              "      <td>0.481820</td>\n",
              "      <td>0.247787</td>\n",
              "      <td>0.256892</td>\n",
              "      <td>0.267686</td>\n",
              "      <td>0.309375</td>\n",
              "      <td>0.355095</td>\n",
              "      <td>0.424477</td>\n",
              "      <td>0.750573</td>\n",
              "      <td>0.739455</td>\n",
              "      <td>14</td>\n",
              "      <td>0</td>\n",
              "    </tr>\n",
              "    <tr>\n",
              "      <th>51080</th>\n",
              "      <td>AAPL</td>\n",
              "      <td>2021-06-08</td>\n",
              "      <td>0.249184</td>\n",
              "      <td>0.562757</td>\n",
              "      <td>0.248769</td>\n",
              "      <td>0.256818</td>\n",
              "      <td>0.267674</td>\n",
              "      <td>0.309644</td>\n",
              "      <td>0.354980</td>\n",
              "      <td>0.419091</td>\n",
              "      <td>0.751972</td>\n",
              "      <td>0.739873</td>\n",
              "      <td>14</td>\n",
              "      <td>1</td>\n",
              "    </tr>\n",
              "    <tr>\n",
              "      <th>51081</th>\n",
              "      <td>AAPL</td>\n",
              "      <td>2021-06-09</td>\n",
              "      <td>0.249955</td>\n",
              "      <td>0.581218</td>\n",
              "      <td>0.249596</td>\n",
              "      <td>0.256865</td>\n",
              "      <td>0.267805</td>\n",
              "      <td>0.309923</td>\n",
              "      <td>0.354930</td>\n",
              "      <td>0.413332</td>\n",
              "      <td>0.753414</td>\n",
              "      <td>0.740534</td>\n",
              "      <td>14</td>\n",
              "      <td>2</td>\n",
              "    </tr>\n",
              "    <tr>\n",
              "      <th>51082</th>\n",
              "      <td>AAPL</td>\n",
              "      <td>2021-06-10</td>\n",
              "      <td>0.247937</td>\n",
              "      <td>0.446941</td>\n",
              "      <td>0.250623</td>\n",
              "      <td>0.256713</td>\n",
              "      <td>0.268164</td>\n",
              "      <td>0.310225</td>\n",
              "      <td>0.354901</td>\n",
              "      <td>0.407464</td>\n",
              "      <td>0.753907</td>\n",
              "      <td>0.741175</td>\n",
              "      <td>14</td>\n",
              "      <td>3</td>\n",
              "    </tr>\n",
              "    <tr>\n",
              "      <th>51083</th>\n",
              "      <td>AAPL</td>\n",
              "      <td>2021-06-11</td>\n",
              "      <td>0.250391</td>\n",
              "      <td>0.574840</td>\n",
              "      <td>0.251206</td>\n",
              "      <td>0.257139</td>\n",
              "      <td>0.268419</td>\n",
              "      <td>0.310477</td>\n",
              "      <td>0.354888</td>\n",
              "      <td>0.401680</td>\n",
              "      <td>0.755198</td>\n",
              "      <td>0.741980</td>\n",
              "      <td>14</td>\n",
              "      <td>4</td>\n",
              "    </tr>\n",
              "  </tbody>\n",
              "</table>\n",
              "<p>5699 rows × 14 columns</p>\n",
              "</div>\n",
              "    <div class=\"colab-df-buttons\">\n",
              "\n",
              "  <div class=\"colab-df-container\">\n",
              "    <button class=\"colab-df-convert\" onclick=\"convertToInteractive('df-e0fa3607-ed05-491e-b6f0-f08784a2fc20')\"\n",
              "            title=\"Convert this dataframe to an interactive table.\"\n",
              "            style=\"display:none;\">\n",
              "\n",
              "  <svg xmlns=\"http://www.w3.org/2000/svg\" height=\"24px\" viewBox=\"0 -960 960 960\">\n",
              "    <path d=\"M120-120v-720h720v720H120Zm60-500h600v-160H180v160Zm220 220h160v-160H400v160Zm0 220h160v-160H400v160ZM180-400h160v-160H180v160Zm440 0h160v-160H620v160ZM180-180h160v-160H180v160Zm440 0h160v-160H620v160Z\"/>\n",
              "  </svg>\n",
              "    </button>\n",
              "\n",
              "  <style>\n",
              "    .colab-df-container {\n",
              "      display:flex;\n",
              "      gap: 12px;\n",
              "    }\n",
              "\n",
              "    .colab-df-convert {\n",
              "      background-color: #E8F0FE;\n",
              "      border: none;\n",
              "      border-radius: 50%;\n",
              "      cursor: pointer;\n",
              "      display: none;\n",
              "      fill: #1967D2;\n",
              "      height: 32px;\n",
              "      padding: 0 0 0 0;\n",
              "      width: 32px;\n",
              "    }\n",
              "\n",
              "    .colab-df-convert:hover {\n",
              "      background-color: #E2EBFA;\n",
              "      box-shadow: 0px 1px 2px rgba(60, 64, 67, 0.3), 0px 1px 3px 1px rgba(60, 64, 67, 0.15);\n",
              "      fill: #174EA6;\n",
              "    }\n",
              "\n",
              "    .colab-df-buttons div {\n",
              "      margin-bottom: 4px;\n",
              "    }\n",
              "\n",
              "    [theme=dark] .colab-df-convert {\n",
              "      background-color: #3B4455;\n",
              "      fill: #D2E3FC;\n",
              "    }\n",
              "\n",
              "    [theme=dark] .colab-df-convert:hover {\n",
              "      background-color: #434B5C;\n",
              "      box-shadow: 0px 1px 3px 1px rgba(0, 0, 0, 0.15);\n",
              "      filter: drop-shadow(0px 1px 2px rgba(0, 0, 0, 0.3));\n",
              "      fill: #FFFFFF;\n",
              "    }\n",
              "  </style>\n",
              "\n",
              "    <script>\n",
              "      const buttonEl =\n",
              "        document.querySelector('#df-e0fa3607-ed05-491e-b6f0-f08784a2fc20 button.colab-df-convert');\n",
              "      buttonEl.style.display =\n",
              "        google.colab.kernel.accessAllowed ? 'block' : 'none';\n",
              "\n",
              "      async function convertToInteractive(key) {\n",
              "        const element = document.querySelector('#df-e0fa3607-ed05-491e-b6f0-f08784a2fc20');\n",
              "        const dataTable =\n",
              "          await google.colab.kernel.invokeFunction('convertToInteractive',\n",
              "                                                    [key], {});\n",
              "        if (!dataTable) return;\n",
              "\n",
              "        const docLinkHtml = 'Like what you see? Visit the ' +\n",
              "          '<a target=\"_blank\" href=https://colab.research.google.com/notebooks/data_table.ipynb>data table notebook</a>'\n",
              "          + ' to learn more about interactive tables.';\n",
              "        element.innerHTML = '';\n",
              "        dataTable['output_type'] = 'display_data';\n",
              "        await google.colab.output.renderOutput(dataTable, element);\n",
              "        const docLink = document.createElement('div');\n",
              "        docLink.innerHTML = docLinkHtml;\n",
              "        element.appendChild(docLink);\n",
              "      }\n",
              "    </script>\n",
              "  </div>\n",
              "\n",
              "\n",
              "<div id=\"df-c1ac9af9-eaa7-4111-8a58-a1c116f57230\">\n",
              "  <button class=\"colab-df-quickchart\" onclick=\"quickchart('df-c1ac9af9-eaa7-4111-8a58-a1c116f57230')\"\n",
              "            title=\"Suggest charts\"\n",
              "            style=\"display:none;\">\n",
              "\n",
              "<svg xmlns=\"http://www.w3.org/2000/svg\" height=\"24px\"viewBox=\"0 0 24 24\"\n",
              "     width=\"24px\">\n",
              "    <g>\n",
              "        <path d=\"M19 3H5c-1.1 0-2 .9-2 2v14c0 1.1.9 2 2 2h14c1.1 0 2-.9 2-2V5c0-1.1-.9-2-2-2zM9 17H7v-7h2v7zm4 0h-2V7h2v10zm4 0h-2v-4h2v4z\"/>\n",
              "    </g>\n",
              "</svg>\n",
              "  </button>\n",
              "\n",
              "<style>\n",
              "  .colab-df-quickchart {\n",
              "      --bg-color: #E8F0FE;\n",
              "      --fill-color: #1967D2;\n",
              "      --hover-bg-color: #E2EBFA;\n",
              "      --hover-fill-color: #174EA6;\n",
              "      --disabled-fill-color: #AAA;\n",
              "      --disabled-bg-color: #DDD;\n",
              "  }\n",
              "\n",
              "  [theme=dark] .colab-df-quickchart {\n",
              "      --bg-color: #3B4455;\n",
              "      --fill-color: #D2E3FC;\n",
              "      --hover-bg-color: #434B5C;\n",
              "      --hover-fill-color: #FFFFFF;\n",
              "      --disabled-bg-color: #3B4455;\n",
              "      --disabled-fill-color: #666;\n",
              "  }\n",
              "\n",
              "  .colab-df-quickchart {\n",
              "    background-color: var(--bg-color);\n",
              "    border: none;\n",
              "    border-radius: 50%;\n",
              "    cursor: pointer;\n",
              "    display: none;\n",
              "    fill: var(--fill-color);\n",
              "    height: 32px;\n",
              "    padding: 0;\n",
              "    width: 32px;\n",
              "  }\n",
              "\n",
              "  .colab-df-quickchart:hover {\n",
              "    background-color: var(--hover-bg-color);\n",
              "    box-shadow: 0 1px 2px rgba(60, 64, 67, 0.3), 0 1px 3px 1px rgba(60, 64, 67, 0.15);\n",
              "    fill: var(--button-hover-fill-color);\n",
              "  }\n",
              "\n",
              "  .colab-df-quickchart-complete:disabled,\n",
              "  .colab-df-quickchart-complete:disabled:hover {\n",
              "    background-color: var(--disabled-bg-color);\n",
              "    fill: var(--disabled-fill-color);\n",
              "    box-shadow: none;\n",
              "  }\n",
              "\n",
              "  .colab-df-spinner {\n",
              "    border: 2px solid var(--fill-color);\n",
              "    border-color: transparent;\n",
              "    border-bottom-color: var(--fill-color);\n",
              "    animation:\n",
              "      spin 1s steps(1) infinite;\n",
              "  }\n",
              "\n",
              "  @keyframes spin {\n",
              "    0% {\n",
              "      border-color: transparent;\n",
              "      border-bottom-color: var(--fill-color);\n",
              "      border-left-color: var(--fill-color);\n",
              "    }\n",
              "    20% {\n",
              "      border-color: transparent;\n",
              "      border-left-color: var(--fill-color);\n",
              "      border-top-color: var(--fill-color);\n",
              "    }\n",
              "    30% {\n",
              "      border-color: transparent;\n",
              "      border-left-color: var(--fill-color);\n",
              "      border-top-color: var(--fill-color);\n",
              "      border-right-color: var(--fill-color);\n",
              "    }\n",
              "    40% {\n",
              "      border-color: transparent;\n",
              "      border-right-color: var(--fill-color);\n",
              "      border-top-color: var(--fill-color);\n",
              "    }\n",
              "    60% {\n",
              "      border-color: transparent;\n",
              "      border-right-color: var(--fill-color);\n",
              "    }\n",
              "    80% {\n",
              "      border-color: transparent;\n",
              "      border-right-color: var(--fill-color);\n",
              "      border-bottom-color: var(--fill-color);\n",
              "    }\n",
              "    90% {\n",
              "      border-color: transparent;\n",
              "      border-bottom-color: var(--fill-color);\n",
              "    }\n",
              "  }\n",
              "</style>\n",
              "\n",
              "  <script>\n",
              "    async function quickchart(key) {\n",
              "      const quickchartButtonEl =\n",
              "        document.querySelector('#' + key + ' button');\n",
              "      quickchartButtonEl.disabled = true;  // To prevent multiple clicks.\n",
              "      quickchartButtonEl.classList.add('colab-df-spinner');\n",
              "      try {\n",
              "        const charts = await google.colab.kernel.invokeFunction(\n",
              "            'suggestCharts', [key], {});\n",
              "      } catch (error) {\n",
              "        console.error('Error during call to suggestCharts:', error);\n",
              "      }\n",
              "      quickchartButtonEl.classList.remove('colab-df-spinner');\n",
              "      quickchartButtonEl.classList.add('colab-df-quickchart-complete');\n",
              "    }\n",
              "    (() => {\n",
              "      let quickchartButtonEl =\n",
              "        document.querySelector('#df-c1ac9af9-eaa7-4111-8a58-a1c116f57230 button');\n",
              "      quickchartButtonEl.style.display =\n",
              "        google.colab.kernel.accessAllowed ? 'block' : 'none';\n",
              "    })();\n",
              "  </script>\n",
              "</div>\n",
              "\n",
              "  <div id=\"id_839ca265-a4a7-4695-8baf-13460e162e9a\">\n",
              "    <style>\n",
              "      .colab-df-generate {\n",
              "        background-color: #E8F0FE;\n",
              "        border: none;\n",
              "        border-radius: 50%;\n",
              "        cursor: pointer;\n",
              "        display: none;\n",
              "        fill: #1967D2;\n",
              "        height: 32px;\n",
              "        padding: 0 0 0 0;\n",
              "        width: 32px;\n",
              "      }\n",
              "\n",
              "      .colab-df-generate:hover {\n",
              "        background-color: #E2EBFA;\n",
              "        box-shadow: 0px 1px 2px rgba(60, 64, 67, 0.3), 0px 1px 3px 1px rgba(60, 64, 67, 0.15);\n",
              "        fill: #174EA6;\n",
              "      }\n",
              "\n",
              "      [theme=dark] .colab-df-generate {\n",
              "        background-color: #3B4455;\n",
              "        fill: #D2E3FC;\n",
              "      }\n",
              "\n",
              "      [theme=dark] .colab-df-generate:hover {\n",
              "        background-color: #434B5C;\n",
              "        box-shadow: 0px 1px 3px 1px rgba(0, 0, 0, 0.15);\n",
              "        filter: drop-shadow(0px 1px 2px rgba(0, 0, 0, 0.3));\n",
              "        fill: #FFFFFF;\n",
              "      }\n",
              "    </style>\n",
              "    <button class=\"colab-df-generate\" onclick=\"generateWithVariable('aapl_data')\"\n",
              "            title=\"Generate code using this dataframe.\"\n",
              "            style=\"display:none;\">\n",
              "\n",
              "  <svg xmlns=\"http://www.w3.org/2000/svg\" height=\"24px\"viewBox=\"0 0 24 24\"\n",
              "       width=\"24px\">\n",
              "    <path d=\"M7,19H8.4L18.45,9,17,7.55,7,17.6ZM5,21V16.75L18.45,3.32a2,2,0,0,1,2.83,0l1.4,1.43a1.91,1.91,0,0,1,.58,1.4,1.91,1.91,0,0,1-.58,1.4L9.25,21ZM18.45,9,17,7.55Zm-12,3A5.31,5.31,0,0,0,4.9,8.1,5.31,5.31,0,0,0,1,6.5,5.31,5.31,0,0,0,4.9,4.9,5.31,5.31,0,0,0,6.5,1,5.31,5.31,0,0,0,8.1,4.9,5.31,5.31,0,0,0,12,6.5,5.46,5.46,0,0,0,6.5,12Z\"/>\n",
              "  </svg>\n",
              "    </button>\n",
              "    <script>\n",
              "      (() => {\n",
              "      const buttonEl =\n",
              "        document.querySelector('#id_839ca265-a4a7-4695-8baf-13460e162e9a button.colab-df-generate');\n",
              "      buttonEl.style.display =\n",
              "        google.colab.kernel.accessAllowed ? 'block' : 'none';\n",
              "\n",
              "      buttonEl.onclick = () => {\n",
              "        google.colab.notebook.generateWithVariable('aapl_data');\n",
              "      }\n",
              "      })();\n",
              "    </script>\n",
              "  </div>\n",
              "\n",
              "    </div>\n",
              "  </div>\n"
            ],
            "application/vnd.google.colaboratory.intrinsic+json": {
              "type": "dataframe",
              "variable_name": "aapl_data",
              "summary": "{\n  \"name\": \"aapl_data\",\n  \"rows\": 5699,\n  \"fields\": [\n    {\n      \"column\": \"ticker\",\n      \"properties\": {\n        \"dtype\": \"category\",\n        \"num_unique_values\": 1,\n        \"samples\": [\n          \"AAPL\"\n        ],\n        \"semantic_type\": \"\",\n        \"description\": \"\"\n      }\n    },\n    {\n      \"column\": \"date\",\n      \"properties\": {\n        \"dtype\": \"date\",\n        \"min\": \"1998-10-19 00:00:00\",\n        \"max\": \"2021-06-11 00:00:00\",\n        \"num_unique_values\": 5699,\n        \"samples\": [\n          \"2004-07-08 00:00:00\"\n        ],\n        \"semantic_type\": \"\",\n        \"description\": \"\"\n      }\n    },\n    {\n      \"column\": \"close_adjusted\",\n      \"properties\": {\n        \"dtype\": \"number\",\n        \"std\": 0.15673341378952957,\n        \"min\": 0.0,\n        \"max\": 1.0,\n        \"num_unique_values\": 5203,\n        \"samples\": [\n          0.07674260267194458\n        ],\n        \"semantic_type\": \"\",\n        \"description\": \"\"\n      }\n    },\n    {\n      \"column\": \"RSI\",\n      \"properties\": {\n        \"dtype\": \"number\",\n        \"std\": 0.1850667188239901,\n        \"min\": 0.0,\n        \"max\": 1.0,\n        \"num_unique_values\": 5686,\n        \"samples\": [\n          0.4696421833748825\n        ],\n        \"semantic_type\": \"\",\n        \"description\": \"\"\n      }\n    },\n    {\n      \"column\": \"5_day_MA\",\n      \"properties\": {\n        \"dtype\": \"number\",\n        \"std\": 0.1578538389265183,\n        \"min\": 0.0,\n        \"max\": 0.9999999999999999,\n        \"num_unique_values\": 5648,\n        \"samples\": [\n          0.41596597256844053\n        ],\n        \"semantic_type\": \"\",\n        \"description\": \"\"\n      }\n    },\n    {\n      \"column\": \"10_day_MA\",\n      \"properties\": {\n        \"dtype\": \"number\",\n        \"std\": 0.16254850409264238,\n        \"min\": 0.0,\n        \"max\": 1.0,\n        \"num_unique_values\": 5682,\n        \"samples\": [\n          0.19101827181119352\n        ],\n        \"semantic_type\": \"\",\n        \"description\": \"\"\n      }\n    },\n    {\n      \"column\": \"20_day_MA\",\n      \"properties\": {\n        \"dtype\": \"number\",\n        \"std\": 0.16872697872762146,\n        \"min\": 0.0,\n        \"max\": 1.0000000000000002,\n        \"num_unique_values\": 5687,\n        \"samples\": [\n          0.14267962918809515\n        ],\n        \"semantic_type\": \"\",\n        \"description\": \"\"\n      }\n    },\n    {\n      \"column\": \"50_day_MA\",\n      \"properties\": {\n        \"dtype\": \"number\",\n        \"std\": 0.18913832345955256,\n        \"min\": 0.0,\n        \"max\": 1.0,\n        \"num_unique_values\": 5696,\n        \"samples\": [\n          0.0023355672369146426\n        ],\n        \"semantic_type\": \"\",\n        \"description\": \"\"\n      }\n    },\n    {\n      \"column\": \"100_day_MA\",\n      \"properties\": {\n        \"dtype\": \"number\",\n        \"std\": 0.21395481238525552,\n        \"min\": 0.0,\n        \"max\": 1.0,\n        \"num_unique_values\": 5696,\n        \"samples\": [\n          0.0023881416099480746\n        ],\n        \"semantic_type\": \"\",\n        \"description\": \"\"\n      }\n    },\n    {\n      \"column\": \"200_day_MA\",\n      \"properties\": {\n        \"dtype\": \"number\",\n        \"std\": 0.2351615372404487,\n        \"min\": 0.0,\n        \"max\": 0.9999999999999999,\n        \"num_unique_values\": 5698,\n        \"samples\": [\n          0.002093094476601676\n        ],\n        \"semantic_type\": \"\",\n        \"description\": \"\"\n      }\n    },\n    {\n      \"column\": \"MACD\",\n      \"properties\": {\n        \"dtype\": \"number\",\n        \"std\": 0.04721785125738958,\n        \"min\": 0.0,\n        \"max\": 1.0,\n        \"num_unique_values\": 5699,\n        \"samples\": [\n          0.7590747313518053\n        ],\n        \"semantic_type\": \"\",\n        \"description\": \"\"\n      }\n    },\n    {\n      \"column\": \"Signal_Line\",\n      \"properties\": {\n        \"dtype\": \"number\",\n        \"std\": 0.049596988634286444,\n        \"min\": 0.0,\n        \"max\": 1.0,\n        \"num_unique_values\": 5699,\n        \"samples\": [\n          0.7498797953057936\n        ],\n        \"semantic_type\": \"\",\n        \"description\": \"\"\n      }\n    },\n    {\n      \"column\": \"ticker_encoded\",\n      \"properties\": {\n        \"dtype\": \"number\",\n        \"std\": 0,\n        \"min\": 14,\n        \"max\": 14,\n        \"num_unique_values\": 1,\n        \"samples\": [\n          14\n        ],\n        \"semantic_type\": \"\",\n        \"description\": \"\"\n      }\n    },\n    {\n      \"column\": \"day_of_week\",\n      \"properties\": {\n        \"dtype\": \"int32\",\n        \"num_unique_values\": 5,\n        \"samples\": [\n          1\n        ],\n        \"semantic_type\": \"\",\n        \"description\": \"\"\n      }\n    }\n  ]\n}"
            }
          },
          "metadata": {},
          "execution_count": 77
        }
      ]
    },
    {
      "cell_type": "code",
      "source": [
        "numerical_columns"
      ],
      "metadata": {
        "id": "9A5WjC-RYk4u",
        "outputId": "ddc17aa2-901e-4efc-b614-57a06e934db4",
        "colab": {
          "base_uri": "https://localhost:8080/"
        }
      },
      "execution_count": 146,
      "outputs": [
        {
          "output_type": "execute_result",
          "data": {
            "text/plain": [
              "['close_adjusted',\n",
              " 'RSI',\n",
              " '5_day_MA',\n",
              " '10_day_MA',\n",
              " '20_day_MA',\n",
              " '50_day_MA',\n",
              " '100_day_MA',\n",
              " '200_day_MA',\n",
              " 'MACD',\n",
              " 'Signal_Line',\n",
              " 'day_of_week',\n",
              " 'ticker_encoded']"
            ]
          },
          "metadata": {},
          "execution_count": 146
        }
      ]
    },
    {
      "cell_type": "code",
      "source": [],
      "metadata": {
        "id": "PVLtzbERY3lq"
      },
      "execution_count": null,
      "outputs": []
    },
    {
      "cell_type": "code",
      "source": [
        "import numpy as np\n",
        "\n",
        "# Define function to create sequences for LSTM\n",
        "def create_sequences(data, target_column, time_steps=60):\n",
        "    X, y = [], []\n",
        "    for i in range(len(data) - time_steps):\n",
        "        X.append(data.iloc[i:i+time_steps].drop(columns=[target_column]).values)  # Input features excluding target\n",
        "        y.append(data.iloc[i+time_steps][target_column])  # Target value for close_adjusted\n",
        "    return np.array(X), np.array(y)\n",
        "\n",
        "# Assuming 'aapl_data' is your DataFrame with numerical features and 'close_adjusted' as target\n",
        "time_steps = 60  # Common choice for LSTMs\n",
        "X_train, y_train = create_sequences(aapl_data[numerical_columns], target_column='close_adjusted', time_steps=time_steps)\n",
        "\n",
        "# Display the shape of the prepared dataset\n",
        "print(f\"X_train shape: {X_train.shape}\")\n",
        "print(f\"y_train shape: {y_train.shape}\")\n"
      ],
      "metadata": {
        "id": "ChE8YXOqTE49",
        "outputId": "08fd1ddb-3158-456f-a7a2-cf8aa77d9ddf",
        "colab": {
          "base_uri": "https://localhost:8080/"
        }
      },
      "execution_count": 157,
      "outputs": [
        {
          "output_type": "stream",
          "name": "stdout",
          "text": [
            "X_train shape: (5639, 60, 11)\n",
            "y_train shape: (5639,)\n"
          ]
        }
      ]
    },
    {
      "cell_type": "code",
      "source": [
        "def simpler_lstm_model(sequence_length, num_features, lstm_units=50, dropout_rate=0.2):\n",
        "    input_layer = Input(shape=(sequence_length, num_features))\n",
        "    lstm_layer = LSTM(lstm_units, return_sequences=False, dropout=dropout_rate)(input_layer)\n",
        "    dense_layer = Dense(32, activation='relu')(lstm_layer)\n",
        "    output_layer = Dense(1, activation='linear')(dense_layer)\n",
        "    model = Model(inputs=input_layer, outputs=output_layer)\n",
        "    model.compile(optimizer='adam', loss='mean_squared_error', metrics=['mae'])\n",
        "    return model\n"
      ],
      "metadata": {
        "id": "wkjUtHIQVuVc"
      },
      "execution_count": 158,
      "outputs": []
    },
    {
      "cell_type": "code",
      "source": [
        "simple_lstm_model = create_simpler_lstm_model(\n",
        "    sequence_length=60,\n",
        "    num_features=len(numerical_columns)-1)"
      ],
      "metadata": {
        "id": "Z00ScLifVvE0"
      },
      "execution_count": 163,
      "outputs": []
    },
    {
      "cell_type": "code",
      "source": [
        "numerical_columns"
      ],
      "metadata": {
        "id": "EW4SV9KcXPEs",
        "outputId": "dc25e54d-abb2-4f11-8b69-2fcd8988648a",
        "colab": {
          "base_uri": "https://localhost:8080/"
        }
      },
      "execution_count": 151,
      "outputs": [
        {
          "output_type": "execute_result",
          "data": {
            "text/plain": [
              "['close_adjusted',\n",
              " 'RSI',\n",
              " '5_day_MA',\n",
              " '10_day_MA',\n",
              " '20_day_MA',\n",
              " '50_day_MA',\n",
              " '100_day_MA',\n",
              " '200_day_MA',\n",
              " 'MACD',\n",
              " 'Signal_Line',\n",
              " 'day_of_week',\n",
              " 'ticker_encoded']"
            ]
          },
          "metadata": {},
          "execution_count": 151
        }
      ]
    },
    {
      "cell_type": "code",
      "source": [
        "keras.backend.clear_session()"
      ],
      "metadata": {
        "id": "icEW0DqyXjXu"
      },
      "execution_count": 160,
      "outputs": []
    },
    {
      "cell_type": "code",
      "source": [
        "y_pred = simple_lstm_model.predict(X_sequences)"
      ],
      "metadata": {
        "id": "hNhi0djNaRz3",
        "outputId": "4bfc19a8-cf65-4cd3-97af-46f60ed54ba4",
        "colab": {
          "base_uri": "https://localhost:8080/",
          "height": 298
        }
      },
      "execution_count": 167,
      "outputs": [
        {
          "output_type": "error",
          "ename": "ValueError",
          "evalue": "Input 0 of layer \"Optimized_LSTM_Model_with_Attention\" is incompatible with the layer: expected shape=(None, 60, 11), found shape=(32, 60, 12)",
          "traceback": [
            "\u001b[0;31m---------------------------------------------------------------------------\u001b[0m",
            "\u001b[0;31mValueError\u001b[0m                                Traceback (most recent call last)",
            "\u001b[0;32m<ipython-input-167-8c40fd5942ed>\u001b[0m in \u001b[0;36m<cell line: 0>\u001b[0;34m()\u001b[0m\n\u001b[0;32m----> 1\u001b[0;31m \u001b[0my_pred\u001b[0m \u001b[0;34m=\u001b[0m \u001b[0msimple_lstm_model\u001b[0m\u001b[0;34m.\u001b[0m\u001b[0mpredict\u001b[0m\u001b[0;34m(\u001b[0m\u001b[0mX_sequences\u001b[0m\u001b[0;34m)\u001b[0m\u001b[0;34m\u001b[0m\u001b[0;34m\u001b[0m\u001b[0m\n\u001b[0m",
            "\u001b[0;32m/usr/local/lib/python3.11/dist-packages/keras/src/utils/traceback_utils.py\u001b[0m in \u001b[0;36merror_handler\u001b[0;34m(*args, **kwargs)\u001b[0m\n\u001b[1;32m    120\u001b[0m             \u001b[0;31m# To get the full stack trace, call:\u001b[0m\u001b[0;34m\u001b[0m\u001b[0;34m\u001b[0m\u001b[0m\n\u001b[1;32m    121\u001b[0m             \u001b[0;31m# `keras.config.disable_traceback_filtering()`\u001b[0m\u001b[0;34m\u001b[0m\u001b[0;34m\u001b[0m\u001b[0m\n\u001b[0;32m--> 122\u001b[0;31m             \u001b[0;32mraise\u001b[0m \u001b[0me\u001b[0m\u001b[0;34m.\u001b[0m\u001b[0mwith_traceback\u001b[0m\u001b[0;34m(\u001b[0m\u001b[0mfiltered_tb\u001b[0m\u001b[0;34m)\u001b[0m \u001b[0;32mfrom\u001b[0m \u001b[0;32mNone\u001b[0m\u001b[0;34m\u001b[0m\u001b[0;34m\u001b[0m\u001b[0m\n\u001b[0m\u001b[1;32m    123\u001b[0m         \u001b[0;32mfinally\u001b[0m\u001b[0;34m:\u001b[0m\u001b[0;34m\u001b[0m\u001b[0;34m\u001b[0m\u001b[0m\n\u001b[1;32m    124\u001b[0m             \u001b[0;32mdel\u001b[0m \u001b[0mfiltered_tb\u001b[0m\u001b[0;34m\u001b[0m\u001b[0;34m\u001b[0m\u001b[0m\n",
            "\u001b[0;32m/usr/local/lib/python3.11/dist-packages/keras/src/layers/input_spec.py\u001b[0m in \u001b[0;36massert_input_compatibility\u001b[0;34m(input_spec, inputs, layer_name)\u001b[0m\n\u001b[1;32m    243\u001b[0m                 \u001b[0;32mif\u001b[0m \u001b[0mspec_dim\u001b[0m \u001b[0;32mis\u001b[0m \u001b[0;32mnot\u001b[0m \u001b[0;32mNone\u001b[0m \u001b[0;32mand\u001b[0m \u001b[0mdim\u001b[0m \u001b[0;32mis\u001b[0m \u001b[0;32mnot\u001b[0m \u001b[0;32mNone\u001b[0m\u001b[0;34m:\u001b[0m\u001b[0;34m\u001b[0m\u001b[0;34m\u001b[0m\u001b[0m\n\u001b[1;32m    244\u001b[0m                     \u001b[0;32mif\u001b[0m \u001b[0mspec_dim\u001b[0m \u001b[0;34m!=\u001b[0m \u001b[0mdim\u001b[0m\u001b[0;34m:\u001b[0m\u001b[0;34m\u001b[0m\u001b[0;34m\u001b[0m\u001b[0m\n\u001b[0;32m--> 245\u001b[0;31m                         raise ValueError(\n\u001b[0m\u001b[1;32m    246\u001b[0m                             \u001b[0;34mf'Input {input_index} of layer \"{layer_name}\" is '\u001b[0m\u001b[0;34m\u001b[0m\u001b[0;34m\u001b[0m\u001b[0m\n\u001b[1;32m    247\u001b[0m                             \u001b[0;34m\"incompatible with the layer: \"\u001b[0m\u001b[0;34m\u001b[0m\u001b[0;34m\u001b[0m\u001b[0m\n",
            "\u001b[0;31mValueError\u001b[0m: Input 0 of layer \"Optimized_LSTM_Model_with_Attention\" is incompatible with the layer: expected shape=(None, 60, 11), found shape=(32, 60, 12)"
          ]
        }
      ]
    },
    {
      "cell_type": "code",
      "source": [
        "y_pred_rescaled = inverse_transform_predictions(y_pred, aapl_data.ticker_encoded.unique()[0])\n",
        "\n",
        "y_sequence_rescaled = inverse_transform_predictions(y_sequences, aapl_data.ticker_encoded.unique()[0])\n",
        "y_pred_rescaled = inverse_transform_predictions(y_pred, aapl_data.ticker_encoded.unique()[0])\n",
        "\n",
        "plt.figure(figsize=(12, 6))\n",
        "\n",
        "# Slice the date column to match the predictions\n",
        "dates = aapl_data['date'].iloc[sequence_length:].reset_index(drop=True)\n",
        "\n",
        "#y_pred_smoothed = pd.Series(y_pred_rescaled).rolling(window=10).mean()\n",
        "\n",
        "plt.plot(dates, y_sequence_rescaled, label='Actual Prices', alpha=0.8)\n",
        "plt.plot(dates, y_pred_rescaled, label='Predicted Prices', alpha=0.8)\n",
        "\n",
        "plt.title('Actual vs Predicted Prices for AAPL')\n",
        "plt.xlabel('Date')\n",
        "plt.ylabel('Stock Price')\n",
        "plt.legend()\n",
        "plt.grid()\n",
        "plt.xticks(rotation=45)  # Rotate x-axis labels for better readability\n",
        "plt.show()\n"
      ],
      "metadata": {
        "id": "9zF2_P7sVxya",
        "outputId": "756249c3-3f64-4702-9348-b45367ac90ac",
        "colab": {
          "base_uri": "https://localhost:8080/",
          "height": 585
        }
      },
      "execution_count": 178,
      "outputs": [
        {
          "output_type": "display_data",
          "data": {
            "text/plain": [
              "<Figure size 1200x600 with 1 Axes>"
            ],
            "image/png": "[encoded data removed]"
          },
          "metadata": {}
        }
      ]
    },
    {
      "cell_type": "code",
      "source": [
        "simple_lstm_model.fit(\n",
        "    X_train, y_train,\n",
        "    epochs=50,\n",
        "    callbacks=[early_stopping],  # Include checkpoint callback\n",
        "    verbose=1\n",
        ")\n"
      ],
      "metadata": {
        "id": "ovuEpbhQSs8c",
        "outputId": "82921d3c-d271-4deb-dabb-8e756b12c695",
        "colab": {
          "base_uri": "https://localhost:8080/"
        }
      },
      "execution_count": 164,
      "outputs": [
        {
          "output_type": "stream",
          "name": "stdout",
          "text": [
            "Epoch 1/50\n",
            "\u001b[1m177/177\u001b[0m \u001b[32m━━━━━━━━━━━━━━━━━━━━\u001b[0m\u001b[37m\u001b[0m \u001b[1m5s\u001b[0m 10ms/step - loss: 0.6538 - mae: 0.3360\n",
            "Epoch 2/50\n",
            "\u001b[1m177/177\u001b[0m \u001b[32m━━━━━━━━━━━━━━━━━━━━\u001b[0m\u001b[37m\u001b[0m \u001b[1m2s\u001b[0m 11ms/step - loss: 0.2495 - mae: 0.0754\n",
            "Epoch 3/50\n",
            "\u001b[1m177/177\u001b[0m \u001b[32m━━━━━━━━━━━━━━━━━━━━\u001b[0m\u001b[37m\u001b[0m \u001b[1m2s\u001b[0m 11ms/step - loss: 0.1014 - mae: 0.0674\n",
            "Epoch 4/50\n",
            "\u001b[1m177/177\u001b[0m \u001b[32m━━━━━━━━━━━━━━━━━━━━\u001b[0m\u001b[37m\u001b[0m \u001b[1m2s\u001b[0m 10ms/step - loss: 0.0407 - mae: 0.0632\n",
            "Epoch 5/50\n",
            "\u001b[1m177/177\u001b[0m \u001b[32m━━━━━━━━━━━━━━━━━━━━\u001b[0m\u001b[37m\u001b[0m \u001b[1m2s\u001b[0m 10ms/step - loss: 0.0174 - mae: 0.0572\n",
            "Epoch 6/50\n",
            "\u001b[1m177/177\u001b[0m \u001b[32m━━━━━━━━━━━━━━━━━━━━\u001b[0m\u001b[37m\u001b[0m \u001b[1m2s\u001b[0m 10ms/step - loss: 0.0091 - mae: 0.0588\n",
            "Epoch 7/50\n",
            "\u001b[1m177/177\u001b[0m \u001b[32m━━━━━━━━━━━━━━━━━━━━\u001b[0m\u001b[37m\u001b[0m \u001b[1m2s\u001b[0m 10ms/step - loss: 0.0053 - mae: 0.0519\n",
            "Epoch 8/50\n",
            "\u001b[1m177/177\u001b[0m \u001b[32m━━━━━━━━━━━━━━━━━━━━\u001b[0m\u001b[37m\u001b[0m \u001b[1m2s\u001b[0m 11ms/step - loss: 0.0036 - mae: 0.0460\n",
            "Epoch 9/50\n",
            "\u001b[1m177/177\u001b[0m \u001b[32m━━━━━━━━━━━━━━━━━━━━\u001b[0m\u001b[37m\u001b[0m \u001b[1m2s\u001b[0m 11ms/step - loss: 0.0036 - mae: 0.0485\n",
            "Epoch 10/50\n",
            "\u001b[1m177/177\u001b[0m \u001b[32m━━━━━━━━━━━━━━━━━━━━\u001b[0m\u001b[37m\u001b[0m \u001b[1m2s\u001b[0m 11ms/step - loss: 0.0031 - mae: 0.0465\n",
            "Epoch 11/50\n",
            "\u001b[1m177/177\u001b[0m \u001b[32m━━━━━━━━━━━━━━━━━━━━\u001b[0m\u001b[37m\u001b[0m \u001b[1m2s\u001b[0m 11ms/step - loss: 0.0033 - mae: 0.0490\n",
            "Epoch 12/50\n",
            "\u001b[1m177/177\u001b[0m \u001b[32m━━━━━━━━━━━━━━━━━━━━\u001b[0m\u001b[37m\u001b[0m \u001b[1m2s\u001b[0m 10ms/step - loss: 0.0034 - mae: 0.0490\n",
            "Epoch 13/50\n",
            "\u001b[1m177/177\u001b[0m \u001b[32m━━━━━━━━━━━━━━━━━━━━\u001b[0m\u001b[37m\u001b[0m \u001b[1m2s\u001b[0m 10ms/step - loss: 0.0027 - mae: 0.0430\n",
            "Epoch 14/50\n",
            "\u001b[1m177/177\u001b[0m \u001b[32m━━━━━━━━━━━━━━━━━━━━\u001b[0m\u001b[37m\u001b[0m \u001b[1m2s\u001b[0m 10ms/step - loss: 0.0026 - mae: 0.0428\n",
            "Epoch 15/50\n",
            "\u001b[1m177/177\u001b[0m \u001b[32m━━━━━━━━━━━━━━━━━━━━\u001b[0m\u001b[37m\u001b[0m \u001b[1m2s\u001b[0m 11ms/step - loss: 0.0032 - mae: 0.0471\n",
            "Epoch 16/50\n",
            "\u001b[1m177/177\u001b[0m \u001b[32m━━━━━━━━━━━━━━━━━━━━\u001b[0m\u001b[37m\u001b[0m \u001b[1m2s\u001b[0m 11ms/step - loss: 0.0027 - mae: 0.0420\n",
            "Epoch 17/50\n",
            "\u001b[1m177/177\u001b[0m \u001b[32m━━━━━━━━━━━━━━━━━━━━\u001b[0m\u001b[37m\u001b[0m \u001b[1m2s\u001b[0m 11ms/step - loss: 0.0027 - mae: 0.0429\n",
            "Epoch 18/50\n",
            "\u001b[1m177/177\u001b[0m \u001b[32m━━━━━━━━━━━━━━━━━━━━\u001b[0m\u001b[37m\u001b[0m \u001b[1m2s\u001b[0m 10ms/step - loss: 0.0026 - mae: 0.0420\n",
            "Epoch 19/50\n",
            "\u001b[1m177/177\u001b[0m \u001b[32m━━━━━━━━━━━━━━━━━━━━\u001b[0m\u001b[37m\u001b[0m \u001b[1m2s\u001b[0m 10ms/step - loss: 0.0024 - mae: 0.0401\n",
            "Epoch 20/50\n",
            "\u001b[1m177/177\u001b[0m \u001b[32m━━━━━━━━━━━━━━━━━━━━\u001b[0m\u001b[37m\u001b[0m \u001b[1m2s\u001b[0m 10ms/step - loss: 0.0023 - mae: 0.0395\n",
            "Epoch 21/50\n",
            "\u001b[1m177/177\u001b[0m \u001b[32m━━━━━━━━━━━━━━━━━━━━\u001b[0m\u001b[37m\u001b[0m \u001b[1m2s\u001b[0m 10ms/step - loss: 0.0031 - mae: 0.0465\n",
            "Epoch 22/50\n",
            "\u001b[1m177/177\u001b[0m \u001b[32m━━━━━━━━━━━━━━━━━━━━\u001b[0m\u001b[37m\u001b[0m \u001b[1m2s\u001b[0m 11ms/step - loss: 0.0026 - mae: 0.0412\n",
            "Epoch 23/50\n",
            "\u001b[1m177/177\u001b[0m \u001b[32m━━━━━━━━━━━━━━━━━━━━\u001b[0m\u001b[37m\u001b[0m \u001b[1m2s\u001b[0m 11ms/step - loss: 0.0025 - mae: 0.0406\n",
            "Epoch 24/50\n",
            "\u001b[1m177/177\u001b[0m \u001b[32m━━━━━━━━━━━━━━━━━━━━\u001b[0m\u001b[37m\u001b[0m \u001b[1m2s\u001b[0m 10ms/step - loss: 0.0025 - mae: 0.0406\n",
            "Epoch 25/50\n",
            "\u001b[1m177/177\u001b[0m \u001b[32m━━━━━━━━━━━━━━━━━━━━\u001b[0m\u001b[37m\u001b[0m \u001b[1m2s\u001b[0m 10ms/step - loss: 0.0025 - mae: 0.0395\n",
            "Epoch 26/50\n",
            "\u001b[1m177/177\u001b[0m \u001b[32m━━━━━━━━━━━━━━━━━━━━\u001b[0m\u001b[37m\u001b[0m \u001b[1m2s\u001b[0m 10ms/step - loss: 0.0023 - mae: 0.0391\n",
            "Epoch 27/50\n",
            "\u001b[1m177/177\u001b[0m \u001b[32m━━━━━━━━━━━━━━━━━━━━\u001b[0m\u001b[37m\u001b[0m \u001b[1m2s\u001b[0m 10ms/step - loss: 0.0022 - mae: 0.0364\n",
            "Epoch 28/50\n",
            "\u001b[1m177/177\u001b[0m \u001b[32m━━━━━━━━━━━━━━━━━━━━\u001b[0m\u001b[37m\u001b[0m \u001b[1m2s\u001b[0m 10ms/step - loss: 0.0023 - mae: 0.0375\n",
            "Epoch 29/50\n",
            "\u001b[1m177/177\u001b[0m \u001b[32m━━━━━━━━━━━━━━━━━━━━\u001b[0m\u001b[37m\u001b[0m \u001b[1m2s\u001b[0m 11ms/step - loss: 0.0025 - mae: 0.0398\n",
            "Epoch 30/50\n",
            "\u001b[1m177/177\u001b[0m \u001b[32m━━━━━━━━━━━━━━━━━━━━\u001b[0m\u001b[37m\u001b[0m \u001b[1m2s\u001b[0m 10ms/step - loss: 0.0022 - mae: 0.0375\n",
            "Epoch 31/50\n",
            "\u001b[1m177/177\u001b[0m \u001b[32m━━━━━━━━━━━━━━━━━━━━\u001b[0m\u001b[37m\u001b[0m \u001b[1m2s\u001b[0m 10ms/step - loss: 0.0022 - mae: 0.0359\n",
            "Epoch 32/50\n",
            "\u001b[1m177/177\u001b[0m \u001b[32m━━━━━━━━━━━━━━━━━━━━\u001b[0m\u001b[37m\u001b[0m \u001b[1m2s\u001b[0m 10ms/step - loss: 0.0021 - mae: 0.0357\n",
            "Epoch 33/50\n",
            "\u001b[1m177/177\u001b[0m \u001b[32m━━━━━━━━━━━━━━━━━━━━\u001b[0m\u001b[37m\u001b[0m \u001b[1m2s\u001b[0m 10ms/step - loss: 0.0020 - mae: 0.0353\n",
            "Epoch 34/50\n",
            "\u001b[1m177/177\u001b[0m \u001b[32m━━━━━━━━━━━━━━━━━━━━\u001b[0m\u001b[37m\u001b[0m \u001b[1m2s\u001b[0m 10ms/step - loss: 0.0022 - mae: 0.0364\n",
            "Epoch 35/50\n",
            "\u001b[1m177/177\u001b[0m \u001b[32m━━━━━━━━━━━━━━━━━━━━\u001b[0m\u001b[37m\u001b[0m \u001b[1m2s\u001b[0m 10ms/step - loss: 0.0022 - mae: 0.0367\n",
            "Epoch 36/50\n",
            "\u001b[1m177/177\u001b[0m \u001b[32m━━━━━━━━━━━━━━━━━━━━\u001b[0m\u001b[37m\u001b[0m \u001b[1m2s\u001b[0m 11ms/step - loss: 0.0021 - mae: 0.0356\n",
            "Epoch 37/50\n",
            "\u001b[1m177/177\u001b[0m \u001b[32m━━━━━━━━━━━━━━━━━━━━\u001b[0m\u001b[37m\u001b[0m \u001b[1m2s\u001b[0m 10ms/step - loss: 0.0017 - mae: 0.0318\n",
            "Epoch 38/50\n",
            "\u001b[1m177/177\u001b[0m \u001b[32m━━━━━━━━━━━━━━━━━━━━\u001b[0m\u001b[37m\u001b[0m \u001b[1m2s\u001b[0m 10ms/step - loss: 0.0015 - mae: 0.0301\n",
            "Epoch 39/50\n",
            "\u001b[1m177/177\u001b[0m \u001b[32m━━━━━━━━━━━━━━━━━━━━\u001b[0m\u001b[37m\u001b[0m \u001b[1m2s\u001b[0m 10ms/step - loss: 0.0016 - mae: 0.0305\n",
            "Epoch 40/50\n",
            "\u001b[1m177/177\u001b[0m \u001b[32m━━━━━━━━━━━━━━━━━━━━\u001b[0m\u001b[37m\u001b[0m \u001b[1m2s\u001b[0m 10ms/step - loss: 0.0019 - mae: 0.0334\n",
            "Epoch 41/50\n",
            "\u001b[1m177/177\u001b[0m \u001b[32m━━━━━━━━━━━━━━━━━━━━\u001b[0m\u001b[37m\u001b[0m \u001b[1m2s\u001b[0m 10ms/step - loss: 0.0018 - mae: 0.0315\n",
            "Epoch 42/50\n",
            "\u001b[1m177/177\u001b[0m \u001b[32m━━━━━━━━━━━━━━━━━━━━\u001b[0m\u001b[37m\u001b[0m \u001b[1m2s\u001b[0m 11ms/step - loss: 0.0019 - mae: 0.0338\n",
            "Epoch 43/50\n",
            "\u001b[1m177/177\u001b[0m \u001b[32m━━━━━━━━━━━━━━━━━━━━\u001b[0m\u001b[37m\u001b[0m \u001b[1m2s\u001b[0m 11ms/step - loss: 0.0021 - mae: 0.0363\n",
            "Epoch 44/50\n",
            "\u001b[1m177/177\u001b[0m \u001b[32m━━━━━━━━━━━━━━━━━━━━\u001b[0m\u001b[37m\u001b[0m \u001b[1m2s\u001b[0m 10ms/step - loss: 0.0016 - mae: 0.0302\n",
            "Epoch 45/50\n",
            "\u001b[1m177/177\u001b[0m \u001b[32m━━━━━━━━━━━━━━━━━━━━\u001b[0m\u001b[37m\u001b[0m \u001b[1m2s\u001b[0m 10ms/step - loss: 0.0016 - mae: 0.0296\n",
            "Epoch 46/50\n",
            "\u001b[1m177/177\u001b[0m \u001b[32m━━━━━━━━━━━━━━━━━━━━\u001b[0m\u001b[37m\u001b[0m \u001b[1m2s\u001b[0m 10ms/step - loss: 0.0017 - mae: 0.0292\n",
            "Epoch 47/50\n",
            "\u001b[1m177/177\u001b[0m \u001b[32m━━━━━━━━━━━━━━━━━━━━\u001b[0m\u001b[37m\u001b[0m \u001b[1m2s\u001b[0m 10ms/step - loss: 0.0017 - mae: 0.0293\n",
            "Epoch 48/50\n",
            "\u001b[1m177/177\u001b[0m \u001b[32m━━━━━━━━━━━━━━━━━━━━\u001b[0m\u001b[37m\u001b[0m \u001b[1m2s\u001b[0m 10ms/step - loss: 0.0022 - mae: 0.0357\n",
            "Epoch 49/50\n",
            "\u001b[1m177/177\u001b[0m \u001b[32m━━━━━━━━━━━━━━━━━━━━\u001b[0m\u001b[37m\u001b[0m \u001b[1m2s\u001b[0m 11ms/step - loss: 0.0017 - mae: 0.0300\n",
            "Epoch 50/50\n",
            "\u001b[1m177/177\u001b[0m \u001b[32m━━━━━━━━━━━━━━━━━━━━\u001b[0m\u001b[37m\u001b[0m \u001b[1m2s\u001b[0m 11ms/step - loss: 0.0021 - mae: 0.0326\n"
          ]
        },
        {
          "output_type": "execute_result",
          "data": {
            "text/plain": [
              "<keras.src.callbacks.history.History at 0x7b4a54361990>"
            ]
          },
          "metadata": {},
          "execution_count": 164
        }
      ]
    }
  ],
  "metadata": {
    "accelerator": "GPU",
    "colab": {
      "gpuType": "L4",
      "machine_shape": "hm",
      "provenance": [],
      "include_colab_link": true
    },
    "kernelspec": {
      "display_name": "Python 3",
      "name": "python3"
    },
    "language_info": {
      "codemirror_mode": {
        "name": "ipython",
        "version": 3
      },
      "file_extension": ".py",
      "mimetype": "text/x-python",
      "name": "python",
      "nbconvert_exporter": "python",
      "pygments_lexer": "ipython3",
      "version": "3.12.5"
    }
  },
  "nbformat": 4,
  "nbformat_minor": 0
}