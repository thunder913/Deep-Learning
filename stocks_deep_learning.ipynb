{
  "cells": [
    {
      "cell_type": "markdown",
      "metadata": {
        "id": "view-in-github",
        "colab_type": "text"
      },
      "source": [
        "<a href=\"https://colab.research.google.com/github/thunder913/Deep-Learning/blob/main/stocks_deep_learning.ipynb\" target=\"_parent\"><img src=\"https://colab.research.google.com/assets/colab-badge.svg\" alt=\"Open In Colab\"/></a>"
      ]
    },
    {
      "cell_type": "code",
      "execution_count": 1,
      "metadata": {
        "id": "nRipiC402E58"
      },
      "outputs": [],
      "source": [
        "import kagglehub\n",
        "import numpy as np\n",
        "import os\n",
        "import pandas as pd\n",
        "import kagglehub\n",
        "import matplotlib.pyplot as plt\n",
        "import pickle\n",
        "import pdb\n",
        "import tensorflow as tf\n",
        "import keras\n",
        "\n",
        "from sklearn.preprocessing import MinMaxScaler, LabelEncoder\n",
        "from tensorflow.keras.models import Model, Sequential\n",
        "from tensorflow.keras.layers import Input, Embedding, LSTM, Dropout, Dense, Concatenate, BatchNormalization, AdditiveAttention, Multiply, Flatten\n",
        "from sklearn.model_selection import train_test_split\n",
        "from tensorflow.keras.callbacks import EarlyStopping\n",
        "from tensorflow.keras.callbacks import ModelCheckpoint, EarlyStopping"
      ]
    },
    {
      "cell_type": "code",
      "execution_count": 2,
      "metadata": {
        "colab": {
          "base_uri": "https://localhost:8080/"
        },
        "id": "dZuQT6mT310m",
        "outputId": "539f9186-54b2-40aa-ef8f-86bf7bb0df63"
      },
      "outputs": [
        {
          "output_type": "stream",
          "name": "stdout",
          "text": [
            "Mounted at /content/drive\n"
          ]
        }
      ],
      "source": [
        "from google.colab import drive\n",
        "drive.mount('/content/drive', force_remount=True)"
      ]
    },
    {
      "cell_type": "markdown",
      "metadata": {
        "id": "9mLjSTIX6brT"
      },
      "source": [
        "# Stocks LSTM Prediction"
      ]
    },
    {
      "cell_type": "code",
      "execution_count": 3,
      "metadata": {
        "colab": {
          "base_uri": "https://localhost:8080/"
        },
        "id": "m4LWM0B06TdW",
        "outputId": "aa6929b1-93f2-4d95-cb25-1e380adeccb7"
      },
      "outputs": [
        {
          "output_type": "stream",
          "name": "stdout",
          "text": [
            "Downloading from https://www.kaggle.com/api/v1/datasets/download/tsaustin/us-historical-stock-prices-with-earnings-data?dataset_version_number=7...\n"
          ]
        },
        {
          "output_type": "stream",
          "name": "stderr",
          "text": [
            "100%|██████████| 463M/463M [00:04<00:00, 98.5MB/s]"
          ]
        },
        {
          "output_type": "stream",
          "name": "stdout",
          "text": [
            "Extracting files...\n"
          ]
        },
        {
          "output_type": "stream",
          "name": "stderr",
          "text": [
            "\n"
          ]
        }
      ],
      "source": [
        "google_drive_path = 'drive/MyDrive/DL_Pickles/'\n",
        "\n",
        "path = kagglehub.dataset_download(\"tsaustin/us-historical-stock-prices-with-earnings-data\")\n",
        "\n",
        "stock_prices_path = f\"{path}/stocks_latest/stock_prices_latest.csv\"\n",
        "\n",
        "stock_data_path = f\"./{google_drive_path}/stock_data_processed.pkl\"\n",
        "scaler_path = f\"./{google_drive_path}/scalers.pkl\"\n",
        "\n",
        "data_path = f\"./{google_drive_path}/scaled_stock_data.pkl\"  # Path to store scaled DataFrame"
      ]
    },
    {
      "cell_type": "code",
      "execution_count": 4,
      "metadata": {
        "id": "tzH_Y404-3Pq"
      },
      "outputs": [],
      "source": [
        "def calculate_rsi(group, period = 14):\n",
        "    delta = group['close_adjusted'].diff()\n",
        "\n",
        "    gain = delta.where(delta > 0, 0)\n",
        "    loss = -delta.where(delta < 0, 0)\n",
        "    avg_gain = gain.rolling(window=period, min_periods=1).mean()\n",
        "    avg_loss = loss.rolling(window=period, min_periods=1).mean()\n",
        "\n",
        "    rs = avg_gain / np.where(avg_loss != 0, avg_loss, 1)\n",
        "\n",
        "    group['RSI'] = 100 - (100 / (1 + rs))\n",
        "\n",
        "    return group\n",
        "\n",
        "def calculate_macd(group, short_window=12, long_window=26, signal_window=9):\n",
        "    # Calculate EMA short and long\n",
        "    ema_short = group['close_adjusted'].ewm(span=short_window, adjust=False).mean()\n",
        "    ema_long = group['close_adjusted'].ewm(span=long_window, adjust=False).mean()\n",
        "\n",
        "    # Calculate MACD and Signal Line\n",
        "    group['MACD'] = ema_short - ema_long\n",
        "    group['Signal_Line'] = group['MACD'].ewm(span=signal_window, adjust=False).mean()\n",
        "\n",
        "    return group"
      ]
    },
    {
      "cell_type": "code",
      "execution_count": 5,
      "metadata": {
        "id": "t05FbYEL2ouo"
      },
      "outputs": [],
      "source": [
        "def get_peak_price_and_days_ago(df):\n",
        "    \"\"\"\n",
        "    Calculate the peak price over a rolling 90-day window and determine the number of days\n",
        "    since the peak price for each row in the DataFrame.\n",
        "    \"\"\"\n",
        "\n",
        "    #df['peak_price'] = df['close'].rolling(window=90, min_periods=1).max()\n",
        "    #peak_day_index = df['close'].rolling(window=90, min_periods=1).apply(lambda x: (len(x) - 1 - x.argmax()), raw=False)\n",
        "    #df['peak_days_ago'] = peak_day_index.fillna(0).astype(int)  # Fill NaN for rows that don't have enough data\n",
        "    return df\n",
        "\n",
        "def process_ticker_data(df):\n",
        "    \"\"\"\n",
        "    Add historical price features for specific days ago for each stock (grouped by ticker).\n",
        "    Also calculate the peak price and days since the peak price for each stock.\n",
        "    \"\"\"\n",
        "\n",
        "    print('Calculated RSI')\n",
        "    # Calculate RSI (14-day by default)\n",
        "    df = df.groupby('ticker', group_keys=False).apply(calculate_rsi)\n",
        "\n",
        "    print('Calculated moving averages')\n",
        "    # Add moving averages\n",
        "    moving_average_windows = [5, 10, 20, 50, 100, 200]  # Specify moving average windows\n",
        "    for window in moving_average_windows:\n",
        "        df[f'{window}_day_MA'] = df.groupby('ticker')['close_adjusted'].rolling(window=window, min_periods=1).mean().reset_index(level=0, drop=True)\n",
        "\n",
        "    print('Calculated MACD')\n",
        "    # Calculate MACD and Signal Line\n",
        "\n",
        "    df = df.groupby('ticker', group_keys=False).apply(calculate_macd)\n",
        "\n",
        "    print('Calculated price days ago')\n",
        "    # Add columns for prices X days ago\n",
        "    #for days in [1,2,3,4,5, 10, 15, 30, 60, 90]:\n",
        "    #    df[f'price_{days}_days_ago'] = df.groupby('ticker')['close_adjusted'].shift(days)\n",
        "\n",
        "    df = df.groupby('ticker', group_keys=False).apply(get_peak_price_and_days_ago)\n",
        "\n",
        "    # Remove the first 200 rows for each ticker\n",
        "    df = df.groupby('ticker').apply(lambda group: group.iloc[200:]).reset_index(drop=True)\n",
        "\n",
        "    return df"
      ]
    },
    {
      "cell_type": "code",
      "execution_count": 6,
      "metadata": {
        "id": "X77BT2ky4Gzs"
      },
      "outputs": [],
      "source": [
        "def scale_stock_data(stock_data_tidy, numerical_columns):\n",
        "    \"\"\"\n",
        "    Scales numerical columns for each stock ticker independently using MinMaxScaler.\n",
        "\n",
        "    - Loads existing scalers and scaled data if available.\n",
        "    - Trains and saves new scalers & scaled data if they don’t exist.\n",
        "    - Returns a new scaled DataFrame without modifying the original.\n",
        "\n",
        "    Args:\n",
        "        stock_data_tidy: The input stock data.\n",
        "        numerical_columns: The numerical column names, that need to be rescaled.\n",
        "\n",
        "    Returns:\n",
        "        pd.DataFrame: The scaled stock data.\n",
        "    \"\"\"\n",
        "\n",
        "    if os.path.exists(scaler_path) and os.path.exists(data_path):\n",
        "        print(\"Loading existing scalers and scaled data...\")\n",
        "\n",
        "        # Load scalers\n",
        "        with open(scaler_path, \"rb\") as f:\n",
        "            scalers = pickle.load(f)\n",
        "\n",
        "        # Load scaled stock data\n",
        "        with open(data_path, \"rb\") as f:\n",
        "            new_data_tidy_rescaled = pickle.load(f)\n",
        "\n",
        "        print(\"Loaded scalers and scaled data from file.\")\n",
        "        return new_data_tidy_rescaled\n",
        "\n",
        "    # If files don't exist, compute scalers and scaled data\n",
        "    print(\"Recalculating scalers and scaled data...\")\n",
        "    scalers = {}  # Create scalers dictionary\n",
        "    new_data_tidy_rescaled = []  # Store transformed data\n",
        "\n",
        "    for ticker in stock_data_tidy['ticker_encoded'].unique():\n",
        "        print(f\"Processing ticker: {ticker}\")\n",
        "\n",
        "        ticker_data = stock_data_tidy[stock_data_tidy['ticker_encoded'] == ticker].copy()\n",
        "\n",
        "        scaler = MinMaxScaler()\n",
        "        scalers[ticker] = scaler.fit(ticker_data[numerical_columns])\n",
        "\n",
        "        ticker_data.loc[:, numerical_columns] = scaler.transform(ticker_data[numerical_columns])\n",
        "\n",
        "        new_data_tidy_rescaled.append(ticker_data)\n",
        "\n",
        "    new_data_tidy_rescaled = pd.concat(new_data_tidy_rescaled, ignore_index=True)\n",
        "\n",
        "    with open(scaler_path, \"wb\") as f:\n",
        "        pickle.dump(scalers, f)\n",
        "\n",
        "    with open(data_path, \"wb\") as f:\n",
        "        pickle.dump(new_data_tidy_rescaled, f)\n",
        "\n",
        "    print(\"Saved scalers and scaled data to file.\")\n",
        "\n",
        "    return new_data_tidy_rescaled"
      ]
    },
    {
      "cell_type": "code",
      "execution_count": 7,
      "metadata": {
        "id": "xJ1b97Qr227G"
      },
      "outputs": [],
      "source": [
        "def getTidiedStockData():\n",
        "    \"\"\"\n",
        "    Read and tidy the stock data dataset. If the processed stock data already exists as a pickle file,\n",
        "    it loads and returns the data. Otherwise, it processes the raw stock data, cleans it, adds features,\n",
        "    and saves the tidy data to a pickle file for future use.\n",
        "    \"\"\"\n",
        "\n",
        "    # Check if the file exists\n",
        "    if os.path.exists(stock_data_path):\n",
        "        print('found pickle')\n",
        "        return pd.read_pickle(stock_data_path)\n",
        "\n",
        "    # Read the basic data and some tidying\n",
        "    stock_data = pd.read_csv(stock_prices_path)\n",
        "    stock_data_tidy = stock_data\n",
        "\n",
        "    stock_data_tidy.date = pd.to_datetime(stock_data_tidy.date)\n",
        "    stock_data_tidy = stock_data_tidy.rename(columns={'symbol': 'ticker'})\n",
        "    stock_data_tidy = stock_data_tidy.drop(columns=['split_coefficient'])\n",
        "\n",
        "    stock_data_tidy = stock_data_tidy.sort_values(by=['ticker', 'date'], ascending=[True, True])\n",
        "\n",
        "    stock_data_tidy = process_ticker_data(stock_data_tidy)\n",
        "    stock_data_tidy = stock_data_tidy.drop(columns=['open', 'high', 'low', 'close', 'volume'])\n",
        "\n",
        "    # Encode labels\n",
        "    le = LabelEncoder()\n",
        "    stock_data_tidy['ticker_encoded'] = le.fit_transform(stock_data_tidy['ticker'])\n",
        "\n",
        "    stock_data_tidy['day_of_week'] = stock_data_tidy['date'].dt.dayofweek\n",
        "\n",
        "    stock_data_tidy = scale_stock_data(stock_data_tidy, numerical_columns)\n",
        "\n",
        "    stock_data_tidy.to_pickle(stock_data_path)\n",
        "\n",
        "    return stock_data_tidy"
      ]
    },
    {
      "cell_type": "code",
      "execution_count": 8,
      "metadata": {
        "colab": {
          "base_uri": "https://localhost:8080/"
        },
        "id": "4cshH8fp26rN",
        "outputId": "01eccdee-edc8-4554-a491-631c47100f3a"
      },
      "outputs": [
        {
          "output_type": "stream",
          "name": "stdout",
          "text": [
            "found pickle\n"
          ]
        }
      ],
      "source": [
        "numerical_columns = [\n",
        "    'close_adjusted', 'RSI', '5_day_MA', '10_day_MA',\n",
        "    '20_day_MA', '50_day_MA', '100_day_MA', '200_day_MA',\n",
        "    'MACD', 'Signal_Line'\n",
        "]\n",
        "\n",
        "stock_data_tidy = getTidiedStockData()\n",
        "\n",
        "with open(scaler_path, \"rb\") as f:\n",
        "    scalers = pickle.load(f)"
      ]
    },
    {
      "cell_type": "code",
      "execution_count": 9,
      "metadata": {
        "id": "2TEdcdlMw4W8"
      },
      "outputs": [],
      "source": [
        "def plot_stock_chart(stock_data_tidy, ticker, start_date=None, end_date=None):\n",
        "    \"\"\"\n",
        "    Plot a stock chart for a specific ticker.\n",
        "\n",
        "    Parameters:\n",
        "        stock_data_tidy (DataFrame): The DataFrame containing stock data.\n",
        "        ticker (str): The ticker to plot.\n",
        "        start_date (str): Optional start date (e.g., '2023-01-01').\n",
        "        end_date (str): Optional end date (e.g., '2023-12-31').\n",
        "    \"\"\"\n",
        "    # Filter data for the specific ticker and date range\n",
        "    stock_data_tidy['date'] = pd.to_datetime(stock_data_tidy['date'])\n",
        "    filtered_data = stock_data_tidy[stock_data_tidy['ticker'] == ticker]\n",
        "\n",
        "    if start_date:\n",
        "        filtered_data = filtered_data[filtered_data['date'] >= start_date]\n",
        "    if end_date:\n",
        "        filtered_data = filtered_data[filtered_data['date'] <= end_date]\n",
        "\n",
        "    # Ensure data is sorted by date\n",
        "    filtered_data = filtered_data.sort_values(by='date')\n",
        "\n",
        "    # Plot the stock chart\n",
        "    plt.figure(figsize=(12, 6))\n",
        "    plt.plot(filtered_data['date'], filtered_data['close_adjusted'], label='Close Price', color='blue', linewidth=2)\n",
        "\n",
        "    # Add moving averages if they exist in the DataFrame\n",
        "    for col in ['5_day_MA', '10_day_MA', '50_day_MA']:\n",
        "        if col in filtered_data.columns:\n",
        "            plt.plot(filtered_data['date'], filtered_data[col], label=col, linestyle='--')\n",
        "\n",
        "    # Chart settings\n",
        "    plt.title(f\"Stock Chart for {ticker}\", fontsize=16)\n",
        "    plt.xlabel(\"Date\", fontsize=12)\n",
        "    plt.ylabel(\"Price\", fontsize=12)\n",
        "    plt.legend(loc=\"best\", fontsize=10)\n",
        "    plt.grid(alpha=0.3)\n",
        "    plt.show()"
      ]
    },
    {
      "cell_type": "code",
      "execution_count": 10,
      "metadata": {
        "colab": {
          "base_uri": "https://localhost:8080/",
          "height": 570
        },
        "id": "ktc--cX1xKbo",
        "outputId": "e83e6983-a9aa-4dbf-cabc-7164a9a5b832"
      },
      "outputs": [
        {
          "output_type": "display_data",
          "data": {
            "text/plain": [
              "<Figure size 1200x600 with 1 Axes>"
            ],
            "image/png": "[encoded data removed]"
          },
          "metadata": {}
        }
      ],
      "source": [
        "plot_stock_chart(stock_data_tidy, ticker='AAPL', start_date='2021-01-01', end_date='2022-12-31')"
      ]
    },
    {
      "cell_type": "code",
      "execution_count": 11,
      "metadata": {
        "colab": {
          "base_uri": "https://localhost:8080/",
          "height": 617
        },
        "id": "8JO8INAP7aEo",
        "outputId": "0b2b1d21-7d22-479c-9d84-789b907230c3"
      },
      "outputs": [
        {
          "output_type": "execute_result",
          "data": {
            "text/plain": [
              "         ticker       date  close_adjusted       RSI  5_day_MA  10_day_MA  \\\n",
              "0             A 2000-09-05        0.264907  0.861415  0.267190   0.263481   \n",
              "1             A 2000-09-06        0.255498  0.802317  0.264028   0.263213   \n",
              "2             A 2000-09-07        0.265271  0.793422  0.264555   0.263952   \n",
              "3             A 2000-09-08        0.251599  0.574629  0.262711   0.263684   \n",
              "4             A 2000-09-11        0.238604  0.393577  0.257305   0.262748   \n",
              "...         ...        ...             ...       ...       ...        ...   \n",
              "22842278   ZYXI 2021-06-07        0.550810  0.732705  0.582282   0.581736   \n",
              "22842279   ZYXI 2021-06-08        0.563063  0.716218  0.585422   0.587154   \n",
              "22842280   ZYXI 2021-06-09        0.562363  0.741475  0.591402   0.594646   \n",
              "22842281   ZYXI 2021-06-10        0.561663  0.700733  0.594542   0.600448   \n",
              "22842282   ZYXI 2021-06-11        0.550109  0.634743  0.594542   0.602638   \n",
              "\n",
              "          20_day_MA  50_day_MA  100_day_MA  200_day_MA  ...  price_3_days_ago  \\\n",
              "0          0.221243   0.243935    0.305796    0.376189  ...           41.7206   \n",
              "1          0.226976   0.242257    0.304060    0.376823  ...           41.4623   \n",
              "2          0.233082   0.240753    0.302856    0.377403  ...           42.0605   \n",
              "3          0.238560   0.238506    0.301684    0.378017  ...           42.0129   \n",
              "4          0.242921   0.236384    0.299933    0.378527  ...           40.7826   \n",
              "...             ...        ...         ...         ...  ...               ...   \n",
              "22842278   0.582730   0.668157    0.818492    0.879116  ...           15.2800   \n",
              "22842279   0.586742   0.669251    0.819131    0.878953  ...           15.6400   \n",
              "22842280   0.590815   0.670381    0.818896    0.878901  ...           15.7300   \n",
              "22842281   0.595007   0.671556    0.818661    0.879093  ...           15.7500   \n",
              "22842282   0.599499   0.671968    0.817475    0.879114  ...           16.1000   \n",
              "\n",
              "          price_4_days_ago  price_5_days_ago  price_10_days_ago  \\\n",
              "0                  42.8218           39.8514            41.1225   \n",
              "1                  41.7206           42.8218            41.1225   \n",
              "2                  41.4623           41.7206            41.1225   \n",
              "3                  42.0605           41.4623            40.6127   \n",
              "4                  42.0129           42.0605            39.7631   \n",
              "...                    ...               ...                ...   \n",
              "22842278           15.6800           15.2200            14.7800   \n",
              "22842279           15.2800           15.6800            14.6900   \n",
              "22842280           15.6400           15.2800            14.1300   \n",
              "22842281           15.7300           15.6400            14.5500   \n",
              "22842282           15.7500           15.7300            15.1600   \n",
              "\n",
              "          price_15_days_ago  price_30_days_ago  price_60_days_ago  \\\n",
              "0                   29.5674            33.6457            48.1779   \n",
              "1                   29.2276            30.4170            44.8609   \n",
              "2                   29.5674            29.2276            46.9408   \n",
              "3                   31.6065            27.6982            46.0504   \n",
              "4                   38.3221            28.0381            44.8201   \n",
              "...                     ...                ...                ...   \n",
              "22842278            13.8700            16.1800            16.9800   \n",
              "22842279            13.8200            16.3600            16.8700   \n",
              "22842280            14.4100            16.2200            16.3300   \n",
              "22842281            14.2500            16.2600            16.0750   \n",
              "22842282            14.7200            16.0300            16.3000   \n",
              "\n",
              "          price_90_days_ago  ticker_encoded  day_of_week  \n",
              "0                   61.6837               0            1  \n",
              "1                   60.2427               0            2  \n",
              "2                   64.8308               0            3  \n",
              "3                   68.5148               0            4  \n",
              "4                   62.1935               0            0  \n",
              "...                     ...             ...          ...  \n",
              "22842278            21.7100            7643            0  \n",
              "22842279            20.2900            7643            1  \n",
              "22842280            18.0700            7643            2  \n",
              "22842281            18.1700            7643            3  \n",
              "22842282            19.5100            7643            4  \n",
              "\n",
              "[22842283 rows x 24 columns]"
            ],
            "text/html": [
              "\n",
              "  <div id=\"df-882ff49b-9002-4123-8880-20c6f47b8e82\" class=\"colab-df-container\">\n",
              "    <div>\n",
              "<style scoped>\n",
              "    .dataframe tbody tr th:only-of-type {\n",
              "        vertical-align: middle;\n",
              "    }\n",
              "\n",
              "    .dataframe tbody tr th {\n",
              "        vertical-align: top;\n",
              "    }\n",
              "\n",
              "    .dataframe thead th {\n",
              "        text-align: right;\n",
              "    }\n",
              "</style>\n",
              "<table border=\"1\" class=\"dataframe\">\n",
              "  <thead>\n",
              "    <tr style=\"text-align: right;\">\n",
              "      <th></th>\n",
              "      <th>ticker</th>\n",
              "      <th>date</th>\n",
              "      <th>close_adjusted</th>\n",
              "      <th>RSI</th>\n",
              "      <th>5_day_MA</th>\n",
              "      <th>10_day_MA</th>\n",
              "      <th>20_day_MA</th>\n",
              "      <th>50_day_MA</th>\n",
              "      <th>100_day_MA</th>\n",
              "      <th>200_day_MA</th>\n",
              "      <th>...</th>\n",
              "      <th>price_3_days_ago</th>\n",
              "      <th>price_4_days_ago</th>\n",
              "      <th>price_5_days_ago</th>\n",
              "      <th>price_10_days_ago</th>\n",
              "      <th>price_15_days_ago</th>\n",
              "      <th>price_30_days_ago</th>\n",
              "      <th>price_60_days_ago</th>\n",
              "      <th>price_90_days_ago</th>\n",
              "      <th>ticker_encoded</th>\n",
              "      <th>day_of_week</th>\n",
              "    </tr>\n",
              "  </thead>\n",
              "  <tbody>\n",
              "    <tr>\n",
              "      <th>0</th>\n",
              "      <td>A</td>\n",
              "      <td>2000-09-05</td>\n",
              "      <td>0.264907</td>\n",
              "      <td>0.861415</td>\n",
              "      <td>0.267190</td>\n",
              "      <td>0.263481</td>\n",
              "      <td>0.221243</td>\n",
              "      <td>0.243935</td>\n",
              "      <td>0.305796</td>\n",
              "      <td>0.376189</td>\n",
              "      <td>...</td>\n",
              "      <td>41.7206</td>\n",
              "      <td>42.8218</td>\n",
              "      <td>39.8514</td>\n",
              "      <td>41.1225</td>\n",
              "      <td>29.5674</td>\n",
              "      <td>33.6457</td>\n",
              "      <td>48.1779</td>\n",
              "      <td>61.6837</td>\n",
              "      <td>0</td>\n",
              "      <td>1</td>\n",
              "    </tr>\n",
              "    <tr>\n",
              "      <th>1</th>\n",
              "      <td>A</td>\n",
              "      <td>2000-09-06</td>\n",
              "      <td>0.255498</td>\n",
              "      <td>0.802317</td>\n",
              "      <td>0.264028</td>\n",
              "      <td>0.263213</td>\n",
              "      <td>0.226976</td>\n",
              "      <td>0.242257</td>\n",
              "      <td>0.304060</td>\n",
              "      <td>0.376823</td>\n",
              "      <td>...</td>\n",
              "      <td>41.4623</td>\n",
              "      <td>41.7206</td>\n",
              "      <td>42.8218</td>\n",
              "      <td>41.1225</td>\n",
              "      <td>29.2276</td>\n",
              "      <td>30.4170</td>\n",
              "      <td>44.8609</td>\n",
              "      <td>60.2427</td>\n",
              "      <td>0</td>\n",
              "      <td>2</td>\n",
              "    </tr>\n",
              "    <tr>\n",
              "      <th>2</th>\n",
              "      <td>A</td>\n",
              "      <td>2000-09-07</td>\n",
              "      <td>0.265271</td>\n",
              "      <td>0.793422</td>\n",
              "      <td>0.264555</td>\n",
              "      <td>0.263952</td>\n",
              "      <td>0.233082</td>\n",
              "      <td>0.240753</td>\n",
              "      <td>0.302856</td>\n",
              "      <td>0.377403</td>\n",
              "      <td>...</td>\n",
              "      <td>42.0605</td>\n",
              "      <td>41.4623</td>\n",
              "      <td>41.7206</td>\n",
              "      <td>41.1225</td>\n",
              "      <td>29.5674</td>\n",
              "      <td>29.2276</td>\n",
              "      <td>46.9408</td>\n",
              "      <td>64.8308</td>\n",
              "      <td>0</td>\n",
              "      <td>3</td>\n",
              "    </tr>\n",
              "    <tr>\n",
              "      <th>3</th>\n",
              "      <td>A</td>\n",
              "      <td>2000-09-08</td>\n",
              "      <td>0.251599</td>\n",
              "      <td>0.574629</td>\n",
              "      <td>0.262711</td>\n",
              "      <td>0.263684</td>\n",
              "      <td>0.238560</td>\n",
              "      <td>0.238506</td>\n",
              "      <td>0.301684</td>\n",
              "      <td>0.378017</td>\n",
              "      <td>...</td>\n",
              "      <td>42.0129</td>\n",
              "      <td>42.0605</td>\n",
              "      <td>41.4623</td>\n",
              "      <td>40.6127</td>\n",
              "      <td>31.6065</td>\n",
              "      <td>27.6982</td>\n",
              "      <td>46.0504</td>\n",
              "      <td>68.5148</td>\n",
              "      <td>0</td>\n",
              "      <td>4</td>\n",
              "    </tr>\n",
              "    <tr>\n",
              "      <th>4</th>\n",
              "      <td>A</td>\n",
              "      <td>2000-09-11</td>\n",
              "      <td>0.238604</td>\n",
              "      <td>0.393577</td>\n",
              "      <td>0.257305</td>\n",
              "      <td>0.262748</td>\n",
              "      <td>0.242921</td>\n",
              "      <td>0.236384</td>\n",
              "      <td>0.299933</td>\n",
              "      <td>0.378527</td>\n",
              "      <td>...</td>\n",
              "      <td>40.7826</td>\n",
              "      <td>42.0129</td>\n",
              "      <td>42.0605</td>\n",
              "      <td>39.7631</td>\n",
              "      <td>38.3221</td>\n",
              "      <td>28.0381</td>\n",
              "      <td>44.8201</td>\n",
              "      <td>62.1935</td>\n",
              "      <td>0</td>\n",
              "      <td>0</td>\n",
              "    </tr>\n",
              "    <tr>\n",
              "      <th>...</th>\n",
              "      <td>...</td>\n",
              "      <td>...</td>\n",
              "      <td>...</td>\n",
              "      <td>...</td>\n",
              "      <td>...</td>\n",
              "      <td>...</td>\n",
              "      <td>...</td>\n",
              "      <td>...</td>\n",
              "      <td>...</td>\n",
              "      <td>...</td>\n",
              "      <td>...</td>\n",
              "      <td>...</td>\n",
              "      <td>...</td>\n",
              "      <td>...</td>\n",
              "      <td>...</td>\n",
              "      <td>...</td>\n",
              "      <td>...</td>\n",
              "      <td>...</td>\n",
              "      <td>...</td>\n",
              "      <td>...</td>\n",
              "      <td>...</td>\n",
              "    </tr>\n",
              "    <tr>\n",
              "      <th>22842278</th>\n",
              "      <td>ZYXI</td>\n",
              "      <td>2021-06-07</td>\n",
              "      <td>0.550810</td>\n",
              "      <td>0.732705</td>\n",
              "      <td>0.582282</td>\n",
              "      <td>0.581736</td>\n",
              "      <td>0.582730</td>\n",
              "      <td>0.668157</td>\n",
              "      <td>0.818492</td>\n",
              "      <td>0.879116</td>\n",
              "      <td>...</td>\n",
              "      <td>15.2800</td>\n",
              "      <td>15.6800</td>\n",
              "      <td>15.2200</td>\n",
              "      <td>14.7800</td>\n",
              "      <td>13.8700</td>\n",
              "      <td>16.1800</td>\n",
              "      <td>16.9800</td>\n",
              "      <td>21.7100</td>\n",
              "      <td>7643</td>\n",
              "      <td>0</td>\n",
              "    </tr>\n",
              "    <tr>\n",
              "      <th>22842279</th>\n",
              "      <td>ZYXI</td>\n",
              "      <td>2021-06-08</td>\n",
              "      <td>0.563063</td>\n",
              "      <td>0.716218</td>\n",
              "      <td>0.585422</td>\n",
              "      <td>0.587154</td>\n",
              "      <td>0.586742</td>\n",
              "      <td>0.669251</td>\n",
              "      <td>0.819131</td>\n",
              "      <td>0.878953</td>\n",
              "      <td>...</td>\n",
              "      <td>15.6400</td>\n",
              "      <td>15.2800</td>\n",
              "      <td>15.6800</td>\n",
              "      <td>14.6900</td>\n",
              "      <td>13.8200</td>\n",
              "      <td>16.3600</td>\n",
              "      <td>16.8700</td>\n",
              "      <td>20.2900</td>\n",
              "      <td>7643</td>\n",
              "      <td>1</td>\n",
              "    </tr>\n",
              "    <tr>\n",
              "      <th>22842280</th>\n",
              "      <td>ZYXI</td>\n",
              "      <td>2021-06-09</td>\n",
              "      <td>0.562363</td>\n",
              "      <td>0.741475</td>\n",
              "      <td>0.591402</td>\n",
              "      <td>0.594646</td>\n",
              "      <td>0.590815</td>\n",
              "      <td>0.670381</td>\n",
              "      <td>0.818896</td>\n",
              "      <td>0.878901</td>\n",
              "      <td>...</td>\n",
              "      <td>15.7300</td>\n",
              "      <td>15.6400</td>\n",
              "      <td>15.2800</td>\n",
              "      <td>14.1300</td>\n",
              "      <td>14.4100</td>\n",
              "      <td>16.2200</td>\n",
              "      <td>16.3300</td>\n",
              "      <td>18.0700</td>\n",
              "      <td>7643</td>\n",
              "      <td>2</td>\n",
              "    </tr>\n",
              "    <tr>\n",
              "      <th>22842281</th>\n",
              "      <td>ZYXI</td>\n",
              "      <td>2021-06-10</td>\n",
              "      <td>0.561663</td>\n",
              "      <td>0.700733</td>\n",
              "      <td>0.594542</td>\n",
              "      <td>0.600448</td>\n",
              "      <td>0.595007</td>\n",
              "      <td>0.671556</td>\n",
              "      <td>0.818661</td>\n",
              "      <td>0.879093</td>\n",
              "      <td>...</td>\n",
              "      <td>15.7500</td>\n",
              "      <td>15.7300</td>\n",
              "      <td>15.6400</td>\n",
              "      <td>14.5500</td>\n",
              "      <td>14.2500</td>\n",
              "      <td>16.2600</td>\n",
              "      <td>16.0750</td>\n",
              "      <td>18.1700</td>\n",
              "      <td>7643</td>\n",
              "      <td>3</td>\n",
              "    </tr>\n",
              "    <tr>\n",
              "      <th>22842282</th>\n",
              "      <td>ZYXI</td>\n",
              "      <td>2021-06-11</td>\n",
              "      <td>0.550109</td>\n",
              "      <td>0.634743</td>\n",
              "      <td>0.594542</td>\n",
              "      <td>0.602638</td>\n",
              "      <td>0.599499</td>\n",
              "      <td>0.671968</td>\n",
              "      <td>0.817475</td>\n",
              "      <td>0.879114</td>\n",
              "      <td>...</td>\n",
              "      <td>16.1000</td>\n",
              "      <td>15.7500</td>\n",
              "      <td>15.7300</td>\n",
              "      <td>15.1600</td>\n",
              "      <td>14.7200</td>\n",
              "      <td>16.0300</td>\n",
              "      <td>16.3000</td>\n",
              "      <td>19.5100</td>\n",
              "      <td>7643</td>\n",
              "      <td>4</td>\n",
              "    </tr>\n",
              "  </tbody>\n",
              "</table>\n",
              "<p>22842283 rows × 24 columns</p>\n",
              "</div>\n",
              "    <div class=\"colab-df-buttons\">\n",
              "\n",
              "  <div class=\"colab-df-container\">\n",
              "    <button class=\"colab-df-convert\" onclick=\"convertToInteractive('df-882ff49b-9002-4123-8880-20c6f47b8e82')\"\n",
              "            title=\"Convert this dataframe to an interactive table.\"\n",
              "            style=\"display:none;\">\n",
              "\n",
              "  <svg xmlns=\"http://www.w3.org/2000/svg\" height=\"24px\" viewBox=\"0 -960 960 960\">\n",
              "    <path d=\"M120-120v-720h720v720H120Zm60-500h600v-160H180v160Zm220 220h160v-160H400v160Zm0 220h160v-160H400v160ZM180-400h160v-160H180v160Zm440 0h160v-160H620v160ZM180-180h160v-160H180v160Zm440 0h160v-160H620v160Z\"/>\n",
              "  </svg>\n",
              "    </button>\n",
              "\n",
              "  <style>\n",
              "    .colab-df-container {\n",
              "      display:flex;\n",
              "      gap: 12px;\n",
              "    }\n",
              "\n",
              "    .colab-df-convert {\n",
              "      background-color: #E8F0FE;\n",
              "      border: none;\n",
              "      border-radius: 50%;\n",
              "      cursor: pointer;\n",
              "      display: none;\n",
              "      fill: #1967D2;\n",
              "      height: 32px;\n",
              "      padding: 0 0 0 0;\n",
              "      width: 32px;\n",
              "    }\n",
              "\n",
              "    .colab-df-convert:hover {\n",
              "      background-color: #E2EBFA;\n",
              "      box-shadow: 0px 1px 2px rgba(60, 64, 67, 0.3), 0px 1px 3px 1px rgba(60, 64, 67, 0.15);\n",
              "      fill: #174EA6;\n",
              "    }\n",
              "\n",
              "    .colab-df-buttons div {\n",
              "      margin-bottom: 4px;\n",
              "    }\n",
              "\n",
              "    [theme=dark] .colab-df-convert {\n",
              "      background-color: #3B4455;\n",
              "      fill: #D2E3FC;\n",
              "    }\n",
              "\n",
              "    [theme=dark] .colab-df-convert:hover {\n",
              "      background-color: #434B5C;\n",
              "      box-shadow: 0px 1px 3px 1px rgba(0, 0, 0, 0.15);\n",
              "      filter: drop-shadow(0px 1px 2px rgba(0, 0, 0, 0.3));\n",
              "      fill: #FFFFFF;\n",
              "    }\n",
              "  </style>\n",
              "\n",
              "    <script>\n",
              "      const buttonEl =\n",
              "        document.querySelector('#df-882ff49b-9002-4123-8880-20c6f47b8e82 button.colab-df-convert');\n",
              "      buttonEl.style.display =\n",
              "        google.colab.kernel.accessAllowed ? 'block' : 'none';\n",
              "\n",
              "      async function convertToInteractive(key) {\n",
              "        const element = document.querySelector('#df-882ff49b-9002-4123-8880-20c6f47b8e82');\n",
              "        const dataTable =\n",
              "          await google.colab.kernel.invokeFunction('convertToInteractive',\n",
              "                                                    [key], {});\n",
              "        if (!dataTable) return;\n",
              "\n",
              "        const docLinkHtml = 'Like what you see? Visit the ' +\n",
              "          '<a target=\"_blank\" href=https://colab.research.google.com/notebooks/data_table.ipynb>data table notebook</a>'\n",
              "          + ' to learn more about interactive tables.';\n",
              "        element.innerHTML = '';\n",
              "        dataTable['output_type'] = 'display_data';\n",
              "        await google.colab.output.renderOutput(dataTable, element);\n",
              "        const docLink = document.createElement('div');\n",
              "        docLink.innerHTML = docLinkHtml;\n",
              "        element.appendChild(docLink);\n",
              "      }\n",
              "    </script>\n",
              "  </div>\n",
              "\n",
              "\n",
              "<div id=\"df-022fba90-10cc-4ba2-ad9d-dc82f87efe9a\">\n",
              "  <button class=\"colab-df-quickchart\" onclick=\"quickchart('df-022fba90-10cc-4ba2-ad9d-dc82f87efe9a')\"\n",
              "            title=\"Suggest charts\"\n",
              "            style=\"display:none;\">\n",
              "\n",
              "<svg xmlns=\"http://www.w3.org/2000/svg\" height=\"24px\"viewBox=\"0 0 24 24\"\n",
              "     width=\"24px\">\n",
              "    <g>\n",
              "        <path d=\"M19 3H5c-1.1 0-2 .9-2 2v14c0 1.1.9 2 2 2h14c1.1 0 2-.9 2-2V5c0-1.1-.9-2-2-2zM9 17H7v-7h2v7zm4 0h-2V7h2v10zm4 0h-2v-4h2v4z\"/>\n",
              "    </g>\n",
              "</svg>\n",
              "  </button>\n",
              "\n",
              "<style>\n",
              "  .colab-df-quickchart {\n",
              "      --bg-color: #E8F0FE;\n",
              "      --fill-color: #1967D2;\n",
              "      --hover-bg-color: #E2EBFA;\n",
              "      --hover-fill-color: #174EA6;\n",
              "      --disabled-fill-color: #AAA;\n",
              "      --disabled-bg-color: #DDD;\n",
              "  }\n",
              "\n",
              "  [theme=dark] .colab-df-quickchart {\n",
              "      --bg-color: #3B4455;\n",
              "      --fill-color: #D2E3FC;\n",
              "      --hover-bg-color: #434B5C;\n",
              "      --hover-fill-color: #FFFFFF;\n",
              "      --disabled-bg-color: #3B4455;\n",
              "      --disabled-fill-color: #666;\n",
              "  }\n",
              "\n",
              "  .colab-df-quickchart {\n",
              "    background-color: var(--bg-color);\n",
              "    border: none;\n",
              "    border-radius: 50%;\n",
              "    cursor: pointer;\n",
              "    display: none;\n",
              "    fill: var(--fill-color);\n",
              "    height: 32px;\n",
              "    padding: 0;\n",
              "    width: 32px;\n",
              "  }\n",
              "\n",
              "  .colab-df-quickchart:hover {\n",
              "    background-color: var(--hover-bg-color);\n",
              "    box-shadow: 0 1px 2px rgba(60, 64, 67, 0.3), 0 1px 3px 1px rgba(60, 64, 67, 0.15);\n",
              "    fill: var(--button-hover-fill-color);\n",
              "  }\n",
              "\n",
              "  .colab-df-quickchart-complete:disabled,\n",
              "  .colab-df-quickchart-complete:disabled:hover {\n",
              "    background-color: var(--disabled-bg-color);\n",
              "    fill: var(--disabled-fill-color);\n",
              "    box-shadow: none;\n",
              "  }\n",
              "\n",
              "  .colab-df-spinner {\n",
              "    border: 2px solid var(--fill-color);\n",
              "    border-color: transparent;\n",
              "    border-bottom-color: var(--fill-color);\n",
              "    animation:\n",
              "      spin 1s steps(1) infinite;\n",
              "  }\n",
              "\n",
              "  @keyframes spin {\n",
              "    0% {\n",
              "      border-color: transparent;\n",
              "      border-bottom-color: var(--fill-color);\n",
              "      border-left-color: var(--fill-color);\n",
              "    }\n",
              "    20% {\n",
              "      border-color: transparent;\n",
              "      border-left-color: var(--fill-color);\n",
              "      border-top-color: var(--fill-color);\n",
              "    }\n",
              "    30% {\n",
              "      border-color: transparent;\n",
              "      border-left-color: var(--fill-color);\n",
              "      border-top-color: var(--fill-color);\n",
              "      border-right-color: var(--fill-color);\n",
              "    }\n",
              "    40% {\n",
              "      border-color: transparent;\n",
              "      border-right-color: var(--fill-color);\n",
              "      border-top-color: var(--fill-color);\n",
              "    }\n",
              "    60% {\n",
              "      border-color: transparent;\n",
              "      border-right-color: var(--fill-color);\n",
              "    }\n",
              "    80% {\n",
              "      border-color: transparent;\n",
              "      border-right-color: var(--fill-color);\n",
              "      border-bottom-color: var(--fill-color);\n",
              "    }\n",
              "    90% {\n",
              "      border-color: transparent;\n",
              "      border-bottom-color: var(--fill-color);\n",
              "    }\n",
              "  }\n",
              "</style>\n",
              "\n",
              "  <script>\n",
              "    async function quickchart(key) {\n",
              "      const quickchartButtonEl =\n",
              "        document.querySelector('#' + key + ' button');\n",
              "      quickchartButtonEl.disabled = true;  // To prevent multiple clicks.\n",
              "      quickchartButtonEl.classList.add('colab-df-spinner');\n",
              "      try {\n",
              "        const charts = await google.colab.kernel.invokeFunction(\n",
              "            'suggestCharts', [key], {});\n",
              "      } catch (error) {\n",
              "        console.error('Error during call to suggestCharts:', error);\n",
              "      }\n",
              "      quickchartButtonEl.classList.remove('colab-df-spinner');\n",
              "      quickchartButtonEl.classList.add('colab-df-quickchart-complete');\n",
              "    }\n",
              "    (() => {\n",
              "      let quickchartButtonEl =\n",
              "        document.querySelector('#df-022fba90-10cc-4ba2-ad9d-dc82f87efe9a button');\n",
              "      quickchartButtonEl.style.display =\n",
              "        google.colab.kernel.accessAllowed ? 'block' : 'none';\n",
              "    })();\n",
              "  </script>\n",
              "</div>\n",
              "\n",
              "  <div id=\"id_000173ac-3196-4c49-92bd-6ac2e811f8b9\">\n",
              "    <style>\n",
              "      .colab-df-generate {\n",
              "        background-color: #E8F0FE;\n",
              "        border: none;\n",
              "        border-radius: 50%;\n",
              "        cursor: pointer;\n",
              "        display: none;\n",
              "        fill: #1967D2;\n",
              "        height: 32px;\n",
              "        padding: 0 0 0 0;\n",
              "        width: 32px;\n",
              "      }\n",
              "\n",
              "      .colab-df-generate:hover {\n",
              "        background-color: #E2EBFA;\n",
              "        box-shadow: 0px 1px 2px rgba(60, 64, 67, 0.3), 0px 1px 3px 1px rgba(60, 64, 67, 0.15);\n",
              "        fill: #174EA6;\n",
              "      }\n",
              "\n",
              "      [theme=dark] .colab-df-generate {\n",
              "        background-color: #3B4455;\n",
              "        fill: #D2E3FC;\n",
              "      }\n",
              "\n",
              "      [theme=dark] .colab-df-generate:hover {\n",
              "        background-color: #434B5C;\n",
              "        box-shadow: 0px 1px 3px 1px rgba(0, 0, 0, 0.15);\n",
              "        filter: drop-shadow(0px 1px 2px rgba(0, 0, 0, 0.3));\n",
              "        fill: #FFFFFF;\n",
              "      }\n",
              "    </style>\n",
              "    <button class=\"colab-df-generate\" onclick=\"generateWithVariable('stock_data_tidy')\"\n",
              "            title=\"Generate code using this dataframe.\"\n",
              "            style=\"display:none;\">\n",
              "\n",
              "  <svg xmlns=\"http://www.w3.org/2000/svg\" height=\"24px\"viewBox=\"0 0 24 24\"\n",
              "       width=\"24px\">\n",
              "    <path d=\"M7,19H8.4L18.45,9,17,7.55,7,17.6ZM5,21V16.75L18.45,3.32a2,2,0,0,1,2.83,0l1.4,1.43a1.91,1.91,0,0,1,.58,1.4,1.91,1.91,0,0,1-.58,1.4L9.25,21ZM18.45,9,17,7.55Zm-12,3A5.31,5.31,0,0,0,4.9,8.1,5.31,5.31,0,0,0,1,6.5,5.31,5.31,0,0,0,4.9,4.9,5.31,5.31,0,0,0,6.5,1,5.31,5.31,0,0,0,8.1,4.9,5.31,5.31,0,0,0,12,6.5,5.46,5.46,0,0,0,6.5,12Z\"/>\n",
              "  </svg>\n",
              "    </button>\n",
              "    <script>\n",
              "      (() => {\n",
              "      const buttonEl =\n",
              "        document.querySelector('#id_000173ac-3196-4c49-92bd-6ac2e811f8b9 button.colab-df-generate');\n",
              "      buttonEl.style.display =\n",
              "        google.colab.kernel.accessAllowed ? 'block' : 'none';\n",
              "\n",
              "      buttonEl.onclick = () => {\n",
              "        google.colab.notebook.generateWithVariable('stock_data_tidy');\n",
              "      }\n",
              "      })();\n",
              "    </script>\n",
              "  </div>\n",
              "\n",
              "    </div>\n",
              "  </div>\n"
            ],
            "application/vnd.google.colaboratory.intrinsic+json": {
              "type": "dataframe",
              "variable_name": "stock_data_tidy"
            }
          },
          "metadata": {},
          "execution_count": 11
        }
      ],
      "source": [
        "stock_data_tidy"
      ]
    },
    {
      "cell_type": "code",
      "execution_count": 10,
      "metadata": {
        "colab": {
          "base_uri": "https://localhost:8080/"
        },
        "id": "aZIT-xxXeDIP",
        "outputId": "00595826-66e7-4e48-bc1f-b163e006c172"
      },
      "outputs": [
        {
          "output_type": "execute_result",
          "data": {
            "text/plain": [
              "Index(['ticker', 'date', 'close_adjusted', 'RSI', '5_day_MA', '10_day_MA',\n",
              "       '20_day_MA', '50_day_MA', '100_day_MA', '200_day_MA', 'MACD',\n",
              "       'Signal_Line', 'price_1_days_ago', 'price_2_days_ago',\n",
              "       'price_3_days_ago', 'price_4_days_ago', 'price_5_days_ago',\n",
              "       'price_10_days_ago', 'price_15_days_ago', 'price_30_days_ago',\n",
              "       'price_60_days_ago', 'price_90_days_ago', 'ticker_encoded',\n",
              "       'day_of_week'],\n",
              "      dtype='object')"
            ]
          },
          "metadata": {},
          "execution_count": 10
        }
      ],
      "source": [
        "stock_data_tidy.columns"
      ]
    },
    {
      "cell_type": "code",
      "execution_count": 13,
      "metadata": {
        "id": "vyw-u2gAuR8O"
      },
      "outputs": [],
      "source": [
        "# TODO if needed remove big values, since they are mostly outliers\n",
        "# tickers_to_remove = stock_data_tidy[stock_data_tidy['close_adjusted'] > 10000]['ticker'].unique()\n",
        "\n",
        "# stock_data_tidy = stock_data_tidy[~stock_data_tidy['ticker'].isin(tickers_to_remove)]"
      ]
    },
    {
      "cell_type": "code",
      "execution_count": 11,
      "metadata": {
        "id": "glhc61IUuR8O"
      },
      "outputs": [],
      "source": [
        "stock_data_tidy = stock_data_tidy.drop(columns=['price_1_days_ago', 'price_2_days_ago',\n",
        "    'price_3_days_ago', 'price_4_days_ago', 'price_5_days_ago',\n",
        "    'price_10_days_ago', 'price_15_days_ago', 'price_30_days_ago',\n",
        "    'price_60_days_ago', 'price_90_days_ago'])\n",
        "\n",
        "numerical_columns.extend(['day_of_week', 'ticker_encoded'])"
      ]
    },
    {
      "cell_type": "code",
      "execution_count": 15,
      "metadata": {
        "id": "Ggg0mi2bjwmI"
      },
      "outputs": [],
      "source": [
        "# TODO if all works with scalers for every ticker, remove this\n",
        "\n",
        "# numerical_columns = [\n",
        "#     'close_adjusted', 'RSI', '5_day_MA', '10_day_MA',\n",
        "#     '20_day_MA', '50_day_MA', '100_day_MA', '200_day_MA',\n",
        "#     'MACD', 'Signal_Line'\n",
        "# ]\n",
        "\n",
        "\n",
        "# scaler = MinMaxScaler()\n",
        "\n",
        "# stock_data_tidy[numerical_columns] = scaler.fit_transform(stock_data_tidy[numerical_columns])\n",
        "\n",
        "# numerical_columns.extend(['day_of_week', 'ticker_encoded'])"
      ]
    },
    {
      "cell_type": "code",
      "execution_count": 12,
      "metadata": {
        "id": "RC44TX4ymi99"
      },
      "outputs": [],
      "source": [
        "unique_count = stock_data_tidy['ticker'].nunique()"
      ]
    },
    {
      "cell_type": "code",
      "execution_count": 64,
      "metadata": {
        "id": "jurIDTKL7pK-"
      },
      "outputs": [],
      "source": [
        "def inverse_transform_predictions(y_pred, ticker):\n",
        "    # Use the correct scaler for this ticker\n",
        "    scaler = scalers[ticker]\n",
        "\n",
        "    # Inverse transform only the first column (close_adjusted)\n",
        "    y_pred_rescaled = scaler.inverse_transform(\n",
        "        np.concatenate((np.array(y_pred).reshape(-1,1), np.zeros((len(y_pred), len(numerical_columns) - 3))), axis=1)\n",
        "    )[:,0]\n",
        "\n",
        "    return y_pred_rescaled"
      ]
    },
    {
      "cell_type": "code",
      "execution_count": 14,
      "metadata": {
        "id": "T0deNjw3fxBj"
      },
      "outputs": [],
      "source": [
        "def preprocess_data(stock_data_tidy, numerical_columns, sequence_length):\n",
        "    data = stock_data_tidy[numerical_columns].values\n",
        "\n",
        "    # Create sequences\n",
        "    X, y = [], []\n",
        "    for i in range(sequence_length, len(data)):\n",
        "        X.append(data[i - sequence_length:i])\n",
        "        y.append(data[i, 0])\n",
        "\n",
        "    X = np.array(X)\n",
        "    y = np.array(y)\n",
        "\n",
        "    return X, y"
      ]
    },
    {
      "cell_type": "code",
      "execution_count": 15,
      "metadata": {
        "id": "xd0zJxpjjq6N"
      },
      "outputs": [],
      "source": [
        "def create_lstm_model(sequence_length, num_features, lstm_units_1=50, lstm_units_2=50, dropout_rate=0.1):\n",
        "    \"\"\"\n",
        "    Optimized LSTM model for stock price prediction with Additive Attention.\n",
        "    \"\"\"\n",
        "    numerical_input = Input(shape=(sequence_length, num_features), name=\"numerical_input\")\n",
        "\n",
        "    first_lstm_layer = LSTM(lstm_units_1, return_sequences=True, name=\"lstm_layer_1\", dropout=dropout_rate)(numerical_input)\n",
        "    normalized_1 = BatchNormalization()(first_lstm_layer)\n",
        "\n",
        "    second_lstm_layer = LSTM(lstm_units_2, return_sequences=True, name=\"lstm_layer_2\", dropout=dropout_rate)(normalized_1)\n",
        "    normalized_2 = BatchNormalization()(second_lstm_layer)\n",
        "\n",
        "    # Attention mechanism\n",
        "    attention = AdditiveAttention(name=\"attention_layer\")([normalized_2, normalized_2])\n",
        "    attended = Multiply()([second_lstm_layer, attention])\n",
        "\n",
        "    flat = Flatten()(attended)\n",
        "\n",
        "    x = Dense(64, activation='relu', name=\"dense_1\")(flat)\n",
        "\n",
        "    output = Dense(32, activation='relu', name=\"dense_2\")(x)\n",
        "\n",
        "    output = Dense(1, activation='linear', name=\"output\")(output)\n",
        "\n",
        "    model = Model(inputs=numerical_input, outputs=output, name=\"Optimized_LSTM_Model_with_Attention\")\n",
        "    model.compile(optimizer='adam', loss='mse', metrics=['mae'])\n",
        "\n",
        "    return model"
      ]
    },
    {
      "cell_type": "code",
      "execution_count": null,
      "metadata": {
        "id": "xzfcdhUijxtw"
      },
      "outputs": [],
      "source": [
        "lstm_model = create_lstm_model(sequence_length=30, num_features=len(numerical_columns))"
      ]
    },
    {
      "cell_type": "code",
      "execution_count": null,
      "metadata": {
        "colab": {
          "base_uri": "https://localhost:8080/",
          "height": 595
        },
        "id": "ESWEPhJBvP26",
        "outputId": "5ca7dc54-c4f7-4c08-d532-5b5c283ca374"
      },
      "outputs": [
        {
          "data": {
            "text/html": [
              "<pre style=\"white-space:pre;overflow-x:auto;line-height:normal;font-family:Menlo,'DejaVu Sans Mono',consolas,'Courier New',monospace\"><span style=\"font-weight: bold\">Model: \"Optimized_LSTM_Model_with_Attention\"</span>\n",
              "</pre>\n"
            ],
            "text/plain": [
              "\u001b[1mModel: \"Optimized_LSTM_Model_with_Attention\"\u001b[0m\n"
            ]
          },
          "metadata": {},
          "output_type": "display_data"
        },
        {
          "data": {
            "text/html": [
              "<pre style=\"white-space:pre;overflow-x:auto;line-height:normal;font-family:Menlo,'DejaVu Sans Mono',consolas,'Courier New',monospace\">┏━━━━━━━━━━━━━━━━━━━━━━━━━━━┳━━━━━━━━━━━━━━━━━━━━━━━━┳━━━━━━━━━━━━━━━━┳━━━━━━━━━━━━━━━━━━━━━━━━┓\n",
              "┃<span style=\"font-weight: bold\"> Layer (type)              </span>┃<span style=\"font-weight: bold\"> Output Shape           </span>┃<span style=\"font-weight: bold\">        Param # </span>┃<span style=\"font-weight: bold\"> Connected to           </span>┃\n",
              "┡━━━━━━━━━━━━━━━━━━━━━━━━━━━╇━━━━━━━━━━━━━━━━━━━━━━━━╇━━━━━━━━━━━━━━━━╇━━━━━━━━━━━━━━━━━━━━━━━━┩\n",
              "│ numerical_input           │ (<span style=\"color: #00d7ff; text-decoration-color: #00d7ff\">None</span>, <span style=\"color: #00af00; text-decoration-color: #00af00\">30</span>, <span style=\"color: #00af00; text-decoration-color: #00af00\">10</span>)         │              <span style=\"color: #00af00; text-decoration-color: #00af00\">0</span> │ -                      │\n",
              "│ (<span style=\"color: #0087ff; text-decoration-color: #0087ff\">InputLayer</span>)              │                        │                │                        │\n",
              "├───────────────────────────┼────────────────────────┼────────────────┼────────────────────────┤\n",
              "│ lstm_layer_1 (<span style=\"color: #0087ff; text-decoration-color: #0087ff\">LSTM</span>)       │ (<span style=\"color: #00d7ff; text-decoration-color: #00d7ff\">None</span>, <span style=\"color: #00af00; text-decoration-color: #00af00\">30</span>, <span style=\"color: #00af00; text-decoration-color: #00af00\">50</span>)         │         <span style=\"color: #00af00; text-decoration-color: #00af00\">12,200</span> │ numerical_input[<span style=\"color: #00af00; text-decoration-color: #00af00\">0</span>][<span style=\"color: #00af00; text-decoration-color: #00af00\">0</span>]  │\n",
              "├───────────────────────────┼────────────────────────┼────────────────┼────────────────────────┤\n",
              "│ batch_normalization       │ (<span style=\"color: #00d7ff; text-decoration-color: #00d7ff\">None</span>, <span style=\"color: #00af00; text-decoration-color: #00af00\">30</span>, <span style=\"color: #00af00; text-decoration-color: #00af00\">50</span>)         │            <span style=\"color: #00af00; text-decoration-color: #00af00\">200</span> │ lstm_layer_1[<span style=\"color: #00af00; text-decoration-color: #00af00\">0</span>][<span style=\"color: #00af00; text-decoration-color: #00af00\">0</span>]     │\n",
              "│ (<span style=\"color: #0087ff; text-decoration-color: #0087ff\">BatchNormalization</span>)      │                        │                │                        │\n",
              "├───────────────────────────┼────────────────────────┼────────────────┼────────────────────────┤\n",
              "│ lstm_layer_2 (<span style=\"color: #0087ff; text-decoration-color: #0087ff\">LSTM</span>)       │ (<span style=\"color: #00d7ff; text-decoration-color: #00d7ff\">None</span>, <span style=\"color: #00af00; text-decoration-color: #00af00\">30</span>, <span style=\"color: #00af00; text-decoration-color: #00af00\">50</span>)         │         <span style=\"color: #00af00; text-decoration-color: #00af00\">20,200</span> │ batch_normalization[<span style=\"color: #00af00; text-decoration-color: #00af00\">0</span>… │\n",
              "├───────────────────────────┼────────────────────────┼────────────────┼────────────────────────┤\n",
              "│ batch_normalization_1     │ (<span style=\"color: #00d7ff; text-decoration-color: #00d7ff\">None</span>, <span style=\"color: #00af00; text-decoration-color: #00af00\">30</span>, <span style=\"color: #00af00; text-decoration-color: #00af00\">50</span>)         │            <span style=\"color: #00af00; text-decoration-color: #00af00\">200</span> │ lstm_layer_2[<span style=\"color: #00af00; text-decoration-color: #00af00\">0</span>][<span style=\"color: #00af00; text-decoration-color: #00af00\">0</span>]     │\n",
              "│ (<span style=\"color: #0087ff; text-decoration-color: #0087ff\">BatchNormalization</span>)      │                        │                │                        │\n",
              "├───────────────────────────┼────────────────────────┼────────────────┼────────────────────────┤\n",
              "│ attention_layer           │ (<span style=\"color: #00d7ff; text-decoration-color: #00d7ff\">None</span>, <span style=\"color: #00af00; text-decoration-color: #00af00\">30</span>, <span style=\"color: #00af00; text-decoration-color: #00af00\">50</span>)         │             <span style=\"color: #00af00; text-decoration-color: #00af00\">50</span> │ batch_normalization_1… │\n",
              "│ (<span style=\"color: #0087ff; text-decoration-color: #0087ff\">AdditiveAttention</span>)       │                        │                │ batch_normalization_1… │\n",
              "├───────────────────────────┼────────────────────────┼────────────────┼────────────────────────┤\n",
              "│ multiply (<span style=\"color: #0087ff; text-decoration-color: #0087ff\">Multiply</span>)       │ (<span style=\"color: #00d7ff; text-decoration-color: #00d7ff\">None</span>, <span style=\"color: #00af00; text-decoration-color: #00af00\">30</span>, <span style=\"color: #00af00; text-decoration-color: #00af00\">50</span>)         │              <span style=\"color: #00af00; text-decoration-color: #00af00\">0</span> │ lstm_layer_2[<span style=\"color: #00af00; text-decoration-color: #00af00\">0</span>][<span style=\"color: #00af00; text-decoration-color: #00af00\">0</span>],    │\n",
              "│                           │                        │                │ attention_layer[<span style=\"color: #00af00; text-decoration-color: #00af00\">0</span>][<span style=\"color: #00af00; text-decoration-color: #00af00\">0</span>]  │\n",
              "├───────────────────────────┼────────────────────────┼────────────────┼────────────────────────┤\n",
              "│ flatten (<span style=\"color: #0087ff; text-decoration-color: #0087ff\">Flatten</span>)         │ (<span style=\"color: #00d7ff; text-decoration-color: #00d7ff\">None</span>, <span style=\"color: #00af00; text-decoration-color: #00af00\">1500</span>)           │              <span style=\"color: #00af00; text-decoration-color: #00af00\">0</span> │ multiply[<span style=\"color: #00af00; text-decoration-color: #00af00\">0</span>][<span style=\"color: #00af00; text-decoration-color: #00af00\">0</span>]         │\n",
              "├───────────────────────────┼────────────────────────┼────────────────┼────────────────────────┤\n",
              "│ dense_1 (<span style=\"color: #0087ff; text-decoration-color: #0087ff\">Dense</span>)           │ (<span style=\"color: #00d7ff; text-decoration-color: #00d7ff\">None</span>, <span style=\"color: #00af00; text-decoration-color: #00af00\">64</span>)             │         <span style=\"color: #00af00; text-decoration-color: #00af00\">96,064</span> │ flatten[<span style=\"color: #00af00; text-decoration-color: #00af00\">0</span>][<span style=\"color: #00af00; text-decoration-color: #00af00\">0</span>]          │\n",
              "├───────────────────────────┼────────────────────────┼────────────────┼────────────────────────┤\n",
              "│ dense_2 (<span style=\"color: #0087ff; text-decoration-color: #0087ff\">Dense</span>)           │ (<span style=\"color: #00d7ff; text-decoration-color: #00d7ff\">None</span>, <span style=\"color: #00af00; text-decoration-color: #00af00\">32</span>)             │          <span style=\"color: #00af00; text-decoration-color: #00af00\">2,080</span> │ dense_1[<span style=\"color: #00af00; text-decoration-color: #00af00\">0</span>][<span style=\"color: #00af00; text-decoration-color: #00af00\">0</span>]          │\n",
              "├───────────────────────────┼────────────────────────┼────────────────┼────────────────────────┤\n",
              "│ output (<span style=\"color: #0087ff; text-decoration-color: #0087ff\">Dense</span>)            │ (<span style=\"color: #00d7ff; text-decoration-color: #00d7ff\">None</span>, <span style=\"color: #00af00; text-decoration-color: #00af00\">1</span>)              │             <span style=\"color: #00af00; text-decoration-color: #00af00\">33</span> │ dense_2[<span style=\"color: #00af00; text-decoration-color: #00af00\">0</span>][<span style=\"color: #00af00; text-decoration-color: #00af00\">0</span>]          │\n",
              "└───────────────────────────┴────────────────────────┴────────────────┴────────────────────────┘\n",
              "</pre>\n"
            ],
            "text/plain": [
              "┏━━━━━━━━━━━━━━━━━━━━━━━━━━━┳━━━━━━━━━━━━━━━━━━━━━━━━┳━━━━━━━━━━━━━━━━┳━━━━━━━━━━━━━━━━━━━━━━━━┓\n",
              "┃\u001b[1m \u001b[0m\u001b[1mLayer (type)             \u001b[0m\u001b[1m \u001b[0m┃\u001b[1m \u001b[0m\u001b[1mOutput Shape          \u001b[0m\u001b[1m \u001b[0m┃\u001b[1m \u001b[0m\u001b[1m       Param #\u001b[0m\u001b[1m \u001b[0m┃\u001b[1m \u001b[0m\u001b[1mConnected to          \u001b[0m\u001b[1m \u001b[0m┃\n",
              "┡━━━━━━━━━━━━━━━━━━━━━━━━━━━╇━━━━━━━━━━━━━━━━━━━━━━━━╇━━━━━━━━━━━━━━━━╇━━━━━━━━━━━━━━━━━━━━━━━━┩\n",
              "│ numerical_input           │ (\u001b[38;5;45mNone\u001b[0m, \u001b[38;5;34m30\u001b[0m, \u001b[38;5;34m10\u001b[0m)         │              \u001b[38;5;34m0\u001b[0m │ -                      │\n",
              "│ (\u001b[38;5;33mInputLayer\u001b[0m)              │                        │                │                        │\n",
              "├───────────────────────────┼────────────────────────┼────────────────┼────────────────────────┤\n",
              "│ lstm_layer_1 (\u001b[38;5;33mLSTM\u001b[0m)       │ (\u001b[38;5;45mNone\u001b[0m, \u001b[38;5;34m30\u001b[0m, \u001b[38;5;34m50\u001b[0m)         │         \u001b[38;5;34m12,200\u001b[0m │ numerical_input[\u001b[38;5;34m0\u001b[0m][\u001b[38;5;34m0\u001b[0m]  │\n",
              "├───────────────────────────┼────────────────────────┼────────────────┼────────────────────────┤\n",
              "│ batch_normalization       │ (\u001b[38;5;45mNone\u001b[0m, \u001b[38;5;34m30\u001b[0m, \u001b[38;5;34m50\u001b[0m)         │            \u001b[38;5;34m200\u001b[0m │ lstm_layer_1[\u001b[38;5;34m0\u001b[0m][\u001b[38;5;34m0\u001b[0m]     │\n",
              "│ (\u001b[38;5;33mBatchNormalization\u001b[0m)      │                        │                │                        │\n",
              "├───────────────────────────┼────────────────────────┼────────────────┼────────────────────────┤\n",
              "│ lstm_layer_2 (\u001b[38;5;33mLSTM\u001b[0m)       │ (\u001b[38;5;45mNone\u001b[0m, \u001b[38;5;34m30\u001b[0m, \u001b[38;5;34m50\u001b[0m)         │         \u001b[38;5;34m20,200\u001b[0m │ batch_normalization[\u001b[38;5;34m0\u001b[0m… │\n",
              "├───────────────────────────┼────────────────────────┼────────────────┼────────────────────────┤\n",
              "│ batch_normalization_1     │ (\u001b[38;5;45mNone\u001b[0m, \u001b[38;5;34m30\u001b[0m, \u001b[38;5;34m50\u001b[0m)         │            \u001b[38;5;34m200\u001b[0m │ lstm_layer_2[\u001b[38;5;34m0\u001b[0m][\u001b[38;5;34m0\u001b[0m]     │\n",
              "│ (\u001b[38;5;33mBatchNormalization\u001b[0m)      │                        │                │                        │\n",
              "├───────────────────────────┼────────────────────────┼────────────────┼────────────────────────┤\n",
              "│ attention_layer           │ (\u001b[38;5;45mNone\u001b[0m, \u001b[38;5;34m30\u001b[0m, \u001b[38;5;34m50\u001b[0m)         │             \u001b[38;5;34m50\u001b[0m │ batch_normalization_1… │\n",
              "│ (\u001b[38;5;33mAdditiveAttention\u001b[0m)       │                        │                │ batch_normalization_1… │\n",
              "├───────────────────────────┼────────────────────────┼────────────────┼────────────────────────┤\n",
              "│ multiply (\u001b[38;5;33mMultiply\u001b[0m)       │ (\u001b[38;5;45mNone\u001b[0m, \u001b[38;5;34m30\u001b[0m, \u001b[38;5;34m50\u001b[0m)         │              \u001b[38;5;34m0\u001b[0m │ lstm_layer_2[\u001b[38;5;34m0\u001b[0m][\u001b[38;5;34m0\u001b[0m],    │\n",
              "│                           │                        │                │ attention_layer[\u001b[38;5;34m0\u001b[0m][\u001b[38;5;34m0\u001b[0m]  │\n",
              "├───────────────────────────┼────────────────────────┼────────────────┼────────────────────────┤\n",
              "│ flatten (\u001b[38;5;33mFlatten\u001b[0m)         │ (\u001b[38;5;45mNone\u001b[0m, \u001b[38;5;34m1500\u001b[0m)           │              \u001b[38;5;34m0\u001b[0m │ multiply[\u001b[38;5;34m0\u001b[0m][\u001b[38;5;34m0\u001b[0m]         │\n",
              "├───────────────────────────┼────────────────────────┼────────────────┼────────────────────────┤\n",
              "│ dense_1 (\u001b[38;5;33mDense\u001b[0m)           │ (\u001b[38;5;45mNone\u001b[0m, \u001b[38;5;34m64\u001b[0m)             │         \u001b[38;5;34m96,064\u001b[0m │ flatten[\u001b[38;5;34m0\u001b[0m][\u001b[38;5;34m0\u001b[0m]          │\n",
              "├───────────────────────────┼────────────────────────┼────────────────┼────────────────────────┤\n",
              "│ dense_2 (\u001b[38;5;33mDense\u001b[0m)           │ (\u001b[38;5;45mNone\u001b[0m, \u001b[38;5;34m32\u001b[0m)             │          \u001b[38;5;34m2,080\u001b[0m │ dense_1[\u001b[38;5;34m0\u001b[0m][\u001b[38;5;34m0\u001b[0m]          │\n",
              "├───────────────────────────┼────────────────────────┼────────────────┼────────────────────────┤\n",
              "│ output (\u001b[38;5;33mDense\u001b[0m)            │ (\u001b[38;5;45mNone\u001b[0m, \u001b[38;5;34m1\u001b[0m)              │             \u001b[38;5;34m33\u001b[0m │ dense_2[\u001b[38;5;34m0\u001b[0m][\u001b[38;5;34m0\u001b[0m]          │\n",
              "└───────────────────────────┴────────────────────────┴────────────────┴────────────────────────┘\n"
            ]
          },
          "metadata": {},
          "output_type": "display_data"
        },
        {
          "data": {
            "text/html": [
              "<pre style=\"white-space:pre;overflow-x:auto;line-height:normal;font-family:Menlo,'DejaVu Sans Mono',consolas,'Courier New',monospace\"><span style=\"font-weight: bold\"> Total params: </span><span style=\"color: #00af00; text-decoration-color: #00af00\">131,027</span> (511.82 KB)\n",
              "</pre>\n"
            ],
            "text/plain": [
              "\u001b[1m Total params: \u001b[0m\u001b[38;5;34m131,027\u001b[0m (511.82 KB)\n"
            ]
          },
          "metadata": {},
          "output_type": "display_data"
        },
        {
          "data": {
            "text/html": [
              "<pre style=\"white-space:pre;overflow-x:auto;line-height:normal;font-family:Menlo,'DejaVu Sans Mono',consolas,'Courier New',monospace\"><span style=\"font-weight: bold\"> Trainable params: </span><span style=\"color: #00af00; text-decoration-color: #00af00\">130,827</span> (511.04 KB)\n",
              "</pre>\n"
            ],
            "text/plain": [
              "\u001b[1m Trainable params: \u001b[0m\u001b[38;5;34m130,827\u001b[0m (511.04 KB)\n"
            ]
          },
          "metadata": {},
          "output_type": "display_data"
        },
        {
          "data": {
            "text/html": [
              "<pre style=\"white-space:pre;overflow-x:auto;line-height:normal;font-family:Menlo,'DejaVu Sans Mono',consolas,'Courier New',monospace\"><span style=\"font-weight: bold\"> Non-trainable params: </span><span style=\"color: #00af00; text-decoration-color: #00af00\">200</span> (800.00 B)\n",
              "</pre>\n"
            ],
            "text/plain": [
              "\u001b[1m Non-trainable params: \u001b[0m\u001b[38;5;34m200\u001b[0m (800.00 B)\n"
            ]
          },
          "metadata": {},
          "output_type": "display_data"
        }
      ],
      "source": [
        "lstm_model.summary()"
      ]
    },
    {
      "cell_type": "code",
      "execution_count": 17,
      "metadata": {
        "id": "JsmRyz_RuR8P"
      },
      "outputs": [],
      "source": [
        "stock_data_tidy = stock_data_tidy.sort_values(by=['ticker', 'date'])"
      ]
    },
    {
      "cell_type": "code",
      "execution_count": 16,
      "metadata": {
        "id": "gQ1B03g1l817"
      },
      "outputs": [],
      "source": [
        "import numpy as np\n",
        "from numpy.lib.stride_tricks import sliding_window_view\n",
        "\n",
        "processed_data_path = google_drive_path + 'processed_data_full/'\n",
        "\n",
        "def preprocess_grouped_data(stock_data_tidy, numerical_columns, target_column, sequence_length):\n",
        "    tickers = stock_data_tidy[\"ticker_encoded\"].unique()\n",
        "\n",
        "    for ticker in tickers:\n",
        "        ticker_data = stock_data_tidy[stock_data_tidy[\"ticker_encoded\"] == ticker].sort_values(by=\"date\")\n",
        "        numerical_data = ticker_data[numerical_columns].values\n",
        "\n",
        "        if(ticker % 1000 == 0):\n",
        "          print('Processing ', ticker)\n",
        "        if len(ticker_data) > sequence_length:\n",
        "            x_ticker = sliding_window_view(numerical_data, window_shape=(sequence_length, len(numerical_columns)))\n",
        "            x_ticker = x_ticker.reshape(-1, sequence_length, len(numerical_columns))\n",
        "\n",
        "            y_ticker = ticker_data[target_column].values[sequence_length-1:]\n",
        "\n",
        "            np.save(os.path.join(processed_data_path, f\"x_ticker_{ticker}.npy\"), x_ticker)\n",
        "            np.save(os.path.join(processed_data_path, f\"y_ticker_{ticker}.npy\"), y_ticker)"
      ]
    },
    {
      "cell_type": "code",
      "execution_count": 18,
      "metadata": {
        "colab": {
          "base_uri": "https://localhost:8080/"
        },
        "id": "ryuFqg4upoMD",
        "outputId": "d2ce6887-3eb1-4d87-e0c0-33c6f0a3eda2"
      },
      "outputs": [
        {
          "output_type": "stream",
          "name": "stdout",
          "text": [
            "There are files in the processed_data_path.\n"
          ]
        }
      ],
      "source": [
        "if os.path.exists(processed_data_path) and os.path.isdir(processed_data_path):\n",
        "    has_file = any(os.path.isfile(os.path.join(processed_data_path, item)) for item in os.listdir(processed_data_path))\n",
        "    if has_file:\n",
        "        print(\"There are files in the processed_data_path.\")\n",
        "    else:\n",
        "      print('Beginning to process the data...\\n')\n",
        "      preprocess_grouped_data(stock_data_tidy, numerical_columns, 'close_adjusted', 30)\n",
        "else:\n",
        "    print(\"The processed_data_path does not exist or is not a directory.\")"
      ]
    },
    {
      "cell_type": "code",
      "execution_count": 19,
      "metadata": {
        "id": "wNKuChVniDcs"
      },
      "outputs": [],
      "source": [
        "def data_generator(tickers, processed_data_path, batch_size=32):\n",
        "    \"\"\"Generates batches dynamically for the given tickers.\"\"\"\n",
        "    while True:\n",
        "        for ticker in tickers:\n",
        "            # Load data for the current ticker\n",
        "            x_path = os.path.join(processed_data_path, f\"x_ticker_{ticker}.npy\")\n",
        "            y_path = os.path.join(processed_data_path, f\"y_ticker_{ticker}.npy\")\n",
        "\n",
        "            # Ensure file exists\n",
        "            if not os.path.exists(x_path) or not os.path.exists(y_path):\n",
        "                print(f\"Skipping {ticker}: Missing files.\")\n",
        "                continue\n",
        "\n",
        "            x_data = np.load(x_path)\n",
        "            y_data = np.load(y_path)\n",
        "\n",
        "            # Ensure data is compatible with the batch size\n",
        "            steps_per_epoch = len(x_data) // batch_size\n",
        "            x_data = x_data[:steps_per_epoch * batch_size]\n",
        "            y_data = y_data[:steps_per_epoch * batch_size]\n",
        "\n",
        "            # Yield batches\n",
        "            for i in range(steps_per_epoch):\n",
        "                x_batch = x_data[i * batch_size: (i + 1) * batch_size]\n",
        "                y_batch = y_data[i * batch_size: (i + 1) * batch_size]\n",
        "                yield x_batch, y_batch\n"
      ]
    },
    {
      "cell_type": "code",
      "source": [
        "tickers = stock_data_tidy[\"ticker_encoded\"].unique()"
      ],
      "metadata": {
        "id": "59HfJTfpMKxc"
      },
      "execution_count": 21,
      "outputs": []
    },
    {
      "cell_type": "code",
      "execution_count": 22,
      "metadata": {
        "id": "92q-77zf-mNR"
      },
      "outputs": [],
      "source": [
        "tickers.sort()"
      ]
    },
    {
      "cell_type": "code",
      "execution_count": 23,
      "metadata": {
        "id": "pLsQftzMiPwn"
      },
      "outputs": [],
      "source": [
        "train_gen = data_generator(tickers, processed_data_path)"
      ]
    },
    {
      "cell_type": "code",
      "execution_count": 24,
      "metadata": {
        "id": "8xBu0mDQiRCl"
      },
      "outputs": [],
      "source": [
        "early_stopping = EarlyStopping(monitor=\"loss\", patience=30, restore_best_weights=True)"
      ]
    },
    {
      "cell_type": "code",
      "execution_count": 25,
      "metadata": {
        "id": "c8URn7rlWKg_"
      },
      "outputs": [],
      "source": [
        "keras.backend.clear_session()"
      ]
    },
    {
      "cell_type": "code",
      "execution_count": null,
      "metadata": {
        "colab": {
          "base_uri": "https://localhost:8080/",
          "height": 1000
        },
        "id": "mfZaC9d0hk5y",
        "outputId": "98f09443-fad1-413e-aea6-582a1d039f67"
      },
      "outputs": [
        {
          "name": "stdout",
          "output_type": "stream",
          "text": [
            "Epoch 1/200\n",
            "\n",
            "Epoch 1: saving model to drive/MyDrive/DL_Pickles/lstm_model_epoch_01.keras\n",
            "40000/40000 - 331s - 8ms/step - loss: 3.4231e-04 - mae: 0.0117\n",
            "Epoch 2/200\n",
            "\n",
            "Epoch 2: saving model to drive/MyDrive/DL_Pickles/lstm_model_epoch_02.keras\n",
            "40000/40000 - 581s - 15ms/step - loss: 2.8549e-04 - mae: 0.0105\n",
            "Epoch 3/200\n",
            "\n",
            "Epoch 3: saving model to drive/MyDrive/DL_Pickles/lstm_model_epoch_03.keras\n",
            "40000/40000 - 836s - 21ms/step - loss: 2.5595e-04 - mae: 0.0099\n",
            "Epoch 4/200\n",
            "\n",
            "Epoch 4: saving model to drive/MyDrive/DL_Pickles/lstm_model_epoch_04.keras\n",
            "40000/40000 - 855s - 21ms/step - loss: 2.1875e-04 - mae: 0.0092\n",
            "Epoch 5/200\n",
            "\n",
            "Epoch 5: saving model to drive/MyDrive/DL_Pickles/lstm_model_epoch_05.keras\n",
            "40000/40000 - 902s - 23ms/step - loss: 2.1300e-04 - mae: 0.0089\n",
            "Epoch 6/200\n",
            "\n",
            "Epoch 6: saving model to drive/MyDrive/DL_Pickles/lstm_model_epoch_06.keras\n",
            "40000/40000 - 811s - 20ms/step - loss: 1.7772e-04 - mae: 0.0079\n",
            "Epoch 7/200\n",
            "\n",
            "Epoch 7: saving model to drive/MyDrive/DL_Pickles/lstm_model_epoch_07.keras\n",
            "40000/40000 - 800s - 20ms/step - loss: 1.7149e-04 - mae: 0.0080\n",
            "Epoch 8/200\n",
            "\n",
            "Epoch 8: saving model to drive/MyDrive/DL_Pickles/lstm_model_epoch_08.keras\n",
            "40000/40000 - 824s - 21ms/step - loss: 1.6019e-04 - mae: 0.0076\n",
            "Epoch 9/200\n",
            "\n",
            "Epoch 9: saving model to drive/MyDrive/DL_Pickles/lstm_model_epoch_09.keras\n",
            "40000/40000 - 771s - 19ms/step - loss: 1.3278e-04 - mae: 0.0071\n",
            "Epoch 10/200\n",
            "\n",
            "Epoch 10: saving model to drive/MyDrive/DL_Pickles/lstm_model_epoch_10.keras\n",
            "40000/40000 - 797s - 20ms/step - loss: 1.2927e-04 - mae: 0.0071\n",
            "Epoch 11/200\n",
            "\n",
            "Epoch 11: saving model to drive/MyDrive/DL_Pickles/lstm_model_epoch_11.keras\n",
            "40000/40000 - 807s - 20ms/step - loss: 1.2958e-04 - mae: 0.0071\n",
            "Epoch 12/200\n",
            "\n",
            "Epoch 12: saving model to drive/MyDrive/DL_Pickles/lstm_model_epoch_12.keras\n",
            "40000/40000 - 809s - 20ms/step - loss: 1.2341e-04 - mae: 0.0066\n",
            "Epoch 13/200\n",
            "\n",
            "Epoch 13: saving model to drive/MyDrive/DL_Pickles/lstm_model_epoch_13.keras\n",
            "40000/40000 - 780s - 19ms/step - loss: 1.4473e-04 - mae: 0.0071\n",
            "Epoch 14/200\n",
            "\n",
            "Epoch 14: saving model to drive/MyDrive/DL_Pickles/lstm_model_epoch_14.keras\n",
            "40000/40000 - 825s - 21ms/step - loss: 1.1173e-04 - mae: 0.0064\n",
            "Epoch 15/200\n",
            "\n",
            "Epoch 15: saving model to drive/MyDrive/DL_Pickles/lstm_model_epoch_15.keras\n",
            "40000/40000 - 749s - 19ms/step - loss: 1.1405e-04 - mae: 0.0064\n",
            "Epoch 16/200\n",
            "\n",
            "Epoch 16: saving model to drive/MyDrive/DL_Pickles/lstm_model_epoch_16.keras\n",
            "40000/40000 - 782s - 20ms/step - loss: 1.1929e-04 - mae: 0.0066\n",
            "Epoch 17/200\n",
            "\n",
            "Epoch 17: saving model to drive/MyDrive/DL_Pickles/lstm_model_epoch_17.keras\n",
            "40000/40000 - 848s - 21ms/step - loss: 1.1785e-04 - mae: 0.0063\n",
            "Epoch 18/200\n",
            "\n",
            "Epoch 18: saving model to drive/MyDrive/DL_Pickles/lstm_model_epoch_18.keras\n",
            "40000/40000 - 855s - 21ms/step - loss: 1.0477e-04 - mae: 0.0062\n",
            "Epoch 19/200\n",
            "\n",
            "Epoch 19: saving model to drive/MyDrive/DL_Pickles/lstm_model_epoch_19.keras\n",
            "40000/40000 - 826s - 21ms/step - loss: 1.0446e-04 - mae: 0.0061\n",
            "Epoch 20/200\n",
            "\n",
            "Epoch 20: saving model to drive/MyDrive/DL_Pickles/lstm_model_epoch_20.keras\n",
            "40000/40000 - 867s - 22ms/step - loss: 1.1584e-04 - mae: 0.0063\n",
            "Epoch 21/200\n",
            "\n",
            "Epoch 21: saving model to drive/MyDrive/DL_Pickles/lstm_model_epoch_21.keras\n",
            "40000/40000 - 841s - 21ms/step - loss: 8.4624e-05 - mae: 0.0056\n",
            "Epoch 22/200\n",
            "\n",
            "Epoch 22: saving model to drive/MyDrive/DL_Pickles/lstm_model_epoch_22.keras\n",
            "40000/40000 - 889s - 22ms/step - loss: 1.0220e-04 - mae: 0.0061\n",
            "Epoch 23/200\n",
            "\n",
            "Epoch 23: saving model to drive/MyDrive/DL_Pickles/lstm_model_epoch_23.keras\n",
            "40000/40000 - 960s - 24ms/step - loss: 1.1621e-04 - mae: 0.0059\n",
            "Epoch 24/200\n",
            "\n",
            "Epoch 24: saving model to drive/MyDrive/DL_Pickles/lstm_model_epoch_24.keras\n",
            "40000/40000 - 854s - 21ms/step - loss: 8.2670e-05 - mae: 0.0054\n",
            "Epoch 25/200\n",
            "\n",
            "Epoch 25: saving model to drive/MyDrive/DL_Pickles/lstm_model_epoch_25.keras\n",
            "40000/40000 - 881s - 22ms/step - loss: 9.7874e-05 - mae: 0.0059\n",
            "Epoch 26/200\n"
          ]
        },
        {
          "ename": "KeyboardInterrupt",
          "evalue": "",
          "output_type": "error",
          "traceback": [
            "\u001b[0;31m---------------------------------------------------------------------------\u001b[0m",
            "\u001b[0;31mKeyboardInterrupt\u001b[0m                         Traceback (most recent call last)",
            "\u001b[0;32m<ipython-input-91-e69e2ccad5dd>\u001b[0m in \u001b[0;36m<cell line: 12>\u001b[0;34m()\u001b[0m\n\u001b[1;32m     10\u001b[0m \u001b[0;34m\u001b[0m\u001b[0m\n\u001b[1;32m     11\u001b[0m \u001b[0;31m# Train the model with checkpoint callback\u001b[0m\u001b[0;34m\u001b[0m\u001b[0;34m\u001b[0m\u001b[0m\n\u001b[0;32m---> 12\u001b[0;31m lstm_model.fit(\n\u001b[0m\u001b[1;32m     13\u001b[0m     \u001b[0mtrain_gen\u001b[0m\u001b[0;34m,\u001b[0m\u001b[0;34m\u001b[0m\u001b[0;34m\u001b[0m\u001b[0m\n\u001b[1;32m     14\u001b[0m     \u001b[0msteps_per_epoch\u001b[0m\u001b[0;34m=\u001b[0m\u001b[0;36m40000\u001b[0m\u001b[0;34m,\u001b[0m\u001b[0;34m\u001b[0m\u001b[0;34m\u001b[0m\u001b[0m\n",
            "\u001b[0;32m/usr/local/lib/python3.10/dist-packages/keras/src/utils/traceback_utils.py\u001b[0m in \u001b[0;36merror_handler\u001b[0;34m(*args, **kwargs)\u001b[0m\n\u001b[1;32m    115\u001b[0m         \u001b[0mfiltered_tb\u001b[0m \u001b[0;34m=\u001b[0m \u001b[0;32mNone\u001b[0m\u001b[0;34m\u001b[0m\u001b[0;34m\u001b[0m\u001b[0m\n\u001b[1;32m    116\u001b[0m         \u001b[0;32mtry\u001b[0m\u001b[0;34m:\u001b[0m\u001b[0;34m\u001b[0m\u001b[0;34m\u001b[0m\u001b[0m\n\u001b[0;32m--> 117\u001b[0;31m             \u001b[0;32mreturn\u001b[0m \u001b[0mfn\u001b[0m\u001b[0;34m(\u001b[0m\u001b[0;34m*\u001b[0m\u001b[0margs\u001b[0m\u001b[0;34m,\u001b[0m \u001b[0;34m**\u001b[0m\u001b[0mkwargs\u001b[0m\u001b[0;34m)\u001b[0m\u001b[0;34m\u001b[0m\u001b[0;34m\u001b[0m\u001b[0m\n\u001b[0m\u001b[1;32m    118\u001b[0m         \u001b[0;32mexcept\u001b[0m \u001b[0mException\u001b[0m \u001b[0;32mas\u001b[0m \u001b[0me\u001b[0m\u001b[0;34m:\u001b[0m\u001b[0;34m\u001b[0m\u001b[0;34m\u001b[0m\u001b[0m\n\u001b[1;32m    119\u001b[0m             \u001b[0mfiltered_tb\u001b[0m \u001b[0;34m=\u001b[0m \u001b[0m_process_traceback_frames\u001b[0m\u001b[0;34m(\u001b[0m\u001b[0me\u001b[0m\u001b[0;34m.\u001b[0m\u001b[0m__traceback__\u001b[0m\u001b[0;34m)\u001b[0m\u001b[0;34m\u001b[0m\u001b[0;34m\u001b[0m\u001b[0m\n",
            "\u001b[0;32m/usr/local/lib/python3.10/dist-packages/keras/src/backend/tensorflow/trainer.py\u001b[0m in \u001b[0;36mfit\u001b[0;34m(self, x, y, batch_size, epochs, verbose, callbacks, validation_split, validation_data, shuffle, class_weight, sample_weight, initial_epoch, steps_per_epoch, validation_steps, validation_batch_size, validation_freq)\u001b[0m\n\u001b[1;32m    318\u001b[0m                 \u001b[0;32mfor\u001b[0m \u001b[0mstep\u001b[0m\u001b[0;34m,\u001b[0m \u001b[0miterator\u001b[0m \u001b[0;32min\u001b[0m \u001b[0mepoch_iterator\u001b[0m\u001b[0;34m.\u001b[0m\u001b[0menumerate_epoch\u001b[0m\u001b[0;34m(\u001b[0m\u001b[0;34m)\u001b[0m\u001b[0;34m:\u001b[0m\u001b[0;34m\u001b[0m\u001b[0;34m\u001b[0m\u001b[0m\n\u001b[1;32m    319\u001b[0m                     \u001b[0mcallbacks\u001b[0m\u001b[0;34m.\u001b[0m\u001b[0mon_train_batch_begin\u001b[0m\u001b[0;34m(\u001b[0m\u001b[0mstep\u001b[0m\u001b[0;34m)\u001b[0m\u001b[0;34m\u001b[0m\u001b[0;34m\u001b[0m\u001b[0m\n\u001b[0;32m--> 320\u001b[0;31m                     \u001b[0mlogs\u001b[0m \u001b[0;34m=\u001b[0m \u001b[0mself\u001b[0m\u001b[0;34m.\u001b[0m\u001b[0mtrain_function\u001b[0m\u001b[0;34m(\u001b[0m\u001b[0miterator\u001b[0m\u001b[0;34m)\u001b[0m\u001b[0;34m\u001b[0m\u001b[0;34m\u001b[0m\u001b[0m\n\u001b[0m\u001b[1;32m    321\u001b[0m                     \u001b[0mlogs\u001b[0m \u001b[0;34m=\u001b[0m \u001b[0mself\u001b[0m\u001b[0;34m.\u001b[0m\u001b[0m_pythonify_logs\u001b[0m\u001b[0;34m(\u001b[0m\u001b[0mlogs\u001b[0m\u001b[0;34m)\u001b[0m\u001b[0;34m\u001b[0m\u001b[0;34m\u001b[0m\u001b[0m\n\u001b[1;32m    322\u001b[0m                     \u001b[0mcallbacks\u001b[0m\u001b[0;34m.\u001b[0m\u001b[0mon_train_batch_end\u001b[0m\u001b[0;34m(\u001b[0m\u001b[0mstep\u001b[0m\u001b[0;34m,\u001b[0m \u001b[0mlogs\u001b[0m\u001b[0;34m)\u001b[0m\u001b[0;34m\u001b[0m\u001b[0;34m\u001b[0m\u001b[0m\n",
            "\u001b[0;32m/usr/local/lib/python3.10/dist-packages/tensorflow/python/util/traceback_utils.py\u001b[0m in \u001b[0;36merror_handler\u001b[0;34m(*args, **kwargs)\u001b[0m\n\u001b[1;32m    148\u001b[0m     \u001b[0mfiltered_tb\u001b[0m \u001b[0;34m=\u001b[0m \u001b[0;32mNone\u001b[0m\u001b[0;34m\u001b[0m\u001b[0;34m\u001b[0m\u001b[0m\n\u001b[1;32m    149\u001b[0m     \u001b[0;32mtry\u001b[0m\u001b[0;34m:\u001b[0m\u001b[0;34m\u001b[0m\u001b[0;34m\u001b[0m\u001b[0m\n\u001b[0;32m--> 150\u001b[0;31m       \u001b[0;32mreturn\u001b[0m \u001b[0mfn\u001b[0m\u001b[0;34m(\u001b[0m\u001b[0;34m*\u001b[0m\u001b[0margs\u001b[0m\u001b[0;34m,\u001b[0m \u001b[0;34m**\u001b[0m\u001b[0mkwargs\u001b[0m\u001b[0;34m)\u001b[0m\u001b[0;34m\u001b[0m\u001b[0;34m\u001b[0m\u001b[0m\n\u001b[0m\u001b[1;32m    151\u001b[0m     \u001b[0;32mexcept\u001b[0m \u001b[0mException\u001b[0m \u001b[0;32mas\u001b[0m \u001b[0me\u001b[0m\u001b[0;34m:\u001b[0m\u001b[0;34m\u001b[0m\u001b[0;34m\u001b[0m\u001b[0m\n\u001b[1;32m    152\u001b[0m       \u001b[0mfiltered_tb\u001b[0m \u001b[0;34m=\u001b[0m \u001b[0m_process_traceback_frames\u001b[0m\u001b[0;34m(\u001b[0m\u001b[0me\u001b[0m\u001b[0;34m.\u001b[0m\u001b[0m__traceback__\u001b[0m\u001b[0;34m)\u001b[0m\u001b[0;34m\u001b[0m\u001b[0;34m\u001b[0m\u001b[0m\n",
            "\u001b[0;32m/usr/local/lib/python3.10/dist-packages/tensorflow/python/eager/polymorphic_function/polymorphic_function.py\u001b[0m in \u001b[0;36m__call__\u001b[0;34m(self, *args, **kwds)\u001b[0m\n\u001b[1;32m    831\u001b[0m \u001b[0;34m\u001b[0m\u001b[0m\n\u001b[1;32m    832\u001b[0m       \u001b[0;32mwith\u001b[0m \u001b[0mOptionalXlaContext\u001b[0m\u001b[0;34m(\u001b[0m\u001b[0mself\u001b[0m\u001b[0;34m.\u001b[0m\u001b[0m_jit_compile\u001b[0m\u001b[0;34m)\u001b[0m\u001b[0;34m:\u001b[0m\u001b[0;34m\u001b[0m\u001b[0;34m\u001b[0m\u001b[0m\n\u001b[0;32m--> 833\u001b[0;31m         \u001b[0mresult\u001b[0m \u001b[0;34m=\u001b[0m \u001b[0mself\u001b[0m\u001b[0;34m.\u001b[0m\u001b[0m_call\u001b[0m\u001b[0;34m(\u001b[0m\u001b[0;34m*\u001b[0m\u001b[0margs\u001b[0m\u001b[0;34m,\u001b[0m \u001b[0;34m**\u001b[0m\u001b[0mkwds\u001b[0m\u001b[0;34m)\u001b[0m\u001b[0;34m\u001b[0m\u001b[0;34m\u001b[0m\u001b[0m\n\u001b[0m\u001b[1;32m    834\u001b[0m \u001b[0;34m\u001b[0m\u001b[0m\n\u001b[1;32m    835\u001b[0m       \u001b[0mnew_tracing_count\u001b[0m \u001b[0;34m=\u001b[0m \u001b[0mself\u001b[0m\u001b[0;34m.\u001b[0m\u001b[0mexperimental_get_tracing_count\u001b[0m\u001b[0;34m(\u001b[0m\u001b[0;34m)\u001b[0m\u001b[0;34m\u001b[0m\u001b[0;34m\u001b[0m\u001b[0m\n",
            "\u001b[0;32m/usr/local/lib/python3.10/dist-packages/tensorflow/python/eager/polymorphic_function/polymorphic_function.py\u001b[0m in \u001b[0;36m_call\u001b[0;34m(self, *args, **kwds)\u001b[0m\n\u001b[1;32m    876\u001b[0m       \u001b[0;31m# In this case we have not created variables on the first call. So we can\u001b[0m\u001b[0;34m\u001b[0m\u001b[0;34m\u001b[0m\u001b[0m\n\u001b[1;32m    877\u001b[0m       \u001b[0;31m# run the first trace but we should fail if variables are created.\u001b[0m\u001b[0;34m\u001b[0m\u001b[0;34m\u001b[0m\u001b[0m\n\u001b[0;32m--> 878\u001b[0;31m       results = tracing_compilation.call_function(\n\u001b[0m\u001b[1;32m    879\u001b[0m           \u001b[0margs\u001b[0m\u001b[0;34m,\u001b[0m \u001b[0mkwds\u001b[0m\u001b[0;34m,\u001b[0m \u001b[0mself\u001b[0m\u001b[0;34m.\u001b[0m\u001b[0m_variable_creation_config\u001b[0m\u001b[0;34m\u001b[0m\u001b[0;34m\u001b[0m\u001b[0m\n\u001b[1;32m    880\u001b[0m       )\n",
            "\u001b[0;32m/usr/local/lib/python3.10/dist-packages/tensorflow/python/eager/polymorphic_function/tracing_compilation.py\u001b[0m in \u001b[0;36mcall_function\u001b[0;34m(args, kwargs, tracing_options)\u001b[0m\n\u001b[1;32m    137\u001b[0m   \u001b[0mbound_args\u001b[0m \u001b[0;34m=\u001b[0m \u001b[0mfunction\u001b[0m\u001b[0;34m.\u001b[0m\u001b[0mfunction_type\u001b[0m\u001b[0;34m.\u001b[0m\u001b[0mbind\u001b[0m\u001b[0;34m(\u001b[0m\u001b[0;34m*\u001b[0m\u001b[0margs\u001b[0m\u001b[0;34m,\u001b[0m \u001b[0;34m**\u001b[0m\u001b[0mkwargs\u001b[0m\u001b[0;34m)\u001b[0m\u001b[0;34m\u001b[0m\u001b[0;34m\u001b[0m\u001b[0m\n\u001b[1;32m    138\u001b[0m   \u001b[0mflat_inputs\u001b[0m \u001b[0;34m=\u001b[0m \u001b[0mfunction\u001b[0m\u001b[0;34m.\u001b[0m\u001b[0mfunction_type\u001b[0m\u001b[0;34m.\u001b[0m\u001b[0munpack_inputs\u001b[0m\u001b[0;34m(\u001b[0m\u001b[0mbound_args\u001b[0m\u001b[0;34m)\u001b[0m\u001b[0;34m\u001b[0m\u001b[0;34m\u001b[0m\u001b[0m\n\u001b[0;32m--> 139\u001b[0;31m   return function._call_flat(  # pylint: disable=protected-access\n\u001b[0m\u001b[1;32m    140\u001b[0m       \u001b[0mflat_inputs\u001b[0m\u001b[0;34m,\u001b[0m \u001b[0mcaptured_inputs\u001b[0m\u001b[0;34m=\u001b[0m\u001b[0mfunction\u001b[0m\u001b[0;34m.\u001b[0m\u001b[0mcaptured_inputs\u001b[0m\u001b[0;34m\u001b[0m\u001b[0;34m\u001b[0m\u001b[0m\n\u001b[1;32m    141\u001b[0m   )\n",
            "\u001b[0;32m/usr/local/lib/python3.10/dist-packages/tensorflow/python/eager/polymorphic_function/concrete_function.py\u001b[0m in \u001b[0;36m_call_flat\u001b[0;34m(self, tensor_inputs, captured_inputs)\u001b[0m\n\u001b[1;32m   1320\u001b[0m         and executing_eagerly):\n\u001b[1;32m   1321\u001b[0m       \u001b[0;31m# No tape is watching; skip to running the function.\u001b[0m\u001b[0;34m\u001b[0m\u001b[0;34m\u001b[0m\u001b[0m\n\u001b[0;32m-> 1322\u001b[0;31m       \u001b[0;32mreturn\u001b[0m \u001b[0mself\u001b[0m\u001b[0;34m.\u001b[0m\u001b[0m_inference_function\u001b[0m\u001b[0;34m.\u001b[0m\u001b[0mcall_preflattened\u001b[0m\u001b[0;34m(\u001b[0m\u001b[0margs\u001b[0m\u001b[0;34m)\u001b[0m\u001b[0;34m\u001b[0m\u001b[0;34m\u001b[0m\u001b[0m\n\u001b[0m\u001b[1;32m   1323\u001b[0m     forward_backward = self._select_forward_and_backward_functions(\n\u001b[1;32m   1324\u001b[0m         \u001b[0margs\u001b[0m\u001b[0;34m,\u001b[0m\u001b[0;34m\u001b[0m\u001b[0;34m\u001b[0m\u001b[0m\n",
            "\u001b[0;32m/usr/local/lib/python3.10/dist-packages/tensorflow/python/eager/polymorphic_function/atomic_function.py\u001b[0m in \u001b[0;36mcall_preflattened\u001b[0;34m(self, args)\u001b[0m\n\u001b[1;32m    214\u001b[0m   \u001b[0;32mdef\u001b[0m \u001b[0mcall_preflattened\u001b[0m\u001b[0;34m(\u001b[0m\u001b[0mself\u001b[0m\u001b[0;34m,\u001b[0m \u001b[0margs\u001b[0m\u001b[0;34m:\u001b[0m \u001b[0mSequence\u001b[0m\u001b[0;34m[\u001b[0m\u001b[0mcore\u001b[0m\u001b[0;34m.\u001b[0m\u001b[0mTensor\u001b[0m\u001b[0;34m]\u001b[0m\u001b[0;34m)\u001b[0m \u001b[0;34m->\u001b[0m \u001b[0mAny\u001b[0m\u001b[0;34m:\u001b[0m\u001b[0;34m\u001b[0m\u001b[0;34m\u001b[0m\u001b[0m\n\u001b[1;32m    215\u001b[0m     \u001b[0;34m\"\"\"Calls with flattened tensor inputs and returns the structured output.\"\"\"\u001b[0m\u001b[0;34m\u001b[0m\u001b[0;34m\u001b[0m\u001b[0m\n\u001b[0;32m--> 216\u001b[0;31m     \u001b[0mflat_outputs\u001b[0m \u001b[0;34m=\u001b[0m \u001b[0mself\u001b[0m\u001b[0;34m.\u001b[0m\u001b[0mcall_flat\u001b[0m\u001b[0;34m(\u001b[0m\u001b[0;34m*\u001b[0m\u001b[0margs\u001b[0m\u001b[0;34m)\u001b[0m\u001b[0;34m\u001b[0m\u001b[0;34m\u001b[0m\u001b[0m\n\u001b[0m\u001b[1;32m    217\u001b[0m     \u001b[0;32mreturn\u001b[0m \u001b[0mself\u001b[0m\u001b[0;34m.\u001b[0m\u001b[0mfunction_type\u001b[0m\u001b[0;34m.\u001b[0m\u001b[0mpack_output\u001b[0m\u001b[0;34m(\u001b[0m\u001b[0mflat_outputs\u001b[0m\u001b[0;34m)\u001b[0m\u001b[0;34m\u001b[0m\u001b[0;34m\u001b[0m\u001b[0m\n\u001b[1;32m    218\u001b[0m \u001b[0;34m\u001b[0m\u001b[0m\n",
            "\u001b[0;32m/usr/local/lib/python3.10/dist-packages/tensorflow/python/eager/polymorphic_function/atomic_function.py\u001b[0m in \u001b[0;36mcall_flat\u001b[0;34m(self, *args)\u001b[0m\n\u001b[1;32m    249\u001b[0m         \u001b[0;32mwith\u001b[0m \u001b[0mrecord\u001b[0m\u001b[0;34m.\u001b[0m\u001b[0mstop_recording\u001b[0m\u001b[0;34m(\u001b[0m\u001b[0;34m)\u001b[0m\u001b[0;34m:\u001b[0m\u001b[0;34m\u001b[0m\u001b[0;34m\u001b[0m\u001b[0m\n\u001b[1;32m    250\u001b[0m           \u001b[0;32mif\u001b[0m \u001b[0mself\u001b[0m\u001b[0;34m.\u001b[0m\u001b[0m_bound_context\u001b[0m\u001b[0;34m.\u001b[0m\u001b[0mexecuting_eagerly\u001b[0m\u001b[0;34m(\u001b[0m\u001b[0;34m)\u001b[0m\u001b[0;34m:\u001b[0m\u001b[0;34m\u001b[0m\u001b[0;34m\u001b[0m\u001b[0m\n\u001b[0;32m--> 251\u001b[0;31m             outputs = self._bound_context.call_function(\n\u001b[0m\u001b[1;32m    252\u001b[0m                 \u001b[0mself\u001b[0m\u001b[0;34m.\u001b[0m\u001b[0mname\u001b[0m\u001b[0;34m,\u001b[0m\u001b[0;34m\u001b[0m\u001b[0;34m\u001b[0m\u001b[0m\n\u001b[1;32m    253\u001b[0m                 \u001b[0mlist\u001b[0m\u001b[0;34m(\u001b[0m\u001b[0margs\u001b[0m\u001b[0;34m)\u001b[0m\u001b[0;34m,\u001b[0m\u001b[0;34m\u001b[0m\u001b[0;34m\u001b[0m\u001b[0m\n",
            "\u001b[0;32m/usr/local/lib/python3.10/dist-packages/tensorflow/python/eager/context.py\u001b[0m in \u001b[0;36mcall_function\u001b[0;34m(self, name, tensor_inputs, num_outputs)\u001b[0m\n\u001b[1;32m   1681\u001b[0m     \u001b[0mcancellation_context\u001b[0m \u001b[0;34m=\u001b[0m \u001b[0mcancellation\u001b[0m\u001b[0;34m.\u001b[0m\u001b[0mcontext\u001b[0m\u001b[0;34m(\u001b[0m\u001b[0;34m)\u001b[0m\u001b[0;34m\u001b[0m\u001b[0;34m\u001b[0m\u001b[0m\n\u001b[1;32m   1682\u001b[0m     \u001b[0;32mif\u001b[0m \u001b[0mcancellation_context\u001b[0m \u001b[0;32mis\u001b[0m \u001b[0;32mNone\u001b[0m\u001b[0;34m:\u001b[0m\u001b[0;34m\u001b[0m\u001b[0;34m\u001b[0m\u001b[0m\n\u001b[0;32m-> 1683\u001b[0;31m       outputs = execute.execute(\n\u001b[0m\u001b[1;32m   1684\u001b[0m           \u001b[0mname\u001b[0m\u001b[0;34m.\u001b[0m\u001b[0mdecode\u001b[0m\u001b[0;34m(\u001b[0m\u001b[0;34m\"utf-8\"\u001b[0m\u001b[0;34m)\u001b[0m\u001b[0;34m,\u001b[0m\u001b[0;34m\u001b[0m\u001b[0;34m\u001b[0m\u001b[0m\n\u001b[1;32m   1685\u001b[0m           \u001b[0mnum_outputs\u001b[0m\u001b[0;34m=\u001b[0m\u001b[0mnum_outputs\u001b[0m\u001b[0;34m,\u001b[0m\u001b[0;34m\u001b[0m\u001b[0;34m\u001b[0m\u001b[0m\n",
            "\u001b[0;32m/usr/local/lib/python3.10/dist-packages/tensorflow/python/eager/execute.py\u001b[0m in \u001b[0;36mquick_execute\u001b[0;34m(op_name, num_outputs, inputs, attrs, ctx, name)\u001b[0m\n\u001b[1;32m     51\u001b[0m   \u001b[0;32mtry\u001b[0m\u001b[0;34m:\u001b[0m\u001b[0;34m\u001b[0m\u001b[0;34m\u001b[0m\u001b[0m\n\u001b[1;32m     52\u001b[0m     \u001b[0mctx\u001b[0m\u001b[0;34m.\u001b[0m\u001b[0mensure_initialized\u001b[0m\u001b[0;34m(\u001b[0m\u001b[0;34m)\u001b[0m\u001b[0;34m\u001b[0m\u001b[0;34m\u001b[0m\u001b[0m\n\u001b[0;32m---> 53\u001b[0;31m     tensors = pywrap_tfe.TFE_Py_Execute(ctx._handle, device_name, op_name,\n\u001b[0m\u001b[1;32m     54\u001b[0m                                         inputs, attrs, num_outputs)\n\u001b[1;32m     55\u001b[0m   \u001b[0;32mexcept\u001b[0m \u001b[0mcore\u001b[0m\u001b[0;34m.\u001b[0m\u001b[0m_NotOkStatusException\u001b[0m \u001b[0;32mas\u001b[0m \u001b[0me\u001b[0m\u001b[0;34m:\u001b[0m\u001b[0;34m\u001b[0m\u001b[0;34m\u001b[0m\u001b[0m\n",
            "\u001b[0;31mKeyboardInterrupt\u001b[0m: "
          ]
        }
      ],
      "source": [
        "# Define the checkpoint callback\n",
        "checkpoint = ModelCheckpoint(\n",
        "    filepath=google_drive_path + 'lstm_model_epoch_{epoch:02d}.keras',  # Saves model for each epoch\n",
        "    save_best_only=False,  # Save model at every epoch\n",
        "    save_weights_only=False,  # Save full model (architecture + weights)\n",
        "    verbose=1\n",
        ")\n",
        "\n",
        "# Train the model with checkpoint callback\n",
        "lstm_model.fit(\n",
        "    train_gen,\n",
        "    steps_per_epoch=40000,\n",
        "    epochs=200,\n",
        "    callbacks=[checkpoint, early_stopping],  # Include checkpoint callback\n",
        "    verbose=2\n",
        ")\n",
        "\n",
        "print(\"Training complete!\")\n"
      ]
    },
    {
      "cell_type": "code",
      "execution_count": null,
      "metadata": {
        "id": "CUJYixrWDFjT"
      },
      "outputs": [],
      "source": [
        "lstm_model.save(google_drive_path + 'lstm_model4_2.keras')"
      ]
    },
    {
      "cell_type": "code",
      "execution_count": 67,
      "metadata": {
        "id": "FRUfLr_XokWF"
      },
      "outputs": [],
      "source": [
        "aapl_data = stock_data_tidy[stock_data_tidy.ticker == \"AAPL\"]\n",
        "\n",
        "X = aapl_data[numerical_columns].values\n",
        "y = aapl_data['close_adjusted'].values\n",
        "\n",
        "sequence_length = 30  # Assume sequence length\n",
        "num_features = X.shape[1]\n",
        "\n",
        "X_sequences = []\n",
        "y_sequences = []\n",
        "\n",
        "for i in range(sequence_length, len(X)):\n",
        "    X_sequences.append(X[i-sequence_length:i])\n",
        "    y_sequences.append(y[i])\n",
        "\n",
        "X_sequences = np.array(X_sequences)\n",
        "y_sequences = np.array(y_sequences)"
      ]
    },
    {
      "cell_type": "code",
      "execution_count": 68,
      "metadata": {
        "colab": {
          "base_uri": "https://localhost:8080/"
        },
        "id": "x18WOS9XTEkU",
        "outputId": "bf9a42b5-94e1-4c62-f874-ee0352bab050"
      },
      "outputs": [
        {
          "output_type": "stream",
          "name": "stdout",
          "text": [
            "\u001b[1m178/178\u001b[0m \u001b[32m━━━━━━━━━━━━━━━━━━━━\u001b[0m\u001b[37m\u001b[0m \u001b[1m1s\u001b[0m 5ms/step\n"
          ]
        }
      ],
      "source": [
        "y_pred = simple_lstm_model.predict(X_sequences)"
      ]
    },
    {
      "cell_type": "code",
      "execution_count": 69,
      "metadata": {
        "id": "5RqLJHK0EQ6L"
      },
      "outputs": [],
      "source": [
        "y_sequence_rescaled = inverse_transform_predictions(y_sequences, aapl_data.ticker_encoded.unique()[0])\n",
        "y_pred_rescaled = inverse_transform_predictions(y_pred, aapl_data.ticker_encoded.unique()[0])"
      ]
    },
    {
      "cell_type": "code",
      "execution_count": 71,
      "metadata": {
        "colab": {
          "base_uri": "https://localhost:8080/",
          "height": 585
        },
        "id": "i1nMMe1Vo8Ve",
        "outputId": "133ece5c-2cb6-4c28-9da9-3dd3ba47c1a1"
      },
      "outputs": [
        {
          "output_type": "display_data",
          "data": {
            "text/plain": [
              "<Figure size 1200x600 with 1 Axes>"
            ],
            "image/png": "[encoded data removed]"
          },
          "metadata": {}
        }
      ],
      "source": [
        "plt.figure(figsize=(12, 6))\n",
        "\n",
        "# Slice the date column to match the predictions\n",
        "dates = aapl_data['date'].iloc[sequence_length:].reset_index(drop=True)\n",
        "\n",
        "#y_pred_smoothed = pd.Series(y_pred_rescaled).rolling(window=10).mean()\n",
        "\n",
        "plt.plot(dates, y_sequence_rescaled, label='Actual Prices', alpha=0.8)\n",
        "plt.plot(dates, y_pred_rescaled, label='Predicted Prices', alpha=0.8)\n",
        "\n",
        "plt.title('Actual vs Predicted Prices for AAPL')\n",
        "plt.xlabel('Date')\n",
        "plt.ylabel('Stock Price')\n",
        "plt.legend()\n",
        "plt.grid()\n",
        "plt.xticks(rotation=45)  # Rotate x-axis labels for better readability\n",
        "plt.show()\n"
      ]
    },
    {
      "cell_type": "markdown",
      "metadata": {
        "id": "lEw1w1D2ojzO"
      },
      "source": [
        "The model seems to be overfitting the data or maybe failing to generalize it properly. Let's try making a simpler model, to see the bevaiour."
      ]
    },
    {
      "cell_type": "markdown",
      "metadata": {
        "id": "myqyK76Aou97"
      },
      "source": [
        "We will decrease the number of LSTM units and increate the dropout"
      ]
    },
    {
      "cell_type": "code",
      "execution_count": 26,
      "metadata": {
        "id": "6NXhsUExpqFJ"
      },
      "outputs": [],
      "source": [
        "def create_simpler_lstm_model(sequence_length, num_features, lstm_units_1=50, lstm_units_2=25, dropout_rate=0.2):\n",
        "    \"\"\"\n",
        "    Optimized LSTM model for stock price prediction with Additive Attention.\n",
        "    \"\"\"\n",
        "    numerical_input = Input(shape=(sequence_length, num_features), name=\"numerical_input\")\n",
        "\n",
        "    first_lstm_layer = LSTM(lstm_units_1, return_sequences=True, name=\"lstm_layer_1\", dropout=dropout_rate)(numerical_input)\n",
        "    normalized_1 = BatchNormalization()(first_lstm_layer)\n",
        "\n",
        "    second_lstm_layer = LSTM(lstm_units_2, return_sequences=True, name=\"lstm_layer_2\", dropout=dropout_rate)(normalized_1)\n",
        "    normalized_2 = BatchNormalization()(second_lstm_layer)\n",
        "\n",
        "    # Attention mechanism\n",
        "    attention = AdditiveAttention(name=\"attention_layer\")([normalized_2, normalized_2])\n",
        "    attended = Multiply()([second_lstm_layer, attention])\n",
        "\n",
        "    flat = Flatten()(attended)\n",
        "\n",
        "    output = Dense(32, activation='relu', name=\"dense_2\")(flat)\n",
        "\n",
        "    output = Dense(1, activation='linear', name=\"output\")(output)\n",
        "\n",
        "    model = Model(inputs=numerical_input, outputs=output, name=\"Optimized_LSTM_Model_with_Attention\")\n",
        "    model.compile(optimizer='adam', loss='mse', metrics=['mae'])\n",
        "\n",
        "    return model"
      ]
    },
    {
      "cell_type": "code",
      "execution_count": 27,
      "metadata": {
        "id": "fZop7xzwpAQH"
      },
      "outputs": [],
      "source": [
        "simple_lstm_model = create_simpler_lstm_model(\n",
        "    sequence_length=30,\n",
        "    num_features=len(numerical_columns))"
      ]
    },
    {
      "cell_type": "code",
      "execution_count": 39,
      "metadata": {
        "colab": {
          "base_uri": "https://localhost:8080/",
          "height": 541
        },
        "id": "a_eMtXGaqDA5",
        "outputId": "4fabf671-775c-4bc4-f2e4-8a53093c9bb1"
      },
      "outputs": [
        {
          "output_type": "display_data",
          "data": {
            "text/plain": [
              "\u001b[1mModel: \"Optimized_LSTM_Model_with_Attention\"\u001b[0m\n"
            ],
            "text/html": [
              "<pre style=\"white-space:pre;overflow-x:auto;line-height:normal;font-family:Menlo,'DejaVu Sans Mono',consolas,'Courier New',monospace\"><span style=\"font-weight: bold\">Model: \"Optimized_LSTM_Model_with_Attention\"</span>\n",
              "</pre>\n"
            ]
          },
          "metadata": {}
        },
        {
          "output_type": "display_data",
          "data": {
            "text/plain": [
              "┏━━━━━━━━━━━━━━━━━━━━━━━━━━━┳━━━━━━━━━━━━━━━━━━━━━━━━┳━━━━━━━━━━━━━━━━┳━━━━━━━━━━━━━━━━━━━━━━━━┓\n",
              "┃\u001b[1m \u001b[0m\u001b[1mLayer (type)             \u001b[0m\u001b[1m \u001b[0m┃\u001b[1m \u001b[0m\u001b[1mOutput Shape          \u001b[0m\u001b[1m \u001b[0m┃\u001b[1m \u001b[0m\u001b[1m       Param #\u001b[0m\u001b[1m \u001b[0m┃\u001b[1m \u001b[0m\u001b[1mConnected to          \u001b[0m\u001b[1m \u001b[0m┃\n",
              "┡━━━━━━━━━━━━━━━━━━━━━━━━━━━╇━━━━━━━━━━━━━━━━━━━━━━━━╇━━━━━━━━━━━━━━━━╇━━━━━━━━━━━━━━━━━━━━━━━━┩\n",
              "│ numerical_input           │ (\u001b[38;5;45mNone\u001b[0m, \u001b[38;5;34m30\u001b[0m, \u001b[38;5;34m9\u001b[0m)          │              \u001b[38;5;34m0\u001b[0m │ -                      │\n",
              "│ (\u001b[38;5;33mInputLayer\u001b[0m)              │                        │                │                        │\n",
              "├───────────────────────────┼────────────────────────┼────────────────┼────────────────────────┤\n",
              "│ lstm_layer_1 (\u001b[38;5;33mLSTM\u001b[0m)       │ (\u001b[38;5;45mNone\u001b[0m, \u001b[38;5;34m30\u001b[0m, \u001b[38;5;34m50\u001b[0m)         │         \u001b[38;5;34m12,000\u001b[0m │ numerical_input[\u001b[38;5;34m0\u001b[0m][\u001b[38;5;34m0\u001b[0m]  │\n",
              "├───────────────────────────┼────────────────────────┼────────────────┼────────────────────────┤\n",
              "│ batch_normalization       │ (\u001b[38;5;45mNone\u001b[0m, \u001b[38;5;34m30\u001b[0m, \u001b[38;5;34m50\u001b[0m)         │            \u001b[38;5;34m200\u001b[0m │ lstm_layer_1[\u001b[38;5;34m0\u001b[0m][\u001b[38;5;34m0\u001b[0m]     │\n",
              "│ (\u001b[38;5;33mBatchNormalization\u001b[0m)      │                        │                │                        │\n",
              "├───────────────────────────┼────────────────────────┼────────────────┼────────────────────────┤\n",
              "│ lstm_layer_2 (\u001b[38;5;33mLSTM\u001b[0m)       │ (\u001b[38;5;45mNone\u001b[0m, \u001b[38;5;34m30\u001b[0m, \u001b[38;5;34m25\u001b[0m)         │          \u001b[38;5;34m7,600\u001b[0m │ batch_normalization[\u001b[38;5;34m0\u001b[0m… │\n",
              "├───────────────────────────┼────────────────────────┼────────────────┼────────────────────────┤\n",
              "│ batch_normalization_1     │ (\u001b[38;5;45mNone\u001b[0m, \u001b[38;5;34m30\u001b[0m, \u001b[38;5;34m25\u001b[0m)         │            \u001b[38;5;34m100\u001b[0m │ lstm_layer_2[\u001b[38;5;34m0\u001b[0m][\u001b[38;5;34m0\u001b[0m]     │\n",
              "│ (\u001b[38;5;33mBatchNormalization\u001b[0m)      │                        │                │                        │\n",
              "├───────────────────────────┼────────────────────────┼────────────────┼────────────────────────┤\n",
              "│ attention_layer           │ (\u001b[38;5;45mNone\u001b[0m, \u001b[38;5;34m30\u001b[0m, \u001b[38;5;34m25\u001b[0m)         │             \u001b[38;5;34m25\u001b[0m │ batch_normalization_1… │\n",
              "│ (\u001b[38;5;33mAdditiveAttention\u001b[0m)       │                        │                │ batch_normalization_1… │\n",
              "├───────────────────────────┼────────────────────────┼────────────────┼────────────────────────┤\n",
              "│ multiply (\u001b[38;5;33mMultiply\u001b[0m)       │ (\u001b[38;5;45mNone\u001b[0m, \u001b[38;5;34m30\u001b[0m, \u001b[38;5;34m25\u001b[0m)         │              \u001b[38;5;34m0\u001b[0m │ lstm_layer_2[\u001b[38;5;34m0\u001b[0m][\u001b[38;5;34m0\u001b[0m],    │\n",
              "│                           │                        │                │ attention_layer[\u001b[38;5;34m0\u001b[0m][\u001b[38;5;34m0\u001b[0m]  │\n",
              "├───────────────────────────┼────────────────────────┼────────────────┼────────────────────────┤\n",
              "│ flatten (\u001b[38;5;33mFlatten\u001b[0m)         │ (\u001b[38;5;45mNone\u001b[0m, \u001b[38;5;34m750\u001b[0m)            │              \u001b[38;5;34m0\u001b[0m │ multiply[\u001b[38;5;34m0\u001b[0m][\u001b[38;5;34m0\u001b[0m]         │\n",
              "├───────────────────────────┼────────────────────────┼────────────────┼────────────────────────┤\n",
              "│ dense_2 (\u001b[38;5;33mDense\u001b[0m)           │ (\u001b[38;5;45mNone\u001b[0m, \u001b[38;5;34m32\u001b[0m)             │         \u001b[38;5;34m24,032\u001b[0m │ flatten[\u001b[38;5;34m0\u001b[0m][\u001b[38;5;34m0\u001b[0m]          │\n",
              "├───────────────────────────┼────────────────────────┼────────────────┼────────────────────────┤\n",
              "│ output (\u001b[38;5;33mDense\u001b[0m)            │ (\u001b[38;5;45mNone\u001b[0m, \u001b[38;5;34m1\u001b[0m)              │             \u001b[38;5;34m33\u001b[0m │ dense_2[\u001b[38;5;34m0\u001b[0m][\u001b[38;5;34m0\u001b[0m]          │\n",
              "└───────────────────────────┴────────────────────────┴────────────────┴────────────────────────┘\n"
            ],
            "text/html": [
              "<pre style=\"white-space:pre;overflow-x:auto;line-height:normal;font-family:Menlo,'DejaVu Sans Mono',consolas,'Courier New',monospace\">┏━━━━━━━━━━━━━━━━━━━━━━━━━━━┳━━━━━━━━━━━━━━━━━━━━━━━━┳━━━━━━━━━━━━━━━━┳━━━━━━━━━━━━━━━━━━━━━━━━┓\n",
              "┃<span style=\"font-weight: bold\"> Layer (type)              </span>┃<span style=\"font-weight: bold\"> Output Shape           </span>┃<span style=\"font-weight: bold\">        Param # </span>┃<span style=\"font-weight: bold\"> Connected to           </span>┃\n",
              "┡━━━━━━━━━━━━━━━━━━━━━━━━━━━╇━━━━━━━━━━━━━━━━━━━━━━━━╇━━━━━━━━━━━━━━━━╇━━━━━━━━━━━━━━━━━━━━━━━━┩\n",
              "│ numerical_input           │ (<span style=\"color: #00d7ff; text-decoration-color: #00d7ff\">None</span>, <span style=\"color: #00af00; text-decoration-color: #00af00\">30</span>, <span style=\"color: #00af00; text-decoration-color: #00af00\">9</span>)          │              <span style=\"color: #00af00; text-decoration-color: #00af00\">0</span> │ -                      │\n",
              "│ (<span style=\"color: #0087ff; text-decoration-color: #0087ff\">InputLayer</span>)              │                        │                │                        │\n",
              "├───────────────────────────┼────────────────────────┼────────────────┼────────────────────────┤\n",
              "│ lstm_layer_1 (<span style=\"color: #0087ff; text-decoration-color: #0087ff\">LSTM</span>)       │ (<span style=\"color: #00d7ff; text-decoration-color: #00d7ff\">None</span>, <span style=\"color: #00af00; text-decoration-color: #00af00\">30</span>, <span style=\"color: #00af00; text-decoration-color: #00af00\">50</span>)         │         <span style=\"color: #00af00; text-decoration-color: #00af00\">12,000</span> │ numerical_input[<span style=\"color: #00af00; text-decoration-color: #00af00\">0</span>][<span style=\"color: #00af00; text-decoration-color: #00af00\">0</span>]  │\n",
              "├───────────────────────────┼────────────────────────┼────────────────┼────────────────────────┤\n",
              "│ batch_normalization       │ (<span style=\"color: #00d7ff; text-decoration-color: #00d7ff\">None</span>, <span style=\"color: #00af00; text-decoration-color: #00af00\">30</span>, <span style=\"color: #00af00; text-decoration-color: #00af00\">50</span>)         │            <span style=\"color: #00af00; text-decoration-color: #00af00\">200</span> │ lstm_layer_1[<span style=\"color: #00af00; text-decoration-color: #00af00\">0</span>][<span style=\"color: #00af00; text-decoration-color: #00af00\">0</span>]     │\n",
              "│ (<span style=\"color: #0087ff; text-decoration-color: #0087ff\">BatchNormalization</span>)      │                        │                │                        │\n",
              "├───────────────────────────┼────────────────────────┼────────────────┼────────────────────────┤\n",
              "│ lstm_layer_2 (<span style=\"color: #0087ff; text-decoration-color: #0087ff\">LSTM</span>)       │ (<span style=\"color: #00d7ff; text-decoration-color: #00d7ff\">None</span>, <span style=\"color: #00af00; text-decoration-color: #00af00\">30</span>, <span style=\"color: #00af00; text-decoration-color: #00af00\">25</span>)         │          <span style=\"color: #00af00; text-decoration-color: #00af00\">7,600</span> │ batch_normalization[<span style=\"color: #00af00; text-decoration-color: #00af00\">0</span>… │\n",
              "├───────────────────────────┼────────────────────────┼────────────────┼────────────────────────┤\n",
              "│ batch_normalization_1     │ (<span style=\"color: #00d7ff; text-decoration-color: #00d7ff\">None</span>, <span style=\"color: #00af00; text-decoration-color: #00af00\">30</span>, <span style=\"color: #00af00; text-decoration-color: #00af00\">25</span>)         │            <span style=\"color: #00af00; text-decoration-color: #00af00\">100</span> │ lstm_layer_2[<span style=\"color: #00af00; text-decoration-color: #00af00\">0</span>][<span style=\"color: #00af00; text-decoration-color: #00af00\">0</span>]     │\n",
              "│ (<span style=\"color: #0087ff; text-decoration-color: #0087ff\">BatchNormalization</span>)      │                        │                │                        │\n",
              "├───────────────────────────┼────────────────────────┼────────────────┼────────────────────────┤\n",
              "│ attention_layer           │ (<span style=\"color: #00d7ff; text-decoration-color: #00d7ff\">None</span>, <span style=\"color: #00af00; text-decoration-color: #00af00\">30</span>, <span style=\"color: #00af00; text-decoration-color: #00af00\">25</span>)         │             <span style=\"color: #00af00; text-decoration-color: #00af00\">25</span> │ batch_normalization_1… │\n",
              "│ (<span style=\"color: #0087ff; text-decoration-color: #0087ff\">AdditiveAttention</span>)       │                        │                │ batch_normalization_1… │\n",
              "├───────────────────────────┼────────────────────────┼────────────────┼────────────────────────┤\n",
              "│ multiply (<span style=\"color: #0087ff; text-decoration-color: #0087ff\">Multiply</span>)       │ (<span style=\"color: #00d7ff; text-decoration-color: #00d7ff\">None</span>, <span style=\"color: #00af00; text-decoration-color: #00af00\">30</span>, <span style=\"color: #00af00; text-decoration-color: #00af00\">25</span>)         │              <span style=\"color: #00af00; text-decoration-color: #00af00\">0</span> │ lstm_layer_2[<span style=\"color: #00af00; text-decoration-color: #00af00\">0</span>][<span style=\"color: #00af00; text-decoration-color: #00af00\">0</span>],    │\n",
              "│                           │                        │                │ attention_layer[<span style=\"color: #00af00; text-decoration-color: #00af00\">0</span>][<span style=\"color: #00af00; text-decoration-color: #00af00\">0</span>]  │\n",
              "├───────────────────────────┼────────────────────────┼────────────────┼────────────────────────┤\n",
              "│ flatten (<span style=\"color: #0087ff; text-decoration-color: #0087ff\">Flatten</span>)         │ (<span style=\"color: #00d7ff; text-decoration-color: #00d7ff\">None</span>, <span style=\"color: #00af00; text-decoration-color: #00af00\">750</span>)            │              <span style=\"color: #00af00; text-decoration-color: #00af00\">0</span> │ multiply[<span style=\"color: #00af00; text-decoration-color: #00af00\">0</span>][<span style=\"color: #00af00; text-decoration-color: #00af00\">0</span>]         │\n",
              "├───────────────────────────┼────────────────────────┼────────────────┼────────────────────────┤\n",
              "│ dense_2 (<span style=\"color: #0087ff; text-decoration-color: #0087ff\">Dense</span>)           │ (<span style=\"color: #00d7ff; text-decoration-color: #00d7ff\">None</span>, <span style=\"color: #00af00; text-decoration-color: #00af00\">32</span>)             │         <span style=\"color: #00af00; text-decoration-color: #00af00\">24,032</span> │ flatten[<span style=\"color: #00af00; text-decoration-color: #00af00\">0</span>][<span style=\"color: #00af00; text-decoration-color: #00af00\">0</span>]          │\n",
              "├───────────────────────────┼────────────────────────┼────────────────┼────────────────────────┤\n",
              "│ output (<span style=\"color: #0087ff; text-decoration-color: #0087ff\">Dense</span>)            │ (<span style=\"color: #00d7ff; text-decoration-color: #00d7ff\">None</span>, <span style=\"color: #00af00; text-decoration-color: #00af00\">1</span>)              │             <span style=\"color: #00af00; text-decoration-color: #00af00\">33</span> │ dense_2[<span style=\"color: #00af00; text-decoration-color: #00af00\">0</span>][<span style=\"color: #00af00; text-decoration-color: #00af00\">0</span>]          │\n",
              "└───────────────────────────┴────────────────────────┴────────────────┴────────────────────────┘\n",
              "</pre>\n"
            ]
          },
          "metadata": {}
        },
        {
          "output_type": "display_data",
          "data": {
            "text/plain": [
              "\u001b[1m Total params: \u001b[0m\u001b[38;5;34m43,990\u001b[0m (171.84 KB)\n"
            ],
            "text/html": [
              "<pre style=\"white-space:pre;overflow-x:auto;line-height:normal;font-family:Menlo,'DejaVu Sans Mono',consolas,'Courier New',monospace\"><span style=\"font-weight: bold\"> Total params: </span><span style=\"color: #00af00; text-decoration-color: #00af00\">43,990</span> (171.84 KB)\n",
              "</pre>\n"
            ]
          },
          "metadata": {}
        },
        {
          "output_type": "display_data",
          "data": {
            "text/plain": [
              "\u001b[1m Trainable params: \u001b[0m\u001b[38;5;34m43,840\u001b[0m (171.25 KB)\n"
            ],
            "text/html": [
              "<pre style=\"white-space:pre;overflow-x:auto;line-height:normal;font-family:Menlo,'DejaVu Sans Mono',consolas,'Courier New',monospace\"><span style=\"font-weight: bold\"> Trainable params: </span><span style=\"color: #00af00; text-decoration-color: #00af00\">43,840</span> (171.25 KB)\n",
              "</pre>\n"
            ]
          },
          "metadata": {}
        },
        {
          "output_type": "display_data",
          "data": {
            "text/plain": [
              "\u001b[1m Non-trainable params: \u001b[0m\u001b[38;5;34m150\u001b[0m (600.00 B)\n"
            ],
            "text/html": [
              "<pre style=\"white-space:pre;overflow-x:auto;line-height:normal;font-family:Menlo,'DejaVu Sans Mono',consolas,'Courier New',monospace\"><span style=\"font-weight: bold\"> Non-trainable params: </span><span style=\"color: #00af00; text-decoration-color: #00af00\">150</span> (600.00 B)\n",
              "</pre>\n"
            ]
          },
          "metadata": {}
        }
      ],
      "source": [
        "simple_lstm_model.summary()"
      ]
    },
    {
      "cell_type": "code",
      "source": [
        "from sklearn.model_selection import train_test_split\n",
        "\n",
        "# Split tickers into train and test\n",
        "train_tickers, test_tickers = train_test_split(tickers, test_size=0.05, random_state=42)\n",
        "\n",
        "print(f\"Train tickers: {len(train_tickers)}\")\n",
        "print(f\"Test tickers: {len(test_tickers)}\")\n"
      ],
      "metadata": {
        "colab": {
          "base_uri": "https://localhost:8080/"
        },
        "id": "s7O_ASTejQZn",
        "outputId": "1d3501b7-5fd8-4d99-c17d-21302e0d228f"
      },
      "execution_count": 28,
      "outputs": [
        {
          "output_type": "stream",
          "name": "stdout",
          "text": [
            "Train tickers: 7261\n",
            "Test tickers: 383\n"
          ]
        }
      ]
    },
    {
      "cell_type": "code",
      "source": [
        "sequence_length = 30  # Must match LSTM model input expectations\n",
        "\n",
        "def data_generator(tickers, processed_data_path, batch_size=32):\n",
        "    \"\"\"Generates batches dynamically from .npy files.\"\"\"\n",
        "    feature_cols = [\n",
        "        'RSI', '5_day_MA', '10_day_MA', '20_day_MA',\n",
        "        '50_day_MA', '100_day_MA', '200_day_MA',\n",
        "        'MACD', 'Signal_Line'\n",
        "    ]\n",
        "\n",
        "    while True:\n",
        "        for ticker in tickers:\n",
        "            # Load data for the ticker\n",
        "            x_path = os.path.join(processed_data_path, f\"x_ticker_{ticker}.npy\")\n",
        "            y_path = os.path.join(processed_data_path, f\"y_ticker_{ticker}.npy\")\n",
        "\n",
        "            if not os.path.exists(x_path) or not os.path.exists(y_path):\n",
        "                print(f\"Skipping {ticker}: Missing files.\")\n",
        "                continue\n",
        "\n",
        "            x_data = np.load(x_path)\n",
        "            y_data = np.load(y_path)\n",
        "\n",
        "            # Ensure we have full batches\n",
        "            steps_per_epoch = len(x_data) // batch_size\n",
        "            x_data = x_data[:steps_per_epoch * batch_size]\n",
        "            y_data = y_data[:steps_per_epoch * batch_size]\n",
        "\n",
        "            # Yield sequences\n",
        "            for i in range(steps_per_epoch):\n",
        "                x_batch = x_data[i * batch_size: (i + 1) * batch_size]\n",
        "                y_batch = y_data[i * batch_size: (i + 1) * batch_size]\n",
        "\n",
        "                yield np.array(x_batch, dtype=np.float32), np.array(y_batch, dtype=np.float32)\n"
      ],
      "metadata": {
        "id": "m3VGlwHRmjT-"
      },
      "execution_count": 40,
      "outputs": []
    },
    {
      "cell_type": "code",
      "source": [
        "tickers = stock_data_tidy['ticker_encoded'].unique()\n",
        "\n",
        "# Split tickers into train and test\n",
        "train_tickers, test_tickers = train_test_split(tickers, test_size=0.2, random_state=42)\n",
        "\n",
        "# Create train and test datasets based on the ticker split\n",
        "train_data = stock_data_tidy[stock_data_tidy['ticker_encoded'].isin(train_tickers)]\n",
        "test_data = stock_data_tidy[stock_data_tidy['ticker_encoded'].isin(test_tickers)]\n",
        "\n",
        "# Define batch size\n",
        "batch_size = 32\n",
        "\n",
        "# Compute steps based on stock_data_tidy (NOT from files)\n",
        "train_steps = len(train_data) // batch_size\n",
        "test_steps = len(test_data) // batch_size\n"
      ],
      "metadata": {
        "id": "bpyzR9humoWg"
      },
      "execution_count": 41,
      "outputs": []
    },
    {
      "cell_type": "code",
      "source": [
        "train_tickers.sort()\n",
        "test_tickers.sort()\n",
        "train_gen = data_generator(train_tickers, processed_data_path, batch_size=batch_size)\n",
        "test_gen = data_generator(test_tickers, processed_data_path, batch_size=batch_size)"
      ],
      "metadata": {
        "id": "Qm2ZgGn8pzvT"
      },
      "execution_count": 42,
      "outputs": []
    },
    {
      "cell_type": "code",
      "execution_count": 43,
      "metadata": {
        "colab": {
          "base_uri": "https://localhost:8080/",
          "height": 1000
        },
        "id": "BrNCFCCpqXHI",
        "outputId": "631ae502-03b4-4410-85a4-9ad6ed8cad4f"
      },
      "outputs": [
        {
          "output_type": "stream",
          "name": "stdout",
          "text": [
            "Epoch 1/50\n",
            "\u001b[1m   321/573551\u001b[0m \u001b[37m━━━━━━━━━━━━━━━━━━━━\u001b[0m \u001b[1m2:39:32\u001b[0m 17ms/step - loss: 0.0589 - mae: 0.1855Skipping 6: Missing files.\n",
            "\u001b[1m 12293/573551\u001b[0m \u001b[37m━━━━━━━━━━━━━━━━━━━━\u001b[0m \u001b[1m1:59:32\u001b[0m 13ms/step - loss: 0.0226 - mae: 0.1056Skipping 162: Missing files.\n",
            "\u001b[1m 28387/573551\u001b[0m \u001b[37m━━━━━━━━━━━━━━━━━━━━\u001b[0m \u001b[1m2:00:37\u001b[0m 13ms/step - loss: 0.0159 - mae: 0.0852Skipping 409: Missing files.\n",
            "\u001b[1m 43838/573551\u001b[0m \u001b[32m━\u001b[0m\u001b[37m━━━━━━━━━━━━━━━━━━━\u001b[0m \u001b[1m1:54:13\u001b[0m 13ms/step - loss: 0.0130 - mae: 0.0755Skipping 628: Missing files.\n",
            "\u001b[1m 62325/573551\u001b[0m \u001b[32m━━\u001b[0m\u001b[37m━━━━━━━━━━━━━━━━━━\u001b[0m \u001b[1m1:46:56\u001b[0m 13ms/step - loss: 0.0111 - mae: 0.0684Skipping 851: Missing files.\n",
            "\u001b[1m 66280/573551\u001b[0m \u001b[32m━━\u001b[0m\u001b[37m━━━━━━━━━━━━━━━━━━\u001b[0m \u001b[1m1:44:53\u001b[0m 12ms/step - loss: 0.0108 - mae: 0.0672Skipping 896: Missing files.\n",
            "\u001b[1m 66942/573551\u001b[0m \u001b[32m━━\u001b[0m\u001b[37m━━━━━━━━━━━━━━━━━━\u001b[0m \u001b[1m1:44:38\u001b[0m 12ms/step - loss: 0.0107 - mae: 0.0670Skipping 903: Missing files.\n",
            "\u001b[1m 71846/573551\u001b[0m \u001b[32m━━\u001b[0m\u001b[37m━━━━━━━━━━━━━━━━━━\u001b[0m \u001b[1m1:43:38\u001b[0m 12ms/step - loss: 0.0104 - mae: 0.0657Skipping 964: Missing files.\n",
            "\u001b[1m 74468/573551\u001b[0m \u001b[32m━━\u001b[0m\u001b[37m━━━━━━━━━━━━━━━━━━\u001b[0m \u001b[1m1:43:42\u001b[0m 12ms/step - loss: 0.0102 - mae: 0.0650Skipping 1006: Missing files.\n",
            "Skipping 1007: Missing files.\n",
            "\u001b[1m103435/573551\u001b[0m \u001b[32m━━━\u001b[0m\u001b[37m━━━━━━━━━━━━━━━━━\u001b[0m \u001b[1m1:38:02\u001b[0m 13ms/step - loss: 0.0087 - mae: 0.0590Skipping 1434: Missing files.\n",
            "\u001b[1m109864/573551\u001b[0m \u001b[32m━━━\u001b[0m\u001b[37m━━━━━━━━━━━━━━━━━\u001b[0m \u001b[1m1:36:14\u001b[0m 12ms/step - loss: 0.0084 - mae: 0.0579Skipping 1522: Missing files.\n",
            "\u001b[1m127701/573551\u001b[0m \u001b[32m━━━━\u001b[0m\u001b[37m━━━━━━━━━━━━━━━━\u001b[0m \u001b[1m1:31:47\u001b[0m 12ms/step - loss: 0.0078 - mae: 0.0553Skipping 1764: Missing files.\n",
            "\u001b[1m129290/573551\u001b[0m \u001b[32m━━━━\u001b[0m\u001b[37m━━━━━━━━━━━━━━━━\u001b[0m \u001b[1m1:31:33\u001b[0m 12ms/step - loss: 0.0078 - mae: 0.0551Skipping 1792: Missing files.\n",
            "\u001b[1m139377/573551\u001b[0m \u001b[32m━━━━\u001b[0m\u001b[37m━━━━━━━━━━━━━━━━\u001b[0m \u001b[1m1:28:42\u001b[0m 12ms/step - loss: 0.0075 - mae: 0.0539Skipping 1911: Missing files.\n",
            "\u001b[1m140557/573551\u001b[0m \u001b[32m━━━━\u001b[0m\u001b[37m━━━━━━━━━━━━━━━━\u001b[0m \u001b[1m1:28:22\u001b[0m 12ms/step - loss: 0.0074 - mae: 0.0537Skipping 1930: Missing files.\n",
            "\u001b[1m157231/573551\u001b[0m \u001b[32m━━━━━\u001b[0m\u001b[37m━━━━━━━━━━━━━━━\u001b[0m \u001b[1m1:25:12\u001b[0m 12ms/step - loss: 0.0070 - mae: 0.0519Skipping 2153: Missing files.\n",
            "\u001b[1m158430/573551\u001b[0m \u001b[32m━━━━━\u001b[0m\u001b[37m━━━━━━━━━━━━━━━\u001b[0m \u001b[1m1:25:00\u001b[0m 12ms/step - loss: 0.0070 - mae: 0.0518Skipping 2170: Missing files.\n",
            "\u001b[1m159013/573551\u001b[0m \u001b[32m━━━━━\u001b[0m\u001b[37m━━━━━━━━━━━━━━━\u001b[0m \u001b[1m1:24:56\u001b[0m 12ms/step - loss: 0.0070 - mae: 0.0517Skipping 2181: Missing files.\n",
            "\u001b[1m160016/573551\u001b[0m \u001b[32m━━━━━\u001b[0m\u001b[37m━━━━━━━━━━━━━━━\u001b[0m \u001b[1m1:24:54\u001b[0m 12ms/step - loss: 0.0070 - mae: 0.0516Skipping 2203: Missing files.\n",
            "\u001b[1m160063/573551\u001b[0m \u001b[32m━━━━━\u001b[0m\u001b[37m━━━━━━━━━━━━━━━\u001b[0m \u001b[1m1:24:58\u001b[0m 12ms/step - loss: 0.0070 - mae: 0.0516Skipping 2209: Missing files.\n",
            "\u001b[1m173908/573551\u001b[0m \u001b[32m━━━━━━\u001b[0m\u001b[37m━━━━━━━━━━━━━━\u001b[0m \u001b[1m1:21:34\u001b[0m 12ms/step - loss: 0.0067 - mae: 0.0503Skipping 2369: Missing files.\n",
            "\u001b[1m177762/573551\u001b[0m \u001b[32m━━━━━━\u001b[0m\u001b[37m━━━━━━━━━━━━━━\u001b[0m \u001b[1m1:20:44\u001b[0m 12ms/step - loss: 0.0066 - mae: 0.0500Skipping 2421: Missing files.\n",
            "\u001b[1m186385/573551\u001b[0m \u001b[32m━━━━━━\u001b[0m\u001b[37m━━━━━━━━━━━━━━\u001b[0m \u001b[1m1:18:50\u001b[0m 12ms/step - loss: 0.0064 - mae: 0.0493Skipping 2533: Missing files.\n",
            "\u001b[1m198211/573551\u001b[0m \u001b[32m━━━━━━\u001b[0m\u001b[37m━━━━━━━━━━━━━━\u001b[0m \u001b[1m1:16:20\u001b[0m 12ms/step - loss: 0.0062 - mae: 0.0484Skipping 2696: Missing files.\n",
            "\u001b[1m200539/573551\u001b[0m \u001b[32m━━━━━━\u001b[0m\u001b[37m━━━━━━━━━━━━━━\u001b[0m \u001b[1m1:15:48\u001b[0m 12ms/step - loss: 0.0062 - mae: 0.0482Skipping 2723: Missing files.\n",
            "\u001b[1m204589/573551\u001b[0m \u001b[32m━━━━━━━\u001b[0m\u001b[37m━━━━━━━━━━━━━\u001b[0m \u001b[1m1:14:58\u001b[0m 12ms/step - loss: 0.0061 - mae: 0.0479Skipping 2774: Missing files.\n",
            "\u001b[1m205627/573551\u001b[0m \u001b[32m━━━━━━━\u001b[0m\u001b[37m━━━━━━━━━━━━━\u001b[0m \u001b[1m1:14:51\u001b[0m 12ms/step - loss: 0.0061 - mae: 0.0478Skipping 2789: Missing files.\n",
            "\u001b[1m223370/573551\u001b[0m \u001b[32m━━━━━━━\u001b[0m\u001b[37m━━━━━━━━━━━━━\u001b[0m \u001b[1m1:11:35\u001b[0m 12ms/step - loss: 0.0059 - mae: 0.0466Skipping 3065: Missing files.\n",
            "\u001b[1m226468/573551\u001b[0m \u001b[32m━━━━━━━\u001b[0m\u001b[37m━━━━━━━━━━━━━\u001b[0m \u001b[1m1:11:03\u001b[0m 12ms/step - loss: 0.0058 - mae: 0.0464Skipping 3115: Missing files.\n",
            "\u001b[1m227199/573551\u001b[0m \u001b[32m━━━━━━━\u001b[0m\u001b[37m━━━━━━━━━━━━━\u001b[0m \u001b[1m1:11:01\u001b[0m 12ms/step - loss: 0.0058 - mae: 0.0464Skipping 3133: Missing files.\n",
            "\u001b[1m233996/573551\u001b[0m \u001b[32m━━━━━━━━\u001b[0m\u001b[37m━━━━━━━━━━━━\u001b[0m \u001b[1m1:10:00\u001b[0m 12ms/step - loss: 0.0057 - mae: 0.0460Skipping 3249: Missing files.\n",
            "\u001b[1m235783/573551\u001b[0m \u001b[32m━━━━━━━━\u001b[0m\u001b[37m━━━━━━━━━━━━\u001b[0m \u001b[1m1:09:40\u001b[0m 12ms/step - loss: 0.0057 - mae: 0.0459Skipping 3276: Missing files.\n",
            "\u001b[1m242909/573551\u001b[0m \u001b[32m━━━━━━━━\u001b[0m\u001b[37m━━━━━━━━━━━━\u001b[0m \u001b[1m1:08:02\u001b[0m 12ms/step - loss: 0.0056 - mae: 0.0455Skipping 3365: Missing files.\n",
            "\u001b[1m246481/573551\u001b[0m \u001b[32m━━━━━━━━\u001b[0m\u001b[37m━━━━━━━━━━━━\u001b[0m \u001b[1m1:07:06\u001b[0m 12ms/step - loss: 0.0056 - mae: 0.0453Skipping 3403: Missing files.\n",
            "\u001b[1m252691/573551\u001b[0m \u001b[32m━━━━━━━━\u001b[0m\u001b[37m━━━━━━━━━━━━\u001b[0m \u001b[1m1:05:56\u001b[0m 12ms/step - loss: 0.0055 - mae: 0.0449Skipping 3490: Missing files.\n",
            "\u001b[1m253058/573551\u001b[0m \u001b[32m━━━━━━━━\u001b[0m\u001b[37m━━━━━━━━━━━━\u001b[0m \u001b[1m1:05:51\u001b[0m 12ms/step - loss: 0.0055 - mae: 0.0449Skipping 3494: Missing files.\n",
            "\u001b[1m254368/573551\u001b[0m \u001b[32m━━━━━━━━\u001b[0m\u001b[37m━━━━━━━━━━━━\u001b[0m \u001b[1m1:05:40\u001b[0m 12ms/step - loss: 0.0055 - mae: 0.0448Skipping 3516: Missing files.\n",
            "\u001b[1m267791/573551\u001b[0m \u001b[32m━━━━━━━━━\u001b[0m\u001b[37m━━━━━━━━━━━\u001b[0m \u001b[1m1:02:50\u001b[0m 12ms/step - loss: 0.0054 - mae: 0.0442Skipping 3687: Missing files.\n",
            "\u001b[1m274366/573551\u001b[0m \u001b[32m━━━━━━━━━\u001b[0m\u001b[37m━━━━━━━━━━━\u001b[0m \u001b[1m1:01:14\u001b[0m 12ms/step - loss: 0.0053 - mae: 0.0438Skipping 3761: Missing files.\n",
            "\u001b[1m275590/573551\u001b[0m \u001b[32m━━━━━━━━━\u001b[0m\u001b[37m━━━━━━━━━━━\u001b[0m \u001b[1m1:00:57\u001b[0m 12ms/step - loss: 0.0053 - mae: 0.0438Skipping 3775: Missing files.\n",
            "\u001b[1m286592/573551\u001b[0m \u001b[32m━━━━━━━━━\u001b[0m\u001b[37m━━━━━━━━━━━\u001b[0m \u001b[1m58:48\u001b[0m 12ms/step - loss: 0.0052 - mae: 0.0433Skipping 3921: Missing files.\n",
            "\u001b[1m299812/573551\u001b[0m \u001b[32m━━━━━━━━━━\u001b[0m\u001b[37m━━━━━━━━━━\u001b[0m \u001b[1m55:59\u001b[0m 12ms/step - loss: 0.0051 - mae: 0.0427Skipping 4095: Missing files.\n",
            "\u001b[1m302879/573551\u001b[0m \u001b[32m━━━━━━━━━━\u001b[0m\u001b[37m━━━━━━━━━━\u001b[0m \u001b[1m55:28\u001b[0m 12ms/step - loss: 0.0050 - mae: 0.0426Skipping 4150: Missing files.\n",
            "\u001b[1m328779/573551\u001b[0m \u001b[32m━━━━━━━━━━━\u001b[0m\u001b[37m━━━━━━━━━\u001b[0m \u001b[1m50:20\u001b[0m 12ms/step - loss: 0.0048 - mae: 0.0416Skipping 4512: Missing files.\n",
            "\u001b[1m330346/573551\u001b[0m \u001b[32m━━━━━━━━━━━\u001b[0m\u001b[37m━━━━━━━━━\u001b[0m \u001b[1m49:58\u001b[0m 12ms/step - loss: 0.0048 - mae: 0.0415Skipping 4530: Missing files.\n",
            "\u001b[1m349708/573551\u001b[0m \u001b[32m━━━━━━━━━━━━\u001b[0m\u001b[37m━━━━━━━━\u001b[0m \u001b[1m45:42\u001b[0m 12ms/step - loss: 0.0047 - mae: 0.0408Skipping 4763: Missing files.\n",
            "\u001b[1m357098/573551\u001b[0m \u001b[32m━━━━━━━━━━━━\u001b[0m\u001b[37m━━━━━━━━\u001b[0m \u001b[1m44:14\u001b[0m 12ms/step - loss: 0.0046 - mae: 0.0406Skipping 4869: Missing files.\n",
            "\u001b[1m364587/573551\u001b[0m \u001b[32m━━━━━━━━━━━━\u001b[0m\u001b[37m━━━━━━━━\u001b[0m \u001b[1m42:36\u001b[0m 12ms/step - loss: 0.0046 - mae: 0.0403Skipping 4964: Missing files.\n",
            "\u001b[1m414840/573551\u001b[0m \u001b[32m━━━━━━━━━━━━━━\u001b[0m\u001b[37m━━━━━━\u001b[0m \u001b[1m32:11\u001b[0m 12ms/step - loss: 0.0043 - mae: 0.0389Skipping 5631: Missing files.\n",
            "\u001b[1m436684/573551\u001b[0m \u001b[32m━━━━━━━━━━━━━━━\u001b[0m\u001b[37m━━━━━\u001b[0m \u001b[1m27:45\u001b[0m 12ms/step - loss: 0.0042 - mae: 0.0383Skipping 5919: Missing files.\n",
            "\u001b[1m437149/573551\u001b[0m \u001b[32m━━━━━━━━━━━━━━━\u001b[0m\u001b[37m━━━━━\u001b[0m \u001b[1m27:39\u001b[0m 12ms/step - loss: 0.0042 - mae: 0.0383Skipping 5926: Missing files.\n",
            "\u001b[1m438145/573551\u001b[0m \u001b[32m━━━━━━━━━━━━━━━\u001b[0m\u001b[37m━━━━━\u001b[0m \u001b[1m27:27\u001b[0m 12ms/step - loss: 0.0042 - mae: 0.0383Skipping 5942: Missing files.\n",
            "\u001b[1m438728/573551\u001b[0m \u001b[32m━━━━━━━━━━━━━━━\u001b[0m\u001b[37m━━━━━\u001b[0m \u001b[1m27:20\u001b[0m 12ms/step - loss: 0.0042 - mae: 0.0382Skipping 5954: Missing files.\n",
            "\u001b[1m439227/573551\u001b[0m \u001b[32m━━━━━━━━━━━━━━━\u001b[0m\u001b[37m━━━━━\u001b[0m \u001b[1m27:14\u001b[0m 12ms/step - loss: 0.0042 - mae: 0.0382Skipping 5966: Missing files.\n",
            "\u001b[1m445139/573551\u001b[0m \u001b[32m━━━━━━━━━━━━━━━\u001b[0m\u001b[37m━━━━━\u001b[0m \u001b[1m26:01\u001b[0m 12ms/step - loss: 0.0042 - mae: 0.0381Skipping 6043: Missing files.\n",
            "\u001b[1m447844/573551\u001b[0m \u001b[32m━━━━━━━━━━━━━━━\u001b[0m\u001b[37m━━━━━\u001b[0m \u001b[1m25:28\u001b[0m 12ms/step - loss: 0.0042 - mae: 0.0380Skipping 6082: Missing files.\n",
            "\u001b[1m479100/573551\u001b[0m \u001b[32m━━━━━━━━━━━━━━━━\u001b[0m\u001b[37m━━━━\u001b[0m \u001b[1m19:02\u001b[0m 12ms/step - loss: 0.0040 - mae: 0.0373Skipping 6474: Missing files.\n",
            "\u001b[1m503201/573551\u001b[0m \u001b[32m━━━━━━━━━━━━━━━━━\u001b[0m\u001b[37m━━━\u001b[0m \u001b[1m14:09\u001b[0m 12ms/step - loss: 0.0039 - mae: 0.0368Skipping 6796: Missing files.\n",
            "\u001b[1m504419/573551\u001b[0m \u001b[32m━━━━━━━━━━━━━━━━━\u001b[0m\u001b[37m━━━\u001b[0m \u001b[1m13:54\u001b[0m 12ms/step - loss: 0.0039 - mae: 0.0368Skipping 6815: Missing files.\n",
            "\u001b[1m507001/573551\u001b[0m \u001b[32m━━━━━━━━━━━━━━━━━\u001b[0m\u001b[37m━━━\u001b[0m \u001b[1m13:23\u001b[0m 12ms/step - loss: 0.0039 - mae: 0.0367Skipping 6854: Missing files.\n",
            "\u001b[1m533236/573551\u001b[0m \u001b[32m━━━━━━━━━━━━━━━━━━\u001b[0m\u001b[37m━━\u001b[0m \u001b[1m8:03\u001b[0m 12ms/step - loss: 0.0038 - mae: 0.0362Skipping 7170: Missing files.\n",
            "\u001b[1m535846/573551\u001b[0m \u001b[32m━━━━━━━━━━━━━━━━━━\u001b[0m\u001b[37m━━\u001b[0m \u001b[1m7:32\u001b[0m 12ms/step - loss: 0.0038 - mae: 0.0362Skipping 7208: Missing files.\n",
            "\u001b[1m541403/573551\u001b[0m \u001b[32m━━━━━━━━━━━━━━━━━━\u001b[0m\u001b[37m━━\u001b[0m \u001b[1m6:25\u001b[0m 12ms/step - loss: 0.0038 - mae: 0.0361Skipping 7285: Missing files.\n",
            "\u001b[1m553135/573551\u001b[0m \u001b[32m━━━━━━━━━━━━━━━━━━━\u001b[0m\u001b[37m━\u001b[0m \u001b[1m4:04\u001b[0m 12ms/step - loss: 0.0038 - mae: 0.0359Skipping 7454: Missing files.\n",
            "\u001b[1m565615/573551\u001b[0m \u001b[32m━━━━━━━━━━━━━━━━━━━\u001b[0m\u001b[37m━\u001b[0m \u001b[1m1:35\u001b[0m 12ms/step - loss: 0.0037 - mae: 0.0356Skipping 6: Missing files.\n",
            "\u001b[1m573550/573551\u001b[0m \u001b[32m━━━━━━━━━━━━━━━━━━━\u001b[0m\u001b[37m━\u001b[0m \u001b[1m0s\u001b[0m 12ms/step - loss: 0.0037 - mae: 0.0355Skipping 58: Missing files.\n",
            "Skipping 87: Missing files.\n",
            "Skipping 318: Missing files.\n",
            "Skipping 321: Missing files.\n",
            "Skipping 742: Missing files.\n",
            "Skipping 1009: Missing files.\n",
            "Skipping 1721: Missing files.\n",
            "Skipping 1858: Missing files.\n"
          ]
        },
        {
          "output_type": "error",
          "ename": "KeyboardInterrupt",
          "evalue": "",
          "traceback": [
            "\u001b[0;31m---------------------------------------------------------------------------\u001b[0m",
            "\u001b[0;31mKeyboardInterrupt\u001b[0m                         Traceback (most recent call last)",
            "\u001b[0;32m<ipython-input-43-66fd0852903e>\u001b[0m in \u001b[0;36m<cell line: 0>\u001b[0;34m()\u001b[0m\n\u001b[1;32m     10\u001b[0m \u001b[0;34m\u001b[0m\u001b[0m\n\u001b[1;32m     11\u001b[0m \u001b[0;31m# Train the model with checkpoint callback\u001b[0m\u001b[0;34m\u001b[0m\u001b[0;34m\u001b[0m\u001b[0m\n\u001b[0;32m---> 12\u001b[0;31m simple_lstm_model.fit(\n\u001b[0m\u001b[1;32m     13\u001b[0m     \u001b[0mtrain_gen\u001b[0m\u001b[0;34m,\u001b[0m\u001b[0;34m\u001b[0m\u001b[0;34m\u001b[0m\u001b[0m\n\u001b[1;32m     14\u001b[0m     \u001b[0msteps_per_epoch\u001b[0m\u001b[0;34m=\u001b[0m\u001b[0mtrain_steps\u001b[0m\u001b[0;34m,\u001b[0m\u001b[0;34m\u001b[0m\u001b[0;34m\u001b[0m\u001b[0m\n",
            "\u001b[0;32m/usr/local/lib/python3.11/dist-packages/keras/src/utils/traceback_utils.py\u001b[0m in \u001b[0;36merror_handler\u001b[0;34m(*args, **kwargs)\u001b[0m\n\u001b[1;32m    115\u001b[0m         \u001b[0mfiltered_tb\u001b[0m \u001b[0;34m=\u001b[0m \u001b[0;32mNone\u001b[0m\u001b[0;34m\u001b[0m\u001b[0;34m\u001b[0m\u001b[0m\n\u001b[1;32m    116\u001b[0m         \u001b[0;32mtry\u001b[0m\u001b[0;34m:\u001b[0m\u001b[0;34m\u001b[0m\u001b[0;34m\u001b[0m\u001b[0m\n\u001b[0;32m--> 117\u001b[0;31m             \u001b[0;32mreturn\u001b[0m \u001b[0mfn\u001b[0m\u001b[0;34m(\u001b[0m\u001b[0;34m*\u001b[0m\u001b[0margs\u001b[0m\u001b[0;34m,\u001b[0m \u001b[0;34m**\u001b[0m\u001b[0mkwargs\u001b[0m\u001b[0;34m)\u001b[0m\u001b[0;34m\u001b[0m\u001b[0;34m\u001b[0m\u001b[0m\n\u001b[0m\u001b[1;32m    118\u001b[0m         \u001b[0;32mexcept\u001b[0m \u001b[0mException\u001b[0m \u001b[0;32mas\u001b[0m \u001b[0me\u001b[0m\u001b[0;34m:\u001b[0m\u001b[0;34m\u001b[0m\u001b[0;34m\u001b[0m\u001b[0m\n\u001b[1;32m    119\u001b[0m             \u001b[0mfiltered_tb\u001b[0m \u001b[0;34m=\u001b[0m \u001b[0m_process_traceback_frames\u001b[0m\u001b[0;34m(\u001b[0m\u001b[0me\u001b[0m\u001b[0;34m.\u001b[0m\u001b[0m__traceback__\u001b[0m\u001b[0;34m)\u001b[0m\u001b[0;34m\u001b[0m\u001b[0;34m\u001b[0m\u001b[0m\n",
            "\u001b[0;32m/usr/local/lib/python3.11/dist-packages/keras/src/backend/tensorflow/trainer.py\u001b[0m in \u001b[0;36mfit\u001b[0;34m(self, x, y, batch_size, epochs, verbose, callbacks, validation_split, validation_data, shuffle, class_weight, sample_weight, initial_epoch, steps_per_epoch, validation_steps, validation_batch_size, validation_freq)\u001b[0m\n\u001b[1;32m    393\u001b[0m                         \u001b[0mshuffle\u001b[0m\u001b[0;34m=\u001b[0m\u001b[0;32mFalse\u001b[0m\u001b[0;34m,\u001b[0m\u001b[0;34m\u001b[0m\u001b[0;34m\u001b[0m\u001b[0m\n\u001b[1;32m    394\u001b[0m                     )\n\u001b[0;32m--> 395\u001b[0;31m                 val_logs = self.evaluate(\n\u001b[0m\u001b[1;32m    396\u001b[0m                     \u001b[0mx\u001b[0m\u001b[0;34m=\u001b[0m\u001b[0mval_x\u001b[0m\u001b[0;34m,\u001b[0m\u001b[0;34m\u001b[0m\u001b[0;34m\u001b[0m\u001b[0m\n\u001b[1;32m    397\u001b[0m                     \u001b[0my\u001b[0m\u001b[0;34m=\u001b[0m\u001b[0mval_y\u001b[0m\u001b[0;34m,\u001b[0m\u001b[0;34m\u001b[0m\u001b[0;34m\u001b[0m\u001b[0m\n",
            "\u001b[0;32m/usr/local/lib/python3.11/dist-packages/keras/src/utils/traceback_utils.py\u001b[0m in \u001b[0;36merror_handler\u001b[0;34m(*args, **kwargs)\u001b[0m\n\u001b[1;32m    115\u001b[0m         \u001b[0mfiltered_tb\u001b[0m \u001b[0;34m=\u001b[0m \u001b[0;32mNone\u001b[0m\u001b[0;34m\u001b[0m\u001b[0;34m\u001b[0m\u001b[0m\n\u001b[1;32m    116\u001b[0m         \u001b[0;32mtry\u001b[0m\u001b[0;34m:\u001b[0m\u001b[0;34m\u001b[0m\u001b[0;34m\u001b[0m\u001b[0m\n\u001b[0;32m--> 117\u001b[0;31m             \u001b[0;32mreturn\u001b[0m \u001b[0mfn\u001b[0m\u001b[0;34m(\u001b[0m\u001b[0;34m*\u001b[0m\u001b[0margs\u001b[0m\u001b[0;34m,\u001b[0m \u001b[0;34m**\u001b[0m\u001b[0mkwargs\u001b[0m\u001b[0;34m)\u001b[0m\u001b[0;34m\u001b[0m\u001b[0;34m\u001b[0m\u001b[0m\n\u001b[0m\u001b[1;32m    118\u001b[0m         \u001b[0;32mexcept\u001b[0m \u001b[0mException\u001b[0m \u001b[0;32mas\u001b[0m \u001b[0me\u001b[0m\u001b[0;34m:\u001b[0m\u001b[0;34m\u001b[0m\u001b[0;34m\u001b[0m\u001b[0m\n\u001b[1;32m    119\u001b[0m             \u001b[0mfiltered_tb\u001b[0m \u001b[0;34m=\u001b[0m \u001b[0m_process_traceback_frames\u001b[0m\u001b[0;34m(\u001b[0m\u001b[0me\u001b[0m\u001b[0;34m.\u001b[0m\u001b[0m__traceback__\u001b[0m\u001b[0;34m)\u001b[0m\u001b[0;34m\u001b[0m\u001b[0;34m\u001b[0m\u001b[0m\n",
            "\u001b[0;32m/usr/local/lib/python3.11/dist-packages/keras/src/backend/tensorflow/trainer.py\u001b[0m in \u001b[0;36mevaluate\u001b[0;34m(self, x, y, batch_size, verbose, sample_weight, steps, callbacks, return_dict, **kwargs)\u001b[0m\n\u001b[1;32m    482\u001b[0m             \u001b[0;32mfor\u001b[0m \u001b[0mstep\u001b[0m\u001b[0;34m,\u001b[0m \u001b[0miterator\u001b[0m \u001b[0;32min\u001b[0m \u001b[0mepoch_iterator\u001b[0m\u001b[0;34m:\u001b[0m\u001b[0;34m\u001b[0m\u001b[0;34m\u001b[0m\u001b[0m\n\u001b[1;32m    483\u001b[0m                 \u001b[0mcallbacks\u001b[0m\u001b[0;34m.\u001b[0m\u001b[0mon_test_batch_begin\u001b[0m\u001b[0;34m(\u001b[0m\u001b[0mstep\u001b[0m\u001b[0;34m)\u001b[0m\u001b[0;34m\u001b[0m\u001b[0;34m\u001b[0m\u001b[0m\n\u001b[0;32m--> 484\u001b[0;31m                 \u001b[0mlogs\u001b[0m \u001b[0;34m=\u001b[0m \u001b[0mself\u001b[0m\u001b[0;34m.\u001b[0m\u001b[0mtest_function\u001b[0m\u001b[0;34m(\u001b[0m\u001b[0miterator\u001b[0m\u001b[0;34m)\u001b[0m\u001b[0;34m\u001b[0m\u001b[0;34m\u001b[0m\u001b[0m\n\u001b[0m\u001b[1;32m    485\u001b[0m                 \u001b[0mcallbacks\u001b[0m\u001b[0;34m.\u001b[0m\u001b[0mon_test_batch_end\u001b[0m\u001b[0;34m(\u001b[0m\u001b[0mstep\u001b[0m\u001b[0;34m,\u001b[0m \u001b[0mlogs\u001b[0m\u001b[0;34m)\u001b[0m\u001b[0;34m\u001b[0m\u001b[0;34m\u001b[0m\u001b[0m\n\u001b[1;32m    486\u001b[0m                 \u001b[0;32mif\u001b[0m \u001b[0mself\u001b[0m\u001b[0;34m.\u001b[0m\u001b[0mstop_evaluating\u001b[0m\u001b[0;34m:\u001b[0m\u001b[0;34m\u001b[0m\u001b[0;34m\u001b[0m\u001b[0m\n",
            "\u001b[0;32m/usr/local/lib/python3.11/dist-packages/keras/src/backend/tensorflow/trainer.py\u001b[0m in \u001b[0;36mfunction\u001b[0;34m(iterator)\u001b[0m\n\u001b[1;32m    217\u001b[0m                 \u001b[0miterator\u001b[0m\u001b[0;34m,\u001b[0m \u001b[0;34m(\u001b[0m\u001b[0mtf\u001b[0m\u001b[0;34m.\u001b[0m\u001b[0mdata\u001b[0m\u001b[0;34m.\u001b[0m\u001b[0mIterator\u001b[0m\u001b[0;34m,\u001b[0m \u001b[0mtf\u001b[0m\u001b[0;34m.\u001b[0m\u001b[0mdistribute\u001b[0m\u001b[0;34m.\u001b[0m\u001b[0mDistributedIterator\u001b[0m\u001b[0;34m)\u001b[0m\u001b[0;34m\u001b[0m\u001b[0;34m\u001b[0m\u001b[0m\n\u001b[1;32m    218\u001b[0m             ):\n\u001b[0;32m--> 219\u001b[0;31m                 \u001b[0mopt_outputs\u001b[0m \u001b[0;34m=\u001b[0m \u001b[0mmulti_step_on_iterator\u001b[0m\u001b[0;34m(\u001b[0m\u001b[0miterator\u001b[0m\u001b[0;34m)\u001b[0m\u001b[0;34m\u001b[0m\u001b[0;34m\u001b[0m\u001b[0m\n\u001b[0m\u001b[1;32m    220\u001b[0m                 \u001b[0;32mif\u001b[0m \u001b[0;32mnot\u001b[0m \u001b[0mopt_outputs\u001b[0m\u001b[0;34m.\u001b[0m\u001b[0mhas_value\u001b[0m\u001b[0;34m(\u001b[0m\u001b[0;34m)\u001b[0m\u001b[0;34m:\u001b[0m\u001b[0;34m\u001b[0m\u001b[0;34m\u001b[0m\u001b[0m\n\u001b[1;32m    221\u001b[0m                     \u001b[0;32mraise\u001b[0m \u001b[0mStopIteration\u001b[0m\u001b[0;34m\u001b[0m\u001b[0;34m\u001b[0m\u001b[0m\n",
            "\u001b[0;32m/usr/local/lib/python3.11/dist-packages/tensorflow/python/util/traceback_utils.py\u001b[0m in \u001b[0;36merror_handler\u001b[0;34m(*args, **kwargs)\u001b[0m\n\u001b[1;32m    148\u001b[0m     \u001b[0mfiltered_tb\u001b[0m \u001b[0;34m=\u001b[0m \u001b[0;32mNone\u001b[0m\u001b[0;34m\u001b[0m\u001b[0;34m\u001b[0m\u001b[0m\n\u001b[1;32m    149\u001b[0m     \u001b[0;32mtry\u001b[0m\u001b[0;34m:\u001b[0m\u001b[0;34m\u001b[0m\u001b[0;34m\u001b[0m\u001b[0m\n\u001b[0;32m--> 150\u001b[0;31m       \u001b[0;32mreturn\u001b[0m \u001b[0mfn\u001b[0m\u001b[0;34m(\u001b[0m\u001b[0;34m*\u001b[0m\u001b[0margs\u001b[0m\u001b[0;34m,\u001b[0m \u001b[0;34m**\u001b[0m\u001b[0mkwargs\u001b[0m\u001b[0;34m)\u001b[0m\u001b[0;34m\u001b[0m\u001b[0;34m\u001b[0m\u001b[0m\n\u001b[0m\u001b[1;32m    151\u001b[0m     \u001b[0;32mexcept\u001b[0m \u001b[0mException\u001b[0m \u001b[0;32mas\u001b[0m \u001b[0me\u001b[0m\u001b[0;34m:\u001b[0m\u001b[0;34m\u001b[0m\u001b[0;34m\u001b[0m\u001b[0m\n\u001b[1;32m    152\u001b[0m       \u001b[0mfiltered_tb\u001b[0m \u001b[0;34m=\u001b[0m \u001b[0m_process_traceback_frames\u001b[0m\u001b[0;34m(\u001b[0m\u001b[0me\u001b[0m\u001b[0;34m.\u001b[0m\u001b[0m__traceback__\u001b[0m\u001b[0;34m)\u001b[0m\u001b[0;34m\u001b[0m\u001b[0;34m\u001b[0m\u001b[0m\n",
            "\u001b[0;32m/usr/local/lib/python3.11/dist-packages/tensorflow/python/eager/polymorphic_function/polymorphic_function.py\u001b[0m in \u001b[0;36m__call__\u001b[0;34m(self, *args, **kwds)\u001b[0m\n\u001b[1;32m    831\u001b[0m \u001b[0;34m\u001b[0m\u001b[0m\n\u001b[1;32m    832\u001b[0m       \u001b[0;32mwith\u001b[0m \u001b[0mOptionalXlaContext\u001b[0m\u001b[0;34m(\u001b[0m\u001b[0mself\u001b[0m\u001b[0;34m.\u001b[0m\u001b[0m_jit_compile\u001b[0m\u001b[0;34m)\u001b[0m\u001b[0;34m:\u001b[0m\u001b[0;34m\u001b[0m\u001b[0;34m\u001b[0m\u001b[0m\n\u001b[0;32m--> 833\u001b[0;31m         \u001b[0mresult\u001b[0m \u001b[0;34m=\u001b[0m \u001b[0mself\u001b[0m\u001b[0;34m.\u001b[0m\u001b[0m_call\u001b[0m\u001b[0;34m(\u001b[0m\u001b[0;34m*\u001b[0m\u001b[0margs\u001b[0m\u001b[0;34m,\u001b[0m \u001b[0;34m**\u001b[0m\u001b[0mkwds\u001b[0m\u001b[0;34m)\u001b[0m\u001b[0;34m\u001b[0m\u001b[0;34m\u001b[0m\u001b[0m\n\u001b[0m\u001b[1;32m    834\u001b[0m \u001b[0;34m\u001b[0m\u001b[0m\n\u001b[1;32m    835\u001b[0m       \u001b[0mnew_tracing_count\u001b[0m \u001b[0;34m=\u001b[0m \u001b[0mself\u001b[0m\u001b[0;34m.\u001b[0m\u001b[0mexperimental_get_tracing_count\u001b[0m\u001b[0;34m(\u001b[0m\u001b[0;34m)\u001b[0m\u001b[0;34m\u001b[0m\u001b[0;34m\u001b[0m\u001b[0m\n",
            "\u001b[0;32m/usr/local/lib/python3.11/dist-packages/tensorflow/python/eager/polymorphic_function/polymorphic_function.py\u001b[0m in \u001b[0;36m_call\u001b[0;34m(self, *args, **kwds)\u001b[0m\n\u001b[1;32m    876\u001b[0m       \u001b[0;31m# In this case we have not created variables on the first call. So we can\u001b[0m\u001b[0;34m\u001b[0m\u001b[0;34m\u001b[0m\u001b[0m\n\u001b[1;32m    877\u001b[0m       \u001b[0;31m# run the first trace but we should fail if variables are created.\u001b[0m\u001b[0;34m\u001b[0m\u001b[0;34m\u001b[0m\u001b[0m\n\u001b[0;32m--> 878\u001b[0;31m       results = tracing_compilation.call_function(\n\u001b[0m\u001b[1;32m    879\u001b[0m           \u001b[0margs\u001b[0m\u001b[0;34m,\u001b[0m \u001b[0mkwds\u001b[0m\u001b[0;34m,\u001b[0m \u001b[0mself\u001b[0m\u001b[0;34m.\u001b[0m\u001b[0m_variable_creation_config\u001b[0m\u001b[0;34m\u001b[0m\u001b[0;34m\u001b[0m\u001b[0m\n\u001b[1;32m    880\u001b[0m       )\n",
            "\u001b[0;32m/usr/local/lib/python3.11/dist-packages/tensorflow/python/eager/polymorphic_function/tracing_compilation.py\u001b[0m in \u001b[0;36mcall_function\u001b[0;34m(args, kwargs, tracing_options)\u001b[0m\n\u001b[1;32m    137\u001b[0m   \u001b[0mbound_args\u001b[0m \u001b[0;34m=\u001b[0m \u001b[0mfunction\u001b[0m\u001b[0;34m.\u001b[0m\u001b[0mfunction_type\u001b[0m\u001b[0;34m.\u001b[0m\u001b[0mbind\u001b[0m\u001b[0;34m(\u001b[0m\u001b[0;34m*\u001b[0m\u001b[0margs\u001b[0m\u001b[0;34m,\u001b[0m \u001b[0;34m**\u001b[0m\u001b[0mkwargs\u001b[0m\u001b[0;34m)\u001b[0m\u001b[0;34m\u001b[0m\u001b[0;34m\u001b[0m\u001b[0m\n\u001b[1;32m    138\u001b[0m   \u001b[0mflat_inputs\u001b[0m \u001b[0;34m=\u001b[0m \u001b[0mfunction\u001b[0m\u001b[0;34m.\u001b[0m\u001b[0mfunction_type\u001b[0m\u001b[0;34m.\u001b[0m\u001b[0munpack_inputs\u001b[0m\u001b[0;34m(\u001b[0m\u001b[0mbound_args\u001b[0m\u001b[0;34m)\u001b[0m\u001b[0;34m\u001b[0m\u001b[0;34m\u001b[0m\u001b[0m\n\u001b[0;32m--> 139\u001b[0;31m   return function._call_flat(  # pylint: disable=protected-access\n\u001b[0m\u001b[1;32m    140\u001b[0m       \u001b[0mflat_inputs\u001b[0m\u001b[0;34m,\u001b[0m \u001b[0mcaptured_inputs\u001b[0m\u001b[0;34m=\u001b[0m\u001b[0mfunction\u001b[0m\u001b[0;34m.\u001b[0m\u001b[0mcaptured_inputs\u001b[0m\u001b[0;34m\u001b[0m\u001b[0;34m\u001b[0m\u001b[0m\n\u001b[1;32m    141\u001b[0m   )\n",
            "\u001b[0;32m/usr/local/lib/python3.11/dist-packages/tensorflow/python/eager/polymorphic_function/concrete_function.py\u001b[0m in \u001b[0;36m_call_flat\u001b[0;34m(self, tensor_inputs, captured_inputs)\u001b[0m\n\u001b[1;32m   1320\u001b[0m         and executing_eagerly):\n\u001b[1;32m   1321\u001b[0m       \u001b[0;31m# No tape is watching; skip to running the function.\u001b[0m\u001b[0;34m\u001b[0m\u001b[0;34m\u001b[0m\u001b[0m\n\u001b[0;32m-> 1322\u001b[0;31m       \u001b[0;32mreturn\u001b[0m \u001b[0mself\u001b[0m\u001b[0;34m.\u001b[0m\u001b[0m_inference_function\u001b[0m\u001b[0;34m.\u001b[0m\u001b[0mcall_preflattened\u001b[0m\u001b[0;34m(\u001b[0m\u001b[0margs\u001b[0m\u001b[0;34m)\u001b[0m\u001b[0;34m\u001b[0m\u001b[0;34m\u001b[0m\u001b[0m\n\u001b[0m\u001b[1;32m   1323\u001b[0m     forward_backward = self._select_forward_and_backward_functions(\n\u001b[1;32m   1324\u001b[0m         \u001b[0margs\u001b[0m\u001b[0;34m,\u001b[0m\u001b[0;34m\u001b[0m\u001b[0;34m\u001b[0m\u001b[0m\n",
            "\u001b[0;32m/usr/local/lib/python3.11/dist-packages/tensorflow/python/eager/polymorphic_function/atomic_function.py\u001b[0m in \u001b[0;36mcall_preflattened\u001b[0;34m(self, args)\u001b[0m\n\u001b[1;32m    214\u001b[0m   \u001b[0;32mdef\u001b[0m \u001b[0mcall_preflattened\u001b[0m\u001b[0;34m(\u001b[0m\u001b[0mself\u001b[0m\u001b[0;34m,\u001b[0m \u001b[0margs\u001b[0m\u001b[0;34m:\u001b[0m \u001b[0mSequence\u001b[0m\u001b[0;34m[\u001b[0m\u001b[0mcore\u001b[0m\u001b[0;34m.\u001b[0m\u001b[0mTensor\u001b[0m\u001b[0;34m]\u001b[0m\u001b[0;34m)\u001b[0m \u001b[0;34m->\u001b[0m \u001b[0mAny\u001b[0m\u001b[0;34m:\u001b[0m\u001b[0;34m\u001b[0m\u001b[0;34m\u001b[0m\u001b[0m\n\u001b[1;32m    215\u001b[0m     \u001b[0;34m\"\"\"Calls with flattened tensor inputs and returns the structured output.\"\"\"\u001b[0m\u001b[0;34m\u001b[0m\u001b[0;34m\u001b[0m\u001b[0m\n\u001b[0;32m--> 216\u001b[0;31m     \u001b[0mflat_outputs\u001b[0m \u001b[0;34m=\u001b[0m \u001b[0mself\u001b[0m\u001b[0;34m.\u001b[0m\u001b[0mcall_flat\u001b[0m\u001b[0;34m(\u001b[0m\u001b[0;34m*\u001b[0m\u001b[0margs\u001b[0m\u001b[0;34m)\u001b[0m\u001b[0;34m\u001b[0m\u001b[0;34m\u001b[0m\u001b[0m\n\u001b[0m\u001b[1;32m    217\u001b[0m     \u001b[0;32mreturn\u001b[0m \u001b[0mself\u001b[0m\u001b[0;34m.\u001b[0m\u001b[0mfunction_type\u001b[0m\u001b[0;34m.\u001b[0m\u001b[0mpack_output\u001b[0m\u001b[0;34m(\u001b[0m\u001b[0mflat_outputs\u001b[0m\u001b[0;34m)\u001b[0m\u001b[0;34m\u001b[0m\u001b[0;34m\u001b[0m\u001b[0m\n\u001b[1;32m    218\u001b[0m \u001b[0;34m\u001b[0m\u001b[0m\n",
            "\u001b[0;32m/usr/local/lib/python3.11/dist-packages/tensorflow/python/eager/polymorphic_function/atomic_function.py\u001b[0m in \u001b[0;36mcall_flat\u001b[0;34m(self, *args)\u001b[0m\n\u001b[1;32m    249\u001b[0m         \u001b[0;32mwith\u001b[0m \u001b[0mrecord\u001b[0m\u001b[0;34m.\u001b[0m\u001b[0mstop_recording\u001b[0m\u001b[0;34m(\u001b[0m\u001b[0;34m)\u001b[0m\u001b[0;34m:\u001b[0m\u001b[0;34m\u001b[0m\u001b[0;34m\u001b[0m\u001b[0m\n\u001b[1;32m    250\u001b[0m           \u001b[0;32mif\u001b[0m \u001b[0mself\u001b[0m\u001b[0;34m.\u001b[0m\u001b[0m_bound_context\u001b[0m\u001b[0;34m.\u001b[0m\u001b[0mexecuting_eagerly\u001b[0m\u001b[0;34m(\u001b[0m\u001b[0;34m)\u001b[0m\u001b[0;34m:\u001b[0m\u001b[0;34m\u001b[0m\u001b[0;34m\u001b[0m\u001b[0m\n\u001b[0;32m--> 251\u001b[0;31m             outputs = self._bound_context.call_function(\n\u001b[0m\u001b[1;32m    252\u001b[0m                 \u001b[0mself\u001b[0m\u001b[0;34m.\u001b[0m\u001b[0mname\u001b[0m\u001b[0;34m,\u001b[0m\u001b[0;34m\u001b[0m\u001b[0;34m\u001b[0m\u001b[0m\n\u001b[1;32m    253\u001b[0m                 \u001b[0mlist\u001b[0m\u001b[0;34m(\u001b[0m\u001b[0margs\u001b[0m\u001b[0;34m)\u001b[0m\u001b[0;34m,\u001b[0m\u001b[0;34m\u001b[0m\u001b[0;34m\u001b[0m\u001b[0m\n",
            "\u001b[0;32m/usr/local/lib/python3.11/dist-packages/tensorflow/python/eager/context.py\u001b[0m in \u001b[0;36mcall_function\u001b[0;34m(self, name, tensor_inputs, num_outputs)\u001b[0m\n\u001b[1;32m   1681\u001b[0m     \u001b[0mcancellation_context\u001b[0m \u001b[0;34m=\u001b[0m \u001b[0mcancellation\u001b[0m\u001b[0;34m.\u001b[0m\u001b[0mcontext\u001b[0m\u001b[0;34m(\u001b[0m\u001b[0;34m)\u001b[0m\u001b[0;34m\u001b[0m\u001b[0;34m\u001b[0m\u001b[0m\n\u001b[1;32m   1682\u001b[0m     \u001b[0;32mif\u001b[0m \u001b[0mcancellation_context\u001b[0m \u001b[0;32mis\u001b[0m \u001b[0;32mNone\u001b[0m\u001b[0;34m:\u001b[0m\u001b[0;34m\u001b[0m\u001b[0;34m\u001b[0m\u001b[0m\n\u001b[0;32m-> 1683\u001b[0;31m       outputs = execute.execute(\n\u001b[0m\u001b[1;32m   1684\u001b[0m           \u001b[0mname\u001b[0m\u001b[0;34m.\u001b[0m\u001b[0mdecode\u001b[0m\u001b[0;34m(\u001b[0m\u001b[0;34m\"utf-8\"\u001b[0m\u001b[0;34m)\u001b[0m\u001b[0;34m,\u001b[0m\u001b[0;34m\u001b[0m\u001b[0;34m\u001b[0m\u001b[0m\n\u001b[1;32m   1685\u001b[0m           \u001b[0mnum_outputs\u001b[0m\u001b[0;34m=\u001b[0m\u001b[0mnum_outputs\u001b[0m\u001b[0;34m,\u001b[0m\u001b[0;34m\u001b[0m\u001b[0;34m\u001b[0m\u001b[0m\n",
            "\u001b[0;32m/usr/local/lib/python3.11/dist-packages/tensorflow/python/eager/execute.py\u001b[0m in \u001b[0;36mquick_execute\u001b[0;34m(op_name, num_outputs, inputs, attrs, ctx, name)\u001b[0m\n\u001b[1;32m     51\u001b[0m   \u001b[0;32mtry\u001b[0m\u001b[0;34m:\u001b[0m\u001b[0;34m\u001b[0m\u001b[0;34m\u001b[0m\u001b[0m\n\u001b[1;32m     52\u001b[0m     \u001b[0mctx\u001b[0m\u001b[0;34m.\u001b[0m\u001b[0mensure_initialized\u001b[0m\u001b[0;34m(\u001b[0m\u001b[0;34m)\u001b[0m\u001b[0;34m\u001b[0m\u001b[0;34m\u001b[0m\u001b[0m\n\u001b[0;32m---> 53\u001b[0;31m     tensors = pywrap_tfe.TFE_Py_Execute(ctx._handle, device_name, op_name,\n\u001b[0m\u001b[1;32m     54\u001b[0m                                         inputs, attrs, num_outputs)\n\u001b[1;32m     55\u001b[0m   \u001b[0;32mexcept\u001b[0m \u001b[0mcore\u001b[0m\u001b[0;34m.\u001b[0m\u001b[0m_NotOkStatusException\u001b[0m \u001b[0;32mas\u001b[0m \u001b[0me\u001b[0m\u001b[0;34m:\u001b[0m\u001b[0;34m\u001b[0m\u001b[0;34m\u001b[0m\u001b[0m\n",
            "\u001b[0;31mKeyboardInterrupt\u001b[0m: "
          ]
        }
      ],
      "source": [
        "# Define the checkpoint callback\n",
        "checkpoint = ModelCheckpoint(\n",
        "    filepath=google_drive_path + 'simple_lstm_model_epoch_4_1_{epoch:02d}.keras',  # Saves model for each epoch\n",
        "    save_best_only=False,  # Save model at every epoch\n",
        "    save_weights_only=False,  # Save full model (architecture + weights)\n",
        "    verbose=1\n",
        ")\n",
        "\n",
        "early_stopping = EarlyStopping(monitor=\"loss\", patience=30, restore_best_weights=True)\n",
        "\n",
        "# Train the model with checkpoint callback\n",
        "simple_lstm_model.fit(\n",
        "    train_gen,\n",
        "    steps_per_epoch=train_steps,\n",
        "    validation_data=test_gen,\n",
        "    validation_steps=test_steps,\n",
        "    epochs=50,\n",
        "    callbacks=[checkpoint, early_stopping],  # Include checkpoint callback\n",
        "    verbose=1\n",
        ")\n",
        "\n",
        "print(\"Training complete!\")\n"
      ]
    },
    {
      "cell_type": "code",
      "execution_count": 44,
      "metadata": {
        "id": "efLvb3fDEkm7"
      },
      "outputs": [],
      "source": [
        "simple_lstm_model.save(google_drive_path + 'simple_lstm_model4_1.keras')"
      ]
    },
    {
      "cell_type": "code",
      "source": [
        "import tensorflow as tf\n",
        "\n",
        "# Load the model\n",
        "simple_lstm_model = tf.keras.models.load_model(google_drive_path + 'simple_lstm_model1_1.keras')\n",
        "\n",
        "# Verify the model summary\n",
        "simple_lstm_model.summary()\n"
      ],
      "metadata": {
        "colab": {
          "base_uri": "https://localhost:8080/",
          "height": 557
        },
        "id": "_zSi8FjESr3r",
        "outputId": "1d1e91f5-2f25-4209-e2d2-358bcaa15ec0"
      },
      "execution_count": 28,
      "outputs": [
        {
          "output_type": "display_data",
          "data": {
            "text/plain": [
              "\u001b[1mModel: \"Optimized_LSTM_Model_with_Attention\"\u001b[0m\n"
            ],
            "text/html": [
              "<pre style=\"white-space:pre;overflow-x:auto;line-height:normal;font-family:Menlo,'DejaVu Sans Mono',consolas,'Courier New',monospace\"><span style=\"font-weight: bold\">Model: \"Optimized_LSTM_Model_with_Attention\"</span>\n",
              "</pre>\n"
            ]
          },
          "metadata": {}
        },
        {
          "output_type": "display_data",
          "data": {
            "text/plain": [
              "┏━━━━━━━━━━━━━━━━━━━━━━━━━━━┳━━━━━━━━━━━━━━━━━━━━━━━━┳━━━━━━━━━━━━━━━━┳━━━━━━━━━━━━━━━━━━━━━━━━┓\n",
              "┃\u001b[1m \u001b[0m\u001b[1mLayer (type)             \u001b[0m\u001b[1m \u001b[0m┃\u001b[1m \u001b[0m\u001b[1mOutput Shape          \u001b[0m\u001b[1m \u001b[0m┃\u001b[1m \u001b[0m\u001b[1m       Param #\u001b[0m\u001b[1m \u001b[0m┃\u001b[1m \u001b[0m\u001b[1mConnected to          \u001b[0m\u001b[1m \u001b[0m┃\n",
              "┡━━━━━━━━━━━━━━━━━━━━━━━━━━━╇━━━━━━━━━━━━━━━━━━━━━━━━╇━━━━━━━━━━━━━━━━╇━━━━━━━━━━━━━━━━━━━━━━━━┩\n",
              "│ numerical_input           │ (\u001b[38;5;45mNone\u001b[0m, \u001b[38;5;34m30\u001b[0m, \u001b[38;5;34m10\u001b[0m)         │              \u001b[38;5;34m0\u001b[0m │ -                      │\n",
              "│ (\u001b[38;5;33mInputLayer\u001b[0m)              │                        │                │                        │\n",
              "├───────────────────────────┼────────────────────────┼────────────────┼────────────────────────┤\n",
              "│ lstm_layer_1 (\u001b[38;5;33mLSTM\u001b[0m)       │ (\u001b[38;5;45mNone\u001b[0m, \u001b[38;5;34m30\u001b[0m, \u001b[38;5;34m50\u001b[0m)         │         \u001b[38;5;34m12,200\u001b[0m │ numerical_input[\u001b[38;5;34m0\u001b[0m][\u001b[38;5;34m0\u001b[0m]  │\n",
              "├───────────────────────────┼────────────────────────┼────────────────┼────────────────────────┤\n",
              "│ batch_normalization_2     │ (\u001b[38;5;45mNone\u001b[0m, \u001b[38;5;34m30\u001b[0m, \u001b[38;5;34m50\u001b[0m)         │            \u001b[38;5;34m200\u001b[0m │ lstm_layer_1[\u001b[38;5;34m0\u001b[0m][\u001b[38;5;34m0\u001b[0m]     │\n",
              "│ (\u001b[38;5;33mBatchNormalization\u001b[0m)      │                        │                │                        │\n",
              "├───────────────────────────┼────────────────────────┼────────────────┼────────────────────────┤\n",
              "│ lstm_layer_2 (\u001b[38;5;33mLSTM\u001b[0m)       │ (\u001b[38;5;45mNone\u001b[0m, \u001b[38;5;34m30\u001b[0m, \u001b[38;5;34m25\u001b[0m)         │          \u001b[38;5;34m7,600\u001b[0m │ batch_normalization_2… │\n",
              "├───────────────────────────┼────────────────────────┼────────────────┼────────────────────────┤\n",
              "│ batch_normalization_3     │ (\u001b[38;5;45mNone\u001b[0m, \u001b[38;5;34m30\u001b[0m, \u001b[38;5;34m25\u001b[0m)         │            \u001b[38;5;34m100\u001b[0m │ lstm_layer_2[\u001b[38;5;34m0\u001b[0m][\u001b[38;5;34m0\u001b[0m]     │\n",
              "│ (\u001b[38;5;33mBatchNormalization\u001b[0m)      │                        │                │                        │\n",
              "├───────────────────────────┼────────────────────────┼────────────────┼────────────────────────┤\n",
              "│ attention_layer           │ (\u001b[38;5;45mNone\u001b[0m, \u001b[38;5;34m30\u001b[0m, \u001b[38;5;34m25\u001b[0m)         │             \u001b[38;5;34m25\u001b[0m │ batch_normalization_3… │\n",
              "│ (\u001b[38;5;33mAdditiveAttention\u001b[0m)       │                        │                │ batch_normalization_3… │\n",
              "├───────────────────────────┼────────────────────────┼────────────────┼────────────────────────┤\n",
              "│ multiply_1 (\u001b[38;5;33mMultiply\u001b[0m)     │ (\u001b[38;5;45mNone\u001b[0m, \u001b[38;5;34m30\u001b[0m, \u001b[38;5;34m25\u001b[0m)         │              \u001b[38;5;34m0\u001b[0m │ lstm_layer_2[\u001b[38;5;34m0\u001b[0m][\u001b[38;5;34m0\u001b[0m],    │\n",
              "│                           │                        │                │ attention_layer[\u001b[38;5;34m0\u001b[0m][\u001b[38;5;34m0\u001b[0m]  │\n",
              "├───────────────────────────┼────────────────────────┼────────────────┼────────────────────────┤\n",
              "│ flatten_1 (\u001b[38;5;33mFlatten\u001b[0m)       │ (\u001b[38;5;45mNone\u001b[0m, \u001b[38;5;34m750\u001b[0m)            │              \u001b[38;5;34m0\u001b[0m │ multiply_1[\u001b[38;5;34m0\u001b[0m][\u001b[38;5;34m0\u001b[0m]       │\n",
              "├───────────────────────────┼────────────────────────┼────────────────┼────────────────────────┤\n",
              "│ dense_2 (\u001b[38;5;33mDense\u001b[0m)           │ (\u001b[38;5;45mNone\u001b[0m, \u001b[38;5;34m32\u001b[0m)             │         \u001b[38;5;34m24,032\u001b[0m │ flatten_1[\u001b[38;5;34m0\u001b[0m][\u001b[38;5;34m0\u001b[0m]        │\n",
              "├───────────────────────────┼────────────────────────┼────────────────┼────────────────────────┤\n",
              "│ output (\u001b[38;5;33mDense\u001b[0m)            │ (\u001b[38;5;45mNone\u001b[0m, \u001b[38;5;34m1\u001b[0m)              │             \u001b[38;5;34m33\u001b[0m │ dense_2[\u001b[38;5;34m0\u001b[0m][\u001b[38;5;34m0\u001b[0m]          │\n",
              "└───────────────────────────┴────────────────────────┴────────────────┴────────────────────────┘\n"
            ],
            "text/html": [
              "<pre style=\"white-space:pre;overflow-x:auto;line-height:normal;font-family:Menlo,'DejaVu Sans Mono',consolas,'Courier New',monospace\">┏━━━━━━━━━━━━━━━━━━━━━━━━━━━┳━━━━━━━━━━━━━━━━━━━━━━━━┳━━━━━━━━━━━━━━━━┳━━━━━━━━━━━━━━━━━━━━━━━━┓\n",
              "┃<span style=\"font-weight: bold\"> Layer (type)              </span>┃<span style=\"font-weight: bold\"> Output Shape           </span>┃<span style=\"font-weight: bold\">        Param # </span>┃<span style=\"font-weight: bold\"> Connected to           </span>┃\n",
              "┡━━━━━━━━━━━━━━━━━━━━━━━━━━━╇━━━━━━━━━━━━━━━━━━━━━━━━╇━━━━━━━━━━━━━━━━╇━━━━━━━━━━━━━━━━━━━━━━━━┩\n",
              "│ numerical_input           │ (<span style=\"color: #00d7ff; text-decoration-color: #00d7ff\">None</span>, <span style=\"color: #00af00; text-decoration-color: #00af00\">30</span>, <span style=\"color: #00af00; text-decoration-color: #00af00\">10</span>)         │              <span style=\"color: #00af00; text-decoration-color: #00af00\">0</span> │ -                      │\n",
              "│ (<span style=\"color: #0087ff; text-decoration-color: #0087ff\">InputLayer</span>)              │                        │                │                        │\n",
              "├───────────────────────────┼────────────────────────┼────────────────┼────────────────────────┤\n",
              "│ lstm_layer_1 (<span style=\"color: #0087ff; text-decoration-color: #0087ff\">LSTM</span>)       │ (<span style=\"color: #00d7ff; text-decoration-color: #00d7ff\">None</span>, <span style=\"color: #00af00; text-decoration-color: #00af00\">30</span>, <span style=\"color: #00af00; text-decoration-color: #00af00\">50</span>)         │         <span style=\"color: #00af00; text-decoration-color: #00af00\">12,200</span> │ numerical_input[<span style=\"color: #00af00; text-decoration-color: #00af00\">0</span>][<span style=\"color: #00af00; text-decoration-color: #00af00\">0</span>]  │\n",
              "├───────────────────────────┼────────────────────────┼────────────────┼────────────────────────┤\n",
              "│ batch_normalization_2     │ (<span style=\"color: #00d7ff; text-decoration-color: #00d7ff\">None</span>, <span style=\"color: #00af00; text-decoration-color: #00af00\">30</span>, <span style=\"color: #00af00; text-decoration-color: #00af00\">50</span>)         │            <span style=\"color: #00af00; text-decoration-color: #00af00\">200</span> │ lstm_layer_1[<span style=\"color: #00af00; text-decoration-color: #00af00\">0</span>][<span style=\"color: #00af00; text-decoration-color: #00af00\">0</span>]     │\n",
              "│ (<span style=\"color: #0087ff; text-decoration-color: #0087ff\">BatchNormalization</span>)      │                        │                │                        │\n",
              "├───────────────────────────┼────────────────────────┼────────────────┼────────────────────────┤\n",
              "│ lstm_layer_2 (<span style=\"color: #0087ff; text-decoration-color: #0087ff\">LSTM</span>)       │ (<span style=\"color: #00d7ff; text-decoration-color: #00d7ff\">None</span>, <span style=\"color: #00af00; text-decoration-color: #00af00\">30</span>, <span style=\"color: #00af00; text-decoration-color: #00af00\">25</span>)         │          <span style=\"color: #00af00; text-decoration-color: #00af00\">7,600</span> │ batch_normalization_2… │\n",
              "├───────────────────────────┼────────────────────────┼────────────────┼────────────────────────┤\n",
              "│ batch_normalization_3     │ (<span style=\"color: #00d7ff; text-decoration-color: #00d7ff\">None</span>, <span style=\"color: #00af00; text-decoration-color: #00af00\">30</span>, <span style=\"color: #00af00; text-decoration-color: #00af00\">25</span>)         │            <span style=\"color: #00af00; text-decoration-color: #00af00\">100</span> │ lstm_layer_2[<span style=\"color: #00af00; text-decoration-color: #00af00\">0</span>][<span style=\"color: #00af00; text-decoration-color: #00af00\">0</span>]     │\n",
              "│ (<span style=\"color: #0087ff; text-decoration-color: #0087ff\">BatchNormalization</span>)      │                        │                │                        │\n",
              "├───────────────────────────┼────────────────────────┼────────────────┼────────────────────────┤\n",
              "│ attention_layer           │ (<span style=\"color: #00d7ff; text-decoration-color: #00d7ff\">None</span>, <span style=\"color: #00af00; text-decoration-color: #00af00\">30</span>, <span style=\"color: #00af00; text-decoration-color: #00af00\">25</span>)         │             <span style=\"color: #00af00; text-decoration-color: #00af00\">25</span> │ batch_normalization_3… │\n",
              "│ (<span style=\"color: #0087ff; text-decoration-color: #0087ff\">AdditiveAttention</span>)       │                        │                │ batch_normalization_3… │\n",
              "├───────────────────────────┼────────────────────────┼────────────────┼────────────────────────┤\n",
              "│ multiply_1 (<span style=\"color: #0087ff; text-decoration-color: #0087ff\">Multiply</span>)     │ (<span style=\"color: #00d7ff; text-decoration-color: #00d7ff\">None</span>, <span style=\"color: #00af00; text-decoration-color: #00af00\">30</span>, <span style=\"color: #00af00; text-decoration-color: #00af00\">25</span>)         │              <span style=\"color: #00af00; text-decoration-color: #00af00\">0</span> │ lstm_layer_2[<span style=\"color: #00af00; text-decoration-color: #00af00\">0</span>][<span style=\"color: #00af00; text-decoration-color: #00af00\">0</span>],    │\n",
              "│                           │                        │                │ attention_layer[<span style=\"color: #00af00; text-decoration-color: #00af00\">0</span>][<span style=\"color: #00af00; text-decoration-color: #00af00\">0</span>]  │\n",
              "├───────────────────────────┼────────────────────────┼────────────────┼────────────────────────┤\n",
              "│ flatten_1 (<span style=\"color: #0087ff; text-decoration-color: #0087ff\">Flatten</span>)       │ (<span style=\"color: #00d7ff; text-decoration-color: #00d7ff\">None</span>, <span style=\"color: #00af00; text-decoration-color: #00af00\">750</span>)            │              <span style=\"color: #00af00; text-decoration-color: #00af00\">0</span> │ multiply_1[<span style=\"color: #00af00; text-decoration-color: #00af00\">0</span>][<span style=\"color: #00af00; text-decoration-color: #00af00\">0</span>]       │\n",
              "├───────────────────────────┼────────────────────────┼────────────────┼────────────────────────┤\n",
              "│ dense_2 (<span style=\"color: #0087ff; text-decoration-color: #0087ff\">Dense</span>)           │ (<span style=\"color: #00d7ff; text-decoration-color: #00d7ff\">None</span>, <span style=\"color: #00af00; text-decoration-color: #00af00\">32</span>)             │         <span style=\"color: #00af00; text-decoration-color: #00af00\">24,032</span> │ flatten_1[<span style=\"color: #00af00; text-decoration-color: #00af00\">0</span>][<span style=\"color: #00af00; text-decoration-color: #00af00\">0</span>]        │\n",
              "├───────────────────────────┼────────────────────────┼────────────────┼────────────────────────┤\n",
              "│ output (<span style=\"color: #0087ff; text-decoration-color: #0087ff\">Dense</span>)            │ (<span style=\"color: #00d7ff; text-decoration-color: #00d7ff\">None</span>, <span style=\"color: #00af00; text-decoration-color: #00af00\">1</span>)              │             <span style=\"color: #00af00; text-decoration-color: #00af00\">33</span> │ dense_2[<span style=\"color: #00af00; text-decoration-color: #00af00\">0</span>][<span style=\"color: #00af00; text-decoration-color: #00af00\">0</span>]          │\n",
              "└───────────────────────────┴────────────────────────┴────────────────┴────────────────────────┘\n",
              "</pre>\n"
            ]
          },
          "metadata": {}
        },
        {
          "output_type": "display_data",
          "data": {
            "text/plain": [
              "\u001b[1m Total params: \u001b[0m\u001b[38;5;34m132,272\u001b[0m (516.69 KB)\n"
            ],
            "text/html": [
              "<pre style=\"white-space:pre;overflow-x:auto;line-height:normal;font-family:Menlo,'DejaVu Sans Mono',consolas,'Courier New',monospace\"><span style=\"font-weight: bold\"> Total params: </span><span style=\"color: #00af00; text-decoration-color: #00af00\">132,272</span> (516.69 KB)\n",
              "</pre>\n"
            ]
          },
          "metadata": {}
        },
        {
          "output_type": "display_data",
          "data": {
            "text/plain": [
              "\u001b[1m Trainable params: \u001b[0m\u001b[38;5;34m44,040\u001b[0m (172.03 KB)\n"
            ],
            "text/html": [
              "<pre style=\"white-space:pre;overflow-x:auto;line-height:normal;font-family:Menlo,'DejaVu Sans Mono',consolas,'Courier New',monospace\"><span style=\"font-weight: bold\"> Trainable params: </span><span style=\"color: #00af00; text-decoration-color: #00af00\">44,040</span> (172.03 KB)\n",
              "</pre>\n"
            ]
          },
          "metadata": {}
        },
        {
          "output_type": "display_data",
          "data": {
            "text/plain": [
              "\u001b[1m Non-trainable params: \u001b[0m\u001b[38;5;34m150\u001b[0m (600.00 B)\n"
            ],
            "text/html": [
              "<pre style=\"white-space:pre;overflow-x:auto;line-height:normal;font-family:Menlo,'DejaVu Sans Mono',consolas,'Courier New',monospace\"><span style=\"font-weight: bold\"> Non-trainable params: </span><span style=\"color: #00af00; text-decoration-color: #00af00\">150</span> (600.00 B)\n",
              "</pre>\n"
            ]
          },
          "metadata": {}
        },
        {
          "output_type": "display_data",
          "data": {
            "text/plain": [
              "\u001b[1m Optimizer params: \u001b[0m\u001b[38;5;34m88,082\u001b[0m (344.07 KB)\n"
            ],
            "text/html": [
              "<pre style=\"white-space:pre;overflow-x:auto;line-height:normal;font-family:Menlo,'DejaVu Sans Mono',consolas,'Courier New',monospace\"><span style=\"font-weight: bold\"> Optimizer params: </span><span style=\"color: #00af00; text-decoration-color: #00af00\">88,082</span> (344.07 KB)\n",
              "</pre>\n"
            ]
          },
          "metadata": {}
        }
      ]
    },
    {
      "cell_type": "code",
      "source": [
        "stock_data = pd.read_csv(stock_prices_path)"
      ],
      "metadata": {
        "id": "hibvPBfXTa2P"
      },
      "execution_count": 41,
      "outputs": []
    },
    {
      "cell_type": "code",
      "source": [
        "# Assuming stock_data['close_adjusted'] is a valid column in a DataFrame\n",
        "# Simulating data if actual data is unavailable\n",
        "\n",
        "import numpy as np\n",
        "\n",
        "# Simulated data (if user doesn't upload real data)\n",
        "# stock_data = pd.DataFrame({'close_adjusted': np.random.lognormal(mean=2, sigma=0.5, size=1000)})\n",
        "\n",
        "# Plotting the histogram with percentages on the Y-axis\n",
        "plt.figure(figsize=(10, 5))\n",
        "n, bins, patches = plt.hist(\n",
        "    stock_data['close_adjusted'],\n",
        "    bins=50,\n",
        "    weights=np.ones_like(stock_data['close_adjusted']) / len(stock_data['close_adjusted']) * 100,\n",
        "    edgecolor='black',\n",
        "    alpha=0.7\n",
        ")\n",
        "plt.xlabel('Adjusted Close Price')\n",
        "plt.ylabel('Percentage (%)')\n",
        "plt.title('Distribution of Adjusted Close Prices (Percentage)')\n",
        "plt.grid(axis='y', linestyle='--', alpha=0.7)\n",
        "plt.show()\n"
      ],
      "metadata": {
        "colab": {
          "base_uri": "https://localhost:8080/",
          "height": 487
        },
        "id": "M5qtFIi7VLtC",
        "outputId": "d9f11162-a801-48b6-93da-5839b82bb0f0"
      },
      "execution_count": 43,
      "outputs": [
        {
          "output_type": "display_data",
          "data": {
            "text/plain": [
              "<Figure size 1000x500 with 1 Axes>"
            ],
            "image/png": "[encoded data removed]"
          },
          "metadata": {}
        }
      ]
    },
    {
      "cell_type": "code",
      "source": [
        "import numpy as np\n",
        "\n",
        "def preprocess_data(stock_data_tidy, numerical_columns, sequence_length):\n",
        "    \"\"\"\n",
        "    Converts stock_data_tidy into sequences for LSTM training.\n",
        "\n",
        "    Args:\n",
        "        stock_data_tidy (pd.DataFrame): The input stock dataset.\n",
        "        numerical_columns (list): The feature columns.\n",
        "        sequence_length (int): The number of time steps per sequence.\n",
        "\n",
        "    Returns:\n",
        "        X (np.array): Shape (samples, sequence_length, num_features)\n",
        "        y (np.array): Shape (samples,)\n",
        "    \"\"\"\n",
        "    data = stock_data_tidy[numerical_columns].values\n",
        "\n",
        "    # Create sequences\n",
        "    X, y = [], []\n",
        "    for i in range(sequence_length, len(data)):\n",
        "        X.append(data[i - sequence_length:i])  # Last `sequence_length` rows\n",
        "        y.append(data[i, 0])  # Target value (Assuming `close_adjusted` is first)\n",
        "\n",
        "    return np.array(X), np.array(y)\n"
      ],
      "metadata": {
        "id": "2PH5Dik5oY_U"
      },
      "execution_count": 49,
      "outputs": []
    },
    {
      "cell_type": "code",
      "source": [
        "# Define feature columns\n",
        "numerical_columns = [\n",
        "    'RSI', '5_day_MA', '10_day_MA', '20_day_MA',\n",
        "    '50_day_MA', '100_day_MA', '200_day_MA',\n",
        "    'MACD', 'Signal_Line', 'day_of_week', 'ticker_encoded'\n",
        "]\n",
        "target_column = 'close_adjusted'  # Assuming this is the target\n",
        "\n",
        "# Ensure target column is first in `numerical_columns`\n",
        "if target_column in numerical_columns:\n",
        "    numerical_columns.remove(target_column)\n",
        "numerical_columns.insert(0, target_column)\n",
        "\n",
        "# Sequence length\n",
        "sequence_length = 30  # Must match LSTM input expectations\n",
        "\n",
        "# Convert to sequences\n",
        "X_train, y_train = preprocess_data(train_data, numerical_columns, sequence_length)\n",
        "X_test, y_test = preprocess_data(test_data, numerical_columns, sequence_length)\n",
        "\n",
        "# Print shape to verify correctness\n",
        "print(f\"X_train shape: {X_train.shape}\")  # Should be (samples, 30, num_features)\n",
        "print(f\"y_train shape: {y_train.shape}\")  # Should be (samples,)\n"
      ],
      "metadata": {
        "id": "yMZF-pPYoaXE"
      },
      "execution_count": null,
      "outputs": []
    }
  ],
  "metadata": {
    "accelerator": "GPU",
    "colab": {
      "gpuType": "L4",
      "machine_shape": "hm",
      "provenance": [],
      "include_colab_link": true
    },
    "kernelspec": {
      "display_name": "Python 3",
      "name": "python3"
    },
    "language_info": {
      "codemirror_mode": {
        "name": "ipython",
        "version": 3
      },
      "file_extension": ".py",
      "mimetype": "text/x-python",
      "name": "python",
      "nbconvert_exporter": "python",
      "pygments_lexer": "ipython3",
      "version": "3.12.5"
    }
  },
  "nbformat": 4,
  "nbformat_minor": 0
}