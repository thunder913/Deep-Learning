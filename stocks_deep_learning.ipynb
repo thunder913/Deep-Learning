{
  "cells": [
    {
      "cell_type": "markdown",
      "metadata": {
        "colab_type": "text",
        "id": "view-in-github"
      },
      "source": [
        "<a href=\"https://colab.research.google.com/github/thunder913/Deep-Learning/blob/main/stocks_deep_learning.ipynb\" target=\"_parent\"><img src=\"https://colab.research.google.com/assets/colab-badge.svg\" alt=\"Open In Colab\"/></a>"
      ]
    },
    {
      "cell_type": "code",
      "execution_count": 6,
      "metadata": {
        "id": "nRipiC402E58"
      },
      "outputs": [],
      "source": [
        "import kagglehub\n",
        "import numpy as np\n",
        "import os\n",
        "import pandas as pd\n",
        "import kagglehub\n",
        "import matplotlib.pyplot as plt\n",
        "import pickle\n",
        "import sys\n",
        "import pdb\n",
        "import tensorflow as tf\n",
        "import keras\n",
        "\n",
        "from sklearn.preprocessing import MinMaxScaler, LabelEncoder\n",
        "from tensorflow.keras.models import Model\n",
        "from tensorflow.keras.layers import Input, LSTM, Dense, BatchNormalization, AdditiveAttention, Multiply, Flatten\n",
        "from sklearn.model_selection import train_test_split\n",
        "from tensorflow.keras.callbacks import ModelCheckpoint, EarlyStopping\n",
        "from tensorflow.keras.losses import Huber"
      ]
    },
    {
      "cell_type": "markdown",
      "metadata": {
        "id": "9mLjSTIX6brT"
      },
      "source": [
        "# Stock Price Prediction usign LSTM"
      ]
    },
    {
      "cell_type": "markdown",
      "metadata": {},
      "source": [
        "by Andon Gorchov (@thunderman913)"
      ]
    },
    {
      "cell_type": "markdown",
      "metadata": {},
      "source": [
        "## Abstract"
      ]
    },
    {
      "cell_type": "markdown",
      "metadata": {},
      "source": [
        "Stock market prediction is a very challenging task, due to the high volatility and nonlienear financial data. Many people try to \"beat\" the market, but it is a difficult task, even for the Wall Street traders. In this project, we develop a deep learning model based on Long Short-Term Memory(LSTM), in order to predict stock prices. This type of models should be well-suited for time-series forecasting as they effectively capture long-term dependencies and trends. The model will be trained on historical data with precalculated key technical indicators, as well as feature scaling, attention mechanism and different hyperparameters will be tried. Our goal is to create a model, that predicts the short-term stock price trends. The model will be only technical indicators, so in the future it can be extended with market sentiment analysis, economic factors and financial data."
      ]
    },
    {
      "cell_type": "markdown",
      "metadata": {},
      "source": [
        "## 1. Problem Definition"
      ]
    },
    {
      "cell_type": "markdown",
      "metadata": {},
      "source": [
        "To predict the stock market is a very challenging century old task, that has not yet been perfected. If anyone can foresee the stock prices, he would for sure be very wealthy, since it is a very dynamic enviornment. The goal of the project is to create a good enough LSTM model, that predicts the stock price in the short-term. We will experiment with different hyperparameters and models. The data, that will be used is 24 million rows of stock data. We will feature engineer different technical indicators such as RSI, MACD and moving averages in order to predict the most correct price. I am not expecting the model to predict very accurately to the actual price, due to the volatility of the stock data, but I expect it to manage to follow the trend and give close to real values."
      ]
    },
    {
      "cell_type": "markdown",
      "metadata": {},
      "source": [
        "## 2. Data analysis and tidying"
      ]
    },
    {
      "cell_type": "markdown",
      "metadata": {},
      "source": [
        "We will need a big stock dataset, in order for the model to predict different tickers accurately. We will be using tihs one:\n",
        "\n",
        "https://www.kaggle.com/datasets/tsaustin/us-historical-stock-prices-with-earnings-data\n",
        "\n",
        "It contains daily stock price information for more than 7000 tickers. For our training purposes we will only use tickers with data, that has at least 100 days of information, which is around 7600 tickers and in total of 24 million rows of data, which are from 1998 to mid 2021 Apart from the given data, there will be some feature engineered variables, that we will look into.\n",
        "\n",
        "In the project we will be using pickles, in order not to download the dataset every time. Also all the fitted models are going to be stored in pickles."
      ]
    },
    {
      "cell_type": "code",
      "execution_count": null,
      "metadata": {},
      "outputs": [],
      "source": [
        "# TODO do some distributions by price, before and after tidying"
      ]
    },
    {
      "cell_type": "markdown",
      "metadata": {},
      "source": [
        "At first let's define path variables, depending on the running enviornment.\n",
        "\n",
        "All the fitting of the models will be done on google colab, since it will be very time consuming to use my local machine. All the files will be saved to the google drive, when running on colab and locally, when run locally."
      ]
    },
    {
      "cell_type": "code",
      "execution_count": 45,
      "metadata": {
        "colab": {
          "base_uri": "https://localhost:8080/"
        },
        "id": "m4LWM0B06TdW",
        "outputId": "c093e607-b98d-426b-b7f3-d16ae3a98311"
      },
      "outputs": [
        {
          "name": "stdout",
          "output_type": "stream",
          "text": [
            "Warning: Looks like you're using an outdated `kagglehub` version, please consider updating (latest version: 0.3.7)\n"
          ]
        }
      ],
      "source": [
        "if \"google.colab\" in sys.modules:\n",
        "    from google.colab import drive\n",
        "    drive.mount('/content/drive', force_remount=True)\n",
        "    base_path = './drive/MyDrive/DL_Pickles/'\n",
        "else:\n",
        "    base_path = 'pickles'\n",
        "\n",
        "path = kagglehub.dataset_download(\"tsaustin/us-historical-stock-prices-with-earnings-data\")\n",
        "\n",
        "stock_prices_path = f\"{path}/stocks_latest/stock_prices_latest.csv\"\n",
        "\n",
        "stock_data_path = f\"{base_path}/stock_data_processed.pkl\"\n",
        "scaler_path = f\"{base_path}/scalers.pkl\"\n",
        "\n",
        "data_path = f\"{base_path}/scaled_stock_data.pkl\"  # Path to store scaled DataFrame\n",
        "\n",
        "sequence_length = 30\n",
        "\n",
        "numerical_columns = [\n",
        "    'close_adjusted', 'RSI', '5_day_MA', '10_day_MA',\n",
        "    '20_day_MA', '50_day_MA', '100_day_MA', '200_day_MA',\n",
        "    'MACD', 'Signal_Line'\n",
        "]"
      ]
    },
    {
      "cell_type": "markdown",
      "metadata": {},
      "source": [
        "Next up let's define some functions for the data processing. At first we will create methods for calculating Relative Strength Index (RSI) and MACD (Moving Average Convergence Divergence). The RSI is a momentum indicator used to measure the speed and change of price movements. Usually below 30 means oversold and above 70 means overbought. MACD is a trend following momentum indicator, that shows the relationship between two moving averages of a stock's price. In our case we will use the most common MACD with short window 12, long window 26 and signal window 9."
      ]
    },
    {
      "cell_type": "code",
      "execution_count": 36,
      "metadata": {
        "id": "tzH_Y404-3Pq"
      },
      "outputs": [],
      "source": [
        "def calculate_rsi(ticker_data, period = 14):\n",
        "    delta = ticker_data['close_adjusted'].diff()\n",
        "\n",
        "    gain = delta.where(delta > 0, 0)\n",
        "    loss = -delta.where(delta < 0, 0)\n",
        "    avg_gain = gain.rolling(window=period, min_periods=1).mean()\n",
        "    avg_loss = loss.rolling(window=period, min_periods=1).mean()\n",
        "\n",
        "    rs = avg_gain / np.where(avg_loss != 0, avg_loss, 1)\n",
        "\n",
        "    ticker_data['RSI'] = 100 - (100 / (1 + rs))\n",
        "\n",
        "    return ticker_data\n",
        "\n",
        "def calculate_macd(ticker_data, short_window=12, long_window=26, signal_window=9):\n",
        "    # Calculate EMA short and long\n",
        "    ema_short = ticker_data['close_adjusted'].ewm(span=short_window, adjust=False).mean()\n",
        "    ema_long = ticker_data['close_adjusted'].ewm(span=long_window, adjust=False).mean()\n",
        "\n",
        "    # Calculate MACD and Signal Line\n",
        "    ticker_data['MACD'] = ema_short - ema_long\n",
        "    ticker_data['Signal_Line'] = ticker_data['MACD'].ewm(span=signal_window, adjust=False).mean()\n",
        "\n",
        "    return ticker_data"
      ]
    },
    {
      "cell_type": "markdown",
      "metadata": {},
      "source": [
        "Next up let's define a method for adding the technical indicators to the main dataframe. Apart from calling the above methods, it also calculates moving averages (MA).\n",
        "\n",
        "Moving averages are a trend following indicator, that smooths out price data to identify the direction of a trend. It helps traders filter out short term price fluctuations and focus on the broader trend."
      ]
    },
    {
      "cell_type": "code",
      "execution_count": 44,
      "metadata": {
        "id": "t05FbYEL2ouo"
      },
      "outputs": [],
      "source": [
        "def process_ticker_data(df):\n",
        "    \"\"\"\n",
        "    Add historical price features for specific days ago for each stock (grouped by ticker).\n",
        "    Also calculate the peak price and days since the peak price for each stock.\n",
        "    \"\"\"\n",
        "\n",
        "    print('Calculated RSI')\n",
        "    # Calculate RSI\n",
        "    df = df.groupby('ticker', group_keys=False).apply(calculate_rsi)\n",
        "\n",
        "    print('Calculated moving averages')\n",
        "    # Add moving averages\n",
        "    moving_average_windows = [5, 10, 20, 50, 100, 200]  # Specify moving average windows\n",
        "    for window in moving_average_windows:\n",
        "        df[f'{window}_day_MA'] = df.groupby('ticker')['close_adjusted'].rolling(window=window, min_periods=1).mean().reset_index(level=0, drop=True)\n",
        "\n",
        "    print('Calculated MACD')\n",
        "    # Calculate MACD and Signal Line\n",
        "\n",
        "    df = df.groupby('ticker', group_keys=False).apply(calculate_macd)\n",
        "\n",
        "    # Remove the first 200 rows for each ticker\n",
        "    df = df.groupby('ticker').apply(lambda group: group.iloc[200:]).reset_index(drop=True)\n",
        "\n",
        "    return df"
      ]
    },
    {
      "cell_type": "markdown",
      "metadata": {},
      "source": [
        "Next up let's create a method for scaling the stock data. We will be using a different minmaxscaler for each ticker, because otherwise the data gets really compressed and the models cannot accurately predict it. While some outliers with high/low data are alone by themselves."
      ]
    },
    {
      "cell_type": "code",
      "execution_count": 46,
      "metadata": {},
      "outputs": [],
      "source": [
        "#TODO show distribution if scaled together"
      ]
    },
    {
      "cell_type": "code",
      "execution_count": 14,
      "metadata": {
        "id": "X77BT2ky4Gzs"
      },
      "outputs": [],
      "source": [
        "def scale_stock_data(stock_data_tidy, numerical_columns):\n",
        "    \"\"\"\n",
        "    Scales numerical columns for each stock ticker independently using MinMaxScaler.\n",
        "\n",
        "    - Loads existing scalers and scaled data if available.\n",
        "    - Trains and saves new scalers & scaled data if they don’t exist.\n",
        "    - Returns a new scaled DataFrame without modifying the original.\n",
        "\n",
        "    Args:\n",
        "        stock_data_tidy: The input stock data.\n",
        "        numerical_columns: The numerical column names, that need to be rescaled.\n",
        "\n",
        "    Returns:\n",
        "        pd.DataFrame: The scaled stock data.\n",
        "    \"\"\"\n",
        "\n",
        "    if os.path.exists(scaler_path) and os.path.exists(data_path):\n",
        "        print(\"Loading existing scalers and scaled data...\")\n",
        "\n",
        "        # Load scalers\n",
        "        with open(scaler_path, \"rb\") as f:\n",
        "            scalers = pickle.load(f)\n",
        "\n",
        "        # Load scaled stock data\n",
        "        with open(data_path, \"rb\") as f:\n",
        "            new_data_tidy_rescaled = pickle.load(f)\n",
        "\n",
        "        print(\"Loaded scalers and scaled data from file.\")\n",
        "        return new_data_tidy_rescaled\n",
        "\n",
        "    # If files don't exist, compute scalers and scaled data\n",
        "    print(\"Recalculating scalers and scaled data...\")\n",
        "    scalers = {} \n",
        "    new_data_tidy_rescaled = [] \n",
        "\n",
        "    for ticker in stock_data_tidy['ticker_encoded'].unique():\n",
        "        print(f\"Processing ticker: {ticker}\")\n",
        "\n",
        "        ticker_data = stock_data_tidy[stock_data_tidy['ticker_encoded'] == ticker].copy()\n",
        "\n",
        "        scaler = MinMaxScaler()\n",
        "        scalers[ticker] = scaler.fit(ticker_data[numerical_columns])\n",
        "\n",
        "        ticker_data.loc[:, numerical_columns] = scaler.transform(ticker_data[numerical_columns])\n",
        "\n",
        "        new_data_tidy_rescaled.append(ticker_data)\n",
        "\n",
        "    new_data_tidy_rescaled = pd.concat(new_data_tidy_rescaled, ignore_index=True)\n",
        "\n",
        "    with open(scaler_path, \"wb\") as f:\n",
        "        pickle.dump(scalers, f)\n",
        "\n",
        "    with open(data_path, \"wb\") as f:\n",
        "        pickle.dump(new_data_tidy_rescaled, f)\n",
        "\n",
        "    print(\"Saved scalers and scaled data to file.\")\n",
        "\n",
        "    return new_data_tidy_rescaled"
      ]
    },
    {
      "cell_type": "markdown",
      "metadata": {},
      "source": [
        "Finally let's create the method for getting the tidied data. It contains all the technical indicators, scaled prices and tickers."
      ]
    },
    {
      "cell_type": "code",
      "execution_count": 17,
      "metadata": {
        "id": "xJ1b97Qr227G"
      },
      "outputs": [],
      "source": [
        "def getTidiedStockData():\n",
        "    \"\"\"\n",
        "    Read and tidy the stock data dataset. If the processed stock data already exists as a pickle file,\n",
        "    it loads and returns the data. Otherwise, it processes the raw stock data, cleans it, adds features,\n",
        "    and saves the tidy data to a pickle file for future use.\n",
        "    \"\"\"\n",
        "\n",
        "    # Check if the file exists\n",
        "    if os.path.exists(stock_data_path):\n",
        "        print('found pickle')\n",
        "        return pd.read_pickle(stock_data_path)\n",
        "\n",
        "    # Read the basic data and some tidying\n",
        "    stock_data = pd.read_csv(stock_prices_path)\n",
        "    stock_data_tidy = stock_data\n",
        "\n",
        "    stock_data_tidy.date = pd.to_datetime(stock_data_tidy.date)\n",
        "    stock_data_tidy = stock_data_tidy.rename(columns={'symbol': 'ticker'})\n",
        "    stock_data_tidy = stock_data_tidy.drop(columns=['split_coefficient'])\n",
        "\n",
        "    stock_data_tidy = stock_data_tidy.sort_values(by=['ticker', 'date'], ascending=[True, True])\n",
        "\n",
        "    stock_data_tidy = process_ticker_data(stock_data_tidy)\n",
        "    stock_data_tidy = stock_data_tidy.drop(columns=['open', 'high', 'low', 'close', 'volume'])\n",
        "\n",
        "    # Encode labels\n",
        "    le = LabelEncoder()\n",
        "    stock_data_tidy['ticker_encoded'] = le.fit_transform(stock_data_tidy['ticker'])\n",
        "\n",
        "    stock_data_tidy['day_of_week'] = stock_data_tidy['date'].dt.dayofweek\n",
        "\n",
        "    stock_data_tidy = scale_stock_data(stock_data_tidy, numerical_columns)\n",
        "\n",
        "    stock_data_tidy.to_pickle(stock_data_path)\n",
        "\n",
        "    return stock_data_tidy"
      ]
    },
    {
      "cell_type": "code",
      "execution_count": 48,
      "metadata": {
        "colab": {
          "base_uri": "https://localhost:8080/"
        },
        "id": "4cshH8fp26rN",
        "outputId": "a6bda286-f029-4e87-d2a9-0f08b6b1070e"
      },
      "outputs": [
        {
          "name": "stdout",
          "output_type": "stream",
          "text": [
            "found pickle\n"
          ]
        }
      ],
      "source": [
        "stock_data_tidy = getTidiedStockData()\n",
        "\n",
        "with open(scaler_path, \"rb\") as f:\n",
        "    scalers = pickle.load(f)"
      ]
    },
    {
      "cell_type": "code",
      "execution_count": 54,
      "metadata": {
        "id": "2TEdcdlMw4W8"
      },
      "outputs": [],
      "source": [
        "def plot_stock_chart(stock_data_tidy, ticker, start_date=None, end_date=None):\n",
        "    \"\"\"\n",
        "    Plot a stock chart for a specific ticker.\n",
        "\n",
        "    Parameters:\n",
        "        stock_data_tidy (DataFrame): The DataFrame containing stock data.\n",
        "        ticker (str): The ticker to plot.\n",
        "        start_date (str): Optional start date (e.g., '2023-01-01').\n",
        "        end_date (str): Optional end date (e.g., '2023-12-31').\n",
        "    \"\"\"\n",
        "    # Filter data for the specific ticker and date range\n",
        "    stock_data_tidy['date'] = pd.to_datetime(stock_data_tidy['date'])\n",
        "    filtered_data = stock_data_tidy[stock_data_tidy['ticker'] == ticker]\n",
        "\n",
        "    if start_date:\n",
        "        filtered_data = filtered_data[filtered_data['date'] >= start_date]\n",
        "    if end_date:\n",
        "        filtered_data = filtered_data[filtered_data['date'] <= end_date]\n",
        "\n",
        "    # Ensure data is sorted by date\n",
        "    filtered_data = filtered_data.sort_values(by='date')\n",
        "\n",
        "    # Plot the stock chart\n",
        "    plt.figure(figsize=(12, 6))\n",
        "    plt.plot(filtered_data['date'], filtered_data['close_adjusted'], label='Close Price', color='blue', linewidth=2)\n",
        "\n",
        "    # Add moving averages if they exist in the DataFrame\n",
        "    for col in ['5_day_MA', '50_day_MA', '100_day_MA']:\n",
        "        if col in filtered_data.columns:\n",
        "            plt.plot(filtered_data['date'], filtered_data[col], label=col, linestyle='--')\n",
        "\n",
        "    # Chart settings\n",
        "    plt.title(f\"Stock Chart for {ticker}\", fontsize=16)\n",
        "    plt.xlabel(\"Date\", fontsize=12)\n",
        "    plt.ylabel(\"Price\", fontsize=12)\n",
        "    plt.legend(loc=\"best\", fontsize=10)\n",
        "    plt.grid(alpha=0.3)\n",
        "    plt.show()"
      ]
    },
    {
      "cell_type": "code",
      "execution_count": 56,
      "metadata": {
        "colab": {
          "base_uri": "https://localhost:8080/",
          "height": 570
        },
        "id": "ktc--cX1xKbo",
        "outputId": "3662826b-4db3-45f2-d8db-0a4fa2941497"
      },
      "outputs": [
        {
          "data": {
            "image/png": "[encoded data removed]",
            "text/plain": [
              "<Figure size 1200x600 with 1 Axes>"
            ]
          },
          "metadata": {},
          "output_type": "display_data"
        }
      ],
      "source": [
        "plot_stock_chart(stock_data_tidy, ticker='AAPL', start_date='2021-01-01', end_date='2022-12-31')"
      ]
    },
    {
      "cell_type": "code",
      "execution_count": 57,
      "metadata": {},
      "outputs": [],
      "source": [
        "#TODO show some charts. Why are moving average higher than the price always?? it is fishy"
      ]
    },
    {
      "cell_type": "markdown",
      "metadata": {},
      "source": [
        "## 3. Model Training"
      ]
    },
    {
      "cell_type": "code",
      "execution_count": 59,
      "metadata": {},
      "outputs": [],
      "source": [
        "# TODO say something about the training"
      ]
    },
    {
      "cell_type": "markdown",
      "metadata": {},
      "source": [
        "## 3.1. Data preparation for training"
      ]
    },
    {
      "cell_type": "code",
      "execution_count": 58,
      "metadata": {
        "id": "glhc61IUuR8O"
      },
      "outputs": [],
      "source": [
        "stock_data_tidy = stock_data_tidy.drop(columns=['price_1_days_ago', 'price_2_days_ago',\n",
        "    'price_3_days_ago', 'price_4_days_ago', 'price_5_days_ago',\n",
        "    'price_10_days_ago', 'price_15_days_ago', 'price_30_days_ago',\n",
        "    'price_60_days_ago', 'price_90_days_ago'])\n",
        "\n",
        "numerical_columns.extend(['day_of_week', 'ticker_encoded'])"
      ]
    },
    {
      "cell_type": "code",
      "execution_count": 15,
      "metadata": {
        "id": "Ggg0mi2bjwmI"
      },
      "outputs": [],
      "source": [
        "# TODO if all works with scalers for every ticker, remove this\n",
        "\n",
        "# numerical_columns = [\n",
        "#     'close_adjusted', 'RSI', '5_day_MA', '10_day_MA',\n",
        "#     '20_day_MA', '50_day_MA', '100_day_MA', '200_day_MA',\n",
        "#     'MACD', 'Signal_Line'\n",
        "# ]\n",
        "\n",
        "\n",
        "# scaler = MinMaxScaler()\n",
        "\n",
        "# stock_data_tidy[numerical_columns] = scaler.fit_transform(stock_data_tidy[numerical_columns])\n",
        "\n",
        "# numerical_columns.extend(['day_of_week', 'ticker_encoded'])"
      ]
    },
    {
      "cell_type": "code",
      "execution_count": 53,
      "metadata": {
        "id": "jurIDTKL7pK-"
      },
      "outputs": [],
      "source": [
        "def inverse_transform_predictions(y_pred, ticker):\n",
        "    # Use the correct scaler for this ticker\n",
        "    scaler = scalers[ticker]\n",
        "\n",
        "    # Inverse transform only the first column (close_adjusted)\n",
        "    y_pred_rescaled = scaler.inverse_transform(\n",
        "        np.concatenate((np.array(y_pred).reshape(-1,1), np.zeros((len(y_pred), len(numerical_columns) - 3))), axis=1)\n",
        "    )[:,0]\n",
        "\n",
        "    return y_pred_rescaled"
      ]
    },
    {
      "cell_type": "code",
      "execution_count": 18,
      "metadata": {
        "id": "T0deNjw3fxBj"
      },
      "outputs": [],
      "source": [
        "def preprocess_data(stock_data_tidy, numerical_columns, sequence_length):\n",
        "    data = stock_data_tidy[numerical_columns].values\n",
        "\n",
        "    # Create sequences\n",
        "    X, y = [], []\n",
        "    for i in range(sequence_length, len(data)):\n",
        "        X.append(data[i - sequence_length:i])\n",
        "        y.append(data[i, 0])\n",
        "\n",
        "    X = np.array(X)\n",
        "    y = np.array(y)\n",
        "\n",
        "    return X, y"
      ]
    },
    {
      "cell_type": "code",
      "execution_count": 23,
      "metadata": {
        "id": "gQ1B03g1l817"
      },
      "outputs": [],
      "source": [
        "import numpy as np\n",
        "from numpy.lib.stride_tricks import sliding_window_view\n",
        "\n",
        "processed_data_path = base_path + 'processed_data_full_2/'\n",
        "\n",
        "def preprocess_grouped_data(stock_data_tidy, numerical_columns, target_column, sequence_length):\n",
        "    tickers = stock_data_tidy[\"ticker_encoded\"].unique()\n",
        "\n",
        "    for ticker in tickers:\n",
        "        ticker_data = stock_data_tidy[stock_data_tidy[\"ticker_encoded\"] == ticker].sort_values(by=\"date\")\n",
        "        numerical_data = ticker_data[numerical_columns].values\n",
        "\n",
        "        if(ticker % 1000 == 0):\n",
        "          print('Processing ', ticker)\n",
        "        if len(ticker_data) > sequence_length:\n",
        "            x_ticker = sliding_window_view(numerical_data[:-1], window_shape=(sequence_length, len(numerical_columns)))\n",
        "            x_ticker = x_ticker.reshape(-1, sequence_length, len(numerical_columns))\n",
        "\n",
        "            y_ticker = ticker_data[target_column].values[sequence_length:]\n",
        "\n",
        "            np.save(os.path.join(processed_data_path, f\"x_ticker_{ticker}.npy\"), x_ticker)\n",
        "            np.save(os.path.join(processed_data_path, f\"y_ticker_{ticker}.npy\"), y_ticker)"
      ]
    },
    {
      "cell_type": "markdown",
      "metadata": {},
      "source": [
        "## 3.2. Generator"
      ]
    },
    {
      "cell_type": "code",
      "execution_count": 24,
      "metadata": {
        "colab": {
          "base_uri": "https://localhost:8080/"
        },
        "id": "ryuFqg4upoMD",
        "outputId": "d2adaf63-69b2-480c-f001-199374c29e45"
      },
      "outputs": [
        {
          "name": "stdout",
          "output_type": "stream",
          "text": [
            "There are files in the processed_data_path.\n"
          ]
        }
      ],
      "source": [
        "stock_data_tidy = stock_data_tidy.sort_values(by=['ticker', 'date'])\n",
        "\n",
        "if os.path.exists(processed_data_path) and os.path.isdir(processed_data_path):\n",
        "    has_file = any(os.path.isfile(os.path.join(processed_data_path, item)) for item in os.listdir(processed_data_path))\n",
        "    if has_file:\n",
        "        print(\"There are files in the processed_data_path.\")\n",
        "    else:\n",
        "      print('Beginning to process the data...\\n')\n",
        "      preprocess_grouped_data(stock_data_tidy, numerical_columns, 'close_adjusted', sequence_length)\n",
        "else:\n",
        "    print(\"The processed_data_path does not exist or is not a directory.\")"
      ]
    },
    {
      "cell_type": "code",
      "execution_count": 25,
      "metadata": {
        "id": "wNKuChVniDcs"
      },
      "outputs": [],
      "source": [
        "def data_generator(tickers, processed_data_path, batch_size=32):\n",
        "    \"\"\"Generates batches dynamically for the given tickers.\"\"\"\n",
        "    while True:\n",
        "        for ticker in tickers:\n",
        "            # Load data for the current ticker\n",
        "            x_path = os.path.join(processed_data_path, f\"x_ticker_{ticker}.npy\")\n",
        "            y_path = os.path.join(processed_data_path, f\"y_ticker_{ticker}.npy\")\n",
        "\n",
        "            # Ensure file exists\n",
        "            if not os.path.exists(x_path) or not os.path.exists(y_path):\n",
        "                print(f\"Skipping {ticker}: Missing files.\")\n",
        "                continue\n",
        "\n",
        "            x_data = np.load(x_path)\n",
        "            y_data = np.load(y_path)\n",
        "\n",
        "            # Ensure data is compatible with the batch size\n",
        "            steps_per_epoch = len(x_data) // batch_size\n",
        "            x_data = x_data[:steps_per_epoch * batch_size]\n",
        "            y_data = y_data[:steps_per_epoch * batch_size]\n",
        "\n",
        "            # Yield batches\n",
        "            for i in range(steps_per_epoch):\n",
        "                x_batch = x_data[i * batch_size: (i + 1) * batch_size]\n",
        "                y_batch = y_data[i * batch_size: (i + 1) * batch_size]\n",
        "                yield x_batch, y_batch\n"
      ]
    },
    {
      "cell_type": "code",
      "execution_count": 60,
      "metadata": {
        "id": "92q-77zf-mNR"
      },
      "outputs": [
        {
          "ename": "NameError",
          "evalue": "name 'data_generator' is not defined",
          "output_type": "error",
          "traceback": [
            "\u001b[1;31m---------------------------------------------------------------------------\u001b[0m",
            "\u001b[1;31mNameError\u001b[0m                                 Traceback (most recent call last)",
            "Cell \u001b[1;32mIn[60], line 3\u001b[0m\n\u001b[0;32m      1\u001b[0m tickers \u001b[38;5;241m=\u001b[39m stock_data_tidy[\u001b[38;5;124m\"\u001b[39m\u001b[38;5;124mticker_encoded\u001b[39m\u001b[38;5;124m\"\u001b[39m]\u001b[38;5;241m.\u001b[39munique()\n\u001b[0;32m      2\u001b[0m tickers\u001b[38;5;241m.\u001b[39msort()\n\u001b[1;32m----> 3\u001b[0m train_gen \u001b[38;5;241m=\u001b[39m \u001b[43mdata_generator\u001b[49m(tickers, processed_data_path)\n\u001b[0;32m      4\u001b[0m early_stopping \u001b[38;5;241m=\u001b[39m EarlyStopping(monitor\u001b[38;5;241m=\u001b[39m\u001b[38;5;124m\"\u001b[39m\u001b[38;5;124mloss\u001b[39m\u001b[38;5;124m\"\u001b[39m, patience\u001b[38;5;241m=\u001b[39m\u001b[38;5;241m30\u001b[39m, restore_best_weights\u001b[38;5;241m=\u001b[39m\u001b[38;5;28;01mTrue\u001b[39;00m)\n",
            "\u001b[1;31mNameError\u001b[0m: name 'data_generator' is not defined"
          ]
        }
      ],
      "source": [
        "tickers = stock_data_tidy[\"ticker_encoded\"].unique()\n",
        "tickers.sort()\n",
        "train_gen = data_generator(tickers, processed_data_path)\n",
        "early_stopping = EarlyStopping(monitor=\"loss\", patience=30, restore_best_weights=True)"
      ]
    },
    {
      "cell_type": "markdown",
      "metadata": {},
      "source": [
        "## 3.3. Model"
      ]
    },
    {
      "cell_type": "code",
      "execution_count": 19,
      "metadata": {
        "id": "xd0zJxpjjq6N"
      },
      "outputs": [],
      "source": [
        "def create_lstm_model(sequence_length, num_features, lstm_units_1=50, lstm_units_2=50, dropout_rate=0.1):\n",
        "    \"\"\"\n",
        "    Optimized LSTM model for stock price prediction with Additive Attention.\n",
        "    \"\"\"\n",
        "    numerical_input = Input(shape=(sequence_length, num_features), name=\"numerical_input\")\n",
        "\n",
        "    first_lstm_layer = LSTM(lstm_units_1, return_sequences=True, name=\"lstm_layer_1\", dropout=dropout_rate)(numerical_input)\n",
        "    normalized_1 = BatchNormalization()(first_lstm_layer)\n",
        "\n",
        "    second_lstm_layer = LSTM(lstm_units_2, return_sequences=True, name=\"lstm_layer_2\", dropout=dropout_rate)(normalized_1)\n",
        "    normalized_2 = BatchNormalization()(second_lstm_layer)\n",
        "\n",
        "    # Attention mechanism\n",
        "    attention = AdditiveAttention(name=\"attention_layer\")([normalized_2, normalized_2])\n",
        "    attended = Multiply()([second_lstm_layer, attention])\n",
        "\n",
        "    flat = Flatten()(attended)\n",
        "\n",
        "    x = Dense(64, activation='relu', name=\"dense_1\")(flat)\n",
        "\n",
        "    output = Dense(32, activation='relu', name=\"dense_2\")(x)\n",
        "\n",
        "    output = Dense(1, activation='linear', name=\"output\")(output)\n",
        "\n",
        "    model = Model(inputs=numerical_input, outputs=output, name=\"Optimized_LSTM_Model_with_Attention\")\n",
        "    model.compile(optimizer='adam', loss='mse', metrics=['mae'])\n",
        "\n",
        "    return model"
      ]
    },
    {
      "cell_type": "code",
      "execution_count": 20,
      "metadata": {
        "id": "xzfcdhUijxtw"
      },
      "outputs": [],
      "source": [
        "lstm_model = create_lstm_model(sequence_length=sequence_length, num_features=len(numerical_columns))"
      ]
    },
    {
      "cell_type": "code",
      "execution_count": 21,
      "metadata": {
        "colab": {
          "base_uri": "https://localhost:8080/",
          "height": 573
        },
        "id": "ESWEPhJBvP26",
        "outputId": "32407077-f5d7-4680-994b-4a6cf91acdc8"
      },
      "outputs": [
        {
          "data": {
            "text/html": [
              "<pre style=\"white-space:pre;overflow-x:auto;line-height:normal;font-family:Menlo,'DejaVu Sans Mono',consolas,'Courier New',monospace\"><span style=\"font-weight: bold\">Model: \"Optimized_LSTM_Model_with_Attention\"</span>\n",
              "</pre>\n"
            ],
            "text/plain": [
              "\u001b[1mModel: \"Optimized_LSTM_Model_with_Attention\"\u001b[0m\n"
            ]
          },
          "metadata": {},
          "output_type": "display_data"
        },
        {
          "data": {
            "text/html": [
              "<pre style=\"white-space:pre;overflow-x:auto;line-height:normal;font-family:Menlo,'DejaVu Sans Mono',consolas,'Courier New',monospace\">┏━━━━━━━━━━━━━━━━━━━━━━━━━━━┳━━━━━━━━━━━━━━━━━━━━━━━━┳━━━━━━━━━━━━━━━━┳━━━━━━━━━━━━━━━━━━━━━━━━┓\n",
              "┃<span style=\"font-weight: bold\"> Layer (type)              </span>┃<span style=\"font-weight: bold\"> Output Shape           </span>┃<span style=\"font-weight: bold\">        Param # </span>┃<span style=\"font-weight: bold\"> Connected to           </span>┃\n",
              "┡━━━━━━━━━━━━━━━━━━━━━━━━━━━╇━━━━━━━━━━━━━━━━━━━━━━━━╇━━━━━━━━━━━━━━━━╇━━━━━━━━━━━━━━━━━━━━━━━━┩\n",
              "│ numerical_input           │ (<span style=\"color: #00d7ff; text-decoration-color: #00d7ff\">None</span>, <span style=\"color: #00af00; text-decoration-color: #00af00\">30</span>, <span style=\"color: #00af00; text-decoration-color: #00af00\">12</span>)         │              <span style=\"color: #00af00; text-decoration-color: #00af00\">0</span> │ -                      │\n",
              "│ (<span style=\"color: #0087ff; text-decoration-color: #0087ff\">InputLayer</span>)              │                        │                │                        │\n",
              "├───────────────────────────┼────────────────────────┼────────────────┼────────────────────────┤\n",
              "│ lstm_layer_1 (<span style=\"color: #0087ff; text-decoration-color: #0087ff\">LSTM</span>)       │ (<span style=\"color: #00d7ff; text-decoration-color: #00d7ff\">None</span>, <span style=\"color: #00af00; text-decoration-color: #00af00\">30</span>, <span style=\"color: #00af00; text-decoration-color: #00af00\">50</span>)         │         <span style=\"color: #00af00; text-decoration-color: #00af00\">12,600</span> │ numerical_input[<span style=\"color: #00af00; text-decoration-color: #00af00\">0</span>][<span style=\"color: #00af00; text-decoration-color: #00af00\">0</span>]  │\n",
              "├───────────────────────────┼────────────────────────┼────────────────┼────────────────────────┤\n",
              "│ batch_normalization       │ (<span style=\"color: #00d7ff; text-decoration-color: #00d7ff\">None</span>, <span style=\"color: #00af00; text-decoration-color: #00af00\">30</span>, <span style=\"color: #00af00; text-decoration-color: #00af00\">50</span>)         │            <span style=\"color: #00af00; text-decoration-color: #00af00\">200</span> │ lstm_layer_1[<span style=\"color: #00af00; text-decoration-color: #00af00\">0</span>][<span style=\"color: #00af00; text-decoration-color: #00af00\">0</span>]     │\n",
              "│ (<span style=\"color: #0087ff; text-decoration-color: #0087ff\">BatchNormalization</span>)      │                        │                │                        │\n",
              "├───────────────────────────┼────────────────────────┼────────────────┼────────────────────────┤\n",
              "│ lstm_layer_2 (<span style=\"color: #0087ff; text-decoration-color: #0087ff\">LSTM</span>)       │ (<span style=\"color: #00d7ff; text-decoration-color: #00d7ff\">None</span>, <span style=\"color: #00af00; text-decoration-color: #00af00\">30</span>, <span style=\"color: #00af00; text-decoration-color: #00af00\">50</span>)         │         <span style=\"color: #00af00; text-decoration-color: #00af00\">20,200</span> │ batch_normalization[<span style=\"color: #00af00; text-decoration-color: #00af00\">0</span>… │\n",
              "├───────────────────────────┼────────────────────────┼────────────────┼────────────────────────┤\n",
              "│ batch_normalization_1     │ (<span style=\"color: #00d7ff; text-decoration-color: #00d7ff\">None</span>, <span style=\"color: #00af00; text-decoration-color: #00af00\">30</span>, <span style=\"color: #00af00; text-decoration-color: #00af00\">50</span>)         │            <span style=\"color: #00af00; text-decoration-color: #00af00\">200</span> │ lstm_layer_2[<span style=\"color: #00af00; text-decoration-color: #00af00\">0</span>][<span style=\"color: #00af00; text-decoration-color: #00af00\">0</span>]     │\n",
              "│ (<span style=\"color: #0087ff; text-decoration-color: #0087ff\">BatchNormalization</span>)      │                        │                │                        │\n",
              "├───────────────────────────┼────────────────────────┼────────────────┼────────────────────────┤\n",
              "│ attention_layer           │ (<span style=\"color: #00d7ff; text-decoration-color: #00d7ff\">None</span>, <span style=\"color: #00af00; text-decoration-color: #00af00\">30</span>, <span style=\"color: #00af00; text-decoration-color: #00af00\">50</span>)         │             <span style=\"color: #00af00; text-decoration-color: #00af00\">50</span> │ batch_normalization_1… │\n",
              "│ (<span style=\"color: #0087ff; text-decoration-color: #0087ff\">AdditiveAttention</span>)       │                        │                │ batch_normalization_1… │\n",
              "├───────────────────────────┼────────────────────────┼────────────────┼────────────────────────┤\n",
              "│ multiply (<span style=\"color: #0087ff; text-decoration-color: #0087ff\">Multiply</span>)       │ (<span style=\"color: #00d7ff; text-decoration-color: #00d7ff\">None</span>, <span style=\"color: #00af00; text-decoration-color: #00af00\">30</span>, <span style=\"color: #00af00; text-decoration-color: #00af00\">50</span>)         │              <span style=\"color: #00af00; text-decoration-color: #00af00\">0</span> │ lstm_layer_2[<span style=\"color: #00af00; text-decoration-color: #00af00\">0</span>][<span style=\"color: #00af00; text-decoration-color: #00af00\">0</span>],    │\n",
              "│                           │                        │                │ attention_layer[<span style=\"color: #00af00; text-decoration-color: #00af00\">0</span>][<span style=\"color: #00af00; text-decoration-color: #00af00\">0</span>]  │\n",
              "├───────────────────────────┼────────────────────────┼────────────────┼────────────────────────┤\n",
              "│ flatten (<span style=\"color: #0087ff; text-decoration-color: #0087ff\">Flatten</span>)         │ (<span style=\"color: #00d7ff; text-decoration-color: #00d7ff\">None</span>, <span style=\"color: #00af00; text-decoration-color: #00af00\">1500</span>)           │              <span style=\"color: #00af00; text-decoration-color: #00af00\">0</span> │ multiply[<span style=\"color: #00af00; text-decoration-color: #00af00\">0</span>][<span style=\"color: #00af00; text-decoration-color: #00af00\">0</span>]         │\n",
              "├───────────────────────────┼────────────────────────┼────────────────┼────────────────────────┤\n",
              "│ dense_1 (<span style=\"color: #0087ff; text-decoration-color: #0087ff\">Dense</span>)           │ (<span style=\"color: #00d7ff; text-decoration-color: #00d7ff\">None</span>, <span style=\"color: #00af00; text-decoration-color: #00af00\">64</span>)             │         <span style=\"color: #00af00; text-decoration-color: #00af00\">96,064</span> │ flatten[<span style=\"color: #00af00; text-decoration-color: #00af00\">0</span>][<span style=\"color: #00af00; text-decoration-color: #00af00\">0</span>]          │\n",
              "├───────────────────────────┼────────────────────────┼────────────────┼────────────────────────┤\n",
              "│ dense_2 (<span style=\"color: #0087ff; text-decoration-color: #0087ff\">Dense</span>)           │ (<span style=\"color: #00d7ff; text-decoration-color: #00d7ff\">None</span>, <span style=\"color: #00af00; text-decoration-color: #00af00\">32</span>)             │          <span style=\"color: #00af00; text-decoration-color: #00af00\">2,080</span> │ dense_1[<span style=\"color: #00af00; text-decoration-color: #00af00\">0</span>][<span style=\"color: #00af00; text-decoration-color: #00af00\">0</span>]          │\n",
              "├───────────────────────────┼────────────────────────┼────────────────┼────────────────────────┤\n",
              "│ output (<span style=\"color: #0087ff; text-decoration-color: #0087ff\">Dense</span>)            │ (<span style=\"color: #00d7ff; text-decoration-color: #00d7ff\">None</span>, <span style=\"color: #00af00; text-decoration-color: #00af00\">1</span>)              │             <span style=\"color: #00af00; text-decoration-color: #00af00\">33</span> │ dense_2[<span style=\"color: #00af00; text-decoration-color: #00af00\">0</span>][<span style=\"color: #00af00; text-decoration-color: #00af00\">0</span>]          │\n",
              "└───────────────────────────┴────────────────────────┴────────────────┴────────────────────────┘\n",
              "</pre>\n"
            ],
            "text/plain": [
              "┏━━━━━━━━━━━━━━━━━━━━━━━━━━━┳━━━━━━━━━━━━━━━━━━━━━━━━┳━━━━━━━━━━━━━━━━┳━━━━━━━━━━━━━━━━━━━━━━━━┓\n",
              "┃\u001b[1m \u001b[0m\u001b[1mLayer (type)             \u001b[0m\u001b[1m \u001b[0m┃\u001b[1m \u001b[0m\u001b[1mOutput Shape          \u001b[0m\u001b[1m \u001b[0m┃\u001b[1m \u001b[0m\u001b[1m       Param #\u001b[0m\u001b[1m \u001b[0m┃\u001b[1m \u001b[0m\u001b[1mConnected to          \u001b[0m\u001b[1m \u001b[0m┃\n",
              "┡━━━━━━━━━━━━━━━━━━━━━━━━━━━╇━━━━━━━━━━━━━━━━━━━━━━━━╇━━━━━━━━━━━━━━━━╇━━━━━━━━━━━━━━━━━━━━━━━━┩\n",
              "│ numerical_input           │ (\u001b[38;5;45mNone\u001b[0m, \u001b[38;5;34m30\u001b[0m, \u001b[38;5;34m12\u001b[0m)         │              \u001b[38;5;34m0\u001b[0m │ -                      │\n",
              "│ (\u001b[38;5;33mInputLayer\u001b[0m)              │                        │                │                        │\n",
              "├───────────────────────────┼────────────────────────┼────────────────┼────────────────────────┤\n",
              "│ lstm_layer_1 (\u001b[38;5;33mLSTM\u001b[0m)       │ (\u001b[38;5;45mNone\u001b[0m, \u001b[38;5;34m30\u001b[0m, \u001b[38;5;34m50\u001b[0m)         │         \u001b[38;5;34m12,600\u001b[0m │ numerical_input[\u001b[38;5;34m0\u001b[0m][\u001b[38;5;34m0\u001b[0m]  │\n",
              "├───────────────────────────┼────────────────────────┼────────────────┼────────────────────────┤\n",
              "│ batch_normalization       │ (\u001b[38;5;45mNone\u001b[0m, \u001b[38;5;34m30\u001b[0m, \u001b[38;5;34m50\u001b[0m)         │            \u001b[38;5;34m200\u001b[0m │ lstm_layer_1[\u001b[38;5;34m0\u001b[0m][\u001b[38;5;34m0\u001b[0m]     │\n",
              "│ (\u001b[38;5;33mBatchNormalization\u001b[0m)      │                        │                │                        │\n",
              "├───────────────────────────┼────────────────────────┼────────────────┼────────────────────────┤\n",
              "│ lstm_layer_2 (\u001b[38;5;33mLSTM\u001b[0m)       │ (\u001b[38;5;45mNone\u001b[0m, \u001b[38;5;34m30\u001b[0m, \u001b[38;5;34m50\u001b[0m)         │         \u001b[38;5;34m20,200\u001b[0m │ batch_normalization[\u001b[38;5;34m0\u001b[0m… │\n",
              "├───────────────────────────┼────────────────────────┼────────────────┼────────────────────────┤\n",
              "│ batch_normalization_1     │ (\u001b[38;5;45mNone\u001b[0m, \u001b[38;5;34m30\u001b[0m, \u001b[38;5;34m50\u001b[0m)         │            \u001b[38;5;34m200\u001b[0m │ lstm_layer_2[\u001b[38;5;34m0\u001b[0m][\u001b[38;5;34m0\u001b[0m]     │\n",
              "│ (\u001b[38;5;33mBatchNormalization\u001b[0m)      │                        │                │                        │\n",
              "├───────────────────────────┼────────────────────────┼────────────────┼────────────────────────┤\n",
              "│ attention_layer           │ (\u001b[38;5;45mNone\u001b[0m, \u001b[38;5;34m30\u001b[0m, \u001b[38;5;34m50\u001b[0m)         │             \u001b[38;5;34m50\u001b[0m │ batch_normalization_1… │\n",
              "│ (\u001b[38;5;33mAdditiveAttention\u001b[0m)       │                        │                │ batch_normalization_1… │\n",
              "├───────────────────────────┼────────────────────────┼────────────────┼────────────────────────┤\n",
              "│ multiply (\u001b[38;5;33mMultiply\u001b[0m)       │ (\u001b[38;5;45mNone\u001b[0m, \u001b[38;5;34m30\u001b[0m, \u001b[38;5;34m50\u001b[0m)         │              \u001b[38;5;34m0\u001b[0m │ lstm_layer_2[\u001b[38;5;34m0\u001b[0m][\u001b[38;5;34m0\u001b[0m],    │\n",
              "│                           │                        │                │ attention_layer[\u001b[38;5;34m0\u001b[0m][\u001b[38;5;34m0\u001b[0m]  │\n",
              "├───────────────────────────┼────────────────────────┼────────────────┼────────────────────────┤\n",
              "│ flatten (\u001b[38;5;33mFlatten\u001b[0m)         │ (\u001b[38;5;45mNone\u001b[0m, \u001b[38;5;34m1500\u001b[0m)           │              \u001b[38;5;34m0\u001b[0m │ multiply[\u001b[38;5;34m0\u001b[0m][\u001b[38;5;34m0\u001b[0m]         │\n",
              "├───────────────────────────┼────────────────────────┼────────────────┼────────────────────────┤\n",
              "│ dense_1 (\u001b[38;5;33mDense\u001b[0m)           │ (\u001b[38;5;45mNone\u001b[0m, \u001b[38;5;34m64\u001b[0m)             │         \u001b[38;5;34m96,064\u001b[0m │ flatten[\u001b[38;5;34m0\u001b[0m][\u001b[38;5;34m0\u001b[0m]          │\n",
              "├───────────────────────────┼────────────────────────┼────────────────┼────────────────────────┤\n",
              "│ dense_2 (\u001b[38;5;33mDense\u001b[0m)           │ (\u001b[38;5;45mNone\u001b[0m, \u001b[38;5;34m32\u001b[0m)             │          \u001b[38;5;34m2,080\u001b[0m │ dense_1[\u001b[38;5;34m0\u001b[0m][\u001b[38;5;34m0\u001b[0m]          │\n",
              "├───────────────────────────┼────────────────────────┼────────────────┼────────────────────────┤\n",
              "│ output (\u001b[38;5;33mDense\u001b[0m)            │ (\u001b[38;5;45mNone\u001b[0m, \u001b[38;5;34m1\u001b[0m)              │             \u001b[38;5;34m33\u001b[0m │ dense_2[\u001b[38;5;34m0\u001b[0m][\u001b[38;5;34m0\u001b[0m]          │\n",
              "└───────────────────────────┴────────────────────────┴────────────────┴────────────────────────┘\n"
            ]
          },
          "metadata": {},
          "output_type": "display_data"
        },
        {
          "data": {
            "text/html": [
              "<pre style=\"white-space:pre;overflow-x:auto;line-height:normal;font-family:Menlo,'DejaVu Sans Mono',consolas,'Courier New',monospace\"><span style=\"font-weight: bold\"> Total params: </span><span style=\"color: #00af00; text-decoration-color: #00af00\">131,427</span> (513.39 KB)\n",
              "</pre>\n"
            ],
            "text/plain": [
              "\u001b[1m Total params: \u001b[0m\u001b[38;5;34m131,427\u001b[0m (513.39 KB)\n"
            ]
          },
          "metadata": {},
          "output_type": "display_data"
        },
        {
          "data": {
            "text/html": [
              "<pre style=\"white-space:pre;overflow-x:auto;line-height:normal;font-family:Menlo,'DejaVu Sans Mono',consolas,'Courier New',monospace\"><span style=\"font-weight: bold\"> Trainable params: </span><span style=\"color: #00af00; text-decoration-color: #00af00\">131,227</span> (512.61 KB)\n",
              "</pre>\n"
            ],
            "text/plain": [
              "\u001b[1m Trainable params: \u001b[0m\u001b[38;5;34m131,227\u001b[0m (512.61 KB)\n"
            ]
          },
          "metadata": {},
          "output_type": "display_data"
        },
        {
          "data": {
            "text/html": [
              "<pre style=\"white-space:pre;overflow-x:auto;line-height:normal;font-family:Menlo,'DejaVu Sans Mono',consolas,'Courier New',monospace\"><span style=\"font-weight: bold\"> Non-trainable params: </span><span style=\"color: #00af00; text-decoration-color: #00af00\">200</span> (800.00 B)\n",
              "</pre>\n"
            ],
            "text/plain": [
              "\u001b[1m Non-trainable params: \u001b[0m\u001b[38;5;34m200\u001b[0m (800.00 B)\n"
            ]
          },
          "metadata": {},
          "output_type": "display_data"
        }
      ],
      "source": [
        "lstm_model.summary()"
      ]
    },
    {
      "cell_type": "markdown",
      "metadata": {},
      "source": [
        "## 3.4. Training and results"
      ]
    },
    {
      "cell_type": "code",
      "execution_count": 31,
      "metadata": {
        "colab": {
          "base_uri": "https://localhost:8080/"
        },
        "id": "mfZaC9d0hk5y",
        "outputId": "de1413cb-45bc-4df3-e649-1a44db2ec18d"
      },
      "outputs": [
        {
          "name": "stdout",
          "output_type": "stream",
          "text": [
            "Training complete!\n"
          ]
        }
      ],
      "source": [
        "# Define the checkpoint callback\n",
        "checkpoint = ModelCheckpoint(\n",
        "    filepath=base_path + 'lstm_model_epoch_{epoch:02d}.keras',  # Saves model for each epoch\n",
        "    save_best_only=False,  # Save model at every epoch\n",
        "    save_weights_only=False,  # Save full model (architecture + weights)\n",
        "    verbose=1\n",
        ")\n",
        "\n",
        "# Train the model with checkpoint callback\n",
        "# lstm_model.fit(\n",
        "#     train_gen,\n",
        "#     steps_per_epoch=40000,\n",
        "#     epochs=200,\n",
        "#     callbacks=[checkpoint, early_stopping],  # Include checkpoint callback\n",
        "#     verbose=2\n",
        "# )\n",
        "\n",
        "print(\"Training complete!\")\n"
      ]
    },
    {
      "cell_type": "code",
      "execution_count": 32,
      "metadata": {
        "id": "CUJYixrWDFjT"
      },
      "outputs": [],
      "source": [
        "#lstm_model.save(base_path + 'lstm_model4_2.keras')"
      ]
    },
    {
      "cell_type": "markdown",
      "metadata": {},
      "source": [
        "## 4. Conclusion"
      ]
    },
    {
      "cell_type": "code",
      "execution_count": 33,
      "metadata": {
        "id": "FRUfLr_XokWF"
      },
      "outputs": [],
      "source": [
        "def get_sequences_and_predict(ticker, stock_data, numerical_columns, sequence_length, model):\n",
        "    \"\"\"\n",
        "    Extracts sequences for a given ticker, performs predictions, and returns rescaled values.\n",
        "\n",
        "    Parameters:\n",
        "    - ticker: Stock ticker symbol.\n",
        "    - stock_data: DataFrame containing stock data.\n",
        "    - numerical_columns: List of numerical feature columns.\n",
        "    - sequence_length: Length of sequences.\n",
        "    - model: Trained model for prediction.\n",
        "\n",
        "    Returns:\n",
        "    - dates: Pandas Series of date values.\n",
        "    - y_sequence_rescaled: Rescaled actual stock prices.\n",
        "    - y_pred_rescaled: Rescaled predicted stock prices.\n",
        "    \"\"\"\n",
        "    ticker_data = stock_data[stock_data.ticker == ticker]\n",
        "\n",
        "    X = ticker_data[numerical_columns].values\n",
        "    y = ticker_data['close_adjusted'].values\n",
        "\n",
        "    X_sequences = []\n",
        "    y_sequences = []\n",
        "\n",
        "    for i in range(sequence_length, len(X)):\n",
        "        X_sequences.append(X[i-sequence_length:i])\n",
        "        y_sequences.append(y[i])\n",
        "\n",
        "    X_sequences = np.array(X_sequences)\n",
        "    y_sequences = np.array(y_sequences)\n",
        "\n",
        "    y_pred = model.predict(X_sequences)\n",
        "\n",
        "    y_sequence_rescaled = inverse_transform_predictions(y_sequences, ticker_data.ticker_encoded.unique()[0])\n",
        "    y_pred_rescaled = inverse_transform_predictions(y_pred, ticker_data.ticker_encoded.unique()[0])\n",
        "\n",
        "    dates = ticker_data['date'].iloc[sequence_length:].reset_index(drop=True)\n",
        "\n",
        "    return dates, y_sequence_rescaled, y_pred_rescaled"
      ]
    },
    {
      "cell_type": "code",
      "execution_count": 34,
      "metadata": {
        "id": "JUuvpYFwApCG"
      },
      "outputs": [],
      "source": [
        "def plot_actual_vs_predicted(dates, y_actual, y_pred, title='Actual vs Predicted Prices'):\n",
        "    \"\"\"\n",
        "    Plots actual vs predicted stock prices.\n",
        "\n",
        "    Parameters:\n",
        "    - dates: Pandas Series or list of date values.\n",
        "    - y_actual: Actual stock prices.\n",
        "    - y_pred: Predicted stock prices.\n",
        "    - title: Title of the plot (default: 'Actual vs Predicted Prices').\n",
        "    \"\"\"\n",
        "    plt.figure(figsize=(12, 6))\n",
        "\n",
        "    plt.plot(dates, y_actual, label='Actual Prices', alpha=0.8)\n",
        "    plt.plot(dates, y_pred, label='Predicted Prices', alpha=0.8)\n",
        "\n",
        "    plt.title(title)\n",
        "    plt.xlabel('Date')\n",
        "    plt.ylabel('Stock Price')\n",
        "    plt.legend()\n",
        "    plt.grid()\n",
        "    plt.xticks(rotation=45)  # Rotate x-axis labels for better readability\n",
        "\n",
        "    plt.show()\n",
        "\n",
        "# Example usage:\n",
        "# plot_actual_vs_predicted(dates, y_sequence_rescaled, y_pred_rescaled)\n"
      ]
    },
    {
      "cell_type": "markdown",
      "metadata": {
        "id": "lEw1w1D2ojzO"
      },
      "source": [
        "The model seems to be overfitting the data or maybe failing to generalize it properly. Let's try making a simpler model, to see the bevaiour."
      ]
    },
    {
      "cell_type": "markdown",
      "metadata": {
        "id": "myqyK76Aou97"
      },
      "source": [
        "We will decrease the number of LSTM units and increate the dropout"
      ]
    },
    {
      "cell_type": "code",
      "execution_count": 59,
      "metadata": {
        "id": "6NXhsUExpqFJ"
      },
      "outputs": [],
      "source": [
        "def create_simpler_lstm_model(sequence_length, num_features, lstm_units_1=256, lstm_units_2=128, lstm_units_3=64, dropout_rate=0.3):\n",
        "    \"\"\"\n",
        "    Optimized LSTM model for stock price prediction with Additive Attention.\n",
        "    \"\"\"\n",
        "    numerical_input = Input(shape=(sequence_length, num_features), name=\"numerical_input\")\n",
        "\n",
        "    first_lstm_layer = LSTM(lstm_units_1, return_sequences=True, name=\"lstm_layer_1\", dropout=dropout_rate)(numerical_input)\n",
        "    normalized_1 = BatchNormalization()(first_lstm_layer)\n",
        "\n",
        "    second_lstm_layer = LSTM(lstm_units_2, return_sequences=True, name=\"lstm_layer_2\", dropout=dropout_rate)(normalized_1)\n",
        "    normalized_2 = BatchNormalization()(second_lstm_layer)\n",
        "\n",
        "    second_lstm_layer = LSTM(lstm_units_3, return_sequences=True, name=\"lstm_layer_3\", dropout=dropout_rate)(normalized_2)\n",
        "    normalized_3 = BatchNormalization()(second_lstm_layer)\n",
        "\n",
        "    # Attention mechanism\n",
        "    attention = AdditiveAttention(name=\"attention_layer\")([normalized_3, normalized_3])\n",
        "    attended = Multiply()([second_lstm_layer, attention])\n",
        "\n",
        "    flat = Flatten()(attended)\n",
        "\n",
        "    output = Dense(32, activation='relu', name=\"dense_2\")(flat)\n",
        "\n",
        "    output = Dense(1, activation='linear', name=\"output\")(output)\n",
        "\n",
        "    model = Model(inputs=numerical_input, outputs=output, name=\"Optimized_LSTM_Model_with_Attention\")\n",
        "    model.compile(optimizer='adam', loss=Huber(delta=1.0), metrics=['mae'])\n",
        "\n",
        "    return model"
      ]
    },
    {
      "cell_type": "code",
      "execution_count": 60,
      "metadata": {
        "id": "fZop7xzwpAQH"
      },
      "outputs": [],
      "source": [
        "simple_lstm_model = create_simpler_lstm_model(\n",
        "    sequence_length=sequence_length,\n",
        "    num_features=len(numerical_columns))"
      ]
    },
    {
      "cell_type": "code",
      "execution_count": 61,
      "metadata": {
        "colab": {
          "base_uri": "https://localhost:8080/",
          "height": 622
        },
        "id": "a_eMtXGaqDA5",
        "outputId": "caee1643-6dee-4749-939b-960a32013962"
      },
      "outputs": [
        {
          "data": {
            "text/html": [
              "<pre style=\"white-space:pre;overflow-x:auto;line-height:normal;font-family:Menlo,'DejaVu Sans Mono',consolas,'Courier New',monospace\"><span style=\"font-weight: bold\">Model: \"Optimized_LSTM_Model_with_Attention\"</span>\n",
              "</pre>\n"
            ],
            "text/plain": [
              "\u001b[1mModel: \"Optimized_LSTM_Model_with_Attention\"\u001b[0m\n"
            ]
          },
          "metadata": {},
          "output_type": "display_data"
        },
        {
          "data": {
            "text/html": [
              "<pre style=\"white-space:pre;overflow-x:auto;line-height:normal;font-family:Menlo,'DejaVu Sans Mono',consolas,'Courier New',monospace\">┏━━━━━━━━━━━━━━━━━━━━━━━━━━━┳━━━━━━━━━━━━━━━━━━━━━━━━┳━━━━━━━━━━━━━━━━┳━━━━━━━━━━━━━━━━━━━━━━━━┓\n",
              "┃<span style=\"font-weight: bold\"> Layer (type)              </span>┃<span style=\"font-weight: bold\"> Output Shape           </span>┃<span style=\"font-weight: bold\">        Param # </span>┃<span style=\"font-weight: bold\"> Connected to           </span>┃\n",
              "┡━━━━━━━━━━━━━━━━━━━━━━━━━━━╇━━━━━━━━━━━━━━━━━━━━━━━━╇━━━━━━━━━━━━━━━━╇━━━━━━━━━━━━━━━━━━━━━━━━┩\n",
              "│ numerical_input           │ (<span style=\"color: #00d7ff; text-decoration-color: #00d7ff\">None</span>, <span style=\"color: #00af00; text-decoration-color: #00af00\">30</span>, <span style=\"color: #00af00; text-decoration-color: #00af00\">12</span>)         │              <span style=\"color: #00af00; text-decoration-color: #00af00\">0</span> │ -                      │\n",
              "│ (<span style=\"color: #0087ff; text-decoration-color: #0087ff\">InputLayer</span>)              │                        │                │                        │\n",
              "├───────────────────────────┼────────────────────────┼────────────────┼────────────────────────┤\n",
              "│ lstm_layer_1 (<span style=\"color: #0087ff; text-decoration-color: #0087ff\">LSTM</span>)       │ (<span style=\"color: #00d7ff; text-decoration-color: #00d7ff\">None</span>, <span style=\"color: #00af00; text-decoration-color: #00af00\">30</span>, <span style=\"color: #00af00; text-decoration-color: #00af00\">256</span>)        │        <span style=\"color: #00af00; text-decoration-color: #00af00\">275,456</span> │ numerical_input[<span style=\"color: #00af00; text-decoration-color: #00af00\">0</span>][<span style=\"color: #00af00; text-decoration-color: #00af00\">0</span>]  │\n",
              "├───────────────────────────┼────────────────────────┼────────────────┼────────────────────────┤\n",
              "│ batch_normalization_2     │ (<span style=\"color: #00d7ff; text-decoration-color: #00d7ff\">None</span>, <span style=\"color: #00af00; text-decoration-color: #00af00\">30</span>, <span style=\"color: #00af00; text-decoration-color: #00af00\">256</span>)        │          <span style=\"color: #00af00; text-decoration-color: #00af00\">1,024</span> │ lstm_layer_1[<span style=\"color: #00af00; text-decoration-color: #00af00\">0</span>][<span style=\"color: #00af00; text-decoration-color: #00af00\">0</span>]     │\n",
              "│ (<span style=\"color: #0087ff; text-decoration-color: #0087ff\">BatchNormalization</span>)      │                        │                │                        │\n",
              "├───────────────────────────┼────────────────────────┼────────────────┼────────────────────────┤\n",
              "│ lstm_layer_2 (<span style=\"color: #0087ff; text-decoration-color: #0087ff\">LSTM</span>)       │ (<span style=\"color: #00d7ff; text-decoration-color: #00d7ff\">None</span>, <span style=\"color: #00af00; text-decoration-color: #00af00\">30</span>, <span style=\"color: #00af00; text-decoration-color: #00af00\">128</span>)        │        <span style=\"color: #00af00; text-decoration-color: #00af00\">197,120</span> │ batch_normalization_2… │\n",
              "├───────────────────────────┼────────────────────────┼────────────────┼────────────────────────┤\n",
              "│ batch_normalization_3     │ (<span style=\"color: #00d7ff; text-decoration-color: #00d7ff\">None</span>, <span style=\"color: #00af00; text-decoration-color: #00af00\">30</span>, <span style=\"color: #00af00; text-decoration-color: #00af00\">128</span>)        │            <span style=\"color: #00af00; text-decoration-color: #00af00\">512</span> │ lstm_layer_2[<span style=\"color: #00af00; text-decoration-color: #00af00\">0</span>][<span style=\"color: #00af00; text-decoration-color: #00af00\">0</span>]     │\n",
              "│ (<span style=\"color: #0087ff; text-decoration-color: #0087ff\">BatchNormalization</span>)      │                        │                │                        │\n",
              "├───────────────────────────┼────────────────────────┼────────────────┼────────────────────────┤\n",
              "│ lstm_layer_3 (<span style=\"color: #0087ff; text-decoration-color: #0087ff\">LSTM</span>)       │ (<span style=\"color: #00d7ff; text-decoration-color: #00d7ff\">None</span>, <span style=\"color: #00af00; text-decoration-color: #00af00\">30</span>, <span style=\"color: #00af00; text-decoration-color: #00af00\">64</span>)         │         <span style=\"color: #00af00; text-decoration-color: #00af00\">49,408</span> │ batch_normalization_3… │\n",
              "├───────────────────────────┼────────────────────────┼────────────────┼────────────────────────┤\n",
              "│ batch_normalization_4     │ (<span style=\"color: #00d7ff; text-decoration-color: #00d7ff\">None</span>, <span style=\"color: #00af00; text-decoration-color: #00af00\">30</span>, <span style=\"color: #00af00; text-decoration-color: #00af00\">64</span>)         │            <span style=\"color: #00af00; text-decoration-color: #00af00\">256</span> │ lstm_layer_3[<span style=\"color: #00af00; text-decoration-color: #00af00\">0</span>][<span style=\"color: #00af00; text-decoration-color: #00af00\">0</span>]     │\n",
              "│ (<span style=\"color: #0087ff; text-decoration-color: #0087ff\">BatchNormalization</span>)      │                        │                │                        │\n",
              "├───────────────────────────┼────────────────────────┼────────────────┼────────────────────────┤\n",
              "│ attention_layer           │ (<span style=\"color: #00d7ff; text-decoration-color: #00d7ff\">None</span>, <span style=\"color: #00af00; text-decoration-color: #00af00\">30</span>, <span style=\"color: #00af00; text-decoration-color: #00af00\">64</span>)         │             <span style=\"color: #00af00; text-decoration-color: #00af00\">64</span> │ batch_normalization_4… │\n",
              "│ (<span style=\"color: #0087ff; text-decoration-color: #0087ff\">AdditiveAttention</span>)       │                        │                │ batch_normalization_4… │\n",
              "├───────────────────────────┼────────────────────────┼────────────────┼────────────────────────┤\n",
              "│ multiply_1 (<span style=\"color: #0087ff; text-decoration-color: #0087ff\">Multiply</span>)     │ (<span style=\"color: #00d7ff; text-decoration-color: #00d7ff\">None</span>, <span style=\"color: #00af00; text-decoration-color: #00af00\">30</span>, <span style=\"color: #00af00; text-decoration-color: #00af00\">64</span>)         │              <span style=\"color: #00af00; text-decoration-color: #00af00\">0</span> │ lstm_layer_3[<span style=\"color: #00af00; text-decoration-color: #00af00\">0</span>][<span style=\"color: #00af00; text-decoration-color: #00af00\">0</span>],    │\n",
              "│                           │                        │                │ attention_layer[<span style=\"color: #00af00; text-decoration-color: #00af00\">0</span>][<span style=\"color: #00af00; text-decoration-color: #00af00\">0</span>]  │\n",
              "├───────────────────────────┼────────────────────────┼────────────────┼────────────────────────┤\n",
              "│ flatten_1 (<span style=\"color: #0087ff; text-decoration-color: #0087ff\">Flatten</span>)       │ (<span style=\"color: #00d7ff; text-decoration-color: #00d7ff\">None</span>, <span style=\"color: #00af00; text-decoration-color: #00af00\">1920</span>)           │              <span style=\"color: #00af00; text-decoration-color: #00af00\">0</span> │ multiply_1[<span style=\"color: #00af00; text-decoration-color: #00af00\">0</span>][<span style=\"color: #00af00; text-decoration-color: #00af00\">0</span>]       │\n",
              "├───────────────────────────┼────────────────────────┼────────────────┼────────────────────────┤\n",
              "│ dense_2 (<span style=\"color: #0087ff; text-decoration-color: #0087ff\">Dense</span>)           │ (<span style=\"color: #00d7ff; text-decoration-color: #00d7ff\">None</span>, <span style=\"color: #00af00; text-decoration-color: #00af00\">32</span>)             │         <span style=\"color: #00af00; text-decoration-color: #00af00\">61,472</span> │ flatten_1[<span style=\"color: #00af00; text-decoration-color: #00af00\">0</span>][<span style=\"color: #00af00; text-decoration-color: #00af00\">0</span>]        │\n",
              "├───────────────────────────┼────────────────────────┼────────────────┼────────────────────────┤\n",
              "│ output (<span style=\"color: #0087ff; text-decoration-color: #0087ff\">Dense</span>)            │ (<span style=\"color: #00d7ff; text-decoration-color: #00d7ff\">None</span>, <span style=\"color: #00af00; text-decoration-color: #00af00\">1</span>)              │             <span style=\"color: #00af00; text-decoration-color: #00af00\">33</span> │ dense_2[<span style=\"color: #00af00; text-decoration-color: #00af00\">0</span>][<span style=\"color: #00af00; text-decoration-color: #00af00\">0</span>]          │\n",
              "└───────────────────────────┴────────────────────────┴────────────────┴────────────────────────┘\n",
              "</pre>\n"
            ],
            "text/plain": [
              "┏━━━━━━━━━━━━━━━━━━━━━━━━━━━┳━━━━━━━━━━━━━━━━━━━━━━━━┳━━━━━━━━━━━━━━━━┳━━━━━━━━━━━━━━━━━━━━━━━━┓\n",
              "┃\u001b[1m \u001b[0m\u001b[1mLayer (type)             \u001b[0m\u001b[1m \u001b[0m┃\u001b[1m \u001b[0m\u001b[1mOutput Shape          \u001b[0m\u001b[1m \u001b[0m┃\u001b[1m \u001b[0m\u001b[1m       Param #\u001b[0m\u001b[1m \u001b[0m┃\u001b[1m \u001b[0m\u001b[1mConnected to          \u001b[0m\u001b[1m \u001b[0m┃\n",
              "┡━━━━━━━━━━━━━━━━━━━━━━━━━━━╇━━━━━━━━━━━━━━━━━━━━━━━━╇━━━━━━━━━━━━━━━━╇━━━━━━━━━━━━━━━━━━━━━━━━┩\n",
              "│ numerical_input           │ (\u001b[38;5;45mNone\u001b[0m, \u001b[38;5;34m30\u001b[0m, \u001b[38;5;34m12\u001b[0m)         │              \u001b[38;5;34m0\u001b[0m │ -                      │\n",
              "│ (\u001b[38;5;33mInputLayer\u001b[0m)              │                        │                │                        │\n",
              "├───────────────────────────┼────────────────────────┼────────────────┼────────────────────────┤\n",
              "│ lstm_layer_1 (\u001b[38;5;33mLSTM\u001b[0m)       │ (\u001b[38;5;45mNone\u001b[0m, \u001b[38;5;34m30\u001b[0m, \u001b[38;5;34m256\u001b[0m)        │        \u001b[38;5;34m275,456\u001b[0m │ numerical_input[\u001b[38;5;34m0\u001b[0m][\u001b[38;5;34m0\u001b[0m]  │\n",
              "├───────────────────────────┼────────────────────────┼────────────────┼────────────────────────┤\n",
              "│ batch_normalization_2     │ (\u001b[38;5;45mNone\u001b[0m, \u001b[38;5;34m30\u001b[0m, \u001b[38;5;34m256\u001b[0m)        │          \u001b[38;5;34m1,024\u001b[0m │ lstm_layer_1[\u001b[38;5;34m0\u001b[0m][\u001b[38;5;34m0\u001b[0m]     │\n",
              "│ (\u001b[38;5;33mBatchNormalization\u001b[0m)      │                        │                │                        │\n",
              "├───────────────────────────┼────────────────────────┼────────────────┼────────────────────────┤\n",
              "│ lstm_layer_2 (\u001b[38;5;33mLSTM\u001b[0m)       │ (\u001b[38;5;45mNone\u001b[0m, \u001b[38;5;34m30\u001b[0m, \u001b[38;5;34m128\u001b[0m)        │        \u001b[38;5;34m197,120\u001b[0m │ batch_normalization_2… │\n",
              "├───────────────────────────┼────────────────────────┼────────────────┼────────────────────────┤\n",
              "│ batch_normalization_3     │ (\u001b[38;5;45mNone\u001b[0m, \u001b[38;5;34m30\u001b[0m, \u001b[38;5;34m128\u001b[0m)        │            \u001b[38;5;34m512\u001b[0m │ lstm_layer_2[\u001b[38;5;34m0\u001b[0m][\u001b[38;5;34m0\u001b[0m]     │\n",
              "│ (\u001b[38;5;33mBatchNormalization\u001b[0m)      │                        │                │                        │\n",
              "├───────────────────────────┼────────────────────────┼────────────────┼────────────────────────┤\n",
              "│ lstm_layer_3 (\u001b[38;5;33mLSTM\u001b[0m)       │ (\u001b[38;5;45mNone\u001b[0m, \u001b[38;5;34m30\u001b[0m, \u001b[38;5;34m64\u001b[0m)         │         \u001b[38;5;34m49,408\u001b[0m │ batch_normalization_3… │\n",
              "├───────────────────────────┼────────────────────────┼────────────────┼────────────────────────┤\n",
              "│ batch_normalization_4     │ (\u001b[38;5;45mNone\u001b[0m, \u001b[38;5;34m30\u001b[0m, \u001b[38;5;34m64\u001b[0m)         │            \u001b[38;5;34m256\u001b[0m │ lstm_layer_3[\u001b[38;5;34m0\u001b[0m][\u001b[38;5;34m0\u001b[0m]     │\n",
              "│ (\u001b[38;5;33mBatchNormalization\u001b[0m)      │                        │                │                        │\n",
              "├───────────────────────────┼────────────────────────┼────────────────┼────────────────────────┤\n",
              "│ attention_layer           │ (\u001b[38;5;45mNone\u001b[0m, \u001b[38;5;34m30\u001b[0m, \u001b[38;5;34m64\u001b[0m)         │             \u001b[38;5;34m64\u001b[0m │ batch_normalization_4… │\n",
              "│ (\u001b[38;5;33mAdditiveAttention\u001b[0m)       │                        │                │ batch_normalization_4… │\n",
              "├───────────────────────────┼────────────────────────┼────────────────┼────────────────────────┤\n",
              "│ multiply_1 (\u001b[38;5;33mMultiply\u001b[0m)     │ (\u001b[38;5;45mNone\u001b[0m, \u001b[38;5;34m30\u001b[0m, \u001b[38;5;34m64\u001b[0m)         │              \u001b[38;5;34m0\u001b[0m │ lstm_layer_3[\u001b[38;5;34m0\u001b[0m][\u001b[38;5;34m0\u001b[0m],    │\n",
              "│                           │                        │                │ attention_layer[\u001b[38;5;34m0\u001b[0m][\u001b[38;5;34m0\u001b[0m]  │\n",
              "├───────────────────────────┼────────────────────────┼────────────────┼────────────────────────┤\n",
              "│ flatten_1 (\u001b[38;5;33mFlatten\u001b[0m)       │ (\u001b[38;5;45mNone\u001b[0m, \u001b[38;5;34m1920\u001b[0m)           │              \u001b[38;5;34m0\u001b[0m │ multiply_1[\u001b[38;5;34m0\u001b[0m][\u001b[38;5;34m0\u001b[0m]       │\n",
              "├───────────────────────────┼────────────────────────┼────────────────┼────────────────────────┤\n",
              "│ dense_2 (\u001b[38;5;33mDense\u001b[0m)           │ (\u001b[38;5;45mNone\u001b[0m, \u001b[38;5;34m32\u001b[0m)             │         \u001b[38;5;34m61,472\u001b[0m │ flatten_1[\u001b[38;5;34m0\u001b[0m][\u001b[38;5;34m0\u001b[0m]        │\n",
              "├───────────────────────────┼────────────────────────┼────────────────┼────────────────────────┤\n",
              "│ output (\u001b[38;5;33mDense\u001b[0m)            │ (\u001b[38;5;45mNone\u001b[0m, \u001b[38;5;34m1\u001b[0m)              │             \u001b[38;5;34m33\u001b[0m │ dense_2[\u001b[38;5;34m0\u001b[0m][\u001b[38;5;34m0\u001b[0m]          │\n",
              "└───────────────────────────┴────────────────────────┴────────────────┴────────────────────────┘\n"
            ]
          },
          "metadata": {},
          "output_type": "display_data"
        },
        {
          "data": {
            "text/html": [
              "<pre style=\"white-space:pre;overflow-x:auto;line-height:normal;font-family:Menlo,'DejaVu Sans Mono',consolas,'Courier New',monospace\"><span style=\"font-weight: bold\"> Total params: </span><span style=\"color: #00af00; text-decoration-color: #00af00\">585,345</span> (2.23 MB)\n",
              "</pre>\n"
            ],
            "text/plain": [
              "\u001b[1m Total params: \u001b[0m\u001b[38;5;34m585,345\u001b[0m (2.23 MB)\n"
            ]
          },
          "metadata": {},
          "output_type": "display_data"
        },
        {
          "data": {
            "text/html": [
              "<pre style=\"white-space:pre;overflow-x:auto;line-height:normal;font-family:Menlo,'DejaVu Sans Mono',consolas,'Courier New',monospace\"><span style=\"font-weight: bold\"> Trainable params: </span><span style=\"color: #00af00; text-decoration-color: #00af00\">584,449</span> (2.23 MB)\n",
              "</pre>\n"
            ],
            "text/plain": [
              "\u001b[1m Trainable params: \u001b[0m\u001b[38;5;34m584,449\u001b[0m (2.23 MB)\n"
            ]
          },
          "metadata": {},
          "output_type": "display_data"
        },
        {
          "data": {
            "text/html": [
              "<pre style=\"white-space:pre;overflow-x:auto;line-height:normal;font-family:Menlo,'DejaVu Sans Mono',consolas,'Courier New',monospace\"><span style=\"font-weight: bold\"> Non-trainable params: </span><span style=\"color: #00af00; text-decoration-color: #00af00\">896</span> (3.50 KB)\n",
              "</pre>\n"
            ],
            "text/plain": [
              "\u001b[1m Non-trainable params: \u001b[0m\u001b[38;5;34m896\u001b[0m (3.50 KB)\n"
            ]
          },
          "metadata": {},
          "output_type": "display_data"
        }
      ],
      "source": [
        "simple_lstm_model.summary()"
      ]
    },
    {
      "cell_type": "code",
      "execution_count": 62,
      "metadata": {
        "colab": {
          "base_uri": "https://localhost:8080/"
        },
        "id": "s7O_ASTejQZn",
        "outputId": "4e5d5d69-8649-4201-8a94-62474d9e1652"
      },
      "outputs": [
        {
          "name": "stdout",
          "output_type": "stream",
          "text": [
            "Train tickers: 7261\n",
            "Test tickers: 383\n"
          ]
        }
      ],
      "source": [
        "# Split tickers into train and test\n",
        "train_tickers, test_tickers = train_test_split(tickers, test_size=0.05, random_state=42)\n",
        "\n",
        "print(f\"Train tickers: {len(train_tickers)}\")\n",
        "print(f\"Test tickers: {len(test_tickers)}\")\n"
      ]
    },
    {
      "cell_type": "code",
      "execution_count": 63,
      "metadata": {
        "id": "m3VGlwHRmjT-"
      },
      "outputs": [],
      "source": [
        "import random\n",
        "\n",
        "def data_generator(tickers, processed_data_path, batch_size=32):\n",
        "    \"\"\"Generates batches dynamically from .npy files.\"\"\"\n",
        "\n",
        "    while True:\n",
        "        random.shuffle(tickers)\n",
        "\n",
        "        for ticker in tickers:\n",
        "            # Load data for the ticker\n",
        "            x_path = os.path.join(processed_data_path, f\"x_ticker_{ticker}.npy\")\n",
        "            y_path = os.path.join(processed_data_path, f\"y_ticker_{ticker}.npy\")\n",
        "\n",
        "            if not os.path.exists(x_path) or not os.path.exists(y_path):\n",
        "                continue\n",
        "\n",
        "            x_data = np.load(x_path)\n",
        "            y_data = np.load(y_path)\n",
        "\n",
        "            # Ensure we have full batches\n",
        "            steps_per_epoch = len(x_data) // batch_size\n",
        "            x_data = x_data[:steps_per_epoch * batch_size]\n",
        "            y_data = y_data[:steps_per_epoch * batch_size]\n",
        "\n",
        "            # Yield sequences\n",
        "            for i in range(steps_per_epoch):\n",
        "                x_batch = x_data[i * batch_size: (i + 1) * batch_size]\n",
        "                y_batch = y_data[i * batch_size: (i + 1) * batch_size]\n",
        "\n",
        "                yield np.array(x_batch, dtype=np.float32), np.array(y_batch, dtype=np.float32)\n"
      ]
    },
    {
      "cell_type": "code",
      "execution_count": 64,
      "metadata": {
        "id": "bpyzR9humoWg"
      },
      "outputs": [],
      "source": [
        "tickers = stock_data_tidy['ticker_encoded'].unique()\n",
        "\n",
        "# Split tickers into train and test\n",
        "train_tickers, test_tickers = train_test_split(tickers, test_size=0.2, random_state=42)\n",
        "\n",
        "# Create train and test datasets based on the ticker split\n",
        "train_data = stock_data_tidy[stock_data_tidy['ticker_encoded'].isin(train_tickers)]\n",
        "test_data = stock_data_tidy[stock_data_tidy['ticker_encoded'].isin(test_tickers)]\n",
        "\n",
        "# Define batch size\n",
        "batch_size = 32\n",
        "\n",
        "# Compute steps based on stock_data_tidy (NOT from files)\n",
        "train_steps = len(train_data) // batch_size\n",
        "test_steps = len(test_data) // batch_size\n"
      ]
    },
    {
      "cell_type": "code",
      "execution_count": 65,
      "metadata": {
        "id": "Qm2ZgGn8pzvT"
      },
      "outputs": [],
      "source": [
        "train_tickers.sort()\n",
        "test_tickers.sort()\n",
        "train_gen = data_generator(train_tickers, processed_data_path, batch_size=batch_size)\n",
        "test_gen = data_generator(test_tickers, processed_data_path, batch_size=batch_size)"
      ]
    },
    {
      "cell_type": "code",
      "execution_count": null,
      "metadata": {
        "colab": {
          "base_uri": "https://localhost:8080/"
        },
        "id": "BrNCFCCpqXHI",
        "outputId": "e8e27a5d-e8bf-4499-ec0f-684f20a5b1b4"
      },
      "outputs": [
        {
          "name": "stdout",
          "output_type": "stream",
          "text": [
            "Epoch 1/50\n",
            "\u001b[1m114710/114710\u001b[0m \u001b[32m━━━━━━━━━━━━━━━━━━━━\u001b[0m\u001b[37m\u001b[0m \u001b[1m0s\u001b[0m 24ms/step - loss: 8.6332e-04 - mae: 0.0273\n",
            "Epoch 1: saving model to drive/MyDrive/DL_Pickles/simple_lstm_model_epoch_5_3_01.keras\n",
            "\u001b[1m114710/114710\u001b[0m \u001b[32m━━━━━━━━━━━━━━━━━━━━\u001b[0m\u001b[37m\u001b[0m \u001b[1m3393s\u001b[0m 30ms/step - loss: 8.6332e-04 - mae: 0.0273 - val_loss: 0.0342 - val_mae: 0.2268\n",
            "Epoch 2/50\n",
            "\u001b[1m 34856/114710\u001b[0m \u001b[32m━━━━━━\u001b[0m\u001b[37m━━━━━━━━━━━━━━\u001b[0m \u001b[1m32:43\u001b[0m 25ms/step - loss: 8.1283e-04 - mae: 0.0259"
          ]
        }
      ],
      "source": [
        "# Define the checkpoint callback\n",
        "checkpoint = ModelCheckpoint(\n",
        "    filepath=base_path + 'simple_lstm_model_epoch_5_3_{epoch:02d}.keras',  # Saves model for each epoch\n",
        "    save_best_only=False,  # Save model at every epoch\n",
        "    save_weights_only=False,  # Save full model (architecture + weights)\n",
        "    verbose=1\n",
        ")\n",
        "\n",
        "early_stopping = EarlyStopping(monitor=\"loss\", patience=10, restore_best_weights=True)\n",
        "\n",
        "# Train the model with checkpoint callback\n",
        "simple_lstm_model.fit(\n",
        "    train_gen,\n",
        "    steps_per_epoch=train_steps//5,\n",
        "    validation_data=test_gen,\n",
        "    validation_steps=test_steps//5,\n",
        "    epochs=50,\n",
        "    callbacks=[checkpoint, early_stopping],  # Include checkpoint callback\n",
        "    verbose=1\n",
        ")\n",
        "\n",
        "print(\"Training complete!\")\n"
      ]
    },
    {
      "cell_type": "code",
      "execution_count": 69,
      "metadata": {
        "colab": {
          "base_uri": "https://localhost:8080/"
        },
        "id": "InNdJZovW9YS",
        "outputId": "e133096f-ec13-44d3-bf92-0d0e998e1223"
      },
      "outputs": [
        {
          "name": "stdout",
          "output_type": "stream",
          "text": [
            "\u001b[1m178/178\u001b[0m \u001b[32m━━━━━━━━━━━━━━━━━━━━\u001b[0m\u001b[37m\u001b[0m \u001b[1m1s\u001b[0m 4ms/step\n"
          ]
        }
      ],
      "source": [
        "dates, y_sequence_rescaled, y_pred_rescaled = get_sequences_and_predict(\"MSFT\", stock_data_tidy, numerical_columns, sequence_length, simple_lstm_model)"
      ]
    },
    {
      "cell_type": "code",
      "execution_count": 70,
      "metadata": {
        "colab": {
          "base_uri": "https://localhost:8080/",
          "height": 585
        },
        "id": "b-uIUpYvWM33",
        "outputId": "fe4e7633-6fb1-4414-a0b6-d8883c6aa0d1"
      },
      "outputs": [
        {
          "data": {
            "image/png": "[encoded data removed]",
            "text/plain": [
              "<Figure size 1200x600 with 1 Axes>"
            ]
          },
          "metadata": {},
          "output_type": "display_data"
        }
      ],
      "source": [
        "plot_actual_vs_predicted(dates, y_sequence_rescaled, y_pred_rescaled)"
      ]
    },
    {
      "cell_type": "code",
      "execution_count": 46,
      "metadata": {
        "id": "efLvb3fDEkm7"
      },
      "outputs": [],
      "source": [
        "simple_lstm_model.save(base_path + 'simple_lstm_model4_3.keras')"
      ]
    },
    {
      "cell_type": "code",
      "execution_count": null,
      "metadata": {
        "colab": {
          "base_uri": "https://localhost:8080/",
          "height": 557
        },
        "id": "_zSi8FjESr3r",
        "outputId": "296e303d-d020-4249-ec8e-beabbeaffd88"
      },
      "outputs": [
        {
          "data": {
            "text/html": [
              "<pre style=\"white-space:pre;overflow-x:auto;line-height:normal;font-family:Menlo,'DejaVu Sans Mono',consolas,'Courier New',monospace\"><span style=\"font-weight: bold\">Model: \"Optimized_LSTM_Model_with_Attention\"</span>\n",
              "</pre>\n"
            ],
            "text/plain": [
              "\u001b[1mModel: \"Optimized_LSTM_Model_with_Attention\"\u001b[0m\n"
            ]
          },
          "metadata": {},
          "output_type": "display_data"
        },
        {
          "data": {
            "text/html": [
              "<pre style=\"white-space:pre;overflow-x:auto;line-height:normal;font-family:Menlo,'DejaVu Sans Mono',consolas,'Courier New',monospace\">┏━━━━━━━━━━━━━━━━━━━━━━━━━━━┳━━━━━━━━━━━━━━━━━━━━━━━━┳━━━━━━━━━━━━━━━━┳━━━━━━━━━━━━━━━━━━━━━━━━┓\n",
              "┃<span style=\"font-weight: bold\"> Layer (type)              </span>┃<span style=\"font-weight: bold\"> Output Shape           </span>┃<span style=\"font-weight: bold\">        Param # </span>┃<span style=\"font-weight: bold\"> Connected to           </span>┃\n",
              "┡━━━━━━━━━━━━━━━━━━━━━━━━━━━╇━━━━━━━━━━━━━━━━━━━━━━━━╇━━━━━━━━━━━━━━━━╇━━━━━━━━━━━━━━━━━━━━━━━━┩\n",
              "│ numerical_input           │ (<span style=\"color: #00d7ff; text-decoration-color: #00d7ff\">None</span>, <span style=\"color: #00af00; text-decoration-color: #00af00\">30</span>, <span style=\"color: #00af00; text-decoration-color: #00af00\">12</span>)         │              <span style=\"color: #00af00; text-decoration-color: #00af00\">0</span> │ -                      │\n",
              "│ (<span style=\"color: #0087ff; text-decoration-color: #0087ff\">InputLayer</span>)              │                        │                │                        │\n",
              "├───────────────────────────┼────────────────────────┼────────────────┼────────────────────────┤\n",
              "│ lstm_layer_1 (<span style=\"color: #0087ff; text-decoration-color: #0087ff\">LSTM</span>)       │ (<span style=\"color: #00d7ff; text-decoration-color: #00d7ff\">None</span>, <span style=\"color: #00af00; text-decoration-color: #00af00\">30</span>, <span style=\"color: #00af00; text-decoration-color: #00af00\">50</span>)         │         <span style=\"color: #00af00; text-decoration-color: #00af00\">12,600</span> │ numerical_input[<span style=\"color: #00af00; text-decoration-color: #00af00\">0</span>][<span style=\"color: #00af00; text-decoration-color: #00af00\">0</span>]  │\n",
              "├───────────────────────────┼────────────────────────┼────────────────┼────────────────────────┤\n",
              "│ batch_normalization_4     │ (<span style=\"color: #00d7ff; text-decoration-color: #00d7ff\">None</span>, <span style=\"color: #00af00; text-decoration-color: #00af00\">30</span>, <span style=\"color: #00af00; text-decoration-color: #00af00\">50</span>)         │            <span style=\"color: #00af00; text-decoration-color: #00af00\">200</span> │ lstm_layer_1[<span style=\"color: #00af00; text-decoration-color: #00af00\">0</span>][<span style=\"color: #00af00; text-decoration-color: #00af00\">0</span>]     │\n",
              "│ (<span style=\"color: #0087ff; text-decoration-color: #0087ff\">BatchNormalization</span>)      │                        │                │                        │\n",
              "├───────────────────────────┼────────────────────────┼────────────────┼────────────────────────┤\n",
              "│ lstm_layer_2 (<span style=\"color: #0087ff; text-decoration-color: #0087ff\">LSTM</span>)       │ (<span style=\"color: #00d7ff; text-decoration-color: #00d7ff\">None</span>, <span style=\"color: #00af00; text-decoration-color: #00af00\">30</span>, <span style=\"color: #00af00; text-decoration-color: #00af00\">25</span>)         │          <span style=\"color: #00af00; text-decoration-color: #00af00\">7,600</span> │ batch_normalization_4… │\n",
              "├───────────────────────────┼────────────────────────┼────────────────┼────────────────────────┤\n",
              "│ batch_normalization_5     │ (<span style=\"color: #00d7ff; text-decoration-color: #00d7ff\">None</span>, <span style=\"color: #00af00; text-decoration-color: #00af00\">30</span>, <span style=\"color: #00af00; text-decoration-color: #00af00\">25</span>)         │            <span style=\"color: #00af00; text-decoration-color: #00af00\">100</span> │ lstm_layer_2[<span style=\"color: #00af00; text-decoration-color: #00af00\">0</span>][<span style=\"color: #00af00; text-decoration-color: #00af00\">0</span>]     │\n",
              "│ (<span style=\"color: #0087ff; text-decoration-color: #0087ff\">BatchNormalization</span>)      │                        │                │                        │\n",
              "├───────────────────────────┼────────────────────────┼────────────────┼────────────────────────┤\n",
              "│ attention_layer           │ (<span style=\"color: #00d7ff; text-decoration-color: #00d7ff\">None</span>, <span style=\"color: #00af00; text-decoration-color: #00af00\">30</span>, <span style=\"color: #00af00; text-decoration-color: #00af00\">25</span>)         │             <span style=\"color: #00af00; text-decoration-color: #00af00\">25</span> │ batch_normalization_5… │\n",
              "│ (<span style=\"color: #0087ff; text-decoration-color: #0087ff\">AdditiveAttention</span>)       │                        │                │ batch_normalization_5… │\n",
              "├───────────────────────────┼────────────────────────┼────────────────┼────────────────────────┤\n",
              "│ multiply_2 (<span style=\"color: #0087ff; text-decoration-color: #0087ff\">Multiply</span>)     │ (<span style=\"color: #00d7ff; text-decoration-color: #00d7ff\">None</span>, <span style=\"color: #00af00; text-decoration-color: #00af00\">30</span>, <span style=\"color: #00af00; text-decoration-color: #00af00\">25</span>)         │              <span style=\"color: #00af00; text-decoration-color: #00af00\">0</span> │ lstm_layer_2[<span style=\"color: #00af00; text-decoration-color: #00af00\">0</span>][<span style=\"color: #00af00; text-decoration-color: #00af00\">0</span>],    │\n",
              "│                           │                        │                │ attention_layer[<span style=\"color: #00af00; text-decoration-color: #00af00\">0</span>][<span style=\"color: #00af00; text-decoration-color: #00af00\">0</span>]  │\n",
              "├───────────────────────────┼────────────────────────┼────────────────┼────────────────────────┤\n",
              "│ flatten_2 (<span style=\"color: #0087ff; text-decoration-color: #0087ff\">Flatten</span>)       │ (<span style=\"color: #00d7ff; text-decoration-color: #00d7ff\">None</span>, <span style=\"color: #00af00; text-decoration-color: #00af00\">750</span>)            │              <span style=\"color: #00af00; text-decoration-color: #00af00\">0</span> │ multiply_2[<span style=\"color: #00af00; text-decoration-color: #00af00\">0</span>][<span style=\"color: #00af00; text-decoration-color: #00af00\">0</span>]       │\n",
              "├───────────────────────────┼────────────────────────┼────────────────┼────────────────────────┤\n",
              "│ dense_2 (<span style=\"color: #0087ff; text-decoration-color: #0087ff\">Dense</span>)           │ (<span style=\"color: #00d7ff; text-decoration-color: #00d7ff\">None</span>, <span style=\"color: #00af00; text-decoration-color: #00af00\">32</span>)             │         <span style=\"color: #00af00; text-decoration-color: #00af00\">24,032</span> │ flatten_2[<span style=\"color: #00af00; text-decoration-color: #00af00\">0</span>][<span style=\"color: #00af00; text-decoration-color: #00af00\">0</span>]        │\n",
              "├───────────────────────────┼────────────────────────┼────────────────┼────────────────────────┤\n",
              "│ output (<span style=\"color: #0087ff; text-decoration-color: #0087ff\">Dense</span>)            │ (<span style=\"color: #00d7ff; text-decoration-color: #00d7ff\">None</span>, <span style=\"color: #00af00; text-decoration-color: #00af00\">1</span>)              │             <span style=\"color: #00af00; text-decoration-color: #00af00\">33</span> │ dense_2[<span style=\"color: #00af00; text-decoration-color: #00af00\">0</span>][<span style=\"color: #00af00; text-decoration-color: #00af00\">0</span>]          │\n",
              "└───────────────────────────┴────────────────────────┴────────────────┴────────────────────────┘\n",
              "</pre>\n"
            ],
            "text/plain": [
              "┏━━━━━━━━━━━━━━━━━━━━━━━━━━━┳━━━━━━━━━━━━━━━━━━━━━━━━┳━━━━━━━━━━━━━━━━┳━━━━━━━━━━━━━━━━━━━━━━━━┓\n",
              "┃\u001b[1m \u001b[0m\u001b[1mLayer (type)             \u001b[0m\u001b[1m \u001b[0m┃\u001b[1m \u001b[0m\u001b[1mOutput Shape          \u001b[0m\u001b[1m \u001b[0m┃\u001b[1m \u001b[0m\u001b[1m       Param #\u001b[0m\u001b[1m \u001b[0m┃\u001b[1m \u001b[0m\u001b[1mConnected to          \u001b[0m\u001b[1m \u001b[0m┃\n",
              "┡━━━━━━━━━━━━━━━━━━━━━━━━━━━╇━━━━━━━━━━━━━━━━━━━━━━━━╇━━━━━━━━━━━━━━━━╇━━━━━━━━━━━━━━━━━━━━━━━━┩\n",
              "│ numerical_input           │ (\u001b[38;5;45mNone\u001b[0m, \u001b[38;5;34m30\u001b[0m, \u001b[38;5;34m12\u001b[0m)         │              \u001b[38;5;34m0\u001b[0m │ -                      │\n",
              "│ (\u001b[38;5;33mInputLayer\u001b[0m)              │                        │                │                        │\n",
              "├───────────────────────────┼────────────────────────┼────────────────┼────────────────────────┤\n",
              "│ lstm_layer_1 (\u001b[38;5;33mLSTM\u001b[0m)       │ (\u001b[38;5;45mNone\u001b[0m, \u001b[38;5;34m30\u001b[0m, \u001b[38;5;34m50\u001b[0m)         │         \u001b[38;5;34m12,600\u001b[0m │ numerical_input[\u001b[38;5;34m0\u001b[0m][\u001b[38;5;34m0\u001b[0m]  │\n",
              "├───────────────────────────┼────────────────────────┼────────────────┼────────────────────────┤\n",
              "│ batch_normalization_4     │ (\u001b[38;5;45mNone\u001b[0m, \u001b[38;5;34m30\u001b[0m, \u001b[38;5;34m50\u001b[0m)         │            \u001b[38;5;34m200\u001b[0m │ lstm_layer_1[\u001b[38;5;34m0\u001b[0m][\u001b[38;5;34m0\u001b[0m]     │\n",
              "│ (\u001b[38;5;33mBatchNormalization\u001b[0m)      │                        │                │                        │\n",
              "├───────────────────────────┼────────────────────────┼────────────────┼────────────────────────┤\n",
              "│ lstm_layer_2 (\u001b[38;5;33mLSTM\u001b[0m)       │ (\u001b[38;5;45mNone\u001b[0m, \u001b[38;5;34m30\u001b[0m, \u001b[38;5;34m25\u001b[0m)         │          \u001b[38;5;34m7,600\u001b[0m │ batch_normalization_4… │\n",
              "├───────────────────────────┼────────────────────────┼────────────────┼────────────────────────┤\n",
              "│ batch_normalization_5     │ (\u001b[38;5;45mNone\u001b[0m, \u001b[38;5;34m30\u001b[0m, \u001b[38;5;34m25\u001b[0m)         │            \u001b[38;5;34m100\u001b[0m │ lstm_layer_2[\u001b[38;5;34m0\u001b[0m][\u001b[38;5;34m0\u001b[0m]     │\n",
              "│ (\u001b[38;5;33mBatchNormalization\u001b[0m)      │                        │                │                        │\n",
              "├───────────────────────────┼────────────────────────┼────────────────┼────────────────────────┤\n",
              "│ attention_layer           │ (\u001b[38;5;45mNone\u001b[0m, \u001b[38;5;34m30\u001b[0m, \u001b[38;5;34m25\u001b[0m)         │             \u001b[38;5;34m25\u001b[0m │ batch_normalization_5… │\n",
              "│ (\u001b[38;5;33mAdditiveAttention\u001b[0m)       │                        │                │ batch_normalization_5… │\n",
              "├───────────────────────────┼────────────────────────┼────────────────┼────────────────────────┤\n",
              "│ multiply_2 (\u001b[38;5;33mMultiply\u001b[0m)     │ (\u001b[38;5;45mNone\u001b[0m, \u001b[38;5;34m30\u001b[0m, \u001b[38;5;34m25\u001b[0m)         │              \u001b[38;5;34m0\u001b[0m │ lstm_layer_2[\u001b[38;5;34m0\u001b[0m][\u001b[38;5;34m0\u001b[0m],    │\n",
              "│                           │                        │                │ attention_layer[\u001b[38;5;34m0\u001b[0m][\u001b[38;5;34m0\u001b[0m]  │\n",
              "├───────────────────────────┼────────────────────────┼────────────────┼────────────────────────┤\n",
              "│ flatten_2 (\u001b[38;5;33mFlatten\u001b[0m)       │ (\u001b[38;5;45mNone\u001b[0m, \u001b[38;5;34m750\u001b[0m)            │              \u001b[38;5;34m0\u001b[0m │ multiply_2[\u001b[38;5;34m0\u001b[0m][\u001b[38;5;34m0\u001b[0m]       │\n",
              "├───────────────────────────┼────────────────────────┼────────────────┼────────────────────────┤\n",
              "│ dense_2 (\u001b[38;5;33mDense\u001b[0m)           │ (\u001b[38;5;45mNone\u001b[0m, \u001b[38;5;34m32\u001b[0m)             │         \u001b[38;5;34m24,032\u001b[0m │ flatten_2[\u001b[38;5;34m0\u001b[0m][\u001b[38;5;34m0\u001b[0m]        │\n",
              "├───────────────────────────┼────────────────────────┼────────────────┼────────────────────────┤\n",
              "│ output (\u001b[38;5;33mDense\u001b[0m)            │ (\u001b[38;5;45mNone\u001b[0m, \u001b[38;5;34m1\u001b[0m)              │             \u001b[38;5;34m33\u001b[0m │ dense_2[\u001b[38;5;34m0\u001b[0m][\u001b[38;5;34m0\u001b[0m]          │\n",
              "└───────────────────────────┴────────────────────────┴────────────────┴────────────────────────┘\n"
            ]
          },
          "metadata": {},
          "output_type": "display_data"
        },
        {
          "data": {
            "text/html": [
              "<pre style=\"white-space:pre;overflow-x:auto;line-height:normal;font-family:Menlo,'DejaVu Sans Mono',consolas,'Courier New',monospace\"><span style=\"font-weight: bold\"> Total params: </span><span style=\"color: #00af00; text-decoration-color: #00af00\">133,472</span> (521.38 KB)\n",
              "</pre>\n"
            ],
            "text/plain": [
              "\u001b[1m Total params: \u001b[0m\u001b[38;5;34m133,472\u001b[0m (521.38 KB)\n"
            ]
          },
          "metadata": {},
          "output_type": "display_data"
        },
        {
          "data": {
            "text/html": [
              "<pre style=\"white-space:pre;overflow-x:auto;line-height:normal;font-family:Menlo,'DejaVu Sans Mono',consolas,'Courier New',monospace\"><span style=\"font-weight: bold\"> Trainable params: </span><span style=\"color: #00af00; text-decoration-color: #00af00\">44,440</span> (173.59 KB)\n",
              "</pre>\n"
            ],
            "text/plain": [
              "\u001b[1m Trainable params: \u001b[0m\u001b[38;5;34m44,440\u001b[0m (173.59 KB)\n"
            ]
          },
          "metadata": {},
          "output_type": "display_data"
        },
        {
          "data": {
            "text/html": [
              "<pre style=\"white-space:pre;overflow-x:auto;line-height:normal;font-family:Menlo,'DejaVu Sans Mono',consolas,'Courier New',monospace\"><span style=\"font-weight: bold\"> Non-trainable params: </span><span style=\"color: #00af00; text-decoration-color: #00af00\">150</span> (600.00 B)\n",
              "</pre>\n"
            ],
            "text/plain": [
              "\u001b[1m Non-trainable params: \u001b[0m\u001b[38;5;34m150\u001b[0m (600.00 B)\n"
            ]
          },
          "metadata": {},
          "output_type": "display_data"
        },
        {
          "data": {
            "text/html": [
              "<pre style=\"white-space:pre;overflow-x:auto;line-height:normal;font-family:Menlo,'DejaVu Sans Mono',consolas,'Courier New',monospace\"><span style=\"font-weight: bold\"> Optimizer params: </span><span style=\"color: #00af00; text-decoration-color: #00af00\">88,882</span> (347.20 KB)\n",
              "</pre>\n"
            ],
            "text/plain": [
              "\u001b[1m Optimizer params: \u001b[0m\u001b[38;5;34m88,882\u001b[0m (347.20 KB)\n"
            ]
          },
          "metadata": {},
          "output_type": "display_data"
        }
      ],
      "source": [
        "import tensorflow as tf\n",
        "\n",
        "# Load the model\n",
        "simple_lstm_model = tf.keras.models.load_model(base_path + 'simple_lstm_model4_2.keras')\n",
        "\n",
        "# Verify the model summary\n",
        "simple_lstm_model.summary()\n"
      ]
    },
    {
      "cell_type": "code",
      "execution_count": null,
      "metadata": {
        "id": "hibvPBfXTa2P"
      },
      "outputs": [],
      "source": [
        "stock_data = pd.read_csv(stock_prices_path)"
      ]
    },
    {
      "cell_type": "code",
      "execution_count": null,
      "metadata": {
        "colab": {
          "base_uri": "https://localhost:8080/",
          "height": 487
        },
        "id": "M5qtFIi7VLtC",
        "outputId": "e8b516ca-a830-43fb-f571-3e9f345c7317"
      },
      "outputs": [
        {
          "data": {
            "image/png": "[encoded data removed]",
            "text/plain": [
              "<Figure size 1000x500 with 1 Axes>"
            ]
          },
          "metadata": {},
          "output_type": "display_data"
        }
      ],
      "source": [
        "# Assuming stock_data['close_adjusted'] is a valid column in a DataFrame\n",
        "# Simulating data if actual data is unavailable\n",
        "\n",
        "import numpy as np\n",
        "\n",
        "# Simulated data (if user doesn't upload real data)\n",
        "# stock_data = pd.DataFrame({'close_adjusted': np.random.lognormal(mean=2, sigma=0.5, size=1000)})\n",
        "\n",
        "# Plotting the histogram with percentages on the Y-axis\n",
        "plt.figure(figsize=(10, 5))\n",
        "n, bins, patches = plt.hist(\n",
        "    stock_data_tidy['close_adjusted'],\n",
        "    bins=50,\n",
        "    weights=np.ones_like(stock_data_tidy['close_adjusted']) / len(stock_data_tidy['close_adjusted']) * 100,\n",
        "    edgecolor='black',\n",
        "    alpha=0.7\n",
        ")\n",
        "plt.xlabel('Adjusted Close Price')\n",
        "plt.ylabel('Percentage (%)')\n",
        "plt.title('Distribution of Adjusted Close Prices (Percentage)')\n",
        "plt.grid(axis='y', linestyle='--', alpha=0.7)\n",
        "plt.show()\n"
      ]
    },
    {
      "cell_type": "code",
      "execution_count": null,
      "metadata": {
        "id": "2PH5Dik5oY_U"
      },
      "outputs": [],
      "source": [
        "import numpy as np\n",
        "\n",
        "# Move those somewhere, where they can be seen\n",
        "\n",
        "def preprocess_data(stock_data_tidy, numerical_columns, sequence_length):\n",
        "    \"\"\"\n",
        "    Converts stock_data_tidy into sequences for LSTM training.\n",
        "\n",
        "    Args:\n",
        "        stock_data_tidy (pd.DataFrame): The input stock dataset.\n",
        "        numerical_columns (list): The feature columns.\n",
        "        sequence_length (int): The number of time steps per sequence.\n",
        "\n",
        "    Returns:\n",
        "        X (np.array): Shape (samples, sequence_length, num_features)\n",
        "        y (np.array): Shape (samples,)\n",
        "    \"\"\"\n",
        "    data = stock_data_tidy[numerical_columns].values\n",
        "\n",
        "    # Create sequences\n",
        "    X, y = [], []\n",
        "    for i in range(sequence_length, len(data)):\n",
        "        X.append(data[i - sequence_length:i])  # Last `sequence_length` rows\n",
        "        y.append(data[i, 0])  # Target value (Assuming `close_adjusted` is first)\n",
        "\n",
        "    return np.array(X), np.array(y)\n"
      ]
    },
    {
      "cell_type": "code",
      "execution_count": null,
      "metadata": {
        "id": "yMZF-pPYoaXE"
      },
      "outputs": [],
      "source": [
        "# Define feature columns\n",
        "target_column = 'close_adjusted'  # Assuming this is the target\n",
        "\n",
        "# Ensure target column is first in `numerical_columns`\n",
        "if target_column in numerical_columns:\n",
        "    numerical_columns.remove(target_column)\n",
        "numerical_columns.insert(0, target_column)\n",
        "\n",
        "# Convert to sequences\n",
        "X_train, y_train = preprocess_data(train_data, numerical_columns, sequence_length)\n",
        "X_test, y_test = preprocess_data(test_data, numerical_columns, sequence_length)\n",
        "\n",
        "# Print shape to verify correctness\n",
        "print(f\"X_train shape: {X_train.shape}\")  # Should be (samples, 30, num_features)\n",
        "print(f\"y_train shape: {y_train.shape}\")  # Should be (samples,)\n"
      ]
    },
    {
      "cell_type": "code",
      "execution_count": null,
      "metadata": {
        "colab": {
          "base_uri": "https://localhost:8080/"
        },
        "id": "ChE8YXOqTE49",
        "outputId": "08fd1ddb-3158-456f-a7a2-cf8aa77d9ddf"
      },
      "outputs": [
        {
          "name": "stdout",
          "output_type": "stream",
          "text": [
            "X_train shape: (5639, 60, 11)\n",
            "y_train shape: (5639,)\n"
          ]
        }
      ],
      "source": [
        "import numpy as np\n",
        "\n",
        "# Define function to create sequences for LSTM\n",
        "def create_sequences(data, target_column, time_steps=60):\n",
        "    X, y = [], []\n",
        "    for i in range(len(data) - time_steps):\n",
        "        X.append(data.iloc[i:i+time_steps].drop(columns=[target_column]).values)  # Input features excluding target\n",
        "        y.append(data.iloc[i+time_steps][target_column])  # Target value for close_adjusted\n",
        "    return np.array(X), np.array(y)\n",
        "\n",
        "# Assuming 'aapl_data' is your DataFrame with numerical features and 'close_adjusted' as target\n",
        "X_train, y_train = create_sequences(aapl_data[numerical_columns], target_column='close_adjusted', time_steps=sequence_length)\n",
        "\n",
        "# Display the shape of the prepared dataset\n",
        "print(f\"X_train shape: {X_train.shape}\")\n",
        "print(f\"y_train shape: {y_train.shape}\")\n"
      ]
    },
    {
      "cell_type": "code",
      "execution_count": null,
      "metadata": {
        "colab": {
          "base_uri": "https://localhost:8080/"
        },
        "id": "EW4SV9KcXPEs",
        "outputId": "dc25e54d-abb2-4f11-8b69-2fcd8988648a"
      },
      "outputs": [
        {
          "data": {
            "text/plain": [
              "['close_adjusted',\n",
              " 'RSI',\n",
              " '5_day_MA',\n",
              " '10_day_MA',\n",
              " '20_day_MA',\n",
              " '50_day_MA',\n",
              " '100_day_MA',\n",
              " '200_day_MA',\n",
              " 'MACD',\n",
              " 'Signal_Line',\n",
              " 'day_of_week',\n",
              " 'ticker_encoded']"
            ]
          },
          "execution_count": 151,
          "metadata": {},
          "output_type": "execute_result"
        }
      ],
      "source": [
        "numerical_columns"
      ]
    },
    {
      "cell_type": "code",
      "execution_count": null,
      "metadata": {
        "id": "icEW0DqyXjXu"
      },
      "outputs": [],
      "source": [
        "keras.backend.clear_session()"
      ]
    },
    {
      "cell_type": "code",
      "execution_count": 47,
      "metadata": {
        "colab": {
          "base_uri": "https://localhost:8080/",
          "height": 147
        },
        "id": "hNhi0djNaRz3",
        "outputId": "e9764cf8-ad0c-4cd2-c053-8c5102da655c"
      },
      "outputs": [
        {
          "ename": "NameError",
          "evalue": "name 'X_sequences' is not defined",
          "output_type": "error",
          "traceback": [
            "\u001b[0;31m---------------------------------------------------------------------------\u001b[0m",
            "\u001b[0;31mNameError\u001b[0m                                 Traceback (most recent call last)",
            "\u001b[0;32m<ipython-input-47-8c40fd5942ed>\u001b[0m in \u001b[0;36m<cell line: 0>\u001b[0;34m()\u001b[0m\n\u001b[0;32m----> 1\u001b[0;31m \u001b[0my_pred\u001b[0m \u001b[0;34m=\u001b[0m \u001b[0msimple_lstm_model\u001b[0m\u001b[0;34m.\u001b[0m\u001b[0mpredict\u001b[0m\u001b[0;34m(\u001b[0m\u001b[0mX_sequences\u001b[0m\u001b[0;34m)\u001b[0m\u001b[0;34m\u001b[0m\u001b[0;34m\u001b[0m\u001b[0m\n\u001b[0m",
            "\u001b[0;31mNameError\u001b[0m: name 'X_sequences' is not defined"
          ]
        }
      ],
      "source": [
        "y_pred = simple_lstm_model.predict(X_sequences)"
      ]
    },
    {
      "cell_type": "code",
      "execution_count": null,
      "metadata": {
        "colab": {
          "base_uri": "https://localhost:8080/",
          "height": 573
        },
        "id": "9zF2_P7sVxya",
        "outputId": "ca8389ab-90c3-4f32-ef96-a09a9e2dbbc5"
      },
      "outputs": [
        {
          "data": {
            "image/png": "[encoded data removed]",
            "text/plain": [
              "<Figure size 1200x600 with 1 Axes>"
            ]
          },
          "metadata": {},
          "output_type": "display_data"
        }
      ],
      "source": [
        "y_pred_rescaled = inverse_transform_predictions(y_pred, aapl_data.ticker_encoded.unique()[0])\n",
        "\n",
        "y_sequence_rescaled = inverse_transform_predictions(y_sequences, aapl_data.ticker_encoded.unique()[0])\n",
        "y_pred_rescaled = inverse_transform_predictions(y_pred, aapl_data.ticker_encoded.unique()[0])\n",
        "\n",
        "plt.figure(figsize=(12, 6))\n",
        "\n",
        "# Slice the date column to match the predictions\n",
        "dates = aapl_data['date'].iloc[sequence_length:].reset_index(drop=True)\n",
        "\n",
        "y_pred_smoothed = pd.Series(y_pred_rescaled).rolling(window=10).mean()\n",
        "\n",
        "plt.plot(dates, y_sequence_rescaled, label='Actual Prices', alpha=0.8)\n",
        "plt.plot(dates, y_pred_smoothed, label='Predicted Prices', alpha=0.8)\n",
        "\n",
        "plt.title('Actual vs Predicted Prices for AAPL')\n",
        "plt.xlabel('Date')\n",
        "plt.ylabel('Stock Price')\n",
        "plt.legend()\n",
        "plt.grid()\n",
        "plt.xticks(rotation=45)  # Rotate x-axis labels for better readability\n",
        "plt.show()\n"
      ]
    },
    {
      "cell_type": "code",
      "execution_count": null,
      "metadata": {
        "colab": {
          "base_uri": "https://localhost:8080/"
        },
        "id": "ovuEpbhQSs8c",
        "outputId": "406d7112-13cd-4402-e806-b3683aca7e8a"
      },
      "outputs": [
        {
          "name": "stdout",
          "output_type": "stream",
          "text": [
            "Epoch 1/50\n",
            "\u001b[1m177/177\u001b[0m \u001b[32m━━━━━━━━━━━━━━━━━━━━\u001b[0m\u001b[37m\u001b[0m \u001b[1m2s\u001b[0m 11ms/step - loss: 0.0024 - mae: 0.0379\n",
            "Epoch 2/50\n",
            "\u001b[1m177/177\u001b[0m \u001b[32m━━━━━━━━━━━━━━━━━━━━\u001b[0m\u001b[37m\u001b[0m \u001b[1m2s\u001b[0m 11ms/step - loss: 7.8654e-04 - mae: 0.0244\n",
            "Epoch 3/50\n",
            "\u001b[1m177/177\u001b[0m \u001b[32m━━━━━━━━━━━━━━━━━━━━\u001b[0m\u001b[37m\u001b[0m \u001b[1m2s\u001b[0m 11ms/step - loss: 0.0011 - mae: 0.0248\n",
            "Epoch 4/50\n",
            "\u001b[1m177/177\u001b[0m \u001b[32m━━━━━━━━━━━━━━━━━━━━\u001b[0m\u001b[37m\u001b[0m \u001b[1m2s\u001b[0m 11ms/step - loss: 7.8100e-04 - mae: 0.0218\n",
            "Epoch 5/50\n",
            "\u001b[1m177/177\u001b[0m \u001b[32m━━━━━━━━━━━━━━━━━━━━\u001b[0m\u001b[37m\u001b[0m \u001b[1m2s\u001b[0m 11ms/step - loss: 9.2400e-04 - mae: 0.0220\n",
            "Epoch 6/50\n",
            "\u001b[1m177/177\u001b[0m \u001b[32m━━━━━━━━━━━━━━━━━━━━\u001b[0m\u001b[37m\u001b[0m \u001b[1m2s\u001b[0m 11ms/step - loss: 8.1432e-04 - mae: 0.0217\n",
            "Epoch 7/50\n",
            "\u001b[1m177/177\u001b[0m \u001b[32m━━━━━━━━━━━━━━━━━━━━\u001b[0m\u001b[37m\u001b[0m \u001b[1m2s\u001b[0m 11ms/step - loss: 6.3766e-04 - mae: 0.0191\n",
            "Epoch 8/50\n",
            "\u001b[1m177/177\u001b[0m \u001b[32m━━━━━━━━━━━━━━━━━━━━\u001b[0m\u001b[37m\u001b[0m \u001b[1m2s\u001b[0m 11ms/step - loss: 6.0900e-04 - mae: 0.0196\n",
            "Epoch 9/50\n",
            "\u001b[1m177/177\u001b[0m \u001b[32m━━━━━━━━━━━━━━━━━━━━\u001b[0m\u001b[37m\u001b[0m \u001b[1m2s\u001b[0m 11ms/step - loss: 5.1069e-04 - mae: 0.0182\n",
            "Epoch 10/50\n",
            "\u001b[1m177/177\u001b[0m \u001b[32m━━━━━━━━━━━━━━━━━━━━\u001b[0m\u001b[37m\u001b[0m \u001b[1m2s\u001b[0m 11ms/step - loss: 5.4843e-04 - mae: 0.0176\n",
            "Epoch 11/50\n",
            "\u001b[1m177/177\u001b[0m \u001b[32m━━━━━━━━━━━━━━━━━━━━\u001b[0m\u001b[37m\u001b[0m \u001b[1m2s\u001b[0m 11ms/step - loss: 6.9958e-04 - mae: 0.0195\n",
            "Epoch 12/50\n",
            "\u001b[1m177/177\u001b[0m \u001b[32m━━━━━━━━━━━━━━━━━━━━\u001b[0m\u001b[37m\u001b[0m \u001b[1m2s\u001b[0m 11ms/step - loss: 7.0358e-04 - mae: 0.0206\n",
            "Epoch 13/50\n",
            "\u001b[1m177/177\u001b[0m \u001b[32m━━━━━━━━━━━━━━━━━━━━\u001b[0m\u001b[37m\u001b[0m \u001b[1m2s\u001b[0m 11ms/step - loss: 5.4573e-04 - mae: 0.0189\n",
            "Epoch 14/50\n",
            "\u001b[1m177/177\u001b[0m \u001b[32m━━━━━━━━━━━━━━━━━━━━\u001b[0m\u001b[37m\u001b[0m \u001b[1m2s\u001b[0m 11ms/step - loss: 4.7210e-04 - mae: 0.0174\n",
            "Epoch 15/50\n",
            "\u001b[1m177/177\u001b[0m \u001b[32m━━━━━━━━━━━━━━━━━━━━\u001b[0m\u001b[37m\u001b[0m \u001b[1m2s\u001b[0m 10ms/step - loss: 6.3361e-04 - mae: 0.0185\n",
            "Epoch 16/50\n",
            "\u001b[1m177/177\u001b[0m \u001b[32m━━━━━━━━━━━━━━━━━━━━\u001b[0m\u001b[37m\u001b[0m \u001b[1m2s\u001b[0m 11ms/step - loss: 4.4152e-04 - mae: 0.0168\n",
            "Epoch 17/50\n",
            "\u001b[1m177/177\u001b[0m \u001b[32m━━━━━━━━━━━━━━━━━━━━\u001b[0m\u001b[37m\u001b[0m \u001b[1m2s\u001b[0m 11ms/step - loss: 5.2346e-04 - mae: 0.0172\n",
            "Epoch 18/50\n",
            "\u001b[1m177/177\u001b[0m \u001b[32m━━━━━━━━━━━━━━━━━━━━\u001b[0m\u001b[37m\u001b[0m \u001b[1m2s\u001b[0m 11ms/step - loss: 4.1516e-04 - mae: 0.0163\n",
            "Epoch 19/50\n",
            "\u001b[1m177/177\u001b[0m \u001b[32m━━━━━━━━━━━━━━━━━━━━\u001b[0m\u001b[37m\u001b[0m \u001b[1m2s\u001b[0m 11ms/step - loss: 5.6670e-04 - mae: 0.0167\n",
            "Epoch 20/50\n",
            "\u001b[1m177/177\u001b[0m \u001b[32m━━━━━━━━━━━━━━━━━━━━\u001b[0m\u001b[37m\u001b[0m \u001b[1m2s\u001b[0m 11ms/step - loss: 3.5725e-04 - mae: 0.0157\n",
            "Epoch 21/50\n",
            "\u001b[1m177/177\u001b[0m \u001b[32m━━━━━━━━━━━━━━━━━━━━\u001b[0m\u001b[37m\u001b[0m \u001b[1m2s\u001b[0m 11ms/step - loss: 4.8839e-04 - mae: 0.0168\n",
            "Epoch 22/50\n",
            "\u001b[1m177/177\u001b[0m \u001b[32m━━━━━━━━━━━━━━━━━━━━\u001b[0m\u001b[37m\u001b[0m \u001b[1m2s\u001b[0m 11ms/step - loss: 5.5096e-04 - mae: 0.0172\n",
            "Epoch 23/50\n",
            "\u001b[1m177/177\u001b[0m \u001b[32m━━━━━━━━━━━━━━━━━━━━\u001b[0m\u001b[37m\u001b[0m \u001b[1m2s\u001b[0m 11ms/step - loss: 5.2137e-04 - mae: 0.0168\n",
            "Epoch 24/50\n",
            "\u001b[1m177/177\u001b[0m \u001b[32m━━━━━━━━━━━━━━━━━━━━\u001b[0m\u001b[37m\u001b[0m \u001b[1m2s\u001b[0m 11ms/step - loss: 3.4249e-04 - mae: 0.0155\n",
            "Epoch 25/50\n",
            "\u001b[1m177/177\u001b[0m \u001b[32m━━━━━━━━━━━━━━━━━━━━\u001b[0m\u001b[37m\u001b[0m \u001b[1m2s\u001b[0m 11ms/step - loss: 2.8743e-04 - mae: 0.0147\n",
            "Epoch 26/50\n",
            "\u001b[1m177/177\u001b[0m \u001b[32m━━━━━━━━━━━━━━━━━━━━\u001b[0m\u001b[37m\u001b[0m \u001b[1m2s\u001b[0m 11ms/step - loss: 4.4349e-04 - mae: 0.0163\n",
            "Epoch 27/50\n",
            "\u001b[1m177/177\u001b[0m \u001b[32m━━━━━━━━━━━━━━━━━━━━\u001b[0m\u001b[37m\u001b[0m \u001b[1m2s\u001b[0m 11ms/step - loss: 4.3145e-04 - mae: 0.0164\n",
            "Epoch 28/50\n",
            "\u001b[1m177/177\u001b[0m \u001b[32m━━━━━━━━━━━━━━━━━━━━\u001b[0m\u001b[37m\u001b[0m \u001b[1m2s\u001b[0m 11ms/step - loss: 3.7891e-04 - mae: 0.0159\n",
            "Epoch 29/50\n",
            "\u001b[1m177/177\u001b[0m \u001b[32m━━━━━━━━━━━━━━━━━━━━\u001b[0m\u001b[37m\u001b[0m \u001b[1m2s\u001b[0m 11ms/step - loss: 3.8722e-04 - mae: 0.0167\n",
            "Epoch 30/50\n",
            "\u001b[1m177/177\u001b[0m \u001b[32m━━━━━━━━━━━━━━━━━━━━\u001b[0m\u001b[37m\u001b[0m \u001b[1m2s\u001b[0m 11ms/step - loss: 4.2293e-04 - mae: 0.0151\n",
            "Epoch 31/50\n",
            "\u001b[1m177/177\u001b[0m \u001b[32m━━━━━━━━━━━━━━━━━━━━\u001b[0m\u001b[37m\u001b[0m \u001b[1m2s\u001b[0m 11ms/step - loss: 3.1496e-04 - mae: 0.0151\n",
            "Epoch 32/50\n",
            "\u001b[1m177/177\u001b[0m \u001b[32m━━━━━━━━━━━━━━━━━━━━\u001b[0m\u001b[37m\u001b[0m \u001b[1m2s\u001b[0m 11ms/step - loss: 4.0363e-04 - mae: 0.0154\n",
            "Epoch 33/50\n",
            "\u001b[1m177/177\u001b[0m \u001b[32m━━━━━━━━━━━━━━━━━━━━\u001b[0m\u001b[37m\u001b[0m \u001b[1m2s\u001b[0m 11ms/step - loss: 4.3560e-04 - mae: 0.0162\n",
            "Epoch 34/50\n",
            "\u001b[1m177/177\u001b[0m \u001b[32m━━━━━━━━━━━━━━━━━━━━\u001b[0m\u001b[37m\u001b[0m \u001b[1m2s\u001b[0m 10ms/step - loss: 3.8706e-04 - mae: 0.0152\n",
            "Epoch 35/50\n",
            "\u001b[1m177/177\u001b[0m \u001b[32m━━━━━━━━━━━━━━━━━━━━\u001b[0m\u001b[37m\u001b[0m \u001b[1m2s\u001b[0m 11ms/step - loss: 3.5571e-04 - mae: 0.0140\n",
            "Epoch 36/50\n",
            "\u001b[1m177/177\u001b[0m \u001b[32m━━━━━━━━━━━━━━━━━━━━\u001b[0m\u001b[37m\u001b[0m \u001b[1m2s\u001b[0m 11ms/step - loss: 3.1759e-04 - mae: 0.0146\n",
            "Epoch 37/50\n",
            "\u001b[1m177/177\u001b[0m \u001b[32m━━━━━━━━━━━━━━━━━━━━\u001b[0m\u001b[37m\u001b[0m \u001b[1m2s\u001b[0m 11ms/step - loss: 4.1387e-04 - mae: 0.0156\n",
            "Epoch 38/50\n",
            "\u001b[1m177/177\u001b[0m \u001b[32m━━━━━━━━━━━━━━━━━━━━\u001b[0m\u001b[37m\u001b[0m \u001b[1m2s\u001b[0m 11ms/step - loss: 3.3293e-04 - mae: 0.0151\n",
            "Epoch 39/50\n",
            "\u001b[1m177/177\u001b[0m \u001b[32m━━━━━━━━━━━━━━━━━━━━\u001b[0m\u001b[37m\u001b[0m \u001b[1m2s\u001b[0m 11ms/step - loss: 3.0448e-04 - mae: 0.0142\n",
            "Epoch 40/50\n",
            "\u001b[1m177/177\u001b[0m \u001b[32m━━━━━━━━━━━━━━━━━━━━\u001b[0m\u001b[37m\u001b[0m \u001b[1m2s\u001b[0m 11ms/step - loss: 3.1726e-04 - mae: 0.0140\n",
            "Epoch 41/50\n",
            "\u001b[1m177/177\u001b[0m \u001b[32m━━━━━━━━━━━━━━━━━━━━\u001b[0m\u001b[37m\u001b[0m \u001b[1m2s\u001b[0m 11ms/step - loss: 3.6837e-04 - mae: 0.0137\n",
            "Epoch 42/50\n",
            "\u001b[1m177/177\u001b[0m \u001b[32m━━━━━━━━━━━━━━━━━━━━\u001b[0m\u001b[37m\u001b[0m \u001b[1m2s\u001b[0m 11ms/step - loss: 3.5433e-04 - mae: 0.0147\n",
            "Epoch 43/50\n",
            "\u001b[1m177/177\u001b[0m \u001b[32m━━━━━━━━━━━━━━━━━━━━\u001b[0m\u001b[37m\u001b[0m \u001b[1m2s\u001b[0m 11ms/step - loss: 3.2482e-04 - mae: 0.0144\n",
            "Epoch 44/50\n",
            "\u001b[1m177/177\u001b[0m \u001b[32m━━━━━━━━━━━━━━━━━━━━\u001b[0m\u001b[37m\u001b[0m \u001b[1m2s\u001b[0m 11ms/step - loss: 3.1435e-04 - mae: 0.0145\n",
            "Epoch 45/50\n",
            "\u001b[1m177/177\u001b[0m \u001b[32m━━━━━━━━━━━━━━━━━━━━\u001b[0m\u001b[37m\u001b[0m \u001b[1m2s\u001b[0m 11ms/step - loss: 3.3820e-04 - mae: 0.0151\n",
            "Epoch 46/50\n",
            "\u001b[1m177/177\u001b[0m \u001b[32m━━━━━━━━━━━━━━━━━━━━\u001b[0m\u001b[37m\u001b[0m \u001b[1m2s\u001b[0m 11ms/step - loss: 4.8448e-04 - mae: 0.0171\n",
            "Epoch 47/50\n",
            "\u001b[1m177/177\u001b[0m \u001b[32m━━━━━━━━━━━━━━━━━━━━\u001b[0m\u001b[37m\u001b[0m \u001b[1m2s\u001b[0m 11ms/step - loss: 2.5911e-04 - mae: 0.0137\n",
            "Epoch 48/50\n",
            "\u001b[1m177/177\u001b[0m \u001b[32m━━━━━━━━━━━━━━━━━━━━\u001b[0m\u001b[37m\u001b[0m \u001b[1m2s\u001b[0m 11ms/step - loss: 3.6594e-04 - mae: 0.0141\n",
            "Epoch 49/50\n",
            "\u001b[1m177/177\u001b[0m \u001b[32m━━━━━━━━━━━━━━━━━━━━\u001b[0m\u001b[37m\u001b[0m \u001b[1m2s\u001b[0m 11ms/step - loss: 2.8581e-04 - mae: 0.0130\n",
            "Epoch 50/50\n",
            "\u001b[1m177/177\u001b[0m \u001b[32m━━━━━━━━━━━━━━━━━━━━\u001b[0m\u001b[37m\u001b[0m \u001b[1m2s\u001b[0m 11ms/step - loss: 2.7203e-04 - mae: 0.0140\n"
          ]
        },
        {
          "data": {
            "text/plain": [
              "<keras.src.callbacks.history.History at 0x7b49b9a41090>"
            ]
          },
          "execution_count": 319,
          "metadata": {},
          "output_type": "execute_result"
        }
      ],
      "source": [
        "simple_lstm_model.fit(\n",
        "    x_data, y_data,\n",
        "    epochs=50,\n",
        "    callbacks=[early_stopping],  # Include checkpoint callback\n",
        "    verbose=1\n",
        ")\n"
      ]
    }
  ],
  "metadata": {
    "accelerator": "GPU",
    "colab": {
      "gpuType": "L4",
      "include_colab_link": true,
      "machine_shape": "hm",
      "provenance": []
    },
    "kernelspec": {
      "display_name": "Python 3",
      "name": "python3"
    },
    "language_info": {
      "codemirror_mode": {
        "name": "ipython",
        "version": 3
      },
      "file_extension": ".py",
      "mimetype": "text/x-python",
      "name": "python",
      "nbconvert_exporter": "python",
      "pygments_lexer": "ipython3",
      "version": "3.12.5"
    }
  },
  "nbformat": 4,
  "nbformat_minor": 0
}
